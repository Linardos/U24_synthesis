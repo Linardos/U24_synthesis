{
 "cells": [
  {
   "cell_type": "code",
   "execution_count": 7,
   "id": "f5963471-81df-4a8b-a18d-04aa50dd2956",
   "metadata": {},
   "outputs": [
    {
     "name": "stdout",
     "output_type": "stream",
     "text": [
      "\n",
      "\u001b[1m[\u001b[0m\u001b[34;49mnotice\u001b[0m\u001b[1;39;49m]\u001b[0m\u001b[39;49m A new release of pip is available: \u001b[0m\u001b[31;49m25.0\u001b[0m\u001b[39;49m -> \u001b[0m\u001b[32;49m25.0.1\u001b[0m\n",
      "\u001b[1m[\u001b[0m\u001b[34;49mnotice\u001b[0m\u001b[1;39;49m]\u001b[0m\u001b[39;49m To update, run: \u001b[0m\u001b[32;49mpip install --upgrade pip\u001b[0m\n"
     ]
    }
   ],
   "source": [
    "# Following this guide: https://lightning.ai/docs/pytorch/stable/notebooks/course_UvA-DL/08-deep-autoencoders.html\n",
    "! pip install --quiet \"torch >=1.8.1,<2.5\" \"tensorboard\" \"matplotlib\" \"numpy <3.0\" \"torchmetrics >=1.0,<1.5\" \"torchvision\" \"pytorch-lightning >=2.0,<2.5\" \"seaborn\""
   ]
  },
  {
   "cell_type": "code",
   "execution_count": 8,
   "id": "2a22dbf7-41f7-42bd-8073-0ab650c3b729",
   "metadata": {
    "scrolled": true
   },
   "outputs": [
    {
     "name": "stderr",
     "output_type": "stream",
     "text": [
      "Seed set to 42\n"
     ]
    },
    {
     "name": "stdout",
     "output_type": "stream",
     "text": [
      "The tensorboard extension is already loaded. To reload it, use:\n",
      "  %reload_ext tensorboard\n",
      "Device: cuda:0\n"
     ]
    }
   ],
   "source": [
    "import os\n",
    "import urllib.request\n",
    "from urllib.error import HTTPError\n",
    "\n",
    "import matplotlib\n",
    "import matplotlib.pyplot as plt\n",
    "import matplotlib_inline.backend_inline\n",
    "import pytorch_lightning as pl\n",
    "import seaborn as sns\n",
    "import torch\n",
    "import torch.nn as nn\n",
    "import torch.nn.functional as F\n",
    "import torch.optim as optim\n",
    "import torch.utils.data as data\n",
    "import torchvision\n",
    "from pytorch_lightning.callbacks import Callback, LearningRateMonitor, ModelCheckpoint\n",
    "from torch.utils.tensorboard import SummaryWriter\n",
    "from torchvision import transforms\n",
    "from torchvision.datasets import CIFAR10\n",
    "from tqdm.notebook import tqdm\n",
    "\n",
    "%matplotlib inline\n",
    "matplotlib_inline.backend_inline.set_matplotlib_formats(\"svg\", \"pdf\")  # For export\n",
    "matplotlib.rcParams[\"lines.linewidth\"] = 2.0\n",
    "sns.reset_orig()\n",
    "sns.set()\n",
    "\n",
    "# Tensorboard extension (for visualization purposes later)\n",
    "%load_ext tensorboard\n",
    "\n",
    "# Path to the folder where the datasets are/should be downloaded (e.g. CIFAR10)\n",
    "DATASET_PATH = os.environ.get(\"PATH_DATASETS\", \"data\")\n",
    "# Path to the folder where the pretrained models are saved\n",
    "CHECKPOINT_PATH = os.environ.get(\"PATH_CHECKPOINT\", \"saved_models/tutorial9\")\n",
    "\n",
    "# Setting the seed\n",
    "pl.seed_everything(42)\n",
    "\n",
    "# Ensure that all operations are deterministic on GPU (if used) for reproducibility\n",
    "torch.backends.cudnn.deterministic = True\n",
    "torch.backends.cudnn.benchmark = False\n",
    "\n",
    "device = torch.device(\"cuda:0\") if torch.cuda.is_available() else torch.device(\"cpu\")\n",
    "print(\"Device:\", device)"
   ]
  },
  {
   "cell_type": "code",
   "execution_count": 9,
   "id": "fdb0af59-f7f3-4208-afe7-1cd3dfcb2c26",
   "metadata": {},
   "outputs": [],
   "source": [
    "# Github URL where saved models are stored for this tutorial\n",
    "base_url = \"https://raw.githubusercontent.com/phlippe/saved_models/main/tutorial9/\"\n",
    "# Files to download\n",
    "pretrained_files = [\"cifar10_64.ckpt\", \"cifar10_128.ckpt\", \"cifar10_256.ckpt\", \"cifar10_384.ckpt\"]\n",
    "# Create checkpoint path if it doesn't exist yet\n",
    "os.makedirs(CHECKPOINT_PATH, exist_ok=True)\n",
    "\n",
    "# For each file, check whether it already exists. If not, try downloading it.\n",
    "for file_name in pretrained_files:\n",
    "    file_path = os.path.join(CHECKPOINT_PATH, file_name)\n",
    "    if not os.path.isfile(file_path):\n",
    "        file_url = base_url + file_name\n",
    "        print(f\"Downloading {file_url}...\")\n",
    "        try:\n",
    "            urllib.request.urlretrieve(file_url, file_path)\n",
    "        except HTTPError as e:\n",
    "            print(\n",
    "                \"Something went wrong. Please try to download the files manually,\"\n",
    "                \" or contact the author with the full output including the following error:\\n\",\n",
    "                e,\n",
    "            )"
   ]
  },
  {
   "cell_type": "code",
   "execution_count": 10,
   "id": "11360760-f4e1-4443-9121-dbb0717cbe78",
   "metadata": {},
   "outputs": [
    {
     "name": "stdout",
     "output_type": "stream",
     "text": [
      "Files already downloaded and verified\n"
     ]
    },
    {
     "name": "stderr",
     "output_type": "stream",
     "text": [
      "Seed set to 42\n"
     ]
    },
    {
     "name": "stdout",
     "output_type": "stream",
     "text": [
      "Files already downloaded and verified\n"
     ]
    }
   ],
   "source": [
    "# Transformations applied on each image => only make them a tensor\n",
    "transform = transforms.Compose([transforms.ToTensor(), transforms.Normalize((0.5,), (0.5,))])\n",
    "\n",
    "# Loading the training dataset. We need to split it into a training and validation part\n",
    "train_dataset = CIFAR10(root=DATASET_PATH, train=True, transform=transform, download=True)\n",
    "pl.seed_everything(42)\n",
    "train_set, val_set = torch.utils.data.random_split(train_dataset, [45000, 5000])\n",
    "\n",
    "# Loading the test set\n",
    "test_set = CIFAR10(root=DATASET_PATH, train=False, transform=transform, download=True)\n",
    "\n",
    "# We define a set of data loaders that we can use for various purposes later.\n",
    "train_loader = data.DataLoader(train_set, batch_size=256, shuffle=True, drop_last=True, pin_memory=True, num_workers=4)\n",
    "val_loader = data.DataLoader(val_set, batch_size=256, shuffle=False, drop_last=False, num_workers=4)\n",
    "test_loader = data.DataLoader(test_set, batch_size=256, shuffle=False, drop_last=False, num_workers=4)\n",
    "\n",
    "\n",
    "def get_train_images(num):\n",
    "    return torch.stack([train_dataset[i][0] for i in range(num)], dim=0)"
   ]
  },
  {
   "cell_type": "code",
   "execution_count": 11,
   "id": "54fefb5f-6d16-48c0-a823-6bd4567b77d7",
   "metadata": {},
   "outputs": [],
   "source": [
    "class Generator(nn.Module):\n",
    "    def __init__(self, latent_dim, img_shape):\n",
    "        super().__init__()\n",
    "        self.img_shape = img_shape\n",
    "\n",
    "        def block(in_feat, out_feat, normalize=True):\n",
    "            layers = [nn.Linear(in_feat, out_feat)]\n",
    "            if normalize:\n",
    "                layers.append(nn.BatchNorm1d(out_feat, 0.8))\n",
    "            layers.append(nn.LeakyReLU(0.01, inplace=True))\n",
    "            return layers\n",
    "\n",
    "        self.model = nn.Sequential(\n",
    "            *block(latent_dim, 128, normalize=False),\n",
    "            *block(128, 256),\n",
    "            *block(256, 512),\n",
    "            *block(512, 1024),\n",
    "            nn.Linear(1024, int(np.prod(img_shape))),\n",
    "            nn.Tanh(),\n",
    "        )\n",
    "\n",
    "    def forward(self, z):\n",
    "        img = self.model(z)\n",
    "        img = img.view(img.size(0), *self.img_shape)\n",
    "        return img"
   ]
  },
  {
   "cell_type": "code",
   "execution_count": 12,
   "id": "d5aba909-16d5-43c4-aff9-7f22e75b307a",
   "metadata": {},
   "outputs": [],
   "source": [
    "class Discriminator(nn.Module):\n",
    "    def __init__(self, img_shape):\n",
    "        super().__init__()\n",
    "\n",
    "        self.model = nn.Sequential(\n",
    "            nn.Linear(int(np.prod(img_shape)), 512),\n",
    "            nn.LeakyReLU(0.2, inplace=True),\n",
    "            nn.Linear(512, 256),\n",
    "            nn.LeakyReLU(0.2, inplace=True),\n",
    "            nn.Linear(256, 1),\n",
    "            nn.Sigmoid(),\n",
    "        )\n",
    "\n",
    "    def forward(self, img):\n",
    "        img_flat = img.view(img.size(0), -1)\n",
    "        validity = self.model(img_flat)\n",
    "\n",
    "        return validity"
   ]
  },
  {
   "cell_type": "code",
   "execution_count": 15,
   "id": "f322f244-55d9-4135-bcc6-007e8ebbb3c1",
   "metadata": {},
   "outputs": [],
   "source": [
    "class GAN(pl.LightningModule):\n",
    "    def __init__(\n",
    "        self,\n",
    "        channels,\n",
    "        width,\n",
    "        height,\n",
    "        latent_dim: int = 100,\n",
    "        lr: float = 0.0002,\n",
    "        b1: float = 0.5,\n",
    "        b2: float = 0.999,\n",
    "        batch_size: int = 256,\n",
    "        **kwargs,\n",
    "    ):\n",
    "        super().__init__()\n",
    "        self.save_hyperparameters()\n",
    "        self.automatic_optimization = False\n",
    "\n",
    "        # networks\n",
    "        data_shape = (channels, width, height)\n",
    "        self.generator = Generator(latent_dim=self.hparams.latent_dim, img_shape=data_shape)\n",
    "        self.discriminator = Discriminator(img_shape=data_shape)\n",
    "\n",
    "        self.validation_z = torch.randn(8, self.hparams.latent_dim)\n",
    "\n",
    "        self.example_input_array = torch.zeros(2, self.hparams.latent_dim)\n",
    "\n",
    "    def forward(self, z):\n",
    "        return self.generator(z)\n",
    "\n",
    "    def adversarial_loss(self, y_hat, y):\n",
    "        return F.binary_cross_entropy(y_hat, y)\n",
    "\n",
    "    def training_step(self, batch):\n",
    "        imgs, _ = batch\n",
    "\n",
    "        optimizer_g, optimizer_d = self.optimizers()\n",
    "\n",
    "        # sample noise\n",
    "        z = torch.randn(imgs.shape[0], self.hparams.latent_dim)\n",
    "        z = z.type_as(imgs)\n",
    "\n",
    "        # train generator\n",
    "        # generate images\n",
    "        self.toggle_optimizer(optimizer_g)\n",
    "        self.generated_imgs = self(z)\n",
    "\n",
    "        # log sampled images\n",
    "        sample_imgs = self.generated_imgs[:6]\n",
    "        grid = torchvision.utils.make_grid(sample_imgs)\n",
    "        self.logger.experiment.add_image(\"train/generated_images\", grid, self.current_epoch)\n",
    "\n",
    "        # ground truth result (ie: all fake)\n",
    "        # put on GPU because we created this tensor inside training_loop\n",
    "        valid = torch.ones(imgs.size(0), 1)\n",
    "        valid = valid.type_as(imgs)\n",
    "\n",
    "        # adversarial loss is binary cross-entropy\n",
    "        g_loss = self.adversarial_loss(self.discriminator(self.generated_imgs), valid)\n",
    "        self.log(\"g_loss\", g_loss, prog_bar=True)\n",
    "        self.manual_backward(g_loss)\n",
    "        optimizer_g.step()\n",
    "        optimizer_g.zero_grad()\n",
    "        self.untoggle_optimizer(optimizer_g)\n",
    "\n",
    "        # train discriminator\n",
    "        # Measure discriminator's ability to classify real from generated samples\n",
    "        self.toggle_optimizer(optimizer_d)\n",
    "\n",
    "        # how well can it label as real?\n",
    "        valid = torch.ones(imgs.size(0), 1)\n",
    "        valid = valid.type_as(imgs)\n",
    "\n",
    "        real_loss = self.adversarial_loss(self.discriminator(imgs), valid)\n",
    "\n",
    "        # how well can it label as fake?\n",
    "        fake = torch.zeros(imgs.size(0), 1)\n",
    "        fake = fake.type_as(imgs)\n",
    "\n",
    "        fake_loss = self.adversarial_loss(self.discriminator(self.generated_imgs.detach()), fake)\n",
    "\n",
    "        # discriminator loss is the average of these\n",
    "        d_loss = (real_loss + fake_loss) / 2\n",
    "        self.log(\"d_loss\", d_loss, prog_bar=True)\n",
    "        self.manual_backward(d_loss)\n",
    "        optimizer_d.step()\n",
    "        optimizer_d.zero_grad()\n",
    "        self.untoggle_optimizer(optimizer_d)\n",
    "\n",
    "    def validation_step(self, batch, batch_idx):\n",
    "        pass\n",
    "\n",
    "    def configure_optimizers(self):\n",
    "        lr = self.hparams.lr\n",
    "        b1 = self.hparams.b1\n",
    "        b2 = self.hparams.b2\n",
    "\n",
    "        opt_g = torch.optim.Adam(self.generator.parameters(), lr=lr, betas=(b1, b2))\n",
    "        opt_d = torch.optim.Adam(self.discriminator.parameters(), lr=lr, betas=(b1, b2))\n",
    "        return [opt_g, opt_d], []\n",
    "\n",
    "    def on_validation_epoch_end(self):\n",
    "        z = self.validation_z.type_as(self.generator.model[0].weight)\n",
    "\n",
    "        # log sampled images\n",
    "        sample_imgs = self(z)\n",
    "        grid = torchvision.utils.make_grid(sample_imgs)\n",
    "        self.logger.experiment.add_image(\"validation/generated_images\", grid, self.current_epoch)"
   ]
  },
  {
   "cell_type": "code",
   "execution_count": 18,
   "id": "c9961277-dd1c-464b-b2f1-6bb82703d549",
   "metadata": {},
   "outputs": [],
   "source": [
    "#MNIST Example\n",
    "\n",
    "import os\n",
    "\n",
    "import numpy as np\n",
    "import pytorch_lightning as pl\n",
    "import torch\n",
    "import torch.nn as nn\n",
    "import torch.nn.functional as F\n",
    "import torchvision\n",
    "import torchvision.transforms as transforms\n",
    "from torch.utils.data import DataLoader, random_split\n",
    "from torchvision.datasets import MNIST\n",
    "\n",
    "PATH_DATASETS = os.environ.get(\"PATH_DATASETS\", \".\")\n",
    "BATCH_SIZE = 256 if torch.cuda.is_available() else 64\n",
    "NUM_WORKERS = int(os.cpu_count() / 2)\n"
   ]
  },
  {
   "cell_type": "code",
   "execution_count": 19,
   "id": "b3666478-f0f3-415b-8bd9-51c85395b656",
   "metadata": {
    "scrolled": true
   },
   "outputs": [],
   "source": [
    "class MNISTDataModule(pl.LightningDataModule):\n",
    "    def __init__(\n",
    "        self,\n",
    "        data_dir: str = PATH_DATASETS,\n",
    "        batch_size: int = BATCH_SIZE,\n",
    "        num_workers: int = NUM_WORKERS,\n",
    "    ):\n",
    "        super().__init__()\n",
    "        self.data_dir = data_dir\n",
    "        self.batch_size = batch_size\n",
    "        self.num_workers = num_workers\n",
    "\n",
    "        self.transform = transforms.Compose(\n",
    "            [\n",
    "                transforms.ToTensor(),\n",
    "                transforms.Normalize((0.1307,), (0.3081,)),\n",
    "            ]\n",
    "        )\n",
    "\n",
    "        self.dims = (1, 28, 28)\n",
    "        self.num_classes = 10\n",
    "\n",
    "    def prepare_data(self):\n",
    "        # download\n",
    "        MNIST(self.data_dir, train=True, download=True)\n",
    "        MNIST(self.data_dir, train=False, download=True)\n",
    "\n",
    "    def setup(self, stage=None):\n",
    "        # Assign train/val datasets for use in dataloaders\n",
    "        if stage == \"fit\" or stage is None:\n",
    "            mnist_full = MNIST(self.data_dir, train=True, transform=self.transform)\n",
    "            self.mnist_train, self.mnist_val = random_split(mnist_full, [55000, 5000])\n",
    "\n",
    "        # Assign test dataset for use in dataloader(s)\n",
    "        if stage == \"test\" or stage is None:\n",
    "            self.mnist_test = MNIST(self.data_dir, train=False, transform=self.transform)\n",
    "\n",
    "    def train_dataloader(self):\n",
    "        return DataLoader(\n",
    "            self.mnist_train,\n",
    "            batch_size=self.batch_size,\n",
    "            num_workers=self.num_workers,\n",
    "        )\n",
    "\n",
    "    def val_dataloader(self):\n",
    "        return DataLoader(self.mnist_val, batch_size=self.batch_size, num_workers=self.num_workers)\n",
    "\n",
    "    def test_dataloader(self):\n",
    "        return DataLoader(self.mnist_test, batch_size=self.batch_size, num_workers=self.num_workers)"
   ]
  },
  {
   "cell_type": "code",
   "execution_count": 20,
   "id": "66d5adc9-b0d3-4466-a9b8-54a897bdcfe8",
   "metadata": {},
   "outputs": [
    {
     "name": "stderr",
     "output_type": "stream",
     "text": [
      "GPU available: True (cuda), used: True\n",
      "TPU available: False, using: 0 TPU cores\n",
      "HPU available: False, using: 0 HPUs\n",
      "You are using a CUDA device ('NVIDIA RTX A6000') that has Tensor Cores. To properly utilize them, you should set `torch.set_float32_matmul_precision('medium' | 'high')` which will trade-off precision for performance. For more details, read https://pytorch.org/docs/stable/generated/torch.set_float32_matmul_precision.html#torch.set_float32_matmul_precision\n"
     ]
    },
    {
     "name": "stdout",
     "output_type": "stream",
     "text": [
      "Downloading http://yann.lecun.com/exdb/mnist/train-images-idx3-ubyte.gz\n",
      "Failed to download (trying next):\n",
      "HTTP Error 404: Not Found\n",
      "\n",
      "Downloading https://ossci-datasets.s3.amazonaws.com/mnist/train-images-idx3-ubyte.gz\n",
      "Downloading https://ossci-datasets.s3.amazonaws.com/mnist/train-images-idx3-ubyte.gz to ./MNIST/raw/train-images-idx3-ubyte.gz\n"
     ]
    },
    {
     "name": "stderr",
     "output_type": "stream",
     "text": [
      "100%|███████████████████████████████████████████████████████████| 9912422/9912422 [00:00<00:00, 35082827.17it/s]\n"
     ]
    },
    {
     "name": "stdout",
     "output_type": "stream",
     "text": [
      "Extracting ./MNIST/raw/train-images-idx3-ubyte.gz to ./MNIST/raw\n",
      "\n",
      "Downloading http://yann.lecun.com/exdb/mnist/train-labels-idx1-ubyte.gz\n",
      "Failed to download (trying next):\n",
      "HTTP Error 404: Not Found\n",
      "\n",
      "Downloading https://ossci-datasets.s3.amazonaws.com/mnist/train-labels-idx1-ubyte.gz\n",
      "Downloading https://ossci-datasets.s3.amazonaws.com/mnist/train-labels-idx1-ubyte.gz to ./MNIST/raw/train-labels-idx1-ubyte.gz\n"
     ]
    },
    {
     "name": "stderr",
     "output_type": "stream",
     "text": [
      "100%|████████████████████████████████████████████████████████████████| 28881/28881 [00:00<00:00, 1494985.61it/s]"
     ]
    },
    {
     "name": "stdout",
     "output_type": "stream",
     "text": [
      "Extracting ./MNIST/raw/train-labels-idx1-ubyte.gz to ./MNIST/raw\n",
      "\n",
      "Downloading http://yann.lecun.com/exdb/mnist/t10k-images-idx3-ubyte.gz\n"
     ]
    },
    {
     "name": "stderr",
     "output_type": "stream",
     "text": [
      "\n"
     ]
    },
    {
     "name": "stdout",
     "output_type": "stream",
     "text": [
      "Failed to download (trying next):\n",
      "HTTP Error 404: Not Found\n",
      "\n",
      "Downloading https://ossci-datasets.s3.amazonaws.com/mnist/t10k-images-idx3-ubyte.gz\n",
      "Downloading https://ossci-datasets.s3.amazonaws.com/mnist/t10k-images-idx3-ubyte.gz to ./MNIST/raw/t10k-images-idx3-ubyte.gz\n"
     ]
    },
    {
     "name": "stderr",
     "output_type": "stream",
     "text": [
      "100%|███████████████████████████████████████████████████████████| 1648877/1648877 [00:00<00:00, 12706378.82it/s]\n"
     ]
    },
    {
     "name": "stdout",
     "output_type": "stream",
     "text": [
      "Extracting ./MNIST/raw/t10k-images-idx3-ubyte.gz to ./MNIST/raw\n",
      "\n",
      "Downloading http://yann.lecun.com/exdb/mnist/t10k-labels-idx1-ubyte.gz\n",
      "Failed to download (trying next):\n",
      "HTTP Error 404: Not Found\n",
      "\n",
      "Downloading https://ossci-datasets.s3.amazonaws.com/mnist/t10k-labels-idx1-ubyte.gz\n",
      "Downloading https://ossci-datasets.s3.amazonaws.com/mnist/t10k-labels-idx1-ubyte.gz to ./MNIST/raw/t10k-labels-idx1-ubyte.gz\n"
     ]
    },
    {
     "name": "stderr",
     "output_type": "stream",
     "text": [
      "100%|███████████████████████████████████████████████████████████████████| 4542/4542 [00:00<00:00, 997201.05it/s]"
     ]
    },
    {
     "name": "stdout",
     "output_type": "stream",
     "text": [
      "Extracting ./MNIST/raw/t10k-labels-idx1-ubyte.gz to ./MNIST/raw\n",
      "\n"
     ]
    },
    {
     "name": "stderr",
     "output_type": "stream",
     "text": [
      "\n",
      "LOCAL_RANK: 0 - CUDA_VISIBLE_DEVICES: [0]\n",
      "\n",
      "  | Name          | Type          | Params | Mode  | In sizes | Out sizes     \n",
      "------------------------------------------------------------------------------------\n",
      "0 | generator     | Generator     | 1.5 M  | train | [2, 100] | [2, 1, 28, 28]\n",
      "1 | discriminator | Discriminator | 533 K  | train | ?        | ?             \n",
      "------------------------------------------------------------------------------------\n",
      "2.0 M     Trainable params\n",
      "0         Non-trainable params\n",
      "2.0 M     Total params\n",
      "8.174     Total estimated model params size (MB)\n",
      "23        Modules in train mode\n",
      "0         Modules in eval mode\n"
     ]
    },
    {
     "data": {
      "application/vnd.jupyter.widget-view+json": {
       "model_id": "9358fae308dd4ba5aa14ce45f3e4c3d3",
       "version_major": 2,
       "version_minor": 0
      },
      "text/plain": [
       "Sanity Checking: |                                                                        | 0/? [00:00<?, ?it/…"
      ]
     },
     "metadata": {},
     "output_type": "display_data"
    },
    {
     "data": {
      "application/vnd.jupyter.widget-view+json": {
       "model_id": "aa27f5afa6d54365995e02ed6f7b02bf",
       "version_major": 2,
       "version_minor": 0
      },
      "text/plain": [
       "Training: |                                                                               | 0/? [00:00<?, ?it/…"
      ]
     },
     "metadata": {},
     "output_type": "display_data"
    },
    {
     "data": {
      "application/vnd.jupyter.widget-view+json": {
       "model_id": "03190f52946f4fc792f821f9e84b4d5d",
       "version_major": 2,
       "version_minor": 0
      },
      "text/plain": [
       "Validation: |                                                                             | 0/? [00:00<?, ?it/…"
      ]
     },
     "metadata": {},
     "output_type": "display_data"
    },
    {
     "data": {
      "application/vnd.jupyter.widget-view+json": {
       "model_id": "a0e33472d82e41ee91aae401f22a32e5",
       "version_major": 2,
       "version_minor": 0
      },
      "text/plain": [
       "Validation: |                                                                             | 0/? [00:00<?, ?it/…"
      ]
     },
     "metadata": {},
     "output_type": "display_data"
    },
    {
     "data": {
      "application/vnd.jupyter.widget-view+json": {
       "model_id": "03db5282b6ab4d469d3c53225820a9e5",
       "version_major": 2,
       "version_minor": 0
      },
      "text/plain": [
       "Validation: |                                                                             | 0/? [00:00<?, ?it/…"
      ]
     },
     "metadata": {},
     "output_type": "display_data"
    },
    {
     "data": {
      "application/vnd.jupyter.widget-view+json": {
       "model_id": "b5c68ed253f948558092b4c2158f426a",
       "version_major": 2,
       "version_minor": 0
      },
      "text/plain": [
       "Validation: |                                                                             | 0/? [00:00<?, ?it/…"
      ]
     },
     "metadata": {},
     "output_type": "display_data"
    },
    {
     "data": {
      "application/vnd.jupyter.widget-view+json": {
       "model_id": "576225587afc48c58fd79a2dbab6d36c",
       "version_major": 2,
       "version_minor": 0
      },
      "text/plain": [
       "Validation: |                                                                             | 0/? [00:00<?, ?it/…"
      ]
     },
     "metadata": {},
     "output_type": "display_data"
    },
    {
     "name": "stderr",
     "output_type": "stream",
     "text": [
      "`Trainer.fit` stopped: `max_epochs=5` reached.\n"
     ]
    }
   ],
   "source": [
    "dm = MNISTDataModule()\n",
    "model = GAN(*dm.dims)\n",
    "trainer = pl.Trainer(\n",
    "    accelerator=\"auto\",\n",
    "    devices=1,\n",
    "    max_epochs=5,\n",
    ")\n",
    "trainer.fit(model, dm)"
   ]
  },
  {
   "cell_type": "code",
   "execution_count": 22,
   "id": "37bd044d-47d5-4557-b6a6-87479ba68888",
   "metadata": {},
   "outputs": [
    {
     "data": {
      "text/plain": [
       "Reusing TensorBoard on port 6006 (pid 30176), started 0:00:24 ago. (Use '!kill 30176' to kill it.)"
      ]
     },
     "metadata": {},
     "output_type": "display_data"
    },
    {
     "data": {
      "text/html": [
       "\n",
       "      <iframe id=\"tensorboard-frame-bdd640fb06671ad1\" width=\"100%\" height=\"800\" frameborder=\"0\">\n",
       "      </iframe>\n",
       "      <script>\n",
       "        (function() {\n",
       "          const frame = document.getElementById(\"tensorboard-frame-bdd640fb06671ad1\");\n",
       "          const url = new URL(\"/\", window.location);\n",
       "          const port = 6006;\n",
       "          if (port) {\n",
       "            url.port = port;\n",
       "          }\n",
       "          frame.src = url;\n",
       "        })();\n",
       "      </script>\n",
       "    "
      ],
      "text/plain": [
       "<IPython.core.display.HTML object>"
      ]
     },
     "metadata": {},
     "output_type": "display_data"
    }
   ],
   "source": [
    "# Start tensorboard.\n",
    "# %load_ext tensorboard\n",
    "%reload_ext tensorboard\n",
    "%tensorboard --logdir lightning_logs/ --samples_per_plugin=images=60"
   ]
  },
  {
   "cell_type": "code",
   "execution_count": null,
   "id": "bad66edd-42ea-4c15-b78a-6b8d3e2a4e15",
   "metadata": {},
   "outputs": [],
   "source": []
  },
  {
   "cell_type": "markdown",
   "id": "41fbd746-ee20-42ee-b006-86a96d9eee91",
   "metadata": {},
   "source": [
    "During the training, we want to keep track of the learning progress by seeing reconstructions made by our model. For this, we implement a callback object in PyTorch Lightning which will add reconstructions every N epochs to our tensorboard:"
   ]
  },
  {
   "cell_type": "code",
   "execution_count": 12,
   "id": "db006f6e-1b46-4f6a-b5a5-4a4eba904364",
   "metadata": {},
   "outputs": [],
   "source": [
    "class GenerateCallback(Callback):\n",
    "    def __init__(self, input_imgs, every_n_epochs=1):\n",
    "        super().__init__()\n",
    "        self.input_imgs = input_imgs  # Images to reconstruct during training\n",
    "        # Only save those images every N epochs (otherwise tensorboard gets quite large)\n",
    "        self.every_n_epochs = every_n_epochs\n",
    "\n",
    "    def on_train_epoch_end(self, trainer, pl_module):\n",
    "        if trainer.current_epoch % self.every_n_epochs == 0:\n",
    "            # Reconstruct images\n",
    "            input_imgs = self.input_imgs.to(pl_module.device)\n",
    "            with torch.no_grad():\n",
    "                pl_module.eval()\n",
    "                reconst_imgs = pl_module(input_imgs)\n",
    "                pl_module.train()\n",
    "            # Plot and add to tensorboard\n",
    "            imgs = torch.stack([input_imgs, reconst_imgs], dim=1).flatten(0, 1)\n",
    "            grid = torchvision.utils.make_grid(imgs, nrow=2, normalize=True, value_range=(-1, 1))\n",
    "            trainer.logger.experiment.add_image(\"Reconstructions\", grid, global_step=trainer.global_step)"
   ]
  },
  {
   "cell_type": "markdown",
   "id": "94efff29-ecab-48a0-9e3f-9728533241a2",
   "metadata": {},
   "source": [
    "We will now write a training function that allows us to train the autoencoder with different latent dimensionality and returns both the test and validation score."
   ]
  },
  {
   "cell_type": "code",
   "execution_count": 13,
   "id": "6c7c6b46-6148-4377-a847-688ba549ccb9",
   "metadata": {},
   "outputs": [],
   "source": [
    "def train_cifar(latent_dim):\n",
    "    # Create a PyTorch Lightning trainer with the generation callback\n",
    "    trainer = pl.Trainer(\n",
    "        default_root_dir=os.path.join(CHECKPOINT_PATH, \"cifar10_%i\" % latent_dim),\n",
    "        accelerator=\"auto\",\n",
    "        devices=1,\n",
    "        max_epochs=500,\n",
    "        callbacks=[\n",
    "            ModelCheckpoint(save_weights_only=True),\n",
    "            GenerateCallback(get_train_images(8), every_n_epochs=10),\n",
    "            LearningRateMonitor(\"epoch\"),\n",
    "        ],\n",
    "    )\n",
    "    trainer.logger._log_graph = True  # If True, we plot the computation graph in tensorboard\n",
    "    trainer.logger._default_hp_metric = None  # Optional logging argument that we don't need\n",
    "\n",
    "    # Check whether pretrained model exists. If yes, load it and skip training\n",
    "    pretrained_filename = os.path.join(CHECKPOINT_PATH, \"cifar10_%i.ckpt\" % latent_dim)\n",
    "    if os.path.isfile(pretrained_filename):\n",
    "        print(\"Found pretrained model, loading...\")\n",
    "        model = Autoencoder.load_from_checkpoint(pretrained_filename)\n",
    "    else:\n",
    "        model = Autoencoder(base_channel_size=32, latent_dim=latent_dim)\n",
    "        trainer.fit(model, train_loader, val_loader)\n",
    "    # Test best model on validation and test set\n",
    "    val_result = trainer.test(model, dataloaders=val_loader, verbose=False)\n",
    "    test_result = trainer.test(model, dataloaders=test_loader, verbose=False)\n",
    "    result = {\"test\": test_result, \"val\": val_result}\n",
    "    return model, result"
   ]
  },
  {
   "cell_type": "markdown",
   "id": "d5de05a0-f717-4291-a0ad-fc2f6ef30db5",
   "metadata": {},
   "source": [
    "When training an autoencoder, we need to choose a dimensionality for the latent representation . The higher the latent dimensionality, the better we expect the reconstruction to be. However, the idea of autoencoders is to compress data. Hence, we are also interested in keeping the dimensionality low. To find the best tradeoff, we can train multiple models with different latent dimensionalities. The original input has pixels 32x32x3=3072 pixels. Keeping this in mind, a reasonable choice for the latent dimensionality might be between 64 and 384:"
   ]
  },
  {
   "cell_type": "code",
   "execution_count": 16,
   "id": "dfd32605-c444-406d-9e4f-efeacb343ff0",
   "metadata": {
    "scrolled": true
   },
   "outputs": [
    {
     "name": "stderr",
     "output_type": "stream",
     "text": [
      "GPU available: True (cuda), used: True\n",
      "TPU available: False, using: 0 TPU cores\n",
      "HPU available: False, using: 0 HPUs\n",
      "Lightning automatically upgraded your loaded checkpoint from v0.9.0 to v2.4.0. To apply the upgrade to your files permanently, run `python -m pytorch_lightning.utilities.upgrade_checkpoint saved_models/tutorial9/cifar10_64.ckpt`\n",
      "LOCAL_RANK: 0 - CUDA_VISIBLE_DEVICES: [0]\n"
     ]
    },
    {
     "name": "stdout",
     "output_type": "stream",
     "text": [
      "Found pretrained model, loading...\n"
     ]
    },
    {
     "data": {
      "application/vnd.jupyter.widget-view+json": {
       "model_id": "919864a2826047cd9a09c64f8ef42784",
       "version_major": 2,
       "version_minor": 0
      },
      "text/plain": [
       "Testing: |                                                                                | 0/? [00:00<?, ?it/…"
      ]
     },
     "metadata": {},
     "output_type": "display_data"
    },
    {
     "name": "stderr",
     "output_type": "stream",
     "text": [
      "LOCAL_RANK: 0 - CUDA_VISIBLE_DEVICES: [0]\n"
     ]
    },
    {
     "data": {
      "application/vnd.jupyter.widget-view+json": {
       "model_id": "cf77f14dbe8c43e5971c618fe9b47c8e",
       "version_major": 2,
       "version_minor": 0
      },
      "text/plain": [
       "Testing: |                                                                                | 0/? [00:00<?, ?it/…"
      ]
     },
     "metadata": {},
     "output_type": "display_data"
    },
    {
     "name": "stderr",
     "output_type": "stream",
     "text": [
      "GPU available: True (cuda), used: True\n",
      "TPU available: False, using: 0 TPU cores\n",
      "HPU available: False, using: 0 HPUs\n",
      "Lightning automatically upgraded your loaded checkpoint from v0.9.0 to v2.4.0. To apply the upgrade to your files permanently, run `python -m pytorch_lightning.utilities.upgrade_checkpoint saved_models/tutorial9/cifar10_128.ckpt`\n",
      "LOCAL_RANK: 0 - CUDA_VISIBLE_DEVICES: [0]\n"
     ]
    },
    {
     "name": "stdout",
     "output_type": "stream",
     "text": [
      "Found pretrained model, loading...\n"
     ]
    },
    {
     "data": {
      "application/vnd.jupyter.widget-view+json": {
       "model_id": "e20add38c2a14ab6bc74fe06bf8b44d4",
       "version_major": 2,
       "version_minor": 0
      },
      "text/plain": [
       "Testing: |                                                                                | 0/? [00:00<?, ?it/…"
      ]
     },
     "metadata": {},
     "output_type": "display_data"
    },
    {
     "name": "stderr",
     "output_type": "stream",
     "text": [
      "LOCAL_RANK: 0 - CUDA_VISIBLE_DEVICES: [0]\n"
     ]
    },
    {
     "data": {
      "application/vnd.jupyter.widget-view+json": {
       "model_id": "d069670fae8746849532a14c818f1875",
       "version_major": 2,
       "version_minor": 0
      },
      "text/plain": [
       "Testing: |                                                                                | 0/? [00:00<?, ?it/…"
      ]
     },
     "metadata": {},
     "output_type": "display_data"
    },
    {
     "name": "stderr",
     "output_type": "stream",
     "text": [
      "GPU available: True (cuda), used: True\n",
      "TPU available: False, using: 0 TPU cores\n",
      "HPU available: False, using: 0 HPUs\n",
      "Lightning automatically upgraded your loaded checkpoint from v0.9.0 to v2.4.0. To apply the upgrade to your files permanently, run `python -m pytorch_lightning.utilities.upgrade_checkpoint saved_models/tutorial9/cifar10_256.ckpt`\n",
      "LOCAL_RANK: 0 - CUDA_VISIBLE_DEVICES: [0]\n"
     ]
    },
    {
     "name": "stdout",
     "output_type": "stream",
     "text": [
      "Found pretrained model, loading...\n"
     ]
    },
    {
     "data": {
      "application/vnd.jupyter.widget-view+json": {
       "model_id": "b45e141ddc084f18ace4d46b81499328",
       "version_major": 2,
       "version_minor": 0
      },
      "text/plain": [
       "Testing: |                                                                                | 0/? [00:00<?, ?it/…"
      ]
     },
     "metadata": {},
     "output_type": "display_data"
    },
    {
     "name": "stderr",
     "output_type": "stream",
     "text": [
      "LOCAL_RANK: 0 - CUDA_VISIBLE_DEVICES: [0]\n"
     ]
    },
    {
     "data": {
      "application/vnd.jupyter.widget-view+json": {
       "model_id": "ea374915e5a34f6fbc4ca2a8e69981d8",
       "version_major": 2,
       "version_minor": 0
      },
      "text/plain": [
       "Testing: |                                                                                | 0/? [00:00<?, ?it/…"
      ]
     },
     "metadata": {},
     "output_type": "display_data"
    },
    {
     "name": "stderr",
     "output_type": "stream",
     "text": [
      "GPU available: True (cuda), used: True\n",
      "TPU available: False, using: 0 TPU cores\n",
      "HPU available: False, using: 0 HPUs\n",
      "Lightning automatically upgraded your loaded checkpoint from v0.9.0 to v2.4.0. To apply the upgrade to your files permanently, run `python -m pytorch_lightning.utilities.upgrade_checkpoint saved_models/tutorial9/cifar10_384.ckpt`\n",
      "LOCAL_RANK: 0 - CUDA_VISIBLE_DEVICES: [0]\n"
     ]
    },
    {
     "name": "stdout",
     "output_type": "stream",
     "text": [
      "Found pretrained model, loading...\n"
     ]
    },
    {
     "data": {
      "application/vnd.jupyter.widget-view+json": {
       "model_id": "dfdde49c48474d9fa55b160e2e8aea3f",
       "version_major": 2,
       "version_minor": 0
      },
      "text/plain": [
       "Testing: |                                                                                | 0/? [00:00<?, ?it/…"
      ]
     },
     "metadata": {},
     "output_type": "display_data"
    },
    {
     "name": "stderr",
     "output_type": "stream",
     "text": [
      "LOCAL_RANK: 0 - CUDA_VISIBLE_DEVICES: [0]\n"
     ]
    },
    {
     "data": {
      "application/vnd.jupyter.widget-view+json": {
       "model_id": "1a1f584807be4ca7adb1d860ef1e1275",
       "version_major": 2,
       "version_minor": 0
      },
      "text/plain": [
       "Testing: |                                                                                | 0/? [00:00<?, ?it/…"
      ]
     },
     "metadata": {},
     "output_type": "display_data"
    },
    {
     "name": "stderr",
     "output_type": "stream",
     "text": [
      "GPU available: True (cuda), used: True\n",
      "TPU available: False, using: 0 TPU cores\n",
      "HPU available: False, using: 0 HPUs\n",
      "LOCAL_RANK: 0 - CUDA_VISIBLE_DEVICES: [0]\n",
      "\n",
      "  | Name    | Type    | Params | Mode  | In sizes       | Out sizes     \n",
      "------------------------------------------------------------------------------\n",
      "0 | encoder | Encoder | 561 K  | train | [2, 3, 32, 32] | [2, 448]      \n",
      "1 | decoder | Decoder | 562 K  | train | [2, 448]       | [2, 3, 32, 32]\n",
      "------------------------------------------------------------------------------\n",
      "1.1 M     Trainable params\n",
      "0         Non-trainable params\n",
      "1.1 M     Total params\n",
      "4.496     Total estimated model params size (MB)\n",
      "29        Modules in train mode\n",
      "0         Modules in eval mode\n"
     ]
    },
    {
     "data": {
      "application/vnd.jupyter.widget-view+json": {
       "model_id": "0c91f197fe1744709bbccea620f44421",
       "version_major": 2,
       "version_minor": 0
      },
      "text/plain": [
       "Sanity Checking: |                                                                        | 0/? [00:00<?, ?it/…"
      ]
     },
     "metadata": {},
     "output_type": "display_data"
    },
    {
     "data": {
      "application/vnd.jupyter.widget-view+json": {
       "model_id": "fd8147f369a64a089954937658ff2f6b",
       "version_major": 2,
       "version_minor": 0
      },
      "text/plain": [
       "Training: |                                                                               | 0/? [00:00<?, ?it/…"
      ]
     },
     "metadata": {},
     "output_type": "display_data"
    },
    {
     "data": {
      "application/vnd.jupyter.widget-view+json": {
       "model_id": "94243f49ae144db48c3db5a8158d74a0",
       "version_major": 2,
       "version_minor": 0
      },
      "text/plain": [
       "Validation: |                                                                             | 0/? [00:00<?, ?it/…"
      ]
     },
     "metadata": {},
     "output_type": "display_data"
    },
    {
     "data": {
      "application/vnd.jupyter.widget-view+json": {
       "model_id": "535ecf74397e42c6b91116681f79576b",
       "version_major": 2,
       "version_minor": 0
      },
      "text/plain": [
       "Validation: |                                                                             | 0/? [00:00<?, ?it/…"
      ]
     },
     "metadata": {},
     "output_type": "display_data"
    },
    {
     "data": {
      "application/vnd.jupyter.widget-view+json": {
       "model_id": "894cf97253624822b2c0795cf78b69c0",
       "version_major": 2,
       "version_minor": 0
      },
      "text/plain": [
       "Validation: |                                                                             | 0/? [00:00<?, ?it/…"
      ]
     },
     "metadata": {},
     "output_type": "display_data"
    },
    {
     "data": {
      "application/vnd.jupyter.widget-view+json": {
       "model_id": "53ea4147515c4756a9a403f6fc5188f1",
       "version_major": 2,
       "version_minor": 0
      },
      "text/plain": [
       "Validation: |                                                                             | 0/? [00:00<?, ?it/…"
      ]
     },
     "metadata": {},
     "output_type": "display_data"
    },
    {
     "data": {
      "application/vnd.jupyter.widget-view+json": {
       "model_id": "9e90437ea3584c05a14c02050de3cfdb",
       "version_major": 2,
       "version_minor": 0
      },
      "text/plain": [
       "Validation: |                                                                             | 0/? [00:00<?, ?it/…"
      ]
     },
     "metadata": {},
     "output_type": "display_data"
    },
    {
     "data": {
      "application/vnd.jupyter.widget-view+json": {
       "model_id": "e6f8c0b90dcd4a71aa9a6c3b39193b94",
       "version_major": 2,
       "version_minor": 0
      },
      "text/plain": [
       "Validation: |                                                                             | 0/? [00:00<?, ?it/…"
      ]
     },
     "metadata": {},
     "output_type": "display_data"
    },
    {
     "data": {
      "application/vnd.jupyter.widget-view+json": {
       "model_id": "83ac7495eb75443fa77bc8e701699d12",
       "version_major": 2,
       "version_minor": 0
      },
      "text/plain": [
       "Validation: |                                                                             | 0/? [00:00<?, ?it/…"
      ]
     },
     "metadata": {},
     "output_type": "display_data"
    },
    {
     "data": {
      "application/vnd.jupyter.widget-view+json": {
       "model_id": "51964255bdc441faaa205fda6385da6f",
       "version_major": 2,
       "version_minor": 0
      },
      "text/plain": [
       "Validation: |                                                                             | 0/? [00:00<?, ?it/…"
      ]
     },
     "metadata": {},
     "output_type": "display_data"
    },
    {
     "data": {
      "application/vnd.jupyter.widget-view+json": {
       "model_id": "42feb955c4fa47b98b49d564adb3bd09",
       "version_major": 2,
       "version_minor": 0
      },
      "text/plain": [
       "Validation: |                                                                             | 0/? [00:00<?, ?it/…"
      ]
     },
     "metadata": {},
     "output_type": "display_data"
    },
    {
     "data": {
      "application/vnd.jupyter.widget-view+json": {
       "model_id": "f623e5bd3ab44e94803ad9cdbbeedd44",
       "version_major": 2,
       "version_minor": 0
      },
      "text/plain": [
       "Validation: |                                                                             | 0/? [00:00<?, ?it/…"
      ]
     },
     "metadata": {},
     "output_type": "display_data"
    },
    {
     "data": {
      "application/vnd.jupyter.widget-view+json": {
       "model_id": "0996aef4c03745d7ab1c6eedc4d10b71",
       "version_major": 2,
       "version_minor": 0
      },
      "text/plain": [
       "Validation: |                                                                             | 0/? [00:00<?, ?it/…"
      ]
     },
     "metadata": {},
     "output_type": "display_data"
    },
    {
     "data": {
      "application/vnd.jupyter.widget-view+json": {
       "model_id": "679f828fa0c94718a771b44ca8cd1a96",
       "version_major": 2,
       "version_minor": 0
      },
      "text/plain": [
       "Validation: |                                                                             | 0/? [00:00<?, ?it/…"
      ]
     },
     "metadata": {},
     "output_type": "display_data"
    },
    {
     "data": {
      "application/vnd.jupyter.widget-view+json": {
       "model_id": "126a80806d0d4eb8801dd5aee326e098",
       "version_major": 2,
       "version_minor": 0
      },
      "text/plain": [
       "Validation: |                                                                             | 0/? [00:00<?, ?it/…"
      ]
     },
     "metadata": {},
     "output_type": "display_data"
    },
    {
     "data": {
      "application/vnd.jupyter.widget-view+json": {
       "model_id": "64d7639d4b9f4579992148d9ed51eee6",
       "version_major": 2,
       "version_minor": 0
      },
      "text/plain": [
       "Validation: |                                                                             | 0/? [00:00<?, ?it/…"
      ]
     },
     "metadata": {},
     "output_type": "display_data"
    },
    {
     "data": {
      "application/vnd.jupyter.widget-view+json": {
       "model_id": "0ec8a6abc6a8436a9873244f56b68c57",
       "version_major": 2,
       "version_minor": 0
      },
      "text/plain": [
       "Validation: |                                                                             | 0/? [00:00<?, ?it/…"
      ]
     },
     "metadata": {},
     "output_type": "display_data"
    },
    {
     "data": {
      "application/vnd.jupyter.widget-view+json": {
       "model_id": "a4da7bb9ffb94e3d8e12c15c7cbc4f29",
       "version_major": 2,
       "version_minor": 0
      },
      "text/plain": [
       "Validation: |                                                                             | 0/? [00:00<?, ?it/…"
      ]
     },
     "metadata": {},
     "output_type": "display_data"
    },
    {
     "data": {
      "application/vnd.jupyter.widget-view+json": {
       "model_id": "d665dbd268734ebb802ed5cd9e4e912f",
       "version_major": 2,
       "version_minor": 0
      },
      "text/plain": [
       "Validation: |                                                                             | 0/? [00:00<?, ?it/…"
      ]
     },
     "metadata": {},
     "output_type": "display_data"
    },
    {
     "data": {
      "application/vnd.jupyter.widget-view+json": {
       "model_id": "59e18217a05f44c183f29f508e46c0fa",
       "version_major": 2,
       "version_minor": 0
      },
      "text/plain": [
       "Validation: |                                                                             | 0/? [00:00<?, ?it/…"
      ]
     },
     "metadata": {},
     "output_type": "display_data"
    },
    {
     "data": {
      "application/vnd.jupyter.widget-view+json": {
       "model_id": "93cf2f6017384a458850ec2776b9443a",
       "version_major": 2,
       "version_minor": 0
      },
      "text/plain": [
       "Validation: |                                                                             | 0/? [00:00<?, ?it/…"
      ]
     },
     "metadata": {},
     "output_type": "display_data"
    },
    {
     "data": {
      "application/vnd.jupyter.widget-view+json": {
       "model_id": "f8a62b491c3f45b789a69a74db14bfa5",
       "version_major": 2,
       "version_minor": 0
      },
      "text/plain": [
       "Validation: |                                                                             | 0/? [00:00<?, ?it/…"
      ]
     },
     "metadata": {},
     "output_type": "display_data"
    },
    {
     "data": {
      "application/vnd.jupyter.widget-view+json": {
       "model_id": "660f02a220934a0f80df3cfb33eec11d",
       "version_major": 2,
       "version_minor": 0
      },
      "text/plain": [
       "Validation: |                                                                             | 0/? [00:00<?, ?it/…"
      ]
     },
     "metadata": {},
     "output_type": "display_data"
    },
    {
     "data": {
      "application/vnd.jupyter.widget-view+json": {
       "model_id": "6a7fa669ba974287acc96b6083479a9c",
       "version_major": 2,
       "version_minor": 0
      },
      "text/plain": [
       "Validation: |                                                                             | 0/? [00:00<?, ?it/…"
      ]
     },
     "metadata": {},
     "output_type": "display_data"
    },
    {
     "data": {
      "application/vnd.jupyter.widget-view+json": {
       "model_id": "a8817f5d924c4a2884534335b1c4c546",
       "version_major": 2,
       "version_minor": 0
      },
      "text/plain": [
       "Validation: |                                                                             | 0/? [00:00<?, ?it/…"
      ]
     },
     "metadata": {},
     "output_type": "display_data"
    },
    {
     "data": {
      "application/vnd.jupyter.widget-view+json": {
       "model_id": "649b35cbada4475b94cb6adcbdb41a4f",
       "version_major": 2,
       "version_minor": 0
      },
      "text/plain": [
       "Validation: |                                                                             | 0/? [00:00<?, ?it/…"
      ]
     },
     "metadata": {},
     "output_type": "display_data"
    },
    {
     "data": {
      "application/vnd.jupyter.widget-view+json": {
       "model_id": "5cc8783e04d645c7b7ec000de5c7cca4",
       "version_major": 2,
       "version_minor": 0
      },
      "text/plain": [
       "Validation: |                                                                             | 0/? [00:00<?, ?it/…"
      ]
     },
     "metadata": {},
     "output_type": "display_data"
    },
    {
     "data": {
      "application/vnd.jupyter.widget-view+json": {
       "model_id": "4d4ace699c674652b774c66a05d2a697",
       "version_major": 2,
       "version_minor": 0
      },
      "text/plain": [
       "Validation: |                                                                             | 0/? [00:00<?, ?it/…"
      ]
     },
     "metadata": {},
     "output_type": "display_data"
    },
    {
     "data": {
      "application/vnd.jupyter.widget-view+json": {
       "model_id": "1d1b63b4a6b8419d8ff2c7f98290d907",
       "version_major": 2,
       "version_minor": 0
      },
      "text/plain": [
       "Validation: |                                                                             | 0/? [00:00<?, ?it/…"
      ]
     },
     "metadata": {},
     "output_type": "display_data"
    },
    {
     "data": {
      "application/vnd.jupyter.widget-view+json": {
       "model_id": "78f7f50552a74f8d9202b9820098713a",
       "version_major": 2,
       "version_minor": 0
      },
      "text/plain": [
       "Validation: |                                                                             | 0/? [00:00<?, ?it/…"
      ]
     },
     "metadata": {},
     "output_type": "display_data"
    },
    {
     "data": {
      "application/vnd.jupyter.widget-view+json": {
       "model_id": "6240c45c86fe4128b391e51386a94c48",
       "version_major": 2,
       "version_minor": 0
      },
      "text/plain": [
       "Validation: |                                                                             | 0/? [00:00<?, ?it/…"
      ]
     },
     "metadata": {},
     "output_type": "display_data"
    },
    {
     "data": {
      "application/vnd.jupyter.widget-view+json": {
       "model_id": "605f388214fa41a681cbfc32b98e7048",
       "version_major": 2,
       "version_minor": 0
      },
      "text/plain": [
       "Validation: |                                                                             | 0/? [00:00<?, ?it/…"
      ]
     },
     "metadata": {},
     "output_type": "display_data"
    },
    {
     "data": {
      "application/vnd.jupyter.widget-view+json": {
       "model_id": "b17902f3c789472a83e3d126a9f8dd42",
       "version_major": 2,
       "version_minor": 0
      },
      "text/plain": [
       "Validation: |                                                                             | 0/? [00:00<?, ?it/…"
      ]
     },
     "metadata": {},
     "output_type": "display_data"
    },
    {
     "data": {
      "application/vnd.jupyter.widget-view+json": {
       "model_id": "6c479335721142159271da08161e4413",
       "version_major": 2,
       "version_minor": 0
      },
      "text/plain": [
       "Validation: |                                                                             | 0/? [00:00<?, ?it/…"
      ]
     },
     "metadata": {},
     "output_type": "display_data"
    },
    {
     "data": {
      "application/vnd.jupyter.widget-view+json": {
       "model_id": "75dad141fa57480cb4c27c3d187d737a",
       "version_major": 2,
       "version_minor": 0
      },
      "text/plain": [
       "Validation: |                                                                             | 0/? [00:00<?, ?it/…"
      ]
     },
     "metadata": {},
     "output_type": "display_data"
    },
    {
     "data": {
      "application/vnd.jupyter.widget-view+json": {
       "model_id": "18471d3adf4b4ccda21e2692b7d81838",
       "version_major": 2,
       "version_minor": 0
      },
      "text/plain": [
       "Validation: |                                                                             | 0/? [00:00<?, ?it/…"
      ]
     },
     "metadata": {},
     "output_type": "display_data"
    },
    {
     "data": {
      "application/vnd.jupyter.widget-view+json": {
       "model_id": "e8b30f53a76140acb9b11c8cb9e1a675",
       "version_major": 2,
       "version_minor": 0
      },
      "text/plain": [
       "Validation: |                                                                             | 0/? [00:00<?, ?it/…"
      ]
     },
     "metadata": {},
     "output_type": "display_data"
    },
    {
     "data": {
      "application/vnd.jupyter.widget-view+json": {
       "model_id": "030392abfea84a8ab5c31a08cdef39d0",
       "version_major": 2,
       "version_minor": 0
      },
      "text/plain": [
       "Validation: |                                                                             | 0/? [00:00<?, ?it/…"
      ]
     },
     "metadata": {},
     "output_type": "display_data"
    },
    {
     "data": {
      "application/vnd.jupyter.widget-view+json": {
       "model_id": "356f48be95cc44249518221d50489aa7",
       "version_major": 2,
       "version_minor": 0
      },
      "text/plain": [
       "Validation: |                                                                             | 0/? [00:00<?, ?it/…"
      ]
     },
     "metadata": {},
     "output_type": "display_data"
    },
    {
     "data": {
      "application/vnd.jupyter.widget-view+json": {
       "model_id": "2701d359f2224f6ebd443d195a98d1a0",
       "version_major": 2,
       "version_minor": 0
      },
      "text/plain": [
       "Validation: |                                                                             | 0/? [00:00<?, ?it/…"
      ]
     },
     "metadata": {},
     "output_type": "display_data"
    },
    {
     "data": {
      "application/vnd.jupyter.widget-view+json": {
       "model_id": "66a5a4fe99444a88a6aee020755fae4d",
       "version_major": 2,
       "version_minor": 0
      },
      "text/plain": [
       "Validation: |                                                                             | 0/? [00:00<?, ?it/…"
      ]
     },
     "metadata": {},
     "output_type": "display_data"
    },
    {
     "data": {
      "application/vnd.jupyter.widget-view+json": {
       "model_id": "f92f842667d74de3b1163d877a688999",
       "version_major": 2,
       "version_minor": 0
      },
      "text/plain": [
       "Validation: |                                                                             | 0/? [00:00<?, ?it/…"
      ]
     },
     "metadata": {},
     "output_type": "display_data"
    },
    {
     "data": {
      "application/vnd.jupyter.widget-view+json": {
       "model_id": "a074d1bfd66d4d55b37c42a7ed090e37",
       "version_major": 2,
       "version_minor": 0
      },
      "text/plain": [
       "Validation: |                                                                             | 0/? [00:00<?, ?it/…"
      ]
     },
     "metadata": {},
     "output_type": "display_data"
    },
    {
     "data": {
      "application/vnd.jupyter.widget-view+json": {
       "model_id": "b340fc2c3d7e43b98591663f18d182f9",
       "version_major": 2,
       "version_minor": 0
      },
      "text/plain": [
       "Validation: |                                                                             | 0/? [00:00<?, ?it/…"
      ]
     },
     "metadata": {},
     "output_type": "display_data"
    },
    {
     "data": {
      "application/vnd.jupyter.widget-view+json": {
       "model_id": "5be0d0a832ac48b29fb35f38063866a3",
       "version_major": 2,
       "version_minor": 0
      },
      "text/plain": [
       "Validation: |                                                                             | 0/? [00:00<?, ?it/…"
      ]
     },
     "metadata": {},
     "output_type": "display_data"
    },
    {
     "data": {
      "application/vnd.jupyter.widget-view+json": {
       "model_id": "c32911171ea94f1480d0466cd729e159",
       "version_major": 2,
       "version_minor": 0
      },
      "text/plain": [
       "Validation: |                                                                             | 0/? [00:00<?, ?it/…"
      ]
     },
     "metadata": {},
     "output_type": "display_data"
    },
    {
     "data": {
      "application/vnd.jupyter.widget-view+json": {
       "model_id": "49486b64ed294da298a17128ed7035a8",
       "version_major": 2,
       "version_minor": 0
      },
      "text/plain": [
       "Validation: |                                                                             | 0/? [00:00<?, ?it/…"
      ]
     },
     "metadata": {},
     "output_type": "display_data"
    },
    {
     "data": {
      "application/vnd.jupyter.widget-view+json": {
       "model_id": "fe3e67f2aeeb4d938a414c7fd037bd3c",
       "version_major": 2,
       "version_minor": 0
      },
      "text/plain": [
       "Validation: |                                                                             | 0/? [00:00<?, ?it/…"
      ]
     },
     "metadata": {},
     "output_type": "display_data"
    },
    {
     "data": {
      "application/vnd.jupyter.widget-view+json": {
       "model_id": "9c65dd0aba594cf4bb161841cedb3c62",
       "version_major": 2,
       "version_minor": 0
      },
      "text/plain": [
       "Validation: |                                                                             | 0/? [00:00<?, ?it/…"
      ]
     },
     "metadata": {},
     "output_type": "display_data"
    },
    {
     "data": {
      "application/vnd.jupyter.widget-view+json": {
       "model_id": "6a30dcba003b4e9d85682985ffa30d88",
       "version_major": 2,
       "version_minor": 0
      },
      "text/plain": [
       "Validation: |                                                                             | 0/? [00:00<?, ?it/…"
      ]
     },
     "metadata": {},
     "output_type": "display_data"
    },
    {
     "data": {
      "application/vnd.jupyter.widget-view+json": {
       "model_id": "074be7e2079e419abc52397bf50f83fd",
       "version_major": 2,
       "version_minor": 0
      },
      "text/plain": [
       "Validation: |                                                                             | 0/? [00:00<?, ?it/…"
      ]
     },
     "metadata": {},
     "output_type": "display_data"
    },
    {
     "data": {
      "application/vnd.jupyter.widget-view+json": {
       "model_id": "09c2b99791da49d49790f58ffd44ec56",
       "version_major": 2,
       "version_minor": 0
      },
      "text/plain": [
       "Validation: |                                                                             | 0/? [00:00<?, ?it/…"
      ]
     },
     "metadata": {},
     "output_type": "display_data"
    },
    {
     "data": {
      "application/vnd.jupyter.widget-view+json": {
       "model_id": "ee28304c83a04eb1bdf386bd1d009c9d",
       "version_major": 2,
       "version_minor": 0
      },
      "text/plain": [
       "Validation: |                                                                             | 0/? [00:00<?, ?it/…"
      ]
     },
     "metadata": {},
     "output_type": "display_data"
    },
    {
     "data": {
      "application/vnd.jupyter.widget-view+json": {
       "model_id": "ac10224aa75d421d8806ca78f683ec04",
       "version_major": 2,
       "version_minor": 0
      },
      "text/plain": [
       "Validation: |                                                                             | 0/? [00:00<?, ?it/…"
      ]
     },
     "metadata": {},
     "output_type": "display_data"
    },
    {
     "data": {
      "application/vnd.jupyter.widget-view+json": {
       "model_id": "04ce456cba0c495aab73464fd33d9f9c",
       "version_major": 2,
       "version_minor": 0
      },
      "text/plain": [
       "Validation: |                                                                             | 0/? [00:00<?, ?it/…"
      ]
     },
     "metadata": {},
     "output_type": "display_data"
    },
    {
     "data": {
      "application/vnd.jupyter.widget-view+json": {
       "model_id": "2429849da6554ad692b228ae91c2fc9c",
       "version_major": 2,
       "version_minor": 0
      },
      "text/plain": [
       "Validation: |                                                                             | 0/? [00:00<?, ?it/…"
      ]
     },
     "metadata": {},
     "output_type": "display_data"
    },
    {
     "data": {
      "application/vnd.jupyter.widget-view+json": {
       "model_id": "989f86b7be484507949bdd4b13aa9366",
       "version_major": 2,
       "version_minor": 0
      },
      "text/plain": [
       "Validation: |                                                                             | 0/? [00:00<?, ?it/…"
      ]
     },
     "metadata": {},
     "output_type": "display_data"
    },
    {
     "data": {
      "application/vnd.jupyter.widget-view+json": {
       "model_id": "593372fc731548bf951af26e49cf916c",
       "version_major": 2,
       "version_minor": 0
      },
      "text/plain": [
       "Validation: |                                                                             | 0/? [00:00<?, ?it/…"
      ]
     },
     "metadata": {},
     "output_type": "display_data"
    },
    {
     "data": {
      "application/vnd.jupyter.widget-view+json": {
       "model_id": "6a0a9aa3818d42739caf61656c150e0c",
       "version_major": 2,
       "version_minor": 0
      },
      "text/plain": [
       "Validation: |                                                                             | 0/? [00:00<?, ?it/…"
      ]
     },
     "metadata": {},
     "output_type": "display_data"
    },
    {
     "data": {
      "application/vnd.jupyter.widget-view+json": {
       "model_id": "1aa8ab96dce440af8ed843b9906aaba4",
       "version_major": 2,
       "version_minor": 0
      },
      "text/plain": [
       "Validation: |                                                                             | 0/? [00:00<?, ?it/…"
      ]
     },
     "metadata": {},
     "output_type": "display_data"
    },
    {
     "data": {
      "application/vnd.jupyter.widget-view+json": {
       "model_id": "eb3a80d788ba4db194bc1a4a7d5d7eb3",
       "version_major": 2,
       "version_minor": 0
      },
      "text/plain": [
       "Validation: |                                                                             | 0/? [00:00<?, ?it/…"
      ]
     },
     "metadata": {},
     "output_type": "display_data"
    },
    {
     "data": {
      "application/vnd.jupyter.widget-view+json": {
       "model_id": "7e6f7257e5aa42e6b317b1efea4eff71",
       "version_major": 2,
       "version_minor": 0
      },
      "text/plain": [
       "Validation: |                                                                             | 0/? [00:00<?, ?it/…"
      ]
     },
     "metadata": {},
     "output_type": "display_data"
    },
    {
     "data": {
      "application/vnd.jupyter.widget-view+json": {
       "model_id": "22bef5e84990462ea4c7e217cbe6d4e9",
       "version_major": 2,
       "version_minor": 0
      },
      "text/plain": [
       "Validation: |                                                                             | 0/? [00:00<?, ?it/…"
      ]
     },
     "metadata": {},
     "output_type": "display_data"
    },
    {
     "data": {
      "application/vnd.jupyter.widget-view+json": {
       "model_id": "e312ab72512a491eb4d78b4d1d31b7db",
       "version_major": 2,
       "version_minor": 0
      },
      "text/plain": [
       "Validation: |                                                                             | 0/? [00:00<?, ?it/…"
      ]
     },
     "metadata": {},
     "output_type": "display_data"
    },
    {
     "data": {
      "application/vnd.jupyter.widget-view+json": {
       "model_id": "a5a6a825bf4a46b39223f8a4343094f9",
       "version_major": 2,
       "version_minor": 0
      },
      "text/plain": [
       "Validation: |                                                                             | 0/? [00:00<?, ?it/…"
      ]
     },
     "metadata": {},
     "output_type": "display_data"
    },
    {
     "data": {
      "application/vnd.jupyter.widget-view+json": {
       "model_id": "94c23a357fea4971bc2496c06afa1d45",
       "version_major": 2,
       "version_minor": 0
      },
      "text/plain": [
       "Validation: |                                                                             | 0/? [00:00<?, ?it/…"
      ]
     },
     "metadata": {},
     "output_type": "display_data"
    },
    {
     "data": {
      "application/vnd.jupyter.widget-view+json": {
       "model_id": "f64881640ba24061ba668bc75ec90423",
       "version_major": 2,
       "version_minor": 0
      },
      "text/plain": [
       "Validation: |                                                                             | 0/? [00:00<?, ?it/…"
      ]
     },
     "metadata": {},
     "output_type": "display_data"
    },
    {
     "data": {
      "application/vnd.jupyter.widget-view+json": {
       "model_id": "65a3cb126e6846b683c1e83d94019c19",
       "version_major": 2,
       "version_minor": 0
      },
      "text/plain": [
       "Validation: |                                                                             | 0/? [00:00<?, ?it/…"
      ]
     },
     "metadata": {},
     "output_type": "display_data"
    },
    {
     "data": {
      "application/vnd.jupyter.widget-view+json": {
       "model_id": "219189c5a41d4a8c9a17ebddc4f7f085",
       "version_major": 2,
       "version_minor": 0
      },
      "text/plain": [
       "Validation: |                                                                             | 0/? [00:00<?, ?it/…"
      ]
     },
     "metadata": {},
     "output_type": "display_data"
    },
    {
     "data": {
      "application/vnd.jupyter.widget-view+json": {
       "model_id": "f2dfa7a3cc1b4accbf742a76bc4c2a56",
       "version_major": 2,
       "version_minor": 0
      },
      "text/plain": [
       "Validation: |                                                                             | 0/? [00:00<?, ?it/…"
      ]
     },
     "metadata": {},
     "output_type": "display_data"
    },
    {
     "data": {
      "application/vnd.jupyter.widget-view+json": {
       "model_id": "2e0421c37d634a94bbfbffa4a5da4ae7",
       "version_major": 2,
       "version_minor": 0
      },
      "text/plain": [
       "Validation: |                                                                             | 0/? [00:00<?, ?it/…"
      ]
     },
     "metadata": {},
     "output_type": "display_data"
    },
    {
     "data": {
      "application/vnd.jupyter.widget-view+json": {
       "model_id": "fee32a5e1ce6448eaf8d3a8c9637d3b2",
       "version_major": 2,
       "version_minor": 0
      },
      "text/plain": [
       "Validation: |                                                                             | 0/? [00:00<?, ?it/…"
      ]
     },
     "metadata": {},
     "output_type": "display_data"
    },
    {
     "data": {
      "application/vnd.jupyter.widget-view+json": {
       "model_id": "354e2fc9263b442d92ef3a3e6590cf1b",
       "version_major": 2,
       "version_minor": 0
      },
      "text/plain": [
       "Validation: |                                                                             | 0/? [00:00<?, ?it/…"
      ]
     },
     "metadata": {},
     "output_type": "display_data"
    },
    {
     "data": {
      "application/vnd.jupyter.widget-view+json": {
       "model_id": "a2817f57074d43b290af8bf26ae82ff9",
       "version_major": 2,
       "version_minor": 0
      },
      "text/plain": [
       "Validation: |                                                                             | 0/? [00:00<?, ?it/…"
      ]
     },
     "metadata": {},
     "output_type": "display_data"
    },
    {
     "data": {
      "application/vnd.jupyter.widget-view+json": {
       "model_id": "9135a5550e174ed0b103651a94139b33",
       "version_major": 2,
       "version_minor": 0
      },
      "text/plain": [
       "Validation: |                                                                             | 0/? [00:00<?, ?it/…"
      ]
     },
     "metadata": {},
     "output_type": "display_data"
    },
    {
     "data": {
      "application/vnd.jupyter.widget-view+json": {
       "model_id": "e584101ba23741e6b1acddf058f1a516",
       "version_major": 2,
       "version_minor": 0
      },
      "text/plain": [
       "Validation: |                                                                             | 0/? [00:00<?, ?it/…"
      ]
     },
     "metadata": {},
     "output_type": "display_data"
    },
    {
     "data": {
      "application/vnd.jupyter.widget-view+json": {
       "model_id": "99dda0d411bc43a29951f39b147cc9cf",
       "version_major": 2,
       "version_minor": 0
      },
      "text/plain": [
       "Validation: |                                                                             | 0/? [00:00<?, ?it/…"
      ]
     },
     "metadata": {},
     "output_type": "display_data"
    },
    {
     "data": {
      "application/vnd.jupyter.widget-view+json": {
       "model_id": "d1fcd6043e2744ecacd4e6a8895ff2e7",
       "version_major": 2,
       "version_minor": 0
      },
      "text/plain": [
       "Validation: |                                                                             | 0/? [00:00<?, ?it/…"
      ]
     },
     "metadata": {},
     "output_type": "display_data"
    },
    {
     "data": {
      "application/vnd.jupyter.widget-view+json": {
       "model_id": "1e9049c418e64338846ebcbb14cb2b1b",
       "version_major": 2,
       "version_minor": 0
      },
      "text/plain": [
       "Validation: |                                                                             | 0/? [00:00<?, ?it/…"
      ]
     },
     "metadata": {},
     "output_type": "display_data"
    },
    {
     "data": {
      "application/vnd.jupyter.widget-view+json": {
       "model_id": "0088ec9ce70745e48daada51ea16f00d",
       "version_major": 2,
       "version_minor": 0
      },
      "text/plain": [
       "Validation: |                                                                             | 0/? [00:00<?, ?it/…"
      ]
     },
     "metadata": {},
     "output_type": "display_data"
    },
    {
     "data": {
      "application/vnd.jupyter.widget-view+json": {
       "model_id": "2d8d6048547948fcba7f808da3f865c5",
       "version_major": 2,
       "version_minor": 0
      },
      "text/plain": [
       "Validation: |                                                                             | 0/? [00:00<?, ?it/…"
      ]
     },
     "metadata": {},
     "output_type": "display_data"
    },
    {
     "data": {
      "application/vnd.jupyter.widget-view+json": {
       "model_id": "9d1f07e4c50d4df4b7f0b7443781a3bf",
       "version_major": 2,
       "version_minor": 0
      },
      "text/plain": [
       "Validation: |                                                                             | 0/? [00:00<?, ?it/…"
      ]
     },
     "metadata": {},
     "output_type": "display_data"
    },
    {
     "data": {
      "application/vnd.jupyter.widget-view+json": {
       "model_id": "d4f328f7ab024fd595f000f0f48ff0b3",
       "version_major": 2,
       "version_minor": 0
      },
      "text/plain": [
       "Validation: |                                                                             | 0/? [00:00<?, ?it/…"
      ]
     },
     "metadata": {},
     "output_type": "display_data"
    },
    {
     "data": {
      "application/vnd.jupyter.widget-view+json": {
       "model_id": "37bc09b56db7415db947395c8e9bd19c",
       "version_major": 2,
       "version_minor": 0
      },
      "text/plain": [
       "Validation: |                                                                             | 0/? [00:00<?, ?it/…"
      ]
     },
     "metadata": {},
     "output_type": "display_data"
    },
    {
     "data": {
      "application/vnd.jupyter.widget-view+json": {
       "model_id": "00cf049fbe9340bdbba44128227121be",
       "version_major": 2,
       "version_minor": 0
      },
      "text/plain": [
       "Validation: |                                                                             | 0/? [00:00<?, ?it/…"
      ]
     },
     "metadata": {},
     "output_type": "display_data"
    },
    {
     "data": {
      "application/vnd.jupyter.widget-view+json": {
       "model_id": "edc565791e404002baa9bb991c66f01f",
       "version_major": 2,
       "version_minor": 0
      },
      "text/plain": [
       "Validation: |                                                                             | 0/? [00:00<?, ?it/…"
      ]
     },
     "metadata": {},
     "output_type": "display_data"
    },
    {
     "data": {
      "application/vnd.jupyter.widget-view+json": {
       "model_id": "8b118dd6e9da485db000714a6419d6f8",
       "version_major": 2,
       "version_minor": 0
      },
      "text/plain": [
       "Validation: |                                                                             | 0/? [00:00<?, ?it/…"
      ]
     },
     "metadata": {},
     "output_type": "display_data"
    },
    {
     "data": {
      "application/vnd.jupyter.widget-view+json": {
       "model_id": "afb2c7960fce4b5c8a3a1c9cde71289e",
       "version_major": 2,
       "version_minor": 0
      },
      "text/plain": [
       "Validation: |                                                                             | 0/? [00:00<?, ?it/…"
      ]
     },
     "metadata": {},
     "output_type": "display_data"
    },
    {
     "data": {
      "application/vnd.jupyter.widget-view+json": {
       "model_id": "f33e6299dcef4404a8a171bf4eaa9344",
       "version_major": 2,
       "version_minor": 0
      },
      "text/plain": [
       "Validation: |                                                                             | 0/? [00:00<?, ?it/…"
      ]
     },
     "metadata": {},
     "output_type": "display_data"
    },
    {
     "data": {
      "application/vnd.jupyter.widget-view+json": {
       "model_id": "b5c4518294c64212b1aae3f25d5860a2",
       "version_major": 2,
       "version_minor": 0
      },
      "text/plain": [
       "Validation: |                                                                             | 0/? [00:00<?, ?it/…"
      ]
     },
     "metadata": {},
     "output_type": "display_data"
    },
    {
     "data": {
      "application/vnd.jupyter.widget-view+json": {
       "model_id": "8421d1b8ecf44a328b934c58ce7cbad1",
       "version_major": 2,
       "version_minor": 0
      },
      "text/plain": [
       "Validation: |                                                                             | 0/? [00:00<?, ?it/…"
      ]
     },
     "metadata": {},
     "output_type": "display_data"
    },
    {
     "data": {
      "application/vnd.jupyter.widget-view+json": {
       "model_id": "abe7d136608d4320b535d5294a90a498",
       "version_major": 2,
       "version_minor": 0
      },
      "text/plain": [
       "Validation: |                                                                             | 0/? [00:00<?, ?it/…"
      ]
     },
     "metadata": {},
     "output_type": "display_data"
    },
    {
     "data": {
      "application/vnd.jupyter.widget-view+json": {
       "model_id": "7a62c78873a84c6cb9c59dd9c8c255b1",
       "version_major": 2,
       "version_minor": 0
      },
      "text/plain": [
       "Validation: |                                                                             | 0/? [00:00<?, ?it/…"
      ]
     },
     "metadata": {},
     "output_type": "display_data"
    },
    {
     "data": {
      "application/vnd.jupyter.widget-view+json": {
       "model_id": "7797b9c9c1834098b0175478d9a8bd2a",
       "version_major": 2,
       "version_minor": 0
      },
      "text/plain": [
       "Validation: |                                                                             | 0/? [00:00<?, ?it/…"
      ]
     },
     "metadata": {},
     "output_type": "display_data"
    },
    {
     "data": {
      "application/vnd.jupyter.widget-view+json": {
       "model_id": "82c42ef98ff04a619c4789659783c13c",
       "version_major": 2,
       "version_minor": 0
      },
      "text/plain": [
       "Validation: |                                                                             | 0/? [00:00<?, ?it/…"
      ]
     },
     "metadata": {},
     "output_type": "display_data"
    },
    {
     "data": {
      "application/vnd.jupyter.widget-view+json": {
       "model_id": "1cdbd48dab2a4964b90b5a152639958a",
       "version_major": 2,
       "version_minor": 0
      },
      "text/plain": [
       "Validation: |                                                                             | 0/? [00:00<?, ?it/…"
      ]
     },
     "metadata": {},
     "output_type": "display_data"
    },
    {
     "data": {
      "application/vnd.jupyter.widget-view+json": {
       "model_id": "d4e98088148b4fc297ac3590c2ba4494",
       "version_major": 2,
       "version_minor": 0
      },
      "text/plain": [
       "Validation: |                                                                             | 0/? [00:00<?, ?it/…"
      ]
     },
     "metadata": {},
     "output_type": "display_data"
    },
    {
     "data": {
      "application/vnd.jupyter.widget-view+json": {
       "model_id": "19039d19d11d414fa5f8c147c67e8d6a",
       "version_major": 2,
       "version_minor": 0
      },
      "text/plain": [
       "Validation: |                                                                             | 0/? [00:00<?, ?it/…"
      ]
     },
     "metadata": {},
     "output_type": "display_data"
    },
    {
     "data": {
      "application/vnd.jupyter.widget-view+json": {
       "model_id": "a3bb1aac96804e7f8559e3433287eb32",
       "version_major": 2,
       "version_minor": 0
      },
      "text/plain": [
       "Validation: |                                                                             | 0/? [00:00<?, ?it/…"
      ]
     },
     "metadata": {},
     "output_type": "display_data"
    },
    {
     "data": {
      "application/vnd.jupyter.widget-view+json": {
       "model_id": "88dc44ffc00d438d9d3a5c80fad22637",
       "version_major": 2,
       "version_minor": 0
      },
      "text/plain": [
       "Validation: |                                                                             | 0/? [00:00<?, ?it/…"
      ]
     },
     "metadata": {},
     "output_type": "display_data"
    },
    {
     "data": {
      "application/vnd.jupyter.widget-view+json": {
       "model_id": "5103eb75e53e4e6bbd653fda64cccac4",
       "version_major": 2,
       "version_minor": 0
      },
      "text/plain": [
       "Validation: |                                                                             | 0/? [00:00<?, ?it/…"
      ]
     },
     "metadata": {},
     "output_type": "display_data"
    },
    {
     "data": {
      "application/vnd.jupyter.widget-view+json": {
       "model_id": "6d58f9be50a34244b499e9b7dd551328",
       "version_major": 2,
       "version_minor": 0
      },
      "text/plain": [
       "Validation: |                                                                             | 0/? [00:00<?, ?it/…"
      ]
     },
     "metadata": {},
     "output_type": "display_data"
    },
    {
     "data": {
      "application/vnd.jupyter.widget-view+json": {
       "model_id": "9953536a2635465bac07f57d2d059192",
       "version_major": 2,
       "version_minor": 0
      },
      "text/plain": [
       "Validation: |                                                                             | 0/? [00:00<?, ?it/…"
      ]
     },
     "metadata": {},
     "output_type": "display_data"
    },
    {
     "data": {
      "application/vnd.jupyter.widget-view+json": {
       "model_id": "de1ff3490d484cc28ce472f85c82016d",
       "version_major": 2,
       "version_minor": 0
      },
      "text/plain": [
       "Validation: |                                                                             | 0/? [00:00<?, ?it/…"
      ]
     },
     "metadata": {},
     "output_type": "display_data"
    },
    {
     "data": {
      "application/vnd.jupyter.widget-view+json": {
       "model_id": "3bba2b54533f4410a1a0e23db8b6e9d4",
       "version_major": 2,
       "version_minor": 0
      },
      "text/plain": [
       "Validation: |                                                                             | 0/? [00:00<?, ?it/…"
      ]
     },
     "metadata": {},
     "output_type": "display_data"
    },
    {
     "data": {
      "application/vnd.jupyter.widget-view+json": {
       "model_id": "5df5bf66bd5e421dbdd043c976238263",
       "version_major": 2,
       "version_minor": 0
      },
      "text/plain": [
       "Validation: |                                                                             | 0/? [00:00<?, ?it/…"
      ]
     },
     "metadata": {},
     "output_type": "display_data"
    },
    {
     "data": {
      "application/vnd.jupyter.widget-view+json": {
       "model_id": "fa4341ef9e0b42d99b81741a14b37aa7",
       "version_major": 2,
       "version_minor": 0
      },
      "text/plain": [
       "Validation: |                                                                             | 0/? [00:00<?, ?it/…"
      ]
     },
     "metadata": {},
     "output_type": "display_data"
    },
    {
     "data": {
      "application/vnd.jupyter.widget-view+json": {
       "model_id": "1a956efa612645af9c00ce1e588ed63c",
       "version_major": 2,
       "version_minor": 0
      },
      "text/plain": [
       "Validation: |                                                                             | 0/? [00:00<?, ?it/…"
      ]
     },
     "metadata": {},
     "output_type": "display_data"
    },
    {
     "data": {
      "application/vnd.jupyter.widget-view+json": {
       "model_id": "e9234b4278cb413db267bcb3fab3674f",
       "version_major": 2,
       "version_minor": 0
      },
      "text/plain": [
       "Validation: |                                                                             | 0/? [00:00<?, ?it/…"
      ]
     },
     "metadata": {},
     "output_type": "display_data"
    },
    {
     "data": {
      "application/vnd.jupyter.widget-view+json": {
       "model_id": "f5b74098efb04f5a9c662e7ac5d817cc",
       "version_major": 2,
       "version_minor": 0
      },
      "text/plain": [
       "Validation: |                                                                             | 0/? [00:00<?, ?it/…"
      ]
     },
     "metadata": {},
     "output_type": "display_data"
    },
    {
     "data": {
      "application/vnd.jupyter.widget-view+json": {
       "model_id": "6023e7a17d04480b9daff4b4a7acea3e",
       "version_major": 2,
       "version_minor": 0
      },
      "text/plain": [
       "Validation: |                                                                             | 0/? [00:00<?, ?it/…"
      ]
     },
     "metadata": {},
     "output_type": "display_data"
    },
    {
     "data": {
      "application/vnd.jupyter.widget-view+json": {
       "model_id": "a31bee927d504be79f7779768c5389b2",
       "version_major": 2,
       "version_minor": 0
      },
      "text/plain": [
       "Validation: |                                                                             | 0/? [00:00<?, ?it/…"
      ]
     },
     "metadata": {},
     "output_type": "display_data"
    },
    {
     "data": {
      "application/vnd.jupyter.widget-view+json": {
       "model_id": "e8167e3d28924067abced1ad2d0e3782",
       "version_major": 2,
       "version_minor": 0
      },
      "text/plain": [
       "Validation: |                                                                             | 0/? [00:00<?, ?it/…"
      ]
     },
     "metadata": {},
     "output_type": "display_data"
    },
    {
     "data": {
      "application/vnd.jupyter.widget-view+json": {
       "model_id": "6291c9ebf3544cf69d0f16781dce46e6",
       "version_major": 2,
       "version_minor": 0
      },
      "text/plain": [
       "Validation: |                                                                             | 0/? [00:00<?, ?it/…"
      ]
     },
     "metadata": {},
     "output_type": "display_data"
    },
    {
     "data": {
      "application/vnd.jupyter.widget-view+json": {
       "model_id": "5e1bf1a1da7642558812b0085008069f",
       "version_major": 2,
       "version_minor": 0
      },
      "text/plain": [
       "Validation: |                                                                             | 0/? [00:00<?, ?it/…"
      ]
     },
     "metadata": {},
     "output_type": "display_data"
    },
    {
     "data": {
      "application/vnd.jupyter.widget-view+json": {
       "model_id": "9555bbff8f904204953b59d6c1301ce0",
       "version_major": 2,
       "version_minor": 0
      },
      "text/plain": [
       "Validation: |                                                                             | 0/? [00:00<?, ?it/…"
      ]
     },
     "metadata": {},
     "output_type": "display_data"
    },
    {
     "data": {
      "application/vnd.jupyter.widget-view+json": {
       "model_id": "44d62a8b51b543bcbfc8ad5319670aaf",
       "version_major": 2,
       "version_minor": 0
      },
      "text/plain": [
       "Validation: |                                                                             | 0/? [00:00<?, ?it/…"
      ]
     },
     "metadata": {},
     "output_type": "display_data"
    },
    {
     "data": {
      "application/vnd.jupyter.widget-view+json": {
       "model_id": "2049ee462afa46fb9335782f4d5ff76a",
       "version_major": 2,
       "version_minor": 0
      },
      "text/plain": [
       "Validation: |                                                                             | 0/? [00:00<?, ?it/…"
      ]
     },
     "metadata": {},
     "output_type": "display_data"
    },
    {
     "data": {
      "application/vnd.jupyter.widget-view+json": {
       "model_id": "218ae48bdb5e42cab302b629251cd48d",
       "version_major": 2,
       "version_minor": 0
      },
      "text/plain": [
       "Validation: |                                                                             | 0/? [00:00<?, ?it/…"
      ]
     },
     "metadata": {},
     "output_type": "display_data"
    },
    {
     "data": {
      "application/vnd.jupyter.widget-view+json": {
       "model_id": "28b993c231a64605ad34ccbe1329cb12",
       "version_major": 2,
       "version_minor": 0
      },
      "text/plain": [
       "Validation: |                                                                             | 0/? [00:00<?, ?it/…"
      ]
     },
     "metadata": {},
     "output_type": "display_data"
    },
    {
     "data": {
      "application/vnd.jupyter.widget-view+json": {
       "model_id": "15639245a5144a238325d9a752acdc6c",
       "version_major": 2,
       "version_minor": 0
      },
      "text/plain": [
       "Validation: |                                                                             | 0/? [00:00<?, ?it/…"
      ]
     },
     "metadata": {},
     "output_type": "display_data"
    },
    {
     "data": {
      "application/vnd.jupyter.widget-view+json": {
       "model_id": "a85b0c0212334c21a026f72072751c02",
       "version_major": 2,
       "version_minor": 0
      },
      "text/plain": [
       "Validation: |                                                                             | 0/? [00:00<?, ?it/…"
      ]
     },
     "metadata": {},
     "output_type": "display_data"
    },
    {
     "data": {
      "application/vnd.jupyter.widget-view+json": {
       "model_id": "28dae28c425f47fb9c2c25c256586656",
       "version_major": 2,
       "version_minor": 0
      },
      "text/plain": [
       "Validation: |                                                                             | 0/? [00:00<?, ?it/…"
      ]
     },
     "metadata": {},
     "output_type": "display_data"
    },
    {
     "data": {
      "application/vnd.jupyter.widget-view+json": {
       "model_id": "e524eeee8bf440ec907e29bed075b07e",
       "version_major": 2,
       "version_minor": 0
      },
      "text/plain": [
       "Validation: |                                                                             | 0/? [00:00<?, ?it/…"
      ]
     },
     "metadata": {},
     "output_type": "display_data"
    },
    {
     "data": {
      "application/vnd.jupyter.widget-view+json": {
       "model_id": "885cfef23c5a4d40bc23c250120f6b04",
       "version_major": 2,
       "version_minor": 0
      },
      "text/plain": [
       "Validation: |                                                                             | 0/? [00:00<?, ?it/…"
      ]
     },
     "metadata": {},
     "output_type": "display_data"
    },
    {
     "data": {
      "application/vnd.jupyter.widget-view+json": {
       "model_id": "10db401251ed43b8a15df5e9acce76eb",
       "version_major": 2,
       "version_minor": 0
      },
      "text/plain": [
       "Validation: |                                                                             | 0/? [00:00<?, ?it/…"
      ]
     },
     "metadata": {},
     "output_type": "display_data"
    },
    {
     "data": {
      "application/vnd.jupyter.widget-view+json": {
       "model_id": "bcfe8e9d5f5c4a6a914ad1e12c958929",
       "version_major": 2,
       "version_minor": 0
      },
      "text/plain": [
       "Validation: |                                                                             | 0/? [00:00<?, ?it/…"
      ]
     },
     "metadata": {},
     "output_type": "display_data"
    },
    {
     "data": {
      "application/vnd.jupyter.widget-view+json": {
       "model_id": "44e96f1217e640948d036acde767a45f",
       "version_major": 2,
       "version_minor": 0
      },
      "text/plain": [
       "Validation: |                                                                             | 0/? [00:00<?, ?it/…"
      ]
     },
     "metadata": {},
     "output_type": "display_data"
    },
    {
     "data": {
      "application/vnd.jupyter.widget-view+json": {
       "model_id": "26003078c2464e54bae41d36d24888ec",
       "version_major": 2,
       "version_minor": 0
      },
      "text/plain": [
       "Validation: |                                                                             | 0/? [00:00<?, ?it/…"
      ]
     },
     "metadata": {},
     "output_type": "display_data"
    },
    {
     "data": {
      "application/vnd.jupyter.widget-view+json": {
       "model_id": "ebc1d683b7354ac9bd095b69c7a87842",
       "version_major": 2,
       "version_minor": 0
      },
      "text/plain": [
       "Validation: |                                                                             | 0/? [00:00<?, ?it/…"
      ]
     },
     "metadata": {},
     "output_type": "display_data"
    },
    {
     "data": {
      "application/vnd.jupyter.widget-view+json": {
       "model_id": "d719ec030aee4bb49d192a912ad05f6e",
       "version_major": 2,
       "version_minor": 0
      },
      "text/plain": [
       "Validation: |                                                                             | 0/? [00:00<?, ?it/…"
      ]
     },
     "metadata": {},
     "output_type": "display_data"
    },
    {
     "data": {
      "application/vnd.jupyter.widget-view+json": {
       "model_id": "fa37f6e945564790936643a02cc22e0f",
       "version_major": 2,
       "version_minor": 0
      },
      "text/plain": [
       "Validation: |                                                                             | 0/? [00:00<?, ?it/…"
      ]
     },
     "metadata": {},
     "output_type": "display_data"
    },
    {
     "data": {
      "application/vnd.jupyter.widget-view+json": {
       "model_id": "9ceee720953f4578b5b173257017afd0",
       "version_major": 2,
       "version_minor": 0
      },
      "text/plain": [
       "Validation: |                                                                             | 0/? [00:00<?, ?it/…"
      ]
     },
     "metadata": {},
     "output_type": "display_data"
    },
    {
     "data": {
      "application/vnd.jupyter.widget-view+json": {
       "model_id": "8e00add75fbd4fa296d2d54c87bb452f",
       "version_major": 2,
       "version_minor": 0
      },
      "text/plain": [
       "Validation: |                                                                             | 0/? [00:00<?, ?it/…"
      ]
     },
     "metadata": {},
     "output_type": "display_data"
    },
    {
     "data": {
      "application/vnd.jupyter.widget-view+json": {
       "model_id": "6b5568e433994d70b7646e0e2fd62237",
       "version_major": 2,
       "version_minor": 0
      },
      "text/plain": [
       "Validation: |                                                                             | 0/? [00:00<?, ?it/…"
      ]
     },
     "metadata": {},
     "output_type": "display_data"
    },
    {
     "data": {
      "application/vnd.jupyter.widget-view+json": {
       "model_id": "792794410244492da75e23cbc4bace98",
       "version_major": 2,
       "version_minor": 0
      },
      "text/plain": [
       "Validation: |                                                                             | 0/? [00:00<?, ?it/…"
      ]
     },
     "metadata": {},
     "output_type": "display_data"
    },
    {
     "data": {
      "application/vnd.jupyter.widget-view+json": {
       "model_id": "c17d1cd705df4f7fa69b762157fb8e01",
       "version_major": 2,
       "version_minor": 0
      },
      "text/plain": [
       "Validation: |                                                                             | 0/? [00:00<?, ?it/…"
      ]
     },
     "metadata": {},
     "output_type": "display_data"
    },
    {
     "data": {
      "application/vnd.jupyter.widget-view+json": {
       "model_id": "b6dc4a9f3fb34e258d1cabfa8bad92fb",
       "version_major": 2,
       "version_minor": 0
      },
      "text/plain": [
       "Validation: |                                                                             | 0/? [00:00<?, ?it/…"
      ]
     },
     "metadata": {},
     "output_type": "display_data"
    },
    {
     "data": {
      "application/vnd.jupyter.widget-view+json": {
       "model_id": "b645e0ae3df4493786bcfd54f2fa897c",
       "version_major": 2,
       "version_minor": 0
      },
      "text/plain": [
       "Validation: |                                                                             | 0/? [00:00<?, ?it/…"
      ]
     },
     "metadata": {},
     "output_type": "display_data"
    },
    {
     "data": {
      "application/vnd.jupyter.widget-view+json": {
       "model_id": "e6c01961284e48b192ec3e629ee9b885",
       "version_major": 2,
       "version_minor": 0
      },
      "text/plain": [
       "Validation: |                                                                             | 0/? [00:00<?, ?it/…"
      ]
     },
     "metadata": {},
     "output_type": "display_data"
    },
    {
     "data": {
      "application/vnd.jupyter.widget-view+json": {
       "model_id": "be0e356698f04088995c59011ec41059",
       "version_major": 2,
       "version_minor": 0
      },
      "text/plain": [
       "Validation: |                                                                             | 0/? [00:00<?, ?it/…"
      ]
     },
     "metadata": {},
     "output_type": "display_data"
    },
    {
     "data": {
      "application/vnd.jupyter.widget-view+json": {
       "model_id": "01207eccf7934918ac9184a4e44dad7e",
       "version_major": 2,
       "version_minor": 0
      },
      "text/plain": [
       "Validation: |                                                                             | 0/? [00:00<?, ?it/…"
      ]
     },
     "metadata": {},
     "output_type": "display_data"
    },
    {
     "data": {
      "application/vnd.jupyter.widget-view+json": {
       "model_id": "beae28cf69b948e0b2fdd1e8a42f7c8e",
       "version_major": 2,
       "version_minor": 0
      },
      "text/plain": [
       "Validation: |                                                                             | 0/? [00:00<?, ?it/…"
      ]
     },
     "metadata": {},
     "output_type": "display_data"
    },
    {
     "data": {
      "application/vnd.jupyter.widget-view+json": {
       "model_id": "03e819b6bf4c46d3861ce347832aa177",
       "version_major": 2,
       "version_minor": 0
      },
      "text/plain": [
       "Validation: |                                                                             | 0/? [00:00<?, ?it/…"
      ]
     },
     "metadata": {},
     "output_type": "display_data"
    },
    {
     "data": {
      "application/vnd.jupyter.widget-view+json": {
       "model_id": "658d5df07bb2416a81c335fb62d8d9cb",
       "version_major": 2,
       "version_minor": 0
      },
      "text/plain": [
       "Validation: |                                                                             | 0/? [00:00<?, ?it/…"
      ]
     },
     "metadata": {},
     "output_type": "display_data"
    },
    {
     "data": {
      "application/vnd.jupyter.widget-view+json": {
       "model_id": "bc88ed9e6e014117a15866eb3d876c11",
       "version_major": 2,
       "version_minor": 0
      },
      "text/plain": [
       "Validation: |                                                                             | 0/? [00:00<?, ?it/…"
      ]
     },
     "metadata": {},
     "output_type": "display_data"
    },
    {
     "data": {
      "application/vnd.jupyter.widget-view+json": {
       "model_id": "26901442dd384d0f9a2c0dff0817e429",
       "version_major": 2,
       "version_minor": 0
      },
      "text/plain": [
       "Validation: |                                                                             | 0/? [00:00<?, ?it/…"
      ]
     },
     "metadata": {},
     "output_type": "display_data"
    },
    {
     "data": {
      "application/vnd.jupyter.widget-view+json": {
       "model_id": "3f3385ba5b7f426da25111b61f7f190c",
       "version_major": 2,
       "version_minor": 0
      },
      "text/plain": [
       "Validation: |                                                                             | 0/? [00:00<?, ?it/…"
      ]
     },
     "metadata": {},
     "output_type": "display_data"
    },
    {
     "data": {
      "application/vnd.jupyter.widget-view+json": {
       "model_id": "15d1afe78550472a95542704c24595ee",
       "version_major": 2,
       "version_minor": 0
      },
      "text/plain": [
       "Validation: |                                                                             | 0/? [00:00<?, ?it/…"
      ]
     },
     "metadata": {},
     "output_type": "display_data"
    },
    {
     "data": {
      "application/vnd.jupyter.widget-view+json": {
       "model_id": "218000cf5b974469a3b0bf68ada65c91",
       "version_major": 2,
       "version_minor": 0
      },
      "text/plain": [
       "Validation: |                                                                             | 0/? [00:00<?, ?it/…"
      ]
     },
     "metadata": {},
     "output_type": "display_data"
    },
    {
     "data": {
      "application/vnd.jupyter.widget-view+json": {
       "model_id": "3ec2f472b1fa450cb1ed137862f10390",
       "version_major": 2,
       "version_minor": 0
      },
      "text/plain": [
       "Validation: |                                                                             | 0/? [00:00<?, ?it/…"
      ]
     },
     "metadata": {},
     "output_type": "display_data"
    },
    {
     "data": {
      "application/vnd.jupyter.widget-view+json": {
       "model_id": "aff5144b31804ead9480398c1dd513b7",
       "version_major": 2,
       "version_minor": 0
      },
      "text/plain": [
       "Validation: |                                                                             | 0/? [00:00<?, ?it/…"
      ]
     },
     "metadata": {},
     "output_type": "display_data"
    },
    {
     "data": {
      "application/vnd.jupyter.widget-view+json": {
       "model_id": "a03c858321524724b295cd5944011b96",
       "version_major": 2,
       "version_minor": 0
      },
      "text/plain": [
       "Validation: |                                                                             | 0/? [00:00<?, ?it/…"
      ]
     },
     "metadata": {},
     "output_type": "display_data"
    },
    {
     "data": {
      "application/vnd.jupyter.widget-view+json": {
       "model_id": "35abda7dfe214364bafe8a0c122a7e41",
       "version_major": 2,
       "version_minor": 0
      },
      "text/plain": [
       "Validation: |                                                                             | 0/? [00:00<?, ?it/…"
      ]
     },
     "metadata": {},
     "output_type": "display_data"
    },
    {
     "data": {
      "application/vnd.jupyter.widget-view+json": {
       "model_id": "dcc6454281ca448288af28ba73df3304",
       "version_major": 2,
       "version_minor": 0
      },
      "text/plain": [
       "Validation: |                                                                             | 0/? [00:00<?, ?it/…"
      ]
     },
     "metadata": {},
     "output_type": "display_data"
    },
    {
     "data": {
      "application/vnd.jupyter.widget-view+json": {
       "model_id": "ae59e54d7001425f8463b9fa87c815ce",
       "version_major": 2,
       "version_minor": 0
      },
      "text/plain": [
       "Validation: |                                                                             | 0/? [00:00<?, ?it/…"
      ]
     },
     "metadata": {},
     "output_type": "display_data"
    },
    {
     "data": {
      "application/vnd.jupyter.widget-view+json": {
       "model_id": "492f2af4736a4b27ae3822ce91a7709d",
       "version_major": 2,
       "version_minor": 0
      },
      "text/plain": [
       "Validation: |                                                                             | 0/? [00:00<?, ?it/…"
      ]
     },
     "metadata": {},
     "output_type": "display_data"
    },
    {
     "data": {
      "application/vnd.jupyter.widget-view+json": {
       "model_id": "1e19560f387f4e66979b1293555a86dc",
       "version_major": 2,
       "version_minor": 0
      },
      "text/plain": [
       "Validation: |                                                                             | 0/? [00:00<?, ?it/…"
      ]
     },
     "metadata": {},
     "output_type": "display_data"
    },
    {
     "data": {
      "application/vnd.jupyter.widget-view+json": {
       "model_id": "9c7bbca21fba4101b4d0173ff3216c58",
       "version_major": 2,
       "version_minor": 0
      },
      "text/plain": [
       "Validation: |                                                                             | 0/? [00:00<?, ?it/…"
      ]
     },
     "metadata": {},
     "output_type": "display_data"
    },
    {
     "data": {
      "application/vnd.jupyter.widget-view+json": {
       "model_id": "e8e0f6b2c6704ea1b7bbb1e0e58a9aec",
       "version_major": 2,
       "version_minor": 0
      },
      "text/plain": [
       "Validation: |                                                                             | 0/? [00:00<?, ?it/…"
      ]
     },
     "metadata": {},
     "output_type": "display_data"
    },
    {
     "data": {
      "application/vnd.jupyter.widget-view+json": {
       "model_id": "635ee9b6962148deacf4532642099335",
       "version_major": 2,
       "version_minor": 0
      },
      "text/plain": [
       "Validation: |                                                                             | 0/? [00:00<?, ?it/…"
      ]
     },
     "metadata": {},
     "output_type": "display_data"
    },
    {
     "data": {
      "application/vnd.jupyter.widget-view+json": {
       "model_id": "ea1dee68b9cf42ac8b5e0eb636cd399a",
       "version_major": 2,
       "version_minor": 0
      },
      "text/plain": [
       "Validation: |                                                                             | 0/? [00:00<?, ?it/…"
      ]
     },
     "metadata": {},
     "output_type": "display_data"
    },
    {
     "data": {
      "application/vnd.jupyter.widget-view+json": {
       "model_id": "55b2055206c9435a898c8c64f4b7b157",
       "version_major": 2,
       "version_minor": 0
      },
      "text/plain": [
       "Validation: |                                                                             | 0/? [00:00<?, ?it/…"
      ]
     },
     "metadata": {},
     "output_type": "display_data"
    },
    {
     "data": {
      "application/vnd.jupyter.widget-view+json": {
       "model_id": "cc9c8cae407a4df49e040d5534573167",
       "version_major": 2,
       "version_minor": 0
      },
      "text/plain": [
       "Validation: |                                                                             | 0/? [00:00<?, ?it/…"
      ]
     },
     "metadata": {},
     "output_type": "display_data"
    },
    {
     "data": {
      "application/vnd.jupyter.widget-view+json": {
       "model_id": "a12218efd5d94ae38a1aa36da2fe805c",
       "version_major": 2,
       "version_minor": 0
      },
      "text/plain": [
       "Validation: |                                                                             | 0/? [00:00<?, ?it/…"
      ]
     },
     "metadata": {},
     "output_type": "display_data"
    },
    {
     "data": {
      "application/vnd.jupyter.widget-view+json": {
       "model_id": "67e61f4ce59b4605b2fb5e2f0826e771",
       "version_major": 2,
       "version_minor": 0
      },
      "text/plain": [
       "Validation: |                                                                             | 0/? [00:00<?, ?it/…"
      ]
     },
     "metadata": {},
     "output_type": "display_data"
    },
    {
     "data": {
      "application/vnd.jupyter.widget-view+json": {
       "model_id": "28e23840eed84b018ff363daa81654bd",
       "version_major": 2,
       "version_minor": 0
      },
      "text/plain": [
       "Validation: |                                                                             | 0/? [00:00<?, ?it/…"
      ]
     },
     "metadata": {},
     "output_type": "display_data"
    },
    {
     "data": {
      "application/vnd.jupyter.widget-view+json": {
       "model_id": "a236db6a382d4a80925d6304454cf261",
       "version_major": 2,
       "version_minor": 0
      },
      "text/plain": [
       "Validation: |                                                                             | 0/? [00:00<?, ?it/…"
      ]
     },
     "metadata": {},
     "output_type": "display_data"
    },
    {
     "data": {
      "application/vnd.jupyter.widget-view+json": {
       "model_id": "27ed455a1bb64610a3a55919e10bb0ed",
       "version_major": 2,
       "version_minor": 0
      },
      "text/plain": [
       "Validation: |                                                                             | 0/? [00:00<?, ?it/…"
      ]
     },
     "metadata": {},
     "output_type": "display_data"
    },
    {
     "data": {
      "application/vnd.jupyter.widget-view+json": {
       "model_id": "dcf694fdccd44acdaf1f14b8fa321b56",
       "version_major": 2,
       "version_minor": 0
      },
      "text/plain": [
       "Validation: |                                                                             | 0/? [00:00<?, ?it/…"
      ]
     },
     "metadata": {},
     "output_type": "display_data"
    },
    {
     "data": {
      "application/vnd.jupyter.widget-view+json": {
       "model_id": "3e3b53b164454551b9b5f5aee485a11b",
       "version_major": 2,
       "version_minor": 0
      },
      "text/plain": [
       "Validation: |                                                                             | 0/? [00:00<?, ?it/…"
      ]
     },
     "metadata": {},
     "output_type": "display_data"
    },
    {
     "data": {
      "application/vnd.jupyter.widget-view+json": {
       "model_id": "df30aa7f9af54ebab8bc075aa58cd197",
       "version_major": 2,
       "version_minor": 0
      },
      "text/plain": [
       "Validation: |                                                                             | 0/? [00:00<?, ?it/…"
      ]
     },
     "metadata": {},
     "output_type": "display_data"
    },
    {
     "data": {
      "application/vnd.jupyter.widget-view+json": {
       "model_id": "eab67a6910c3483d9acbac5a0a158847",
       "version_major": 2,
       "version_minor": 0
      },
      "text/plain": [
       "Validation: |                                                                             | 0/? [00:00<?, ?it/…"
      ]
     },
     "metadata": {},
     "output_type": "display_data"
    },
    {
     "data": {
      "application/vnd.jupyter.widget-view+json": {
       "model_id": "97f8d3c8257346a0810dd0c41c0449d7",
       "version_major": 2,
       "version_minor": 0
      },
      "text/plain": [
       "Validation: |                                                                             | 0/? [00:00<?, ?it/…"
      ]
     },
     "metadata": {},
     "output_type": "display_data"
    },
    {
     "data": {
      "application/vnd.jupyter.widget-view+json": {
       "model_id": "b2d8347552c54c20bd54581a2c825fae",
       "version_major": 2,
       "version_minor": 0
      },
      "text/plain": [
       "Validation: |                                                                             | 0/? [00:00<?, ?it/…"
      ]
     },
     "metadata": {},
     "output_type": "display_data"
    },
    {
     "data": {
      "application/vnd.jupyter.widget-view+json": {
       "model_id": "3026ef6b7c594ea09b2a539b3da83cf0",
       "version_major": 2,
       "version_minor": 0
      },
      "text/plain": [
       "Validation: |                                                                             | 0/? [00:00<?, ?it/…"
      ]
     },
     "metadata": {},
     "output_type": "display_data"
    },
    {
     "data": {
      "application/vnd.jupyter.widget-view+json": {
       "model_id": "f8d9b3b5f55b4b5da016d2e867f18fd9",
       "version_major": 2,
       "version_minor": 0
      },
      "text/plain": [
       "Validation: |                                                                             | 0/? [00:00<?, ?it/…"
      ]
     },
     "metadata": {},
     "output_type": "display_data"
    },
    {
     "data": {
      "application/vnd.jupyter.widget-view+json": {
       "model_id": "031b3d4c4b4a4c928c03f6f899c919c3",
       "version_major": 2,
       "version_minor": 0
      },
      "text/plain": [
       "Validation: |                                                                             | 0/? [00:00<?, ?it/…"
      ]
     },
     "metadata": {},
     "output_type": "display_data"
    },
    {
     "data": {
      "application/vnd.jupyter.widget-view+json": {
       "model_id": "6c72b1b376a9461a8cfcbbe9393a7adc",
       "version_major": 2,
       "version_minor": 0
      },
      "text/plain": [
       "Validation: |                                                                             | 0/? [00:00<?, ?it/…"
      ]
     },
     "metadata": {},
     "output_type": "display_data"
    },
    {
     "data": {
      "application/vnd.jupyter.widget-view+json": {
       "model_id": "f330813cd1a94f1abb2bade18bf239e1",
       "version_major": 2,
       "version_minor": 0
      },
      "text/plain": [
       "Validation: |                                                                             | 0/? [00:00<?, ?it/…"
      ]
     },
     "metadata": {},
     "output_type": "display_data"
    },
    {
     "data": {
      "application/vnd.jupyter.widget-view+json": {
       "model_id": "f00b1a0907c646a8ab27313b016bce17",
       "version_major": 2,
       "version_minor": 0
      },
      "text/plain": [
       "Validation: |                                                                             | 0/? [00:00<?, ?it/…"
      ]
     },
     "metadata": {},
     "output_type": "display_data"
    },
    {
     "data": {
      "application/vnd.jupyter.widget-view+json": {
       "model_id": "f97677203e6c4dca8e15e86fe2b1c59a",
       "version_major": 2,
       "version_minor": 0
      },
      "text/plain": [
       "Validation: |                                                                             | 0/? [00:00<?, ?it/…"
      ]
     },
     "metadata": {},
     "output_type": "display_data"
    },
    {
     "data": {
      "application/vnd.jupyter.widget-view+json": {
       "model_id": "43354eaaf670485da3d1987ac0d320ce",
       "version_major": 2,
       "version_minor": 0
      },
      "text/plain": [
       "Validation: |                                                                             | 0/? [00:00<?, ?it/…"
      ]
     },
     "metadata": {},
     "output_type": "display_data"
    },
    {
     "data": {
      "application/vnd.jupyter.widget-view+json": {
       "model_id": "7e93dd62caba4eed89b277b9a8f51ca0",
       "version_major": 2,
       "version_minor": 0
      },
      "text/plain": [
       "Validation: |                                                                             | 0/? [00:00<?, ?it/…"
      ]
     },
     "metadata": {},
     "output_type": "display_data"
    },
    {
     "data": {
      "application/vnd.jupyter.widget-view+json": {
       "model_id": "c4aec79fccaa4c96994ba67d33134782",
       "version_major": 2,
       "version_minor": 0
      },
      "text/plain": [
       "Validation: |                                                                             | 0/? [00:00<?, ?it/…"
      ]
     },
     "metadata": {},
     "output_type": "display_data"
    },
    {
     "data": {
      "application/vnd.jupyter.widget-view+json": {
       "model_id": "76bef0aa145c4f1dbf5764986a378c58",
       "version_major": 2,
       "version_minor": 0
      },
      "text/plain": [
       "Validation: |                                                                             | 0/? [00:00<?, ?it/…"
      ]
     },
     "metadata": {},
     "output_type": "display_data"
    },
    {
     "data": {
      "application/vnd.jupyter.widget-view+json": {
       "model_id": "cae88e79de9f4b2ba412f3c901df631e",
       "version_major": 2,
       "version_minor": 0
      },
      "text/plain": [
       "Validation: |                                                                             | 0/? [00:00<?, ?it/…"
      ]
     },
     "metadata": {},
     "output_type": "display_data"
    },
    {
     "data": {
      "application/vnd.jupyter.widget-view+json": {
       "model_id": "a0d65069d9524b92ae9eee933269c3e5",
       "version_major": 2,
       "version_minor": 0
      },
      "text/plain": [
       "Validation: |                                                                             | 0/? [00:00<?, ?it/…"
      ]
     },
     "metadata": {},
     "output_type": "display_data"
    },
    {
     "data": {
      "application/vnd.jupyter.widget-view+json": {
       "model_id": "7d96647c5c394b5dbf2f34d088a983b1",
       "version_major": 2,
       "version_minor": 0
      },
      "text/plain": [
       "Validation: |                                                                             | 0/? [00:00<?, ?it/…"
      ]
     },
     "metadata": {},
     "output_type": "display_data"
    },
    {
     "data": {
      "application/vnd.jupyter.widget-view+json": {
       "model_id": "7eae57c73ea34cf0821541da00997a7d",
       "version_major": 2,
       "version_minor": 0
      },
      "text/plain": [
       "Validation: |                                                                             | 0/? [00:00<?, ?it/…"
      ]
     },
     "metadata": {},
     "output_type": "display_data"
    },
    {
     "data": {
      "application/vnd.jupyter.widget-view+json": {
       "model_id": "c36e79eff73d40babbcab5844a28a889",
       "version_major": 2,
       "version_minor": 0
      },
      "text/plain": [
       "Validation: |                                                                             | 0/? [00:00<?, ?it/…"
      ]
     },
     "metadata": {},
     "output_type": "display_data"
    },
    {
     "data": {
      "application/vnd.jupyter.widget-view+json": {
       "model_id": "7f1d54c871134bd0b0a8d794e328b86a",
       "version_major": 2,
       "version_minor": 0
      },
      "text/plain": [
       "Validation: |                                                                             | 0/? [00:00<?, ?it/…"
      ]
     },
     "metadata": {},
     "output_type": "display_data"
    },
    {
     "data": {
      "application/vnd.jupyter.widget-view+json": {
       "model_id": "92987623d42545f8af5b90e2c2541f29",
       "version_major": 2,
       "version_minor": 0
      },
      "text/plain": [
       "Validation: |                                                                             | 0/? [00:00<?, ?it/…"
      ]
     },
     "metadata": {},
     "output_type": "display_data"
    },
    {
     "data": {
      "application/vnd.jupyter.widget-view+json": {
       "model_id": "8ba08e6d0f3e4cc39735078f7428e613",
       "version_major": 2,
       "version_minor": 0
      },
      "text/plain": [
       "Validation: |                                                                             | 0/? [00:00<?, ?it/…"
      ]
     },
     "metadata": {},
     "output_type": "display_data"
    },
    {
     "data": {
      "application/vnd.jupyter.widget-view+json": {
       "model_id": "bf0feaac1df74cef8735a1d842920509",
       "version_major": 2,
       "version_minor": 0
      },
      "text/plain": [
       "Validation: |                                                                             | 0/? [00:00<?, ?it/…"
      ]
     },
     "metadata": {},
     "output_type": "display_data"
    },
    {
     "data": {
      "application/vnd.jupyter.widget-view+json": {
       "model_id": "ec09d07a7e904ffd9e80e828041d7a21",
       "version_major": 2,
       "version_minor": 0
      },
      "text/plain": [
       "Validation: |                                                                             | 0/? [00:00<?, ?it/…"
      ]
     },
     "metadata": {},
     "output_type": "display_data"
    },
    {
     "data": {
      "application/vnd.jupyter.widget-view+json": {
       "model_id": "ad01ee9b0ab347c296dc3898fbbd6e20",
       "version_major": 2,
       "version_minor": 0
      },
      "text/plain": [
       "Validation: |                                                                             | 0/? [00:00<?, ?it/…"
      ]
     },
     "metadata": {},
     "output_type": "display_data"
    },
    {
     "data": {
      "application/vnd.jupyter.widget-view+json": {
       "model_id": "8c4ffdeae25a4d99baa42ea1b7738f5e",
       "version_major": 2,
       "version_minor": 0
      },
      "text/plain": [
       "Validation: |                                                                             | 0/? [00:00<?, ?it/…"
      ]
     },
     "metadata": {},
     "output_type": "display_data"
    },
    {
     "data": {
      "application/vnd.jupyter.widget-view+json": {
       "model_id": "611de06abd1843d0a30fec04da2abe16",
       "version_major": 2,
       "version_minor": 0
      },
      "text/plain": [
       "Validation: |                                                                             | 0/? [00:00<?, ?it/…"
      ]
     },
     "metadata": {},
     "output_type": "display_data"
    },
    {
     "data": {
      "application/vnd.jupyter.widget-view+json": {
       "model_id": "ff5abd5265ef4810a00368b629edfa6c",
       "version_major": 2,
       "version_minor": 0
      },
      "text/plain": [
       "Validation: |                                                                             | 0/? [00:00<?, ?it/…"
      ]
     },
     "metadata": {},
     "output_type": "display_data"
    },
    {
     "data": {
      "application/vnd.jupyter.widget-view+json": {
       "model_id": "0d65c7ef954b406ebb9a25367a71a262",
       "version_major": 2,
       "version_minor": 0
      },
      "text/plain": [
       "Validation: |                                                                             | 0/? [00:00<?, ?it/…"
      ]
     },
     "metadata": {},
     "output_type": "display_data"
    },
    {
     "data": {
      "application/vnd.jupyter.widget-view+json": {
       "model_id": "615c37b344494de397b1d369188dc9a7",
       "version_major": 2,
       "version_minor": 0
      },
      "text/plain": [
       "Validation: |                                                                             | 0/? [00:00<?, ?it/…"
      ]
     },
     "metadata": {},
     "output_type": "display_data"
    },
    {
     "data": {
      "application/vnd.jupyter.widget-view+json": {
       "model_id": "80cb213b1a954fd1bbe5fe682a5835cf",
       "version_major": 2,
       "version_minor": 0
      },
      "text/plain": [
       "Validation: |                                                                             | 0/? [00:00<?, ?it/…"
      ]
     },
     "metadata": {},
     "output_type": "display_data"
    },
    {
     "data": {
      "application/vnd.jupyter.widget-view+json": {
       "model_id": "a47494ab31354ee3a72165a35c5a90d7",
       "version_major": 2,
       "version_minor": 0
      },
      "text/plain": [
       "Validation: |                                                                             | 0/? [00:00<?, ?it/…"
      ]
     },
     "metadata": {},
     "output_type": "display_data"
    },
    {
     "data": {
      "application/vnd.jupyter.widget-view+json": {
       "model_id": "e665ca4e05214df4a37bf534e59efbe9",
       "version_major": 2,
       "version_minor": 0
      },
      "text/plain": [
       "Validation: |                                                                             | 0/? [00:00<?, ?it/…"
      ]
     },
     "metadata": {},
     "output_type": "display_data"
    },
    {
     "data": {
      "application/vnd.jupyter.widget-view+json": {
       "model_id": "b6a5ea9e51f1473aa1a80ffc1815e7d0",
       "version_major": 2,
       "version_minor": 0
      },
      "text/plain": [
       "Validation: |                                                                             | 0/? [00:00<?, ?it/…"
      ]
     },
     "metadata": {},
     "output_type": "display_data"
    },
    {
     "data": {
      "application/vnd.jupyter.widget-view+json": {
       "model_id": "03eb00bd1e4947f9a210548872291e5c",
       "version_major": 2,
       "version_minor": 0
      },
      "text/plain": [
       "Validation: |                                                                             | 0/? [00:00<?, ?it/…"
      ]
     },
     "metadata": {},
     "output_type": "display_data"
    },
    {
     "data": {
      "application/vnd.jupyter.widget-view+json": {
       "model_id": "d0bec6b142ca48f6907c6e60dbac466c",
       "version_major": 2,
       "version_minor": 0
      },
      "text/plain": [
       "Validation: |                                                                             | 0/? [00:00<?, ?it/…"
      ]
     },
     "metadata": {},
     "output_type": "display_data"
    },
    {
     "data": {
      "application/vnd.jupyter.widget-view+json": {
       "model_id": "a3e52898c89f4a39ae9a7025186c6451",
       "version_major": 2,
       "version_minor": 0
      },
      "text/plain": [
       "Validation: |                                                                             | 0/? [00:00<?, ?it/…"
      ]
     },
     "metadata": {},
     "output_type": "display_data"
    },
    {
     "data": {
      "application/vnd.jupyter.widget-view+json": {
       "model_id": "f1d6bdb9ea8b404582f3cc9d5af0d188",
       "version_major": 2,
       "version_minor": 0
      },
      "text/plain": [
       "Validation: |                                                                             | 0/? [00:00<?, ?it/…"
      ]
     },
     "metadata": {},
     "output_type": "display_data"
    },
    {
     "data": {
      "application/vnd.jupyter.widget-view+json": {
       "model_id": "575ac497523c469a81e1a4440460df37",
       "version_major": 2,
       "version_minor": 0
      },
      "text/plain": [
       "Validation: |                                                                             | 0/? [00:00<?, ?it/…"
      ]
     },
     "metadata": {},
     "output_type": "display_data"
    },
    {
     "data": {
      "application/vnd.jupyter.widget-view+json": {
       "model_id": "a66f3feaf3084f2e9b40d87a6adc81eb",
       "version_major": 2,
       "version_minor": 0
      },
      "text/plain": [
       "Validation: |                                                                             | 0/? [00:00<?, ?it/…"
      ]
     },
     "metadata": {},
     "output_type": "display_data"
    },
    {
     "data": {
      "application/vnd.jupyter.widget-view+json": {
       "model_id": "52d61096d0834ffb87e6a4ec993b02cd",
       "version_major": 2,
       "version_minor": 0
      },
      "text/plain": [
       "Validation: |                                                                             | 0/? [00:00<?, ?it/…"
      ]
     },
     "metadata": {},
     "output_type": "display_data"
    },
    {
     "data": {
      "application/vnd.jupyter.widget-view+json": {
       "model_id": "e42aada0b8cf4cf681138511916bad2e",
       "version_major": 2,
       "version_minor": 0
      },
      "text/plain": [
       "Validation: |                                                                             | 0/? [00:00<?, ?it/…"
      ]
     },
     "metadata": {},
     "output_type": "display_data"
    },
    {
     "data": {
      "application/vnd.jupyter.widget-view+json": {
       "model_id": "6a5bf4f57c33422e85ef00fd55c2a1f7",
       "version_major": 2,
       "version_minor": 0
      },
      "text/plain": [
       "Validation: |                                                                             | 0/? [00:00<?, ?it/…"
      ]
     },
     "metadata": {},
     "output_type": "display_data"
    },
    {
     "data": {
      "application/vnd.jupyter.widget-view+json": {
       "model_id": "9f14ea9871bd460daca5b4f9ccc9461a",
       "version_major": 2,
       "version_minor": 0
      },
      "text/plain": [
       "Validation: |                                                                             | 0/? [00:00<?, ?it/…"
      ]
     },
     "metadata": {},
     "output_type": "display_data"
    },
    {
     "data": {
      "application/vnd.jupyter.widget-view+json": {
       "model_id": "5c22667a106b4fc09db97b9e38344777",
       "version_major": 2,
       "version_minor": 0
      },
      "text/plain": [
       "Validation: |                                                                             | 0/? [00:00<?, ?it/…"
      ]
     },
     "metadata": {},
     "output_type": "display_data"
    },
    {
     "data": {
      "application/vnd.jupyter.widget-view+json": {
       "model_id": "0a2587786e2b4338a8c6962538c540ad",
       "version_major": 2,
       "version_minor": 0
      },
      "text/plain": [
       "Validation: |                                                                             | 0/? [00:00<?, ?it/…"
      ]
     },
     "metadata": {},
     "output_type": "display_data"
    },
    {
     "data": {
      "application/vnd.jupyter.widget-view+json": {
       "model_id": "085c7461483445078cfc33bf1a47d849",
       "version_major": 2,
       "version_minor": 0
      },
      "text/plain": [
       "Validation: |                                                                             | 0/? [00:00<?, ?it/…"
      ]
     },
     "metadata": {},
     "output_type": "display_data"
    },
    {
     "data": {
      "application/vnd.jupyter.widget-view+json": {
       "model_id": "4c7a4a69a8c14d9eae65f3fb112946c7",
       "version_major": 2,
       "version_minor": 0
      },
      "text/plain": [
       "Validation: |                                                                             | 0/? [00:00<?, ?it/…"
      ]
     },
     "metadata": {},
     "output_type": "display_data"
    },
    {
     "data": {
      "application/vnd.jupyter.widget-view+json": {
       "model_id": "844324036da04ca49a7c97925d6d73d1",
       "version_major": 2,
       "version_minor": 0
      },
      "text/plain": [
       "Validation: |                                                                             | 0/? [00:00<?, ?it/…"
      ]
     },
     "metadata": {},
     "output_type": "display_data"
    },
    {
     "data": {
      "application/vnd.jupyter.widget-view+json": {
       "model_id": "000827e8af5d4b9a8905fdb038c683d1",
       "version_major": 2,
       "version_minor": 0
      },
      "text/plain": [
       "Validation: |                                                                             | 0/? [00:00<?, ?it/…"
      ]
     },
     "metadata": {},
     "output_type": "display_data"
    },
    {
     "data": {
      "application/vnd.jupyter.widget-view+json": {
       "model_id": "fe7deba4d4904e5d87820cafe60a7461",
       "version_major": 2,
       "version_minor": 0
      },
      "text/plain": [
       "Validation: |                                                                             | 0/? [00:00<?, ?it/…"
      ]
     },
     "metadata": {},
     "output_type": "display_data"
    },
    {
     "data": {
      "application/vnd.jupyter.widget-view+json": {
       "model_id": "3a956253cbe544748e668d608c868758",
       "version_major": 2,
       "version_minor": 0
      },
      "text/plain": [
       "Validation: |                                                                             | 0/? [00:00<?, ?it/…"
      ]
     },
     "metadata": {},
     "output_type": "display_data"
    },
    {
     "data": {
      "application/vnd.jupyter.widget-view+json": {
       "model_id": "212a3a7df9ae4e68bcf585087b3c6fd0",
       "version_major": 2,
       "version_minor": 0
      },
      "text/plain": [
       "Validation: |                                                                             | 0/? [00:00<?, ?it/…"
      ]
     },
     "metadata": {},
     "output_type": "display_data"
    },
    {
     "data": {
      "application/vnd.jupyter.widget-view+json": {
       "model_id": "97670bddc21949e8b5d9ea3e758f9029",
       "version_major": 2,
       "version_minor": 0
      },
      "text/plain": [
       "Validation: |                                                                             | 0/? [00:00<?, ?it/…"
      ]
     },
     "metadata": {},
     "output_type": "display_data"
    },
    {
     "data": {
      "application/vnd.jupyter.widget-view+json": {
       "model_id": "334a8a0a1e2e4942a8e45ca3a56e8cde",
       "version_major": 2,
       "version_minor": 0
      },
      "text/plain": [
       "Validation: |                                                                             | 0/? [00:00<?, ?it/…"
      ]
     },
     "metadata": {},
     "output_type": "display_data"
    },
    {
     "data": {
      "application/vnd.jupyter.widget-view+json": {
       "model_id": "de2919f7eaba4522be60cf80e4c72767",
       "version_major": 2,
       "version_minor": 0
      },
      "text/plain": [
       "Validation: |                                                                             | 0/? [00:00<?, ?it/…"
      ]
     },
     "metadata": {},
     "output_type": "display_data"
    },
    {
     "data": {
      "application/vnd.jupyter.widget-view+json": {
       "model_id": "dd056afb7c1445479a451f88b5b57293",
       "version_major": 2,
       "version_minor": 0
      },
      "text/plain": [
       "Validation: |                                                                             | 0/? [00:00<?, ?it/…"
      ]
     },
     "metadata": {},
     "output_type": "display_data"
    },
    {
     "data": {
      "application/vnd.jupyter.widget-view+json": {
       "model_id": "5df93b4011f04f48965c602080e2710d",
       "version_major": 2,
       "version_minor": 0
      },
      "text/plain": [
       "Validation: |                                                                             | 0/? [00:00<?, ?it/…"
      ]
     },
     "metadata": {},
     "output_type": "display_data"
    },
    {
     "data": {
      "application/vnd.jupyter.widget-view+json": {
       "model_id": "583ccf4e9dcf49178880da6e97c854c8",
       "version_major": 2,
       "version_minor": 0
      },
      "text/plain": [
       "Validation: |                                                                             | 0/? [00:00<?, ?it/…"
      ]
     },
     "metadata": {},
     "output_type": "display_data"
    },
    {
     "data": {
      "application/vnd.jupyter.widget-view+json": {
       "model_id": "47a72ef53a3e47c8995df7ade8c675f4",
       "version_major": 2,
       "version_minor": 0
      },
      "text/plain": [
       "Validation: |                                                                             | 0/? [00:00<?, ?it/…"
      ]
     },
     "metadata": {},
     "output_type": "display_data"
    },
    {
     "data": {
      "application/vnd.jupyter.widget-view+json": {
       "model_id": "a242e20fc449464b8a8518f332fcc694",
       "version_major": 2,
       "version_minor": 0
      },
      "text/plain": [
       "Validation: |                                                                             | 0/? [00:00<?, ?it/…"
      ]
     },
     "metadata": {},
     "output_type": "display_data"
    },
    {
     "data": {
      "application/vnd.jupyter.widget-view+json": {
       "model_id": "8a19fbefd2594620b69487da37456823",
       "version_major": 2,
       "version_minor": 0
      },
      "text/plain": [
       "Validation: |                                                                             | 0/? [00:00<?, ?it/…"
      ]
     },
     "metadata": {},
     "output_type": "display_data"
    },
    {
     "data": {
      "application/vnd.jupyter.widget-view+json": {
       "model_id": "bf86c8df2c554da0a5133b1dc050abef",
       "version_major": 2,
       "version_minor": 0
      },
      "text/plain": [
       "Validation: |                                                                             | 0/? [00:00<?, ?it/…"
      ]
     },
     "metadata": {},
     "output_type": "display_data"
    },
    {
     "data": {
      "application/vnd.jupyter.widget-view+json": {
       "model_id": "d6c1f1480a2a49b6bbc981e8b808bc7d",
       "version_major": 2,
       "version_minor": 0
      },
      "text/plain": [
       "Validation: |                                                                             | 0/? [00:00<?, ?it/…"
      ]
     },
     "metadata": {},
     "output_type": "display_data"
    },
    {
     "data": {
      "application/vnd.jupyter.widget-view+json": {
       "model_id": "0fde411859d44dad87c8e67c9089645e",
       "version_major": 2,
       "version_minor": 0
      },
      "text/plain": [
       "Validation: |                                                                             | 0/? [00:00<?, ?it/…"
      ]
     },
     "metadata": {},
     "output_type": "display_data"
    },
    {
     "data": {
      "application/vnd.jupyter.widget-view+json": {
       "model_id": "e1d14a61b0d34615907f996a4b715ced",
       "version_major": 2,
       "version_minor": 0
      },
      "text/plain": [
       "Validation: |                                                                             | 0/? [00:00<?, ?it/…"
      ]
     },
     "metadata": {},
     "output_type": "display_data"
    },
    {
     "data": {
      "application/vnd.jupyter.widget-view+json": {
       "model_id": "e2295bed6f25437790f1b34ecd92491d",
       "version_major": 2,
       "version_minor": 0
      },
      "text/plain": [
       "Validation: |                                                                             | 0/? [00:00<?, ?it/…"
      ]
     },
     "metadata": {},
     "output_type": "display_data"
    },
    {
     "data": {
      "application/vnd.jupyter.widget-view+json": {
       "model_id": "9f76c8405edc43bfaea9261318bebcbc",
       "version_major": 2,
       "version_minor": 0
      },
      "text/plain": [
       "Validation: |                                                                             | 0/? [00:00<?, ?it/…"
      ]
     },
     "metadata": {},
     "output_type": "display_data"
    },
    {
     "data": {
      "application/vnd.jupyter.widget-view+json": {
       "model_id": "f8909083640e41cb9dc5a91d0092456a",
       "version_major": 2,
       "version_minor": 0
      },
      "text/plain": [
       "Validation: |                                                                             | 0/? [00:00<?, ?it/…"
      ]
     },
     "metadata": {},
     "output_type": "display_data"
    },
    {
     "data": {
      "application/vnd.jupyter.widget-view+json": {
       "model_id": "c8ed0897c974411fbb0c2793a4a66162",
       "version_major": 2,
       "version_minor": 0
      },
      "text/plain": [
       "Validation: |                                                                             | 0/? [00:00<?, ?it/…"
      ]
     },
     "metadata": {},
     "output_type": "display_data"
    },
    {
     "data": {
      "application/vnd.jupyter.widget-view+json": {
       "model_id": "7bbb1619f7ca47039fa39fa858e40b03",
       "version_major": 2,
       "version_minor": 0
      },
      "text/plain": [
       "Validation: |                                                                             | 0/? [00:00<?, ?it/…"
      ]
     },
     "metadata": {},
     "output_type": "display_data"
    },
    {
     "data": {
      "application/vnd.jupyter.widget-view+json": {
       "model_id": "8a62d162859843aeb0f7ade03196bbea",
       "version_major": 2,
       "version_minor": 0
      },
      "text/plain": [
       "Validation: |                                                                             | 0/? [00:00<?, ?it/…"
      ]
     },
     "metadata": {},
     "output_type": "display_data"
    },
    {
     "data": {
      "application/vnd.jupyter.widget-view+json": {
       "model_id": "1cada7e0878643a7ad907546779e050d",
       "version_major": 2,
       "version_minor": 0
      },
      "text/plain": [
       "Validation: |                                                                             | 0/? [00:00<?, ?it/…"
      ]
     },
     "metadata": {},
     "output_type": "display_data"
    },
    {
     "data": {
      "application/vnd.jupyter.widget-view+json": {
       "model_id": "aef066b1dde340a599f4e6f533618fb1",
       "version_major": 2,
       "version_minor": 0
      },
      "text/plain": [
       "Validation: |                                                                             | 0/? [00:00<?, ?it/…"
      ]
     },
     "metadata": {},
     "output_type": "display_data"
    },
    {
     "data": {
      "application/vnd.jupyter.widget-view+json": {
       "model_id": "09e494c4bfc1441f8fbdae17bac7eed9",
       "version_major": 2,
       "version_minor": 0
      },
      "text/plain": [
       "Validation: |                                                                             | 0/? [00:00<?, ?it/…"
      ]
     },
     "metadata": {},
     "output_type": "display_data"
    },
    {
     "data": {
      "application/vnd.jupyter.widget-view+json": {
       "model_id": "27e25057b01f4d778f0582d3c085153c",
       "version_major": 2,
       "version_minor": 0
      },
      "text/plain": [
       "Validation: |                                                                             | 0/? [00:00<?, ?it/…"
      ]
     },
     "metadata": {},
     "output_type": "display_data"
    },
    {
     "data": {
      "application/vnd.jupyter.widget-view+json": {
       "model_id": "bf0f3eeaf0a848efba35c9b4be0d26ea",
       "version_major": 2,
       "version_minor": 0
      },
      "text/plain": [
       "Validation: |                                                                             | 0/? [00:00<?, ?it/…"
      ]
     },
     "metadata": {},
     "output_type": "display_data"
    },
    {
     "data": {
      "application/vnd.jupyter.widget-view+json": {
       "model_id": "3994f674644641d4ad9f65d2991cd4ca",
       "version_major": 2,
       "version_minor": 0
      },
      "text/plain": [
       "Validation: |                                                                             | 0/? [00:00<?, ?it/…"
      ]
     },
     "metadata": {},
     "output_type": "display_data"
    },
    {
     "data": {
      "application/vnd.jupyter.widget-view+json": {
       "model_id": "bb4de497f0ea4a0a80c7c88d0a149ff1",
       "version_major": 2,
       "version_minor": 0
      },
      "text/plain": [
       "Validation: |                                                                             | 0/? [00:00<?, ?it/…"
      ]
     },
     "metadata": {},
     "output_type": "display_data"
    },
    {
     "data": {
      "application/vnd.jupyter.widget-view+json": {
       "model_id": "8744c17745034f6c933f6bfe9b12b65a",
       "version_major": 2,
       "version_minor": 0
      },
      "text/plain": [
       "Validation: |                                                                             | 0/? [00:00<?, ?it/…"
      ]
     },
     "metadata": {},
     "output_type": "display_data"
    },
    {
     "data": {
      "application/vnd.jupyter.widget-view+json": {
       "model_id": "122a64c0382a43c58dd970a1e8e6639e",
       "version_major": 2,
       "version_minor": 0
      },
      "text/plain": [
       "Validation: |                                                                             | 0/? [00:00<?, ?it/…"
      ]
     },
     "metadata": {},
     "output_type": "display_data"
    },
    {
     "data": {
      "application/vnd.jupyter.widget-view+json": {
       "model_id": "e90a1e6b8ea7449d9c9560a316cd915a",
       "version_major": 2,
       "version_minor": 0
      },
      "text/plain": [
       "Validation: |                                                                             | 0/? [00:00<?, ?it/…"
      ]
     },
     "metadata": {},
     "output_type": "display_data"
    },
    {
     "data": {
      "application/vnd.jupyter.widget-view+json": {
       "model_id": "7f95af4b6343497485c012b744f6c29d",
       "version_major": 2,
       "version_minor": 0
      },
      "text/plain": [
       "Validation: |                                                                             | 0/? [00:00<?, ?it/…"
      ]
     },
     "metadata": {},
     "output_type": "display_data"
    },
    {
     "data": {
      "application/vnd.jupyter.widget-view+json": {
       "model_id": "22e84cfcd44746fd9da204094b4f4b44",
       "version_major": 2,
       "version_minor": 0
      },
      "text/plain": [
       "Validation: |                                                                             | 0/? [00:00<?, ?it/…"
      ]
     },
     "metadata": {},
     "output_type": "display_data"
    },
    {
     "data": {
      "application/vnd.jupyter.widget-view+json": {
       "model_id": "7a319bcb8b0d4ed8ab7adca80565ecda",
       "version_major": 2,
       "version_minor": 0
      },
      "text/plain": [
       "Validation: |                                                                             | 0/? [00:00<?, ?it/…"
      ]
     },
     "metadata": {},
     "output_type": "display_data"
    },
    {
     "data": {
      "application/vnd.jupyter.widget-view+json": {
       "model_id": "c99d5e2263d94ac4bf616a0adbcda83c",
       "version_major": 2,
       "version_minor": 0
      },
      "text/plain": [
       "Validation: |                                                                             | 0/? [00:00<?, ?it/…"
      ]
     },
     "metadata": {},
     "output_type": "display_data"
    },
    {
     "data": {
      "application/vnd.jupyter.widget-view+json": {
       "model_id": "36552b54112a486eb5179f1d622ff0a8",
       "version_major": 2,
       "version_minor": 0
      },
      "text/plain": [
       "Validation: |                                                                             | 0/? [00:00<?, ?it/…"
      ]
     },
     "metadata": {},
     "output_type": "display_data"
    },
    {
     "data": {
      "application/vnd.jupyter.widget-view+json": {
       "model_id": "0b1bbdf88cee4cbca1c5952bc98ae3d0",
       "version_major": 2,
       "version_minor": 0
      },
      "text/plain": [
       "Validation: |                                                                             | 0/? [00:00<?, ?it/…"
      ]
     },
     "metadata": {},
     "output_type": "display_data"
    },
    {
     "data": {
      "application/vnd.jupyter.widget-view+json": {
       "model_id": "1aa4690bee974b589749e3e86a878988",
       "version_major": 2,
       "version_minor": 0
      },
      "text/plain": [
       "Validation: |                                                                             | 0/? [00:00<?, ?it/…"
      ]
     },
     "metadata": {},
     "output_type": "display_data"
    },
    {
     "data": {
      "application/vnd.jupyter.widget-view+json": {
       "model_id": "e2e9c2d6295145a991e5175987686b4a",
       "version_major": 2,
       "version_minor": 0
      },
      "text/plain": [
       "Validation: |                                                                             | 0/? [00:00<?, ?it/…"
      ]
     },
     "metadata": {},
     "output_type": "display_data"
    },
    {
     "data": {
      "application/vnd.jupyter.widget-view+json": {
       "model_id": "617329c4509644eba32566781792caf7",
       "version_major": 2,
       "version_minor": 0
      },
      "text/plain": [
       "Validation: |                                                                             | 0/? [00:00<?, ?it/…"
      ]
     },
     "metadata": {},
     "output_type": "display_data"
    },
    {
     "data": {
      "application/vnd.jupyter.widget-view+json": {
       "model_id": "e25b12faf6b04668a1bef137768389b6",
       "version_major": 2,
       "version_minor": 0
      },
      "text/plain": [
       "Validation: |                                                                             | 0/? [00:00<?, ?it/…"
      ]
     },
     "metadata": {},
     "output_type": "display_data"
    },
    {
     "data": {
      "application/vnd.jupyter.widget-view+json": {
       "model_id": "59e8b7e87559448a92e2d8e627ece936",
       "version_major": 2,
       "version_minor": 0
      },
      "text/plain": [
       "Validation: |                                                                             | 0/? [00:00<?, ?it/…"
      ]
     },
     "metadata": {},
     "output_type": "display_data"
    },
    {
     "data": {
      "application/vnd.jupyter.widget-view+json": {
       "model_id": "617a631952064fedb919e6838f7005d8",
       "version_major": 2,
       "version_minor": 0
      },
      "text/plain": [
       "Validation: |                                                                             | 0/? [00:00<?, ?it/…"
      ]
     },
     "metadata": {},
     "output_type": "display_data"
    },
    {
     "data": {
      "application/vnd.jupyter.widget-view+json": {
       "model_id": "6dd268b61d824097a270fd48edb246c2",
       "version_major": 2,
       "version_minor": 0
      },
      "text/plain": [
       "Validation: |                                                                             | 0/? [00:00<?, ?it/…"
      ]
     },
     "metadata": {},
     "output_type": "display_data"
    },
    {
     "data": {
      "application/vnd.jupyter.widget-view+json": {
       "model_id": "3f4c7ee7103a43feb4d4698ee06c72c9",
       "version_major": 2,
       "version_minor": 0
      },
      "text/plain": [
       "Validation: |                                                                             | 0/? [00:00<?, ?it/…"
      ]
     },
     "metadata": {},
     "output_type": "display_data"
    },
    {
     "data": {
      "application/vnd.jupyter.widget-view+json": {
       "model_id": "834272291ba94d4786fe0bf2f50c7862",
       "version_major": 2,
       "version_minor": 0
      },
      "text/plain": [
       "Validation: |                                                                             | 0/? [00:00<?, ?it/…"
      ]
     },
     "metadata": {},
     "output_type": "display_data"
    },
    {
     "data": {
      "application/vnd.jupyter.widget-view+json": {
       "model_id": "6247242fed454089a87be76a9ff2dcc2",
       "version_major": 2,
       "version_minor": 0
      },
      "text/plain": [
       "Validation: |                                                                             | 0/? [00:00<?, ?it/…"
      ]
     },
     "metadata": {},
     "output_type": "display_data"
    },
    {
     "data": {
      "application/vnd.jupyter.widget-view+json": {
       "model_id": "afe67f31834f490abbc45478282b58bb",
       "version_major": 2,
       "version_minor": 0
      },
      "text/plain": [
       "Validation: |                                                                             | 0/? [00:00<?, ?it/…"
      ]
     },
     "metadata": {},
     "output_type": "display_data"
    },
    {
     "data": {
      "application/vnd.jupyter.widget-view+json": {
       "model_id": "269f4d5195bb4e50b37eff7957a6e116",
       "version_major": 2,
       "version_minor": 0
      },
      "text/plain": [
       "Validation: |                                                                             | 0/? [00:00<?, ?it/…"
      ]
     },
     "metadata": {},
     "output_type": "display_data"
    },
    {
     "data": {
      "application/vnd.jupyter.widget-view+json": {
       "model_id": "cfefe0bb8c304edb98fb69770851c9ea",
       "version_major": 2,
       "version_minor": 0
      },
      "text/plain": [
       "Validation: |                                                                             | 0/? [00:00<?, ?it/…"
      ]
     },
     "metadata": {},
     "output_type": "display_data"
    },
    {
     "data": {
      "application/vnd.jupyter.widget-view+json": {
       "model_id": "a673c97286c840c4b83c9267dbb8b459",
       "version_major": 2,
       "version_minor": 0
      },
      "text/plain": [
       "Validation: |                                                                             | 0/? [00:00<?, ?it/…"
      ]
     },
     "metadata": {},
     "output_type": "display_data"
    },
    {
     "data": {
      "application/vnd.jupyter.widget-view+json": {
       "model_id": "4573f3a27276404996db0c394da9f8ca",
       "version_major": 2,
       "version_minor": 0
      },
      "text/plain": [
       "Validation: |                                                                             | 0/? [00:00<?, ?it/…"
      ]
     },
     "metadata": {},
     "output_type": "display_data"
    },
    {
     "data": {
      "application/vnd.jupyter.widget-view+json": {
       "model_id": "bca4232bffc84b9a86f6829ead9554c5",
       "version_major": 2,
       "version_minor": 0
      },
      "text/plain": [
       "Validation: |                                                                             | 0/? [00:00<?, ?it/…"
      ]
     },
     "metadata": {},
     "output_type": "display_data"
    },
    {
     "data": {
      "application/vnd.jupyter.widget-view+json": {
       "model_id": "d688b63a2a224f4db3ce5b19b7f978f1",
       "version_major": 2,
       "version_minor": 0
      },
      "text/plain": [
       "Validation: |                                                                             | 0/? [00:00<?, ?it/…"
      ]
     },
     "metadata": {},
     "output_type": "display_data"
    },
    {
     "data": {
      "application/vnd.jupyter.widget-view+json": {
       "model_id": "35e604cf17aa4a75ae5f5ab408745533",
       "version_major": 2,
       "version_minor": 0
      },
      "text/plain": [
       "Validation: |                                                                             | 0/? [00:00<?, ?it/…"
      ]
     },
     "metadata": {},
     "output_type": "display_data"
    },
    {
     "data": {
      "application/vnd.jupyter.widget-view+json": {
       "model_id": "50eea433066d41f58d62d4649bd68740",
       "version_major": 2,
       "version_minor": 0
      },
      "text/plain": [
       "Validation: |                                                                             | 0/? [00:00<?, ?it/…"
      ]
     },
     "metadata": {},
     "output_type": "display_data"
    },
    {
     "data": {
      "application/vnd.jupyter.widget-view+json": {
       "model_id": "a8d44316b6244367b9d3537191ffdebc",
       "version_major": 2,
       "version_minor": 0
      },
      "text/plain": [
       "Validation: |                                                                             | 0/? [00:00<?, ?it/…"
      ]
     },
     "metadata": {},
     "output_type": "display_data"
    },
    {
     "data": {
      "application/vnd.jupyter.widget-view+json": {
       "model_id": "b7507eb899f64380958f223335658513",
       "version_major": 2,
       "version_minor": 0
      },
      "text/plain": [
       "Validation: |                                                                             | 0/? [00:00<?, ?it/…"
      ]
     },
     "metadata": {},
     "output_type": "display_data"
    },
    {
     "data": {
      "application/vnd.jupyter.widget-view+json": {
       "model_id": "9f16d4f89b684d4d80f03ead1d44cf99",
       "version_major": 2,
       "version_minor": 0
      },
      "text/plain": [
       "Validation: |                                                                             | 0/? [00:00<?, ?it/…"
      ]
     },
     "metadata": {},
     "output_type": "display_data"
    },
    {
     "data": {
      "application/vnd.jupyter.widget-view+json": {
       "model_id": "1d5497d236b14a23af0131934ddb67ec",
       "version_major": 2,
       "version_minor": 0
      },
      "text/plain": [
       "Validation: |                                                                             | 0/? [00:00<?, ?it/…"
      ]
     },
     "metadata": {},
     "output_type": "display_data"
    },
    {
     "data": {
      "application/vnd.jupyter.widget-view+json": {
       "model_id": "0e91b79d93bd4f04b3515ce6cba79e1f",
       "version_major": 2,
       "version_minor": 0
      },
      "text/plain": [
       "Validation: |                                                                             | 0/? [00:00<?, ?it/…"
      ]
     },
     "metadata": {},
     "output_type": "display_data"
    },
    {
     "data": {
      "application/vnd.jupyter.widget-view+json": {
       "model_id": "9446c0faefd64b81a19b2fb0f4d35cfb",
       "version_major": 2,
       "version_minor": 0
      },
      "text/plain": [
       "Validation: |                                                                             | 0/? [00:00<?, ?it/…"
      ]
     },
     "metadata": {},
     "output_type": "display_data"
    },
    {
     "data": {
      "application/vnd.jupyter.widget-view+json": {
       "model_id": "8f4a558d5ecd456b913bcfea8816bfdb",
       "version_major": 2,
       "version_minor": 0
      },
      "text/plain": [
       "Validation: |                                                                             | 0/? [00:00<?, ?it/…"
      ]
     },
     "metadata": {},
     "output_type": "display_data"
    },
    {
     "data": {
      "application/vnd.jupyter.widget-view+json": {
       "model_id": "dce9b4c2d5914080ae0f0039adb7ce7b",
       "version_major": 2,
       "version_minor": 0
      },
      "text/plain": [
       "Validation: |                                                                             | 0/? [00:00<?, ?it/…"
      ]
     },
     "metadata": {},
     "output_type": "display_data"
    },
    {
     "data": {
      "application/vnd.jupyter.widget-view+json": {
       "model_id": "337354e644de4c2eaa68f225574183ad",
       "version_major": 2,
       "version_minor": 0
      },
      "text/plain": [
       "Validation: |                                                                             | 0/? [00:00<?, ?it/…"
      ]
     },
     "metadata": {},
     "output_type": "display_data"
    },
    {
     "data": {
      "application/vnd.jupyter.widget-view+json": {
       "model_id": "8fd6614eb29447ad9d542892ab83746e",
       "version_major": 2,
       "version_minor": 0
      },
      "text/plain": [
       "Validation: |                                                                             | 0/? [00:00<?, ?it/…"
      ]
     },
     "metadata": {},
     "output_type": "display_data"
    },
    {
     "data": {
      "application/vnd.jupyter.widget-view+json": {
       "model_id": "8d0bfbb7af42424b994fa4557d723392",
       "version_major": 2,
       "version_minor": 0
      },
      "text/plain": [
       "Validation: |                                                                             | 0/? [00:00<?, ?it/…"
      ]
     },
     "metadata": {},
     "output_type": "display_data"
    },
    {
     "data": {
      "application/vnd.jupyter.widget-view+json": {
       "model_id": "1c590e8335d44963a818d14d5909dbf2",
       "version_major": 2,
       "version_minor": 0
      },
      "text/plain": [
       "Validation: |                                                                             | 0/? [00:00<?, ?it/…"
      ]
     },
     "metadata": {},
     "output_type": "display_data"
    },
    {
     "data": {
      "application/vnd.jupyter.widget-view+json": {
       "model_id": "d57a41a9e32c40b6abf48c5d18c7bf5d",
       "version_major": 2,
       "version_minor": 0
      },
      "text/plain": [
       "Validation: |                                                                             | 0/? [00:00<?, ?it/…"
      ]
     },
     "metadata": {},
     "output_type": "display_data"
    },
    {
     "data": {
      "application/vnd.jupyter.widget-view+json": {
       "model_id": "4b2ba3a7be7d4feca7983eb744f42e19",
       "version_major": 2,
       "version_minor": 0
      },
      "text/plain": [
       "Validation: |                                                                             | 0/? [00:00<?, ?it/…"
      ]
     },
     "metadata": {},
     "output_type": "display_data"
    },
    {
     "data": {
      "application/vnd.jupyter.widget-view+json": {
       "model_id": "442dd41eff634f5588ac8c627b90512a",
       "version_major": 2,
       "version_minor": 0
      },
      "text/plain": [
       "Validation: |                                                                             | 0/? [00:00<?, ?it/…"
      ]
     },
     "metadata": {},
     "output_type": "display_data"
    },
    {
     "data": {
      "application/vnd.jupyter.widget-view+json": {
       "model_id": "7ec0dcdd907546d7a081b8bee43e4972",
       "version_major": 2,
       "version_minor": 0
      },
      "text/plain": [
       "Validation: |                                                                             | 0/? [00:00<?, ?it/…"
      ]
     },
     "metadata": {},
     "output_type": "display_data"
    },
    {
     "data": {
      "application/vnd.jupyter.widget-view+json": {
       "model_id": "353c85a4a779462cb2c6f60183090b8b",
       "version_major": 2,
       "version_minor": 0
      },
      "text/plain": [
       "Validation: |                                                                             | 0/? [00:00<?, ?it/…"
      ]
     },
     "metadata": {},
     "output_type": "display_data"
    },
    {
     "data": {
      "application/vnd.jupyter.widget-view+json": {
       "model_id": "c2ac361a38d443d59092084cc18e17d4",
       "version_major": 2,
       "version_minor": 0
      },
      "text/plain": [
       "Validation: |                                                                             | 0/? [00:00<?, ?it/…"
      ]
     },
     "metadata": {},
     "output_type": "display_data"
    },
    {
     "data": {
      "application/vnd.jupyter.widget-view+json": {
       "model_id": "318be51d7ffc420a92dcdb2e61b25149",
       "version_major": 2,
       "version_minor": 0
      },
      "text/plain": [
       "Validation: |                                                                             | 0/? [00:00<?, ?it/…"
      ]
     },
     "metadata": {},
     "output_type": "display_data"
    },
    {
     "data": {
      "application/vnd.jupyter.widget-view+json": {
       "model_id": "24adacb9bb4f40fea2a88b0788d909f0",
       "version_major": 2,
       "version_minor": 0
      },
      "text/plain": [
       "Validation: |                                                                             | 0/? [00:00<?, ?it/…"
      ]
     },
     "metadata": {},
     "output_type": "display_data"
    },
    {
     "data": {
      "application/vnd.jupyter.widget-view+json": {
       "model_id": "288bd8402b3c4009ab1a347f7c4b4caf",
       "version_major": 2,
       "version_minor": 0
      },
      "text/plain": [
       "Validation: |                                                                             | 0/? [00:00<?, ?it/…"
      ]
     },
     "metadata": {},
     "output_type": "display_data"
    },
    {
     "data": {
      "application/vnd.jupyter.widget-view+json": {
       "model_id": "377a4e75cd9d4e13b73578a42240df8a",
       "version_major": 2,
       "version_minor": 0
      },
      "text/plain": [
       "Validation: |                                                                             | 0/? [00:00<?, ?it/…"
      ]
     },
     "metadata": {},
     "output_type": "display_data"
    },
    {
     "data": {
      "application/vnd.jupyter.widget-view+json": {
       "model_id": "a6c3ff2d1859460daeadde30b2ced646",
       "version_major": 2,
       "version_minor": 0
      },
      "text/plain": [
       "Validation: |                                                                             | 0/? [00:00<?, ?it/…"
      ]
     },
     "metadata": {},
     "output_type": "display_data"
    },
    {
     "data": {
      "application/vnd.jupyter.widget-view+json": {
       "model_id": "7dcfaa3b50df451282d2594e76399850",
       "version_major": 2,
       "version_minor": 0
      },
      "text/plain": [
       "Validation: |                                                                             | 0/? [00:00<?, ?it/…"
      ]
     },
     "metadata": {},
     "output_type": "display_data"
    },
    {
     "data": {
      "application/vnd.jupyter.widget-view+json": {
       "model_id": "8816a0dcc97e43819a4d3252361ccf75",
       "version_major": 2,
       "version_minor": 0
      },
      "text/plain": [
       "Validation: |                                                                             | 0/? [00:00<?, ?it/…"
      ]
     },
     "metadata": {},
     "output_type": "display_data"
    },
    {
     "data": {
      "application/vnd.jupyter.widget-view+json": {
       "model_id": "40f0ae85538c464d8b5156a7676939a8",
       "version_major": 2,
       "version_minor": 0
      },
      "text/plain": [
       "Validation: |                                                                             | 0/? [00:00<?, ?it/…"
      ]
     },
     "metadata": {},
     "output_type": "display_data"
    },
    {
     "data": {
      "application/vnd.jupyter.widget-view+json": {
       "model_id": "6d87af15ec7e44c5953fa23e03437f1f",
       "version_major": 2,
       "version_minor": 0
      },
      "text/plain": [
       "Validation: |                                                                             | 0/? [00:00<?, ?it/…"
      ]
     },
     "metadata": {},
     "output_type": "display_data"
    },
    {
     "data": {
      "application/vnd.jupyter.widget-view+json": {
       "model_id": "39bcb937417c4fd79a4862a52499f1f7",
       "version_major": 2,
       "version_minor": 0
      },
      "text/plain": [
       "Validation: |                                                                             | 0/? [00:00<?, ?it/…"
      ]
     },
     "metadata": {},
     "output_type": "display_data"
    },
    {
     "data": {
      "application/vnd.jupyter.widget-view+json": {
       "model_id": "8efcaa8193b04c26853720e5cad5a559",
       "version_major": 2,
       "version_minor": 0
      },
      "text/plain": [
       "Validation: |                                                                             | 0/? [00:00<?, ?it/…"
      ]
     },
     "metadata": {},
     "output_type": "display_data"
    },
    {
     "data": {
      "application/vnd.jupyter.widget-view+json": {
       "model_id": "f4ed7cdcb0c34f1f9ac8a67fc034ee5f",
       "version_major": 2,
       "version_minor": 0
      },
      "text/plain": [
       "Validation: |                                                                             | 0/? [00:00<?, ?it/…"
      ]
     },
     "metadata": {},
     "output_type": "display_data"
    },
    {
     "data": {
      "application/vnd.jupyter.widget-view+json": {
       "model_id": "2b69bde65df64a1eae259497d012587b",
       "version_major": 2,
       "version_minor": 0
      },
      "text/plain": [
       "Validation: |                                                                             | 0/? [00:00<?, ?it/…"
      ]
     },
     "metadata": {},
     "output_type": "display_data"
    },
    {
     "data": {
      "application/vnd.jupyter.widget-view+json": {
       "model_id": "fa1c0386c2fd4fe5b19e7133d3c47b16",
       "version_major": 2,
       "version_minor": 0
      },
      "text/plain": [
       "Validation: |                                                                             | 0/? [00:00<?, ?it/…"
      ]
     },
     "metadata": {},
     "output_type": "display_data"
    },
    {
     "data": {
      "application/vnd.jupyter.widget-view+json": {
       "model_id": "9b718d5862b544f9a5b73e0352927744",
       "version_major": 2,
       "version_minor": 0
      },
      "text/plain": [
       "Validation: |                                                                             | 0/? [00:00<?, ?it/…"
      ]
     },
     "metadata": {},
     "output_type": "display_data"
    },
    {
     "data": {
      "application/vnd.jupyter.widget-view+json": {
       "model_id": "7d2197d6aee745d4a43422163c7353cb",
       "version_major": 2,
       "version_minor": 0
      },
      "text/plain": [
       "Validation: |                                                                             | 0/? [00:00<?, ?it/…"
      ]
     },
     "metadata": {},
     "output_type": "display_data"
    },
    {
     "data": {
      "application/vnd.jupyter.widget-view+json": {
       "model_id": "da5cd7b623654556aa8c44b1d91efbfb",
       "version_major": 2,
       "version_minor": 0
      },
      "text/plain": [
       "Validation: |                                                                             | 0/? [00:00<?, ?it/…"
      ]
     },
     "metadata": {},
     "output_type": "display_data"
    },
    {
     "data": {
      "application/vnd.jupyter.widget-view+json": {
       "model_id": "bb9c8a9d754a4afd88a29dcd5ebe0a04",
       "version_major": 2,
       "version_minor": 0
      },
      "text/plain": [
       "Validation: |                                                                             | 0/? [00:00<?, ?it/…"
      ]
     },
     "metadata": {},
     "output_type": "display_data"
    },
    {
     "data": {
      "application/vnd.jupyter.widget-view+json": {
       "model_id": "0a357d74d7c242f5a270a4d3d4b55b96",
       "version_major": 2,
       "version_minor": 0
      },
      "text/plain": [
       "Validation: |                                                                             | 0/? [00:00<?, ?it/…"
      ]
     },
     "metadata": {},
     "output_type": "display_data"
    },
    {
     "data": {
      "application/vnd.jupyter.widget-view+json": {
       "model_id": "8370c72ed1e44898a43c6166d57a022b",
       "version_major": 2,
       "version_minor": 0
      },
      "text/plain": [
       "Validation: |                                                                             | 0/? [00:00<?, ?it/…"
      ]
     },
     "metadata": {},
     "output_type": "display_data"
    },
    {
     "data": {
      "application/vnd.jupyter.widget-view+json": {
       "model_id": "011c9da6194549ce97bd7548715e3a04",
       "version_major": 2,
       "version_minor": 0
      },
      "text/plain": [
       "Validation: |                                                                             | 0/? [00:00<?, ?it/…"
      ]
     },
     "metadata": {},
     "output_type": "display_data"
    },
    {
     "data": {
      "application/vnd.jupyter.widget-view+json": {
       "model_id": "fcd03c0359c342d990604c5d10c0bd44",
       "version_major": 2,
       "version_minor": 0
      },
      "text/plain": [
       "Validation: |                                                                             | 0/? [00:00<?, ?it/…"
      ]
     },
     "metadata": {},
     "output_type": "display_data"
    },
    {
     "data": {
      "application/vnd.jupyter.widget-view+json": {
       "model_id": "9a3054cbc90b4ed48c78d840c8162abf",
       "version_major": 2,
       "version_minor": 0
      },
      "text/plain": [
       "Validation: |                                                                             | 0/? [00:00<?, ?it/…"
      ]
     },
     "metadata": {},
     "output_type": "display_data"
    },
    {
     "data": {
      "application/vnd.jupyter.widget-view+json": {
       "model_id": "06f92e2bb91746b1a1e3e2a21d4f7128",
       "version_major": 2,
       "version_minor": 0
      },
      "text/plain": [
       "Validation: |                                                                             | 0/? [00:00<?, ?it/…"
      ]
     },
     "metadata": {},
     "output_type": "display_data"
    },
    {
     "data": {
      "application/vnd.jupyter.widget-view+json": {
       "model_id": "73a4b868e5974888beca0537471d589f",
       "version_major": 2,
       "version_minor": 0
      },
      "text/plain": [
       "Validation: |                                                                             | 0/? [00:00<?, ?it/…"
      ]
     },
     "metadata": {},
     "output_type": "display_data"
    },
    {
     "data": {
      "application/vnd.jupyter.widget-view+json": {
       "model_id": "09067bd7ffa24bf99b64cce7c3206343",
       "version_major": 2,
       "version_minor": 0
      },
      "text/plain": [
       "Validation: |                                                                             | 0/? [00:00<?, ?it/…"
      ]
     },
     "metadata": {},
     "output_type": "display_data"
    },
    {
     "data": {
      "application/vnd.jupyter.widget-view+json": {
       "model_id": "b85c67f520194a54accef4cc00a50939",
       "version_major": 2,
       "version_minor": 0
      },
      "text/plain": [
       "Validation: |                                                                             | 0/? [00:00<?, ?it/…"
      ]
     },
     "metadata": {},
     "output_type": "display_data"
    },
    {
     "data": {
      "application/vnd.jupyter.widget-view+json": {
       "model_id": "d90ec79d4e29443488014e66b67bbde0",
       "version_major": 2,
       "version_minor": 0
      },
      "text/plain": [
       "Validation: |                                                                             | 0/? [00:00<?, ?it/…"
      ]
     },
     "metadata": {},
     "output_type": "display_data"
    },
    {
     "data": {
      "application/vnd.jupyter.widget-view+json": {
       "model_id": "f903cc2b4e0b4ad39d997e462e8878d9",
       "version_major": 2,
       "version_minor": 0
      },
      "text/plain": [
       "Validation: |                                                                             | 0/? [00:00<?, ?it/…"
      ]
     },
     "metadata": {},
     "output_type": "display_data"
    },
    {
     "data": {
      "application/vnd.jupyter.widget-view+json": {
       "model_id": "d63b404be02d4364bd8df15416140af9",
       "version_major": 2,
       "version_minor": 0
      },
      "text/plain": [
       "Validation: |                                                                             | 0/? [00:00<?, ?it/…"
      ]
     },
     "metadata": {},
     "output_type": "display_data"
    },
    {
     "data": {
      "application/vnd.jupyter.widget-view+json": {
       "model_id": "800b509a153c43eeaa69a33d78320c67",
       "version_major": 2,
       "version_minor": 0
      },
      "text/plain": [
       "Validation: |                                                                             | 0/? [00:00<?, ?it/…"
      ]
     },
     "metadata": {},
     "output_type": "display_data"
    },
    {
     "data": {
      "application/vnd.jupyter.widget-view+json": {
       "model_id": "163188c88f9b4620947e23d57feb70f0",
       "version_major": 2,
       "version_minor": 0
      },
      "text/plain": [
       "Validation: |                                                                             | 0/? [00:00<?, ?it/…"
      ]
     },
     "metadata": {},
     "output_type": "display_data"
    },
    {
     "data": {
      "application/vnd.jupyter.widget-view+json": {
       "model_id": "1020f84963a745fa8eddf0689173883d",
       "version_major": 2,
       "version_minor": 0
      },
      "text/plain": [
       "Validation: |                                                                             | 0/? [00:00<?, ?it/…"
      ]
     },
     "metadata": {},
     "output_type": "display_data"
    },
    {
     "data": {
      "application/vnd.jupyter.widget-view+json": {
       "model_id": "ac440fa9c39d420fb933ab721e4532fa",
       "version_major": 2,
       "version_minor": 0
      },
      "text/plain": [
       "Validation: |                                                                             | 0/? [00:00<?, ?it/…"
      ]
     },
     "metadata": {},
     "output_type": "display_data"
    },
    {
     "data": {
      "application/vnd.jupyter.widget-view+json": {
       "model_id": "8cb8e4fe22564330bb5296197ebf54a4",
       "version_major": 2,
       "version_minor": 0
      },
      "text/plain": [
       "Validation: |                                                                             | 0/? [00:00<?, ?it/…"
      ]
     },
     "metadata": {},
     "output_type": "display_data"
    },
    {
     "data": {
      "application/vnd.jupyter.widget-view+json": {
       "model_id": "85d9b283e6af46e7abb97a49b6e8b016",
       "version_major": 2,
       "version_minor": 0
      },
      "text/plain": [
       "Validation: |                                                                             | 0/? [00:00<?, ?it/…"
      ]
     },
     "metadata": {},
     "output_type": "display_data"
    },
    {
     "data": {
      "application/vnd.jupyter.widget-view+json": {
       "model_id": "ea741df21edd4c05bef19dbf807fa277",
       "version_major": 2,
       "version_minor": 0
      },
      "text/plain": [
       "Validation: |                                                                             | 0/? [00:00<?, ?it/…"
      ]
     },
     "metadata": {},
     "output_type": "display_data"
    },
    {
     "data": {
      "application/vnd.jupyter.widget-view+json": {
       "model_id": "f7441ba09a4e47a6997dd5bd42731a5c",
       "version_major": 2,
       "version_minor": 0
      },
      "text/plain": [
       "Validation: |                                                                             | 0/? [00:00<?, ?it/…"
      ]
     },
     "metadata": {},
     "output_type": "display_data"
    },
    {
     "data": {
      "application/vnd.jupyter.widget-view+json": {
       "model_id": "d36e8afdc7ba4838a760f4c9a407cb3a",
       "version_major": 2,
       "version_minor": 0
      },
      "text/plain": [
       "Validation: |                                                                             | 0/? [00:00<?, ?it/…"
      ]
     },
     "metadata": {},
     "output_type": "display_data"
    },
    {
     "data": {
      "application/vnd.jupyter.widget-view+json": {
       "model_id": "e313f1c9f88f4992958b44764b32cd56",
       "version_major": 2,
       "version_minor": 0
      },
      "text/plain": [
       "Validation: |                                                                             | 0/? [00:00<?, ?it/…"
      ]
     },
     "metadata": {},
     "output_type": "display_data"
    },
    {
     "data": {
      "application/vnd.jupyter.widget-view+json": {
       "model_id": "782dcbcd7c84421ebcb045827acd1682",
       "version_major": 2,
       "version_minor": 0
      },
      "text/plain": [
       "Validation: |                                                                             | 0/? [00:00<?, ?it/…"
      ]
     },
     "metadata": {},
     "output_type": "display_data"
    },
    {
     "data": {
      "application/vnd.jupyter.widget-view+json": {
       "model_id": "666086c3256442dc8ef3186496d1b19f",
       "version_major": 2,
       "version_minor": 0
      },
      "text/plain": [
       "Validation: |                                                                             | 0/? [00:00<?, ?it/…"
      ]
     },
     "metadata": {},
     "output_type": "display_data"
    },
    {
     "data": {
      "application/vnd.jupyter.widget-view+json": {
       "model_id": "fa75c351fa014b30b569ee14a070812e",
       "version_major": 2,
       "version_minor": 0
      },
      "text/plain": [
       "Validation: |                                                                             | 0/? [00:00<?, ?it/…"
      ]
     },
     "metadata": {},
     "output_type": "display_data"
    },
    {
     "data": {
      "application/vnd.jupyter.widget-view+json": {
       "model_id": "93eabb12bdc644f2a26732e47b66c6da",
       "version_major": 2,
       "version_minor": 0
      },
      "text/plain": [
       "Validation: |                                                                             | 0/? [00:00<?, ?it/…"
      ]
     },
     "metadata": {},
     "output_type": "display_data"
    },
    {
     "data": {
      "application/vnd.jupyter.widget-view+json": {
       "model_id": "8f271e0f6f1041ba981d23a8be67de96",
       "version_major": 2,
       "version_minor": 0
      },
      "text/plain": [
       "Validation: |                                                                             | 0/? [00:00<?, ?it/…"
      ]
     },
     "metadata": {},
     "output_type": "display_data"
    },
    {
     "data": {
      "application/vnd.jupyter.widget-view+json": {
       "model_id": "948aa7841c68492d9a4d55719110a685",
       "version_major": 2,
       "version_minor": 0
      },
      "text/plain": [
       "Validation: |                                                                             | 0/? [00:00<?, ?it/…"
      ]
     },
     "metadata": {},
     "output_type": "display_data"
    },
    {
     "data": {
      "application/vnd.jupyter.widget-view+json": {
       "model_id": "5ecfa08eef024b33850ee7a3d954ed27",
       "version_major": 2,
       "version_minor": 0
      },
      "text/plain": [
       "Validation: |                                                                             | 0/? [00:00<?, ?it/…"
      ]
     },
     "metadata": {},
     "output_type": "display_data"
    },
    {
     "data": {
      "application/vnd.jupyter.widget-view+json": {
       "model_id": "afd7969461a44e0a84768f5aa1a780e8",
       "version_major": 2,
       "version_minor": 0
      },
      "text/plain": [
       "Validation: |                                                                             | 0/? [00:00<?, ?it/…"
      ]
     },
     "metadata": {},
     "output_type": "display_data"
    },
    {
     "data": {
      "application/vnd.jupyter.widget-view+json": {
       "model_id": "54b89d2ce41f478682052ab03e1c8ea8",
       "version_major": 2,
       "version_minor": 0
      },
      "text/plain": [
       "Validation: |                                                                             | 0/? [00:00<?, ?it/…"
      ]
     },
     "metadata": {},
     "output_type": "display_data"
    },
    {
     "data": {
      "application/vnd.jupyter.widget-view+json": {
       "model_id": "9b1f8feacb764e3490a86c57da75ca50",
       "version_major": 2,
       "version_minor": 0
      },
      "text/plain": [
       "Validation: |                                                                             | 0/? [00:00<?, ?it/…"
      ]
     },
     "metadata": {},
     "output_type": "display_data"
    },
    {
     "data": {
      "application/vnd.jupyter.widget-view+json": {
       "model_id": "725e8bb681f948998f3f0ff3717b44e2",
       "version_major": 2,
       "version_minor": 0
      },
      "text/plain": [
       "Validation: |                                                                             | 0/? [00:00<?, ?it/…"
      ]
     },
     "metadata": {},
     "output_type": "display_data"
    },
    {
     "data": {
      "application/vnd.jupyter.widget-view+json": {
       "model_id": "71c7510705804988be94ff379b85ebdd",
       "version_major": 2,
       "version_minor": 0
      },
      "text/plain": [
       "Validation: |                                                                             | 0/? [00:00<?, ?it/…"
      ]
     },
     "metadata": {},
     "output_type": "display_data"
    },
    {
     "data": {
      "application/vnd.jupyter.widget-view+json": {
       "model_id": "99da779a0b6a434aa6159419cc9ef140",
       "version_major": 2,
       "version_minor": 0
      },
      "text/plain": [
       "Validation: |                                                                             | 0/? [00:00<?, ?it/…"
      ]
     },
     "metadata": {},
     "output_type": "display_data"
    },
    {
     "data": {
      "application/vnd.jupyter.widget-view+json": {
       "model_id": "ee1afb4fa48942ddb482e05e9e2691f6",
       "version_major": 2,
       "version_minor": 0
      },
      "text/plain": [
       "Validation: |                                                                             | 0/? [00:00<?, ?it/…"
      ]
     },
     "metadata": {},
     "output_type": "display_data"
    },
    {
     "data": {
      "application/vnd.jupyter.widget-view+json": {
       "model_id": "a3d6079651a5401ab00469c8eeafa488",
       "version_major": 2,
       "version_minor": 0
      },
      "text/plain": [
       "Validation: |                                                                             | 0/? [00:00<?, ?it/…"
      ]
     },
     "metadata": {},
     "output_type": "display_data"
    },
    {
     "data": {
      "application/vnd.jupyter.widget-view+json": {
       "model_id": "4c782d77dbe8431390bd663b52ab75b1",
       "version_major": 2,
       "version_minor": 0
      },
      "text/plain": [
       "Validation: |                                                                             | 0/? [00:00<?, ?it/…"
      ]
     },
     "metadata": {},
     "output_type": "display_data"
    },
    {
     "data": {
      "application/vnd.jupyter.widget-view+json": {
       "model_id": "da8f7496f0c74b709a617baf1c115d70",
       "version_major": 2,
       "version_minor": 0
      },
      "text/plain": [
       "Validation: |                                                                             | 0/? [00:00<?, ?it/…"
      ]
     },
     "metadata": {},
     "output_type": "display_data"
    },
    {
     "data": {
      "application/vnd.jupyter.widget-view+json": {
       "model_id": "9309062952d849d58a365ee1d73af20b",
       "version_major": 2,
       "version_minor": 0
      },
      "text/plain": [
       "Validation: |                                                                             | 0/? [00:00<?, ?it/…"
      ]
     },
     "metadata": {},
     "output_type": "display_data"
    },
    {
     "data": {
      "application/vnd.jupyter.widget-view+json": {
       "model_id": "9181c3e95acd499f91285f5aab3fbd82",
       "version_major": 2,
       "version_minor": 0
      },
      "text/plain": [
       "Validation: |                                                                             | 0/? [00:00<?, ?it/…"
      ]
     },
     "metadata": {},
     "output_type": "display_data"
    },
    {
     "data": {
      "application/vnd.jupyter.widget-view+json": {
       "model_id": "31015c22c96c49648fb7a27578dbaac2",
       "version_major": 2,
       "version_minor": 0
      },
      "text/plain": [
       "Validation: |                                                                             | 0/? [00:00<?, ?it/…"
      ]
     },
     "metadata": {},
     "output_type": "display_data"
    },
    {
     "data": {
      "application/vnd.jupyter.widget-view+json": {
       "model_id": "46d1d62207404a488d606ecd5bd1b715",
       "version_major": 2,
       "version_minor": 0
      },
      "text/plain": [
       "Validation: |                                                                             | 0/? [00:00<?, ?it/…"
      ]
     },
     "metadata": {},
     "output_type": "display_data"
    },
    {
     "data": {
      "application/vnd.jupyter.widget-view+json": {
       "model_id": "aed6937239f143368e54549a3953a989",
       "version_major": 2,
       "version_minor": 0
      },
      "text/plain": [
       "Validation: |                                                                             | 0/? [00:00<?, ?it/…"
      ]
     },
     "metadata": {},
     "output_type": "display_data"
    },
    {
     "data": {
      "application/vnd.jupyter.widget-view+json": {
       "model_id": "dcbfc409ae614b2a951de5aaf56f2b66",
       "version_major": 2,
       "version_minor": 0
      },
      "text/plain": [
       "Validation: |                                                                             | 0/? [00:00<?, ?it/…"
      ]
     },
     "metadata": {},
     "output_type": "display_data"
    },
    {
     "data": {
      "application/vnd.jupyter.widget-view+json": {
       "model_id": "51e04709835e492fa028adf3b2f8cd3a",
       "version_major": 2,
       "version_minor": 0
      },
      "text/plain": [
       "Validation: |                                                                             | 0/? [00:00<?, ?it/…"
      ]
     },
     "metadata": {},
     "output_type": "display_data"
    },
    {
     "data": {
      "application/vnd.jupyter.widget-view+json": {
       "model_id": "676da1c9ccdf441b9e92c5356c20f870",
       "version_major": 2,
       "version_minor": 0
      },
      "text/plain": [
       "Validation: |                                                                             | 0/? [00:00<?, ?it/…"
      ]
     },
     "metadata": {},
     "output_type": "display_data"
    },
    {
     "data": {
      "application/vnd.jupyter.widget-view+json": {
       "model_id": "b6e15a48b3f842c8aa7e8fb25f2562ec",
       "version_major": 2,
       "version_minor": 0
      },
      "text/plain": [
       "Validation: |                                                                             | 0/? [00:00<?, ?it/…"
      ]
     },
     "metadata": {},
     "output_type": "display_data"
    },
    {
     "data": {
      "application/vnd.jupyter.widget-view+json": {
       "model_id": "1f1d2b55db48408ea37e9742bd4a7d6d",
       "version_major": 2,
       "version_minor": 0
      },
      "text/plain": [
       "Validation: |                                                                             | 0/? [00:00<?, ?it/…"
      ]
     },
     "metadata": {},
     "output_type": "display_data"
    },
    {
     "data": {
      "application/vnd.jupyter.widget-view+json": {
       "model_id": "2faf00dfb18a49beb7b0c13ed9328da4",
       "version_major": 2,
       "version_minor": 0
      },
      "text/plain": [
       "Validation: |                                                                             | 0/? [00:00<?, ?it/…"
      ]
     },
     "metadata": {},
     "output_type": "display_data"
    },
    {
     "data": {
      "application/vnd.jupyter.widget-view+json": {
       "model_id": "6d4f0e99acc84422b5bdd3776c0e5f0e",
       "version_major": 2,
       "version_minor": 0
      },
      "text/plain": [
       "Validation: |                                                                             | 0/? [00:00<?, ?it/…"
      ]
     },
     "metadata": {},
     "output_type": "display_data"
    },
    {
     "data": {
      "application/vnd.jupyter.widget-view+json": {
       "model_id": "fa87a061e88242a3938d89421c427a5d",
       "version_major": 2,
       "version_minor": 0
      },
      "text/plain": [
       "Validation: |                                                                             | 0/? [00:00<?, ?it/…"
      ]
     },
     "metadata": {},
     "output_type": "display_data"
    },
    {
     "data": {
      "application/vnd.jupyter.widget-view+json": {
       "model_id": "a33f2b0cd5714d0abaf1429fcab09b43",
       "version_major": 2,
       "version_minor": 0
      },
      "text/plain": [
       "Validation: |                                                                             | 0/? [00:00<?, ?it/…"
      ]
     },
     "metadata": {},
     "output_type": "display_data"
    },
    {
     "data": {
      "application/vnd.jupyter.widget-view+json": {
       "model_id": "4d6e1369492d489ebf58457c633a6e09",
       "version_major": 2,
       "version_minor": 0
      },
      "text/plain": [
       "Validation: |                                                                             | 0/? [00:00<?, ?it/…"
      ]
     },
     "metadata": {},
     "output_type": "display_data"
    },
    {
     "data": {
      "application/vnd.jupyter.widget-view+json": {
       "model_id": "4091f879f7cf4053a6a074978a3f69c8",
       "version_major": 2,
       "version_minor": 0
      },
      "text/plain": [
       "Validation: |                                                                             | 0/? [00:00<?, ?it/…"
      ]
     },
     "metadata": {},
     "output_type": "display_data"
    },
    {
     "data": {
      "application/vnd.jupyter.widget-view+json": {
       "model_id": "fab8a51b255642b8bf54900e0fc16663",
       "version_major": 2,
       "version_minor": 0
      },
      "text/plain": [
       "Validation: |                                                                             | 0/? [00:00<?, ?it/…"
      ]
     },
     "metadata": {},
     "output_type": "display_data"
    },
    {
     "data": {
      "application/vnd.jupyter.widget-view+json": {
       "model_id": "10ea4d7a2d4a4a52b8cab0ac0c375665",
       "version_major": 2,
       "version_minor": 0
      },
      "text/plain": [
       "Validation: |                                                                             | 0/? [00:00<?, ?it/…"
      ]
     },
     "metadata": {},
     "output_type": "display_data"
    },
    {
     "data": {
      "application/vnd.jupyter.widget-view+json": {
       "model_id": "02d490bff9b1487e91f111d2576c83e5",
       "version_major": 2,
       "version_minor": 0
      },
      "text/plain": [
       "Validation: |                                                                             | 0/? [00:00<?, ?it/…"
      ]
     },
     "metadata": {},
     "output_type": "display_data"
    },
    {
     "data": {
      "application/vnd.jupyter.widget-view+json": {
       "model_id": "68a2e13f639c4ed99117004e7620a3b8",
       "version_major": 2,
       "version_minor": 0
      },
      "text/plain": [
       "Validation: |                                                                             | 0/? [00:00<?, ?it/…"
      ]
     },
     "metadata": {},
     "output_type": "display_data"
    },
    {
     "data": {
      "application/vnd.jupyter.widget-view+json": {
       "model_id": "37c89f51eada4fb8a4858cd73b5343ca",
       "version_major": 2,
       "version_minor": 0
      },
      "text/plain": [
       "Validation: |                                                                             | 0/? [00:00<?, ?it/…"
      ]
     },
     "metadata": {},
     "output_type": "display_data"
    },
    {
     "data": {
      "application/vnd.jupyter.widget-view+json": {
       "model_id": "8e834fa9a8484f0ea229a74a0962a1fd",
       "version_major": 2,
       "version_minor": 0
      },
      "text/plain": [
       "Validation: |                                                                             | 0/? [00:00<?, ?it/…"
      ]
     },
     "metadata": {},
     "output_type": "display_data"
    },
    {
     "data": {
      "application/vnd.jupyter.widget-view+json": {
       "model_id": "cb1ca6fcfa2a45d2af19215a79f7520c",
       "version_major": 2,
       "version_minor": 0
      },
      "text/plain": [
       "Validation: |                                                                             | 0/? [00:00<?, ?it/…"
      ]
     },
     "metadata": {},
     "output_type": "display_data"
    },
    {
     "data": {
      "application/vnd.jupyter.widget-view+json": {
       "model_id": "7d5e561e02994eb78c68a18abf2635b5",
       "version_major": 2,
       "version_minor": 0
      },
      "text/plain": [
       "Validation: |                                                                             | 0/? [00:00<?, ?it/…"
      ]
     },
     "metadata": {},
     "output_type": "display_data"
    },
    {
     "data": {
      "application/vnd.jupyter.widget-view+json": {
       "model_id": "23edcb1403474bfbbb26705615983ebf",
       "version_major": 2,
       "version_minor": 0
      },
      "text/plain": [
       "Validation: |                                                                             | 0/? [00:00<?, ?it/…"
      ]
     },
     "metadata": {},
     "output_type": "display_data"
    },
    {
     "data": {
      "application/vnd.jupyter.widget-view+json": {
       "model_id": "d589b549bf22443b808ce08570b7578b",
       "version_major": 2,
       "version_minor": 0
      },
      "text/plain": [
       "Validation: |                                                                             | 0/? [00:00<?, ?it/…"
      ]
     },
     "metadata": {},
     "output_type": "display_data"
    },
    {
     "data": {
      "application/vnd.jupyter.widget-view+json": {
       "model_id": "f7aecac8c2784362918e63806a41da7a",
       "version_major": 2,
       "version_minor": 0
      },
      "text/plain": [
       "Validation: |                                                                             | 0/? [00:00<?, ?it/…"
      ]
     },
     "metadata": {},
     "output_type": "display_data"
    },
    {
     "data": {
      "application/vnd.jupyter.widget-view+json": {
       "model_id": "f72dec94e77b4e1595306b7e3163ae9a",
       "version_major": 2,
       "version_minor": 0
      },
      "text/plain": [
       "Validation: |                                                                             | 0/? [00:00<?, ?it/…"
      ]
     },
     "metadata": {},
     "output_type": "display_data"
    },
    {
     "data": {
      "application/vnd.jupyter.widget-view+json": {
       "model_id": "801184b91fd14029a9737a289e44d06b",
       "version_major": 2,
       "version_minor": 0
      },
      "text/plain": [
       "Validation: |                                                                             | 0/? [00:00<?, ?it/…"
      ]
     },
     "metadata": {},
     "output_type": "display_data"
    },
    {
     "data": {
      "application/vnd.jupyter.widget-view+json": {
       "model_id": "c19fe7211ea348d09d6fe7623a1717e3",
       "version_major": 2,
       "version_minor": 0
      },
      "text/plain": [
       "Validation: |                                                                             | 0/? [00:00<?, ?it/…"
      ]
     },
     "metadata": {},
     "output_type": "display_data"
    },
    {
     "data": {
      "application/vnd.jupyter.widget-view+json": {
       "model_id": "3d68a5f329ca43a59cf48b2a27404697",
       "version_major": 2,
       "version_minor": 0
      },
      "text/plain": [
       "Validation: |                                                                             | 0/? [00:00<?, ?it/…"
      ]
     },
     "metadata": {},
     "output_type": "display_data"
    },
    {
     "data": {
      "application/vnd.jupyter.widget-view+json": {
       "model_id": "130dd9d24ed44319ab6bc1fee4b43efc",
       "version_major": 2,
       "version_minor": 0
      },
      "text/plain": [
       "Validation: |                                                                             | 0/? [00:00<?, ?it/…"
      ]
     },
     "metadata": {},
     "output_type": "display_data"
    },
    {
     "data": {
      "application/vnd.jupyter.widget-view+json": {
       "model_id": "01b6d70b135c4293b9079075deea2926",
       "version_major": 2,
       "version_minor": 0
      },
      "text/plain": [
       "Validation: |                                                                             | 0/? [00:00<?, ?it/…"
      ]
     },
     "metadata": {},
     "output_type": "display_data"
    },
    {
     "data": {
      "application/vnd.jupyter.widget-view+json": {
       "model_id": "4fa9bd827d09459bbb4b9d062793e69a",
       "version_major": 2,
       "version_minor": 0
      },
      "text/plain": [
       "Validation: |                                                                             | 0/? [00:00<?, ?it/…"
      ]
     },
     "metadata": {},
     "output_type": "display_data"
    },
    {
     "data": {
      "application/vnd.jupyter.widget-view+json": {
       "model_id": "1b9bad1fc4944952a894ab01c6e0e0ab",
       "version_major": 2,
       "version_minor": 0
      },
      "text/plain": [
       "Validation: |                                                                             | 0/? [00:00<?, ?it/…"
      ]
     },
     "metadata": {},
     "output_type": "display_data"
    },
    {
     "data": {
      "application/vnd.jupyter.widget-view+json": {
       "model_id": "a41b8ce22d754f029968dd21faf60a61",
       "version_major": 2,
       "version_minor": 0
      },
      "text/plain": [
       "Validation: |                                                                             | 0/? [00:00<?, ?it/…"
      ]
     },
     "metadata": {},
     "output_type": "display_data"
    },
    {
     "data": {
      "application/vnd.jupyter.widget-view+json": {
       "model_id": "de919d2c472d499c864732d200a1cce2",
       "version_major": 2,
       "version_minor": 0
      },
      "text/plain": [
       "Validation: |                                                                             | 0/? [00:00<?, ?it/…"
      ]
     },
     "metadata": {},
     "output_type": "display_data"
    },
    {
     "data": {
      "application/vnd.jupyter.widget-view+json": {
       "model_id": "892fadb03c554968b9a68c19f8080a20",
       "version_major": 2,
       "version_minor": 0
      },
      "text/plain": [
       "Validation: |                                                                             | 0/? [00:00<?, ?it/…"
      ]
     },
     "metadata": {},
     "output_type": "display_data"
    },
    {
     "data": {
      "application/vnd.jupyter.widget-view+json": {
       "model_id": "3dbb24c79d2145bc85302e9baca5fe05",
       "version_major": 2,
       "version_minor": 0
      },
      "text/plain": [
       "Validation: |                                                                             | 0/? [00:00<?, ?it/…"
      ]
     },
     "metadata": {},
     "output_type": "display_data"
    },
    {
     "data": {
      "application/vnd.jupyter.widget-view+json": {
       "model_id": "922da632c39549dfb6488ce345dd7dc8",
       "version_major": 2,
       "version_minor": 0
      },
      "text/plain": [
       "Validation: |                                                                             | 0/? [00:00<?, ?it/…"
      ]
     },
     "metadata": {},
     "output_type": "display_data"
    },
    {
     "data": {
      "application/vnd.jupyter.widget-view+json": {
       "model_id": "2f7251a23ad14438a08203b98ded2277",
       "version_major": 2,
       "version_minor": 0
      },
      "text/plain": [
       "Validation: |                                                                             | 0/? [00:00<?, ?it/…"
      ]
     },
     "metadata": {},
     "output_type": "display_data"
    },
    {
     "data": {
      "application/vnd.jupyter.widget-view+json": {
       "model_id": "59c82db2fb7d44fe91b7c3027a192181",
       "version_major": 2,
       "version_minor": 0
      },
      "text/plain": [
       "Validation: |                                                                             | 0/? [00:00<?, ?it/…"
      ]
     },
     "metadata": {},
     "output_type": "display_data"
    },
    {
     "data": {
      "application/vnd.jupyter.widget-view+json": {
       "model_id": "c8c4c44862b84c78a527258614d1d6a0",
       "version_major": 2,
       "version_minor": 0
      },
      "text/plain": [
       "Validation: |                                                                             | 0/? [00:00<?, ?it/…"
      ]
     },
     "metadata": {},
     "output_type": "display_data"
    },
    {
     "data": {
      "application/vnd.jupyter.widget-view+json": {
       "model_id": "b810a5113a234e6fbcadaa738f1479da",
       "version_major": 2,
       "version_minor": 0
      },
      "text/plain": [
       "Validation: |                                                                             | 0/? [00:00<?, ?it/…"
      ]
     },
     "metadata": {},
     "output_type": "display_data"
    },
    {
     "data": {
      "application/vnd.jupyter.widget-view+json": {
       "model_id": "51dbaf129d3c49f7b7df80d33990c585",
       "version_major": 2,
       "version_minor": 0
      },
      "text/plain": [
       "Validation: |                                                                             | 0/? [00:00<?, ?it/…"
      ]
     },
     "metadata": {},
     "output_type": "display_data"
    },
    {
     "data": {
      "application/vnd.jupyter.widget-view+json": {
       "model_id": "65286c7929944ca199141ab04e0ab5aa",
       "version_major": 2,
       "version_minor": 0
      },
      "text/plain": [
       "Validation: |                                                                             | 0/? [00:00<?, ?it/…"
      ]
     },
     "metadata": {},
     "output_type": "display_data"
    },
    {
     "data": {
      "application/vnd.jupyter.widget-view+json": {
       "model_id": "8481824f57c042d787cafb81d23c0e11",
       "version_major": 2,
       "version_minor": 0
      },
      "text/plain": [
       "Validation: |                                                                             | 0/? [00:00<?, ?it/…"
      ]
     },
     "metadata": {},
     "output_type": "display_data"
    },
    {
     "data": {
      "application/vnd.jupyter.widget-view+json": {
       "model_id": "775d4eeef9be49c79dd4c89b74add719",
       "version_major": 2,
       "version_minor": 0
      },
      "text/plain": [
       "Validation: |                                                                             | 0/? [00:00<?, ?it/…"
      ]
     },
     "metadata": {},
     "output_type": "display_data"
    },
    {
     "data": {
      "application/vnd.jupyter.widget-view+json": {
       "model_id": "54992d43b14e4c8e82315d0253a27a4c",
       "version_major": 2,
       "version_minor": 0
      },
      "text/plain": [
       "Validation: |                                                                             | 0/? [00:00<?, ?it/…"
      ]
     },
     "metadata": {},
     "output_type": "display_data"
    },
    {
     "data": {
      "application/vnd.jupyter.widget-view+json": {
       "model_id": "abb801c7b3f648cea9bbfbe394781c1f",
       "version_major": 2,
       "version_minor": 0
      },
      "text/plain": [
       "Validation: |                                                                             | 0/? [00:00<?, ?it/…"
      ]
     },
     "metadata": {},
     "output_type": "display_data"
    },
    {
     "data": {
      "application/vnd.jupyter.widget-view+json": {
       "model_id": "3969c9e3447444ed8063987bbce8cf4d",
       "version_major": 2,
       "version_minor": 0
      },
      "text/plain": [
       "Validation: |                                                                             | 0/? [00:00<?, ?it/…"
      ]
     },
     "metadata": {},
     "output_type": "display_data"
    },
    {
     "data": {
      "application/vnd.jupyter.widget-view+json": {
       "model_id": "151660158c654fc7a243b2f2013542e3",
       "version_major": 2,
       "version_minor": 0
      },
      "text/plain": [
       "Validation: |                                                                             | 0/? [00:00<?, ?it/…"
      ]
     },
     "metadata": {},
     "output_type": "display_data"
    },
    {
     "data": {
      "application/vnd.jupyter.widget-view+json": {
       "model_id": "f335b40cf19b40f69aae13ec10bdf08a",
       "version_major": 2,
       "version_minor": 0
      },
      "text/plain": [
       "Validation: |                                                                             | 0/? [00:00<?, ?it/…"
      ]
     },
     "metadata": {},
     "output_type": "display_data"
    },
    {
     "data": {
      "application/vnd.jupyter.widget-view+json": {
       "model_id": "24885688d28a4f1b9ffea095a77cb565",
       "version_major": 2,
       "version_minor": 0
      },
      "text/plain": [
       "Validation: |                                                                             | 0/? [00:00<?, ?it/…"
      ]
     },
     "metadata": {},
     "output_type": "display_data"
    },
    {
     "data": {
      "application/vnd.jupyter.widget-view+json": {
       "model_id": "7624e9158c384353a2666a4442f7c964",
       "version_major": 2,
       "version_minor": 0
      },
      "text/plain": [
       "Validation: |                                                                             | 0/? [00:00<?, ?it/…"
      ]
     },
     "metadata": {},
     "output_type": "display_data"
    },
    {
     "data": {
      "application/vnd.jupyter.widget-view+json": {
       "model_id": "cc59ca8f195a4b0a98fb2731ed7fc4b6",
       "version_major": 2,
       "version_minor": 0
      },
      "text/plain": [
       "Validation: |                                                                             | 0/? [00:00<?, ?it/…"
      ]
     },
     "metadata": {},
     "output_type": "display_data"
    },
    {
     "data": {
      "application/vnd.jupyter.widget-view+json": {
       "model_id": "f138f82ac213410395f297e333e4f615",
       "version_major": 2,
       "version_minor": 0
      },
      "text/plain": [
       "Validation: |                                                                             | 0/? [00:00<?, ?it/…"
      ]
     },
     "metadata": {},
     "output_type": "display_data"
    },
    {
     "data": {
      "application/vnd.jupyter.widget-view+json": {
       "model_id": "46c0165283cd48a9b73448ef6631c303",
       "version_major": 2,
       "version_minor": 0
      },
      "text/plain": [
       "Validation: |                                                                             | 0/? [00:00<?, ?it/…"
      ]
     },
     "metadata": {},
     "output_type": "display_data"
    },
    {
     "data": {
      "application/vnd.jupyter.widget-view+json": {
       "model_id": "e6ff8f150d9f4d4089ea0094196289de",
       "version_major": 2,
       "version_minor": 0
      },
      "text/plain": [
       "Validation: |                                                                             | 0/? [00:00<?, ?it/…"
      ]
     },
     "metadata": {},
     "output_type": "display_data"
    },
    {
     "data": {
      "application/vnd.jupyter.widget-view+json": {
       "model_id": "b1ad7efab7be4e1d9f55c17c0ceaef61",
       "version_major": 2,
       "version_minor": 0
      },
      "text/plain": [
       "Validation: |                                                                             | 0/? [00:00<?, ?it/…"
      ]
     },
     "metadata": {},
     "output_type": "display_data"
    },
    {
     "data": {
      "application/vnd.jupyter.widget-view+json": {
       "model_id": "c3cfd6cb0057471fb8f18cb1e84118d9",
       "version_major": 2,
       "version_minor": 0
      },
      "text/plain": [
       "Validation: |                                                                             | 0/? [00:00<?, ?it/…"
      ]
     },
     "metadata": {},
     "output_type": "display_data"
    },
    {
     "data": {
      "application/vnd.jupyter.widget-view+json": {
       "model_id": "da65363cc2a14c99902f7d28cb0a53e0",
       "version_major": 2,
       "version_minor": 0
      },
      "text/plain": [
       "Validation: |                                                                             | 0/? [00:00<?, ?it/…"
      ]
     },
     "metadata": {},
     "output_type": "display_data"
    },
    {
     "data": {
      "application/vnd.jupyter.widget-view+json": {
       "model_id": "a2ec7182b0b349a0a8b43b68774cce04",
       "version_major": 2,
       "version_minor": 0
      },
      "text/plain": [
       "Validation: |                                                                             | 0/? [00:00<?, ?it/…"
      ]
     },
     "metadata": {},
     "output_type": "display_data"
    },
    {
     "data": {
      "application/vnd.jupyter.widget-view+json": {
       "model_id": "586ec858f8954942ab50bc4c55513644",
       "version_major": 2,
       "version_minor": 0
      },
      "text/plain": [
       "Validation: |                                                                             | 0/? [00:00<?, ?it/…"
      ]
     },
     "metadata": {},
     "output_type": "display_data"
    },
    {
     "data": {
      "application/vnd.jupyter.widget-view+json": {
       "model_id": "503839e6421b4319bb398a69ffcfe7bf",
       "version_major": 2,
       "version_minor": 0
      },
      "text/plain": [
       "Validation: |                                                                             | 0/? [00:00<?, ?it/…"
      ]
     },
     "metadata": {},
     "output_type": "display_data"
    },
    {
     "data": {
      "application/vnd.jupyter.widget-view+json": {
       "model_id": "1df5b150eb8847c9b560b6cb34b1bde3",
       "version_major": 2,
       "version_minor": 0
      },
      "text/plain": [
       "Validation: |                                                                             | 0/? [00:00<?, ?it/…"
      ]
     },
     "metadata": {},
     "output_type": "display_data"
    },
    {
     "data": {
      "application/vnd.jupyter.widget-view+json": {
       "model_id": "07966a90b60542718a468a0f483c8acd",
       "version_major": 2,
       "version_minor": 0
      },
      "text/plain": [
       "Validation: |                                                                             | 0/? [00:00<?, ?it/…"
      ]
     },
     "metadata": {},
     "output_type": "display_data"
    },
    {
     "data": {
      "application/vnd.jupyter.widget-view+json": {
       "model_id": "20b6dfe7c090401f8b8713c38d4cb405",
       "version_major": 2,
       "version_minor": 0
      },
      "text/plain": [
       "Validation: |                                                                             | 0/? [00:00<?, ?it/…"
      ]
     },
     "metadata": {},
     "output_type": "display_data"
    },
    {
     "data": {
      "application/vnd.jupyter.widget-view+json": {
       "model_id": "0f3c73dac8994e6d8378546d03a383b6",
       "version_major": 2,
       "version_minor": 0
      },
      "text/plain": [
       "Validation: |                                                                             | 0/? [00:00<?, ?it/…"
      ]
     },
     "metadata": {},
     "output_type": "display_data"
    },
    {
     "data": {
      "application/vnd.jupyter.widget-view+json": {
       "model_id": "245e4a0811704184a77f71c47237a7f3",
       "version_major": 2,
       "version_minor": 0
      },
      "text/plain": [
       "Validation: |                                                                             | 0/? [00:00<?, ?it/…"
      ]
     },
     "metadata": {},
     "output_type": "display_data"
    },
    {
     "data": {
      "application/vnd.jupyter.widget-view+json": {
       "model_id": "770f6075e0ef4fec9dcd40ae9336ace3",
       "version_major": 2,
       "version_minor": 0
      },
      "text/plain": [
       "Validation: |                                                                             | 0/? [00:00<?, ?it/…"
      ]
     },
     "metadata": {},
     "output_type": "display_data"
    },
    {
     "data": {
      "application/vnd.jupyter.widget-view+json": {
       "model_id": "8a216967e2c642f4bbd60984840d119f",
       "version_major": 2,
       "version_minor": 0
      },
      "text/plain": [
       "Validation: |                                                                             | 0/? [00:00<?, ?it/…"
      ]
     },
     "metadata": {},
     "output_type": "display_data"
    },
    {
     "data": {
      "application/vnd.jupyter.widget-view+json": {
       "model_id": "c65945ec485346bb93c9ca401fb840fa",
       "version_major": 2,
       "version_minor": 0
      },
      "text/plain": [
       "Validation: |                                                                             | 0/? [00:00<?, ?it/…"
      ]
     },
     "metadata": {},
     "output_type": "display_data"
    },
    {
     "data": {
      "application/vnd.jupyter.widget-view+json": {
       "model_id": "65f706da047c4bb6a9684ce05cdc4d38",
       "version_major": 2,
       "version_minor": 0
      },
      "text/plain": [
       "Validation: |                                                                             | 0/? [00:00<?, ?it/…"
      ]
     },
     "metadata": {},
     "output_type": "display_data"
    },
    {
     "data": {
      "application/vnd.jupyter.widget-view+json": {
       "model_id": "937ec6b88cb9460d80e40ff98e219c3e",
       "version_major": 2,
       "version_minor": 0
      },
      "text/plain": [
       "Validation: |                                                                             | 0/? [00:00<?, ?it/…"
      ]
     },
     "metadata": {},
     "output_type": "display_data"
    },
    {
     "data": {
      "application/vnd.jupyter.widget-view+json": {
       "model_id": "639cdd9a7ade493aa2be51c4fdda56cd",
       "version_major": 2,
       "version_minor": 0
      },
      "text/plain": [
       "Validation: |                                                                             | 0/? [00:00<?, ?it/…"
      ]
     },
     "metadata": {},
     "output_type": "display_data"
    },
    {
     "data": {
      "application/vnd.jupyter.widget-view+json": {
       "model_id": "f3dc8364090d4f19a04328fa26a83b5c",
       "version_major": 2,
       "version_minor": 0
      },
      "text/plain": [
       "Validation: |                                                                             | 0/? [00:00<?, ?it/…"
      ]
     },
     "metadata": {},
     "output_type": "display_data"
    },
    {
     "data": {
      "application/vnd.jupyter.widget-view+json": {
       "model_id": "a3da1345821d4a46b08c87ab7410c9e6",
       "version_major": 2,
       "version_minor": 0
      },
      "text/plain": [
       "Validation: |                                                                             | 0/? [00:00<?, ?it/…"
      ]
     },
     "metadata": {},
     "output_type": "display_data"
    },
    {
     "data": {
      "application/vnd.jupyter.widget-view+json": {
       "model_id": "33820681bae5492181e2846b924f6678",
       "version_major": 2,
       "version_minor": 0
      },
      "text/plain": [
       "Validation: |                                                                             | 0/? [00:00<?, ?it/…"
      ]
     },
     "metadata": {},
     "output_type": "display_data"
    },
    {
     "data": {
      "application/vnd.jupyter.widget-view+json": {
       "model_id": "5166bbdb3087491daf52c3037add627f",
       "version_major": 2,
       "version_minor": 0
      },
      "text/plain": [
       "Validation: |                                                                             | 0/? [00:00<?, ?it/…"
      ]
     },
     "metadata": {},
     "output_type": "display_data"
    },
    {
     "data": {
      "application/vnd.jupyter.widget-view+json": {
       "model_id": "d5065548b9d046d5b0f6e1775093e6f9",
       "version_major": 2,
       "version_minor": 0
      },
      "text/plain": [
       "Validation: |                                                                             | 0/? [00:00<?, ?it/…"
      ]
     },
     "metadata": {},
     "output_type": "display_data"
    },
    {
     "data": {
      "application/vnd.jupyter.widget-view+json": {
       "model_id": "e4cfc29e8e5b49e09f2227e546d85f39",
       "version_major": 2,
       "version_minor": 0
      },
      "text/plain": [
       "Validation: |                                                                             | 0/? [00:00<?, ?it/…"
      ]
     },
     "metadata": {},
     "output_type": "display_data"
    },
    {
     "data": {
      "application/vnd.jupyter.widget-view+json": {
       "model_id": "97414ac13f6a472c890a980daba4bdb1",
       "version_major": 2,
       "version_minor": 0
      },
      "text/plain": [
       "Validation: |                                                                             | 0/? [00:00<?, ?it/…"
      ]
     },
     "metadata": {},
     "output_type": "display_data"
    },
    {
     "data": {
      "application/vnd.jupyter.widget-view+json": {
       "model_id": "e9c2534ff3764d92a458c2099736c8fb",
       "version_major": 2,
       "version_minor": 0
      },
      "text/plain": [
       "Validation: |                                                                             | 0/? [00:00<?, ?it/…"
      ]
     },
     "metadata": {},
     "output_type": "display_data"
    },
    {
     "data": {
      "application/vnd.jupyter.widget-view+json": {
       "model_id": "cfc9b4c924f947bc91bfde57400754af",
       "version_major": 2,
       "version_minor": 0
      },
      "text/plain": [
       "Validation: |                                                                             | 0/? [00:00<?, ?it/…"
      ]
     },
     "metadata": {},
     "output_type": "display_data"
    },
    {
     "data": {
      "application/vnd.jupyter.widget-view+json": {
       "model_id": "9c2c49c9eb9f4aa4bf6e40114e9334c2",
       "version_major": 2,
       "version_minor": 0
      },
      "text/plain": [
       "Validation: |                                                                             | 0/? [00:00<?, ?it/…"
      ]
     },
     "metadata": {},
     "output_type": "display_data"
    },
    {
     "data": {
      "application/vnd.jupyter.widget-view+json": {
       "model_id": "473882b06bea4495a3c73f6a3c2be7de",
       "version_major": 2,
       "version_minor": 0
      },
      "text/plain": [
       "Validation: |                                                                             | 0/? [00:00<?, ?it/…"
      ]
     },
     "metadata": {},
     "output_type": "display_data"
    },
    {
     "data": {
      "application/vnd.jupyter.widget-view+json": {
       "model_id": "9c421552970243df8f09094d157085e2",
       "version_major": 2,
       "version_minor": 0
      },
      "text/plain": [
       "Validation: |                                                                             | 0/? [00:00<?, ?it/…"
      ]
     },
     "metadata": {},
     "output_type": "display_data"
    },
    {
     "data": {
      "application/vnd.jupyter.widget-view+json": {
       "model_id": "235df35c7c1c483a85032447b5b915fe",
       "version_major": 2,
       "version_minor": 0
      },
      "text/plain": [
       "Validation: |                                                                             | 0/? [00:00<?, ?it/…"
      ]
     },
     "metadata": {},
     "output_type": "display_data"
    },
    {
     "data": {
      "application/vnd.jupyter.widget-view+json": {
       "model_id": "1af4ff402a714eb3a745b0056a78a551",
       "version_major": 2,
       "version_minor": 0
      },
      "text/plain": [
       "Validation: |                                                                             | 0/? [00:00<?, ?it/…"
      ]
     },
     "metadata": {},
     "output_type": "display_data"
    },
    {
     "data": {
      "application/vnd.jupyter.widget-view+json": {
       "model_id": "faaf86d9ff47442fba72ab9e74a307dd",
       "version_major": 2,
       "version_minor": 0
      },
      "text/plain": [
       "Validation: |                                                                             | 0/? [00:00<?, ?it/…"
      ]
     },
     "metadata": {},
     "output_type": "display_data"
    },
    {
     "data": {
      "application/vnd.jupyter.widget-view+json": {
       "model_id": "2fbe99e9ac2e40cab5a9b99ab122c5d9",
       "version_major": 2,
       "version_minor": 0
      },
      "text/plain": [
       "Validation: |                                                                             | 0/? [00:00<?, ?it/…"
      ]
     },
     "metadata": {},
     "output_type": "display_data"
    },
    {
     "data": {
      "application/vnd.jupyter.widget-view+json": {
       "model_id": "230cd7cc98a54d6fa7ddd7b8fbed38b7",
       "version_major": 2,
       "version_minor": 0
      },
      "text/plain": [
       "Validation: |                                                                             | 0/? [00:00<?, ?it/…"
      ]
     },
     "metadata": {},
     "output_type": "display_data"
    },
    {
     "data": {
      "application/vnd.jupyter.widget-view+json": {
       "model_id": "7b6e8c992f134a69a853f46bd5908048",
       "version_major": 2,
       "version_minor": 0
      },
      "text/plain": [
       "Validation: |                                                                             | 0/? [00:00<?, ?it/…"
      ]
     },
     "metadata": {},
     "output_type": "display_data"
    },
    {
     "data": {
      "application/vnd.jupyter.widget-view+json": {
       "model_id": "0dbf3731b49c42fd9573fa8f2ae43bef",
       "version_major": 2,
       "version_minor": 0
      },
      "text/plain": [
       "Validation: |                                                                             | 0/? [00:00<?, ?it/…"
      ]
     },
     "metadata": {},
     "output_type": "display_data"
    },
    {
     "data": {
      "application/vnd.jupyter.widget-view+json": {
       "model_id": "25fba853c802449f94458b3cfe99612e",
       "version_major": 2,
       "version_minor": 0
      },
      "text/plain": [
       "Validation: |                                                                             | 0/? [00:00<?, ?it/…"
      ]
     },
     "metadata": {},
     "output_type": "display_data"
    },
    {
     "data": {
      "application/vnd.jupyter.widget-view+json": {
       "model_id": "da76c2f44b0e4a4bb26fc2730527c8ea",
       "version_major": 2,
       "version_minor": 0
      },
      "text/plain": [
       "Validation: |                                                                             | 0/? [00:00<?, ?it/…"
      ]
     },
     "metadata": {},
     "output_type": "display_data"
    },
    {
     "data": {
      "application/vnd.jupyter.widget-view+json": {
       "model_id": "68f18611d94949e5a4529cd25ff9398a",
       "version_major": 2,
       "version_minor": 0
      },
      "text/plain": [
       "Validation: |                                                                             | 0/? [00:00<?, ?it/…"
      ]
     },
     "metadata": {},
     "output_type": "display_data"
    },
    {
     "data": {
      "application/vnd.jupyter.widget-view+json": {
       "model_id": "e4526a1c23ec4ec8b4519e8519442c67",
       "version_major": 2,
       "version_minor": 0
      },
      "text/plain": [
       "Validation: |                                                                             | 0/? [00:00<?, ?it/…"
      ]
     },
     "metadata": {},
     "output_type": "display_data"
    },
    {
     "data": {
      "application/vnd.jupyter.widget-view+json": {
       "model_id": "1a5b7c6c32c14eb7a01eb7cb91cac563",
       "version_major": 2,
       "version_minor": 0
      },
      "text/plain": [
       "Validation: |                                                                             | 0/? [00:00<?, ?it/…"
      ]
     },
     "metadata": {},
     "output_type": "display_data"
    },
    {
     "data": {
      "application/vnd.jupyter.widget-view+json": {
       "model_id": "92af52cd04de4b689501b2002c07acfc",
       "version_major": 2,
       "version_minor": 0
      },
      "text/plain": [
       "Validation: |                                                                             | 0/? [00:00<?, ?it/…"
      ]
     },
     "metadata": {},
     "output_type": "display_data"
    },
    {
     "data": {
      "application/vnd.jupyter.widget-view+json": {
       "model_id": "def42c0fbcb247959c8e6bee0ac37f12",
       "version_major": 2,
       "version_minor": 0
      },
      "text/plain": [
       "Validation: |                                                                             | 0/? [00:00<?, ?it/…"
      ]
     },
     "metadata": {},
     "output_type": "display_data"
    },
    {
     "data": {
      "application/vnd.jupyter.widget-view+json": {
       "model_id": "0006251c280a42139a54de13c246dee7",
       "version_major": 2,
       "version_minor": 0
      },
      "text/plain": [
       "Validation: |                                                                             | 0/? [00:00<?, ?it/…"
      ]
     },
     "metadata": {},
     "output_type": "display_data"
    },
    {
     "data": {
      "application/vnd.jupyter.widget-view+json": {
       "model_id": "9070c98b94554b22a29b7e82fb3626c9",
       "version_major": 2,
       "version_minor": 0
      },
      "text/plain": [
       "Validation: |                                                                             | 0/? [00:00<?, ?it/…"
      ]
     },
     "metadata": {},
     "output_type": "display_data"
    },
    {
     "data": {
      "application/vnd.jupyter.widget-view+json": {
       "model_id": "990216036b6d41a5b3bdab4d7254959b",
       "version_major": 2,
       "version_minor": 0
      },
      "text/plain": [
       "Validation: |                                                                             | 0/? [00:00<?, ?it/…"
      ]
     },
     "metadata": {},
     "output_type": "display_data"
    },
    {
     "data": {
      "application/vnd.jupyter.widget-view+json": {
       "model_id": "9ecc93cf3f7c4be8830db0a173973718",
       "version_major": 2,
       "version_minor": 0
      },
      "text/plain": [
       "Validation: |                                                                             | 0/? [00:00<?, ?it/…"
      ]
     },
     "metadata": {},
     "output_type": "display_data"
    },
    {
     "data": {
      "application/vnd.jupyter.widget-view+json": {
       "model_id": "099f6d11521644f78e6b3725a370a312",
       "version_major": 2,
       "version_minor": 0
      },
      "text/plain": [
       "Validation: |                                                                             | 0/? [00:00<?, ?it/…"
      ]
     },
     "metadata": {},
     "output_type": "display_data"
    },
    {
     "data": {
      "application/vnd.jupyter.widget-view+json": {
       "model_id": "d585c69bfad84364a892c7a9f02d079e",
       "version_major": 2,
       "version_minor": 0
      },
      "text/plain": [
       "Validation: |                                                                             | 0/? [00:00<?, ?it/…"
      ]
     },
     "metadata": {},
     "output_type": "display_data"
    },
    {
     "data": {
      "application/vnd.jupyter.widget-view+json": {
       "model_id": "b867a87fea034ad59880d3be03a387d1",
       "version_major": 2,
       "version_minor": 0
      },
      "text/plain": [
       "Validation: |                                                                             | 0/? [00:00<?, ?it/…"
      ]
     },
     "metadata": {},
     "output_type": "display_data"
    },
    {
     "data": {
      "application/vnd.jupyter.widget-view+json": {
       "model_id": "dee422f309d047228d23faf435bdbaca",
       "version_major": 2,
       "version_minor": 0
      },
      "text/plain": [
       "Validation: |                                                                             | 0/? [00:00<?, ?it/…"
      ]
     },
     "metadata": {},
     "output_type": "display_data"
    },
    {
     "data": {
      "application/vnd.jupyter.widget-view+json": {
       "model_id": "4eba7f67704d4fcd8f342d5c9b5383b2",
       "version_major": 2,
       "version_minor": 0
      },
      "text/plain": [
       "Validation: |                                                                             | 0/? [00:00<?, ?it/…"
      ]
     },
     "metadata": {},
     "output_type": "display_data"
    },
    {
     "data": {
      "application/vnd.jupyter.widget-view+json": {
       "model_id": "3717825e41e54f3b942e92de30089699",
       "version_major": 2,
       "version_minor": 0
      },
      "text/plain": [
       "Validation: |                                                                             | 0/? [00:00<?, ?it/…"
      ]
     },
     "metadata": {},
     "output_type": "display_data"
    },
    {
     "data": {
      "application/vnd.jupyter.widget-view+json": {
       "model_id": "da30698d2cf64a2c913c5306725373b6",
       "version_major": 2,
       "version_minor": 0
      },
      "text/plain": [
       "Validation: |                                                                             | 0/? [00:00<?, ?it/…"
      ]
     },
     "metadata": {},
     "output_type": "display_data"
    },
    {
     "data": {
      "application/vnd.jupyter.widget-view+json": {
       "model_id": "bd6bd33ced3f4de887f4cda351c9db5f",
       "version_major": 2,
       "version_minor": 0
      },
      "text/plain": [
       "Validation: |                                                                             | 0/? [00:00<?, ?it/…"
      ]
     },
     "metadata": {},
     "output_type": "display_data"
    },
    {
     "data": {
      "application/vnd.jupyter.widget-view+json": {
       "model_id": "fe9d0757af664f62baf1f25d033373ca",
       "version_major": 2,
       "version_minor": 0
      },
      "text/plain": [
       "Validation: |                                                                             | 0/? [00:00<?, ?it/…"
      ]
     },
     "metadata": {},
     "output_type": "display_data"
    },
    {
     "data": {
      "application/vnd.jupyter.widget-view+json": {
       "model_id": "4a12eeaa5b0044c083f6f40cf972bd85",
       "version_major": 2,
       "version_minor": 0
      },
      "text/plain": [
       "Validation: |                                                                             | 0/? [00:00<?, ?it/…"
      ]
     },
     "metadata": {},
     "output_type": "display_data"
    },
    {
     "data": {
      "application/vnd.jupyter.widget-view+json": {
       "model_id": "bd208f480d3f4285bf523505d26f03a3",
       "version_major": 2,
       "version_minor": 0
      },
      "text/plain": [
       "Validation: |                                                                             | 0/? [00:00<?, ?it/…"
      ]
     },
     "metadata": {},
     "output_type": "display_data"
    },
    {
     "data": {
      "application/vnd.jupyter.widget-view+json": {
       "model_id": "bc9dbfacb4fa4ceabe294c92eca212b7",
       "version_major": 2,
       "version_minor": 0
      },
      "text/plain": [
       "Validation: |                                                                             | 0/? [00:00<?, ?it/…"
      ]
     },
     "metadata": {},
     "output_type": "display_data"
    },
    {
     "data": {
      "application/vnd.jupyter.widget-view+json": {
       "model_id": "a2fe1200e9e94ca7ad9c7d680626b136",
       "version_major": 2,
       "version_minor": 0
      },
      "text/plain": [
       "Validation: |                                                                             | 0/? [00:00<?, ?it/…"
      ]
     },
     "metadata": {},
     "output_type": "display_data"
    },
    {
     "data": {
      "application/vnd.jupyter.widget-view+json": {
       "model_id": "f05b13768ba147eaa8f8ba6cb89beb29",
       "version_major": 2,
       "version_minor": 0
      },
      "text/plain": [
       "Validation: |                                                                             | 0/? [00:00<?, ?it/…"
      ]
     },
     "metadata": {},
     "output_type": "display_data"
    },
    {
     "data": {
      "application/vnd.jupyter.widget-view+json": {
       "model_id": "5d0d92b0e0b64763bdcc955d42b6ab21",
       "version_major": 2,
       "version_minor": 0
      },
      "text/plain": [
       "Validation: |                                                                             | 0/? [00:00<?, ?it/…"
      ]
     },
     "metadata": {},
     "output_type": "display_data"
    },
    {
     "data": {
      "application/vnd.jupyter.widget-view+json": {
       "model_id": "629cf7dbde2b46b2872af015d0a9a733",
       "version_major": 2,
       "version_minor": 0
      },
      "text/plain": [
       "Validation: |                                                                             | 0/? [00:00<?, ?it/…"
      ]
     },
     "metadata": {},
     "output_type": "display_data"
    },
    {
     "data": {
      "application/vnd.jupyter.widget-view+json": {
       "model_id": "be575e6447bb4486848503df32078ead",
       "version_major": 2,
       "version_minor": 0
      },
      "text/plain": [
       "Validation: |                                                                             | 0/? [00:00<?, ?it/…"
      ]
     },
     "metadata": {},
     "output_type": "display_data"
    },
    {
     "data": {
      "application/vnd.jupyter.widget-view+json": {
       "model_id": "c086c01397764f43a942c045e31cdcdf",
       "version_major": 2,
       "version_minor": 0
      },
      "text/plain": [
       "Validation: |                                                                             | 0/? [00:00<?, ?it/…"
      ]
     },
     "metadata": {},
     "output_type": "display_data"
    },
    {
     "data": {
      "application/vnd.jupyter.widget-view+json": {
       "model_id": "6725fd689ecb46d686678e9fae4f9f53",
       "version_major": 2,
       "version_minor": 0
      },
      "text/plain": [
       "Validation: |                                                                             | 0/? [00:00<?, ?it/…"
      ]
     },
     "metadata": {},
     "output_type": "display_data"
    },
    {
     "data": {
      "application/vnd.jupyter.widget-view+json": {
       "model_id": "5f0ffced23434ed2879b8690b9892ecb",
       "version_major": 2,
       "version_minor": 0
      },
      "text/plain": [
       "Validation: |                                                                             | 0/? [00:00<?, ?it/…"
      ]
     },
     "metadata": {},
     "output_type": "display_data"
    },
    {
     "data": {
      "application/vnd.jupyter.widget-view+json": {
       "model_id": "fb58da248c7946869caec3e3582328e4",
       "version_major": 2,
       "version_minor": 0
      },
      "text/plain": [
       "Validation: |                                                                             | 0/? [00:00<?, ?it/…"
      ]
     },
     "metadata": {},
     "output_type": "display_data"
    },
    {
     "data": {
      "application/vnd.jupyter.widget-view+json": {
       "model_id": "10b476796f684db58b5a2aecb6eb0cc0",
       "version_major": 2,
       "version_minor": 0
      },
      "text/plain": [
       "Validation: |                                                                             | 0/? [00:00<?, ?it/…"
      ]
     },
     "metadata": {},
     "output_type": "display_data"
    },
    {
     "data": {
      "application/vnd.jupyter.widget-view+json": {
       "model_id": "cc7f17c2776649c3a96aa29874b38128",
       "version_major": 2,
       "version_minor": 0
      },
      "text/plain": [
       "Validation: |                                                                             | 0/? [00:00<?, ?it/…"
      ]
     },
     "metadata": {},
     "output_type": "display_data"
    },
    {
     "data": {
      "application/vnd.jupyter.widget-view+json": {
       "model_id": "cec34a6eadc24de297d9d8dd924b1bbe",
       "version_major": 2,
       "version_minor": 0
      },
      "text/plain": [
       "Validation: |                                                                             | 0/? [00:00<?, ?it/…"
      ]
     },
     "metadata": {},
     "output_type": "display_data"
    },
    {
     "data": {
      "application/vnd.jupyter.widget-view+json": {
       "model_id": "7b9e7678e70f4b1c9dee2378d92d0cc6",
       "version_major": 2,
       "version_minor": 0
      },
      "text/plain": [
       "Validation: |                                                                             | 0/? [00:00<?, ?it/…"
      ]
     },
     "metadata": {},
     "output_type": "display_data"
    },
    {
     "data": {
      "application/vnd.jupyter.widget-view+json": {
       "model_id": "f9e5ace51fcb4678bc80110e24282cd9",
       "version_major": 2,
       "version_minor": 0
      },
      "text/plain": [
       "Validation: |                                                                             | 0/? [00:00<?, ?it/…"
      ]
     },
     "metadata": {},
     "output_type": "display_data"
    },
    {
     "data": {
      "application/vnd.jupyter.widget-view+json": {
       "model_id": "9b515bc020b84cd5ae9daa3994602a54",
       "version_major": 2,
       "version_minor": 0
      },
      "text/plain": [
       "Validation: |                                                                             | 0/? [00:00<?, ?it/…"
      ]
     },
     "metadata": {},
     "output_type": "display_data"
    },
    {
     "data": {
      "application/vnd.jupyter.widget-view+json": {
       "model_id": "491383bd024e4a8b9fbb9da76740a260",
       "version_major": 2,
       "version_minor": 0
      },
      "text/plain": [
       "Validation: |                                                                             | 0/? [00:00<?, ?it/…"
      ]
     },
     "metadata": {},
     "output_type": "display_data"
    },
    {
     "data": {
      "application/vnd.jupyter.widget-view+json": {
       "model_id": "1d925bd8a74d4ebaa6f0524ad21bf5d8",
       "version_major": 2,
       "version_minor": 0
      },
      "text/plain": [
       "Validation: |                                                                             | 0/? [00:00<?, ?it/…"
      ]
     },
     "metadata": {},
     "output_type": "display_data"
    },
    {
     "data": {
      "application/vnd.jupyter.widget-view+json": {
       "model_id": "af4beafb4c3e4c02a30c049e70a13900",
       "version_major": 2,
       "version_minor": 0
      },
      "text/plain": [
       "Validation: |                                                                             | 0/? [00:00<?, ?it/…"
      ]
     },
     "metadata": {},
     "output_type": "display_data"
    },
    {
     "data": {
      "application/vnd.jupyter.widget-view+json": {
       "model_id": "4464ed950a124d66bc597fbd6c4740d5",
       "version_major": 2,
       "version_minor": 0
      },
      "text/plain": [
       "Validation: |                                                                             | 0/? [00:00<?, ?it/…"
      ]
     },
     "metadata": {},
     "output_type": "display_data"
    },
    {
     "data": {
      "application/vnd.jupyter.widget-view+json": {
       "model_id": "8ce3a6237f9a4e6589b801ab35018a26",
       "version_major": 2,
       "version_minor": 0
      },
      "text/plain": [
       "Validation: |                                                                             | 0/? [00:00<?, ?it/…"
      ]
     },
     "metadata": {},
     "output_type": "display_data"
    },
    {
     "data": {
      "application/vnd.jupyter.widget-view+json": {
       "model_id": "269344a20a944758926d7d0d6c54300c",
       "version_major": 2,
       "version_minor": 0
      },
      "text/plain": [
       "Validation: |                                                                             | 0/? [00:00<?, ?it/…"
      ]
     },
     "metadata": {},
     "output_type": "display_data"
    },
    {
     "data": {
      "application/vnd.jupyter.widget-view+json": {
       "model_id": "c4632b769b3e47baa676fe4bc488f1f2",
       "version_major": 2,
       "version_minor": 0
      },
      "text/plain": [
       "Validation: |                                                                             | 0/? [00:00<?, ?it/…"
      ]
     },
     "metadata": {},
     "output_type": "display_data"
    },
    {
     "data": {
      "application/vnd.jupyter.widget-view+json": {
       "model_id": "8b32eaf104524155905a4eb52a21ec3c",
       "version_major": 2,
       "version_minor": 0
      },
      "text/plain": [
       "Validation: |                                                                             | 0/? [00:00<?, ?it/…"
      ]
     },
     "metadata": {},
     "output_type": "display_data"
    },
    {
     "data": {
      "application/vnd.jupyter.widget-view+json": {
       "model_id": "777a251eb0b04315adcf6c19d645fcbc",
       "version_major": 2,
       "version_minor": 0
      },
      "text/plain": [
       "Validation: |                                                                             | 0/? [00:00<?, ?it/…"
      ]
     },
     "metadata": {},
     "output_type": "display_data"
    },
    {
     "data": {
      "application/vnd.jupyter.widget-view+json": {
       "model_id": "97fbab32c49a48119ebcc24f537ec3a5",
       "version_major": 2,
       "version_minor": 0
      },
      "text/plain": [
       "Validation: |                                                                             | 0/? [00:00<?, ?it/…"
      ]
     },
     "metadata": {},
     "output_type": "display_data"
    },
    {
     "data": {
      "application/vnd.jupyter.widget-view+json": {
       "model_id": "df9ac05edaa5409fb55f334468f31288",
       "version_major": 2,
       "version_minor": 0
      },
      "text/plain": [
       "Validation: |                                                                             | 0/? [00:00<?, ?it/…"
      ]
     },
     "metadata": {},
     "output_type": "display_data"
    },
    {
     "data": {
      "application/vnd.jupyter.widget-view+json": {
       "model_id": "33f774935e6844ec8efdcf3934c8387b",
       "version_major": 2,
       "version_minor": 0
      },
      "text/plain": [
       "Validation: |                                                                             | 0/? [00:00<?, ?it/…"
      ]
     },
     "metadata": {},
     "output_type": "display_data"
    },
    {
     "data": {
      "application/vnd.jupyter.widget-view+json": {
       "model_id": "8472a94768e8430ca4b832d55b819e8d",
       "version_major": 2,
       "version_minor": 0
      },
      "text/plain": [
       "Validation: |                                                                             | 0/? [00:00<?, ?it/…"
      ]
     },
     "metadata": {},
     "output_type": "display_data"
    },
    {
     "data": {
      "application/vnd.jupyter.widget-view+json": {
       "model_id": "01075ca6f92042ef9cc1b0913c58e8a6",
       "version_major": 2,
       "version_minor": 0
      },
      "text/plain": [
       "Validation: |                                                                             | 0/? [00:00<?, ?it/…"
      ]
     },
     "metadata": {},
     "output_type": "display_data"
    },
    {
     "data": {
      "application/vnd.jupyter.widget-view+json": {
       "model_id": "f525057a836c486c9e7372c58e3bc039",
       "version_major": 2,
       "version_minor": 0
      },
      "text/plain": [
       "Validation: |                                                                             | 0/? [00:00<?, ?it/…"
      ]
     },
     "metadata": {},
     "output_type": "display_data"
    },
    {
     "name": "stderr",
     "output_type": "stream",
     "text": [
      "`Trainer.fit` stopped: `max_epochs=500` reached.\n",
      "LOCAL_RANK: 0 - CUDA_VISIBLE_DEVICES: [0]\n"
     ]
    },
    {
     "data": {
      "application/vnd.jupyter.widget-view+json": {
       "model_id": "f9d1bb21c18f49ac9bdc61a1a42d8a64",
       "version_major": 2,
       "version_minor": 0
      },
      "text/plain": [
       "Testing: |                                                                                | 0/? [00:00<?, ?it/…"
      ]
     },
     "metadata": {},
     "output_type": "display_data"
    },
    {
     "name": "stderr",
     "output_type": "stream",
     "text": [
      "LOCAL_RANK: 0 - CUDA_VISIBLE_DEVICES: [0]\n"
     ]
    },
    {
     "data": {
      "application/vnd.jupyter.widget-view+json": {
       "model_id": "e0d63be0cc504ed4b7b2cc8116fc2e59",
       "version_major": 2,
       "version_minor": 0
      },
      "text/plain": [
       "Testing: |                                                                                | 0/? [00:00<?, ?it/…"
      ]
     },
     "metadata": {},
     "output_type": "display_data"
    }
   ],
   "source": [
    "model_dict = {}\n",
    "for latent_dim in [64, 128, 256, 384, 448]:\n",
    "    model_ld, result_ld = train_cifar(latent_dim)\n",
    "    model_dict[latent_dim] = {\"model\": model_ld, \"result\": result_ld}"
   ]
  },
  {
   "cell_type": "code",
   "execution_count": 17,
   "id": "6aace6f9-d36e-4e14-a591-69b02bb01853",
   "metadata": {},
   "outputs": [
    {
     "data": {
      "application/pdf": "[encoded data removed]",
      "image/svg+xml": [
       "<?xml version=\"1.0\" encoding=\"utf-8\" standalone=\"no\"?>\n",
       "<!DOCTYPE svg PUBLIC \"-//W3C//DTD SVG 1.1//EN\"\n",
       "  \"http://www.w3.org/Graphics/SVG/1.1/DTD/svg11.dtd\">\n",
       "<svg xmlns:xlink=\"http://www.w3.org/1999/xlink\" width=\"395.31pt\" height=\"288.5575pt\" viewBox=\"0 0 395.31 288.5575\" xmlns=\"http://www.w3.org/2000/svg\" version=\"1.1\">\n",
       " <metadata>\n",
       "  <rdf:RDF xmlns:dc=\"http://purl.org/dc/elements/1.1/\" xmlns:cc=\"http://creativecommons.org/ns#\" xmlns:rdf=\"http://www.w3.org/1999/02/22-rdf-syntax-ns#\">\n",
       "   <cc:Work>\n",
       "    <dc:type rdf:resource=\"http://purl.org/dc/dcmitype/StillImage\"/>\n",
       "    <dc:date>2025-02-21T20:52:44.341450</dc:date>\n",
       "    <dc:format>image/svg+xml</dc:format>\n",
       "    <dc:creator>\n",
       "     <cc:Agent>\n",
       "      <dc:title>Matplotlib v3.9.2, https://matplotlib.org/</dc:title>\n",
       "     </cc:Agent>\n",
       "    </dc:creator>\n",
       "   </cc:Work>\n",
       "  </rdf:RDF>\n",
       " </metadata>\n",
       " <defs>\n",
       "  <style type=\"text/css\">*{stroke-linejoin: round; stroke-linecap: butt}</style>\n",
       " </defs>\n",
       " <g id=\"figure_1\">\n",
       "  <g id=\"patch_1\">\n",
       "   <path d=\"M 0 288.5575 \n",
       "L 395.31 288.5575 \n",
       "L 395.31 0 \n",
       "L 0 0 \n",
       "z\n",
       "\" style=\"fill: #ffffff\"/>\n",
       "  </g>\n",
       "  <g id=\"axes_1\">\n",
       "   <g id=\"patch_2\">\n",
       "    <path d=\"M 53.31 245.597813 \n",
       "L 388.11 245.597813 \n",
       "L 388.11 23.837812 \n",
       "L 53.31 23.837812 \n",
       "z\n",
       "\" style=\"fill: #eaeaf2\"/>\n",
       "   </g>\n",
       "   <g id=\"matplotlib.axis_1\">\n",
       "    <g id=\"xtick_1\">\n",
       "     <g id=\"line2d_1\">\n",
       "      <path d=\"M 68.528182 245.597813 \n",
       "L 68.528182 23.837812 \n",
       "\" clip-path=\"url(#p529703b90b)\" style=\"fill: none; stroke: #ffffff; stroke-linecap: round\"/>\n",
       "     </g>\n",
       "     <g id=\"text_1\">\n",
       "      <!-- 64 -->\n",
       "      <g style=\"fill: #262626\" transform=\"translate(61.529432 263.456094) scale(0.11 -0.11)\">\n",
       "       <defs>\n",
       "        <path id=\"DejaVuSans-36\" d=\"M 2113 2584 \n",
       "Q 1688 2584 1439 2293 \n",
       "Q 1191 2003 1191 1497 \n",
       "Q 1191 994 1439 701 \n",
       "Q 1688 409 2113 409 \n",
       "Q 2538 409 2786 701 \n",
       "Q 3034 994 3034 1497 \n",
       "Q 3034 2003 2786 2293 \n",
       "Q 2538 2584 2113 2584 \n",
       "z\n",
       "M 3366 4563 \n",
       "L 3366 3988 \n",
       "Q 3128 4100 2886 4159 \n",
       "Q 2644 4219 2406 4219 \n",
       "Q 1781 4219 1451 3797 \n",
       "Q 1122 3375 1075 2522 \n",
       "Q 1259 2794 1537 2939 \n",
       "Q 1816 3084 2150 3084 \n",
       "Q 2853 3084 3261 2657 \n",
       "Q 3669 2231 3669 1497 \n",
       "Q 3669 778 3244 343 \n",
       "Q 2819 -91 2113 -91 \n",
       "Q 1303 -91 875 529 \n",
       "Q 447 1150 447 2328 \n",
       "Q 447 3434 972 4092 \n",
       "Q 1497 4750 2381 4750 \n",
       "Q 2619 4750 2861 4703 \n",
       "Q 3103 4656 3366 4563 \n",
       "z\n",
       "\" transform=\"scale(0.015625)\"/>\n",
       "        <path id=\"DejaVuSans-34\" d=\"M 2419 4116 \n",
       "L 825 1625 \n",
       "L 2419 1625 \n",
       "L 2419 4116 \n",
       "z\n",
       "M 2253 4666 \n",
       "L 3047 4666 \n",
       "L 3047 1625 \n",
       "L 3713 1625 \n",
       "L 3713 1100 \n",
       "L 3047 1100 \n",
       "L 3047 0 \n",
       "L 2419 0 \n",
       "L 2419 1100 \n",
       "L 313 1100 \n",
       "L 313 1709 \n",
       "L 2253 4666 \n",
       "z\n",
       "\" transform=\"scale(0.015625)\"/>\n",
       "       </defs>\n",
       "       <use xlink:href=\"#DejaVuSans-36\"/>\n",
       "       <use xlink:href=\"#DejaVuSans-34\" x=\"63.623047\"/>\n",
       "      </g>\n",
       "     </g>\n",
       "    </g>\n",
       "    <g id=\"xtick_2\">\n",
       "     <g id=\"line2d_2\">\n",
       "      <path d=\"M 176.944697 245.597813 \n",
       "L 176.944697 23.837812 \n",
       "\" clip-path=\"url(#p529703b90b)\" style=\"fill: none; stroke: #ffffff; stroke-linecap: round\"/>\n",
       "     </g>\n",
       "     <g id=\"text_2\">\n",
       "      <!-- 128 -->\n",
       "      <g style=\"fill: #262626\" transform=\"translate(166.446572 263.456094) scale(0.11 -0.11)\">\n",
       "       <defs>\n",
       "        <path id=\"DejaVuSans-31\" d=\"M 794 531 \n",
       "L 1825 531 \n",
       "L 1825 4091 \n",
       "L 703 3866 \n",
       "L 703 4441 \n",
       "L 1819 4666 \n",
       "L 2450 4666 \n",
       "L 2450 531 \n",
       "L 3481 531 \n",
       "L 3481 0 \n",
       "L 794 0 \n",
       "L 794 531 \n",
       "z\n",
       "\" transform=\"scale(0.015625)\"/>\n",
       "        <path id=\"DejaVuSans-32\" d=\"M 1228 531 \n",
       "L 3431 531 \n",
       "L 3431 0 \n",
       "L 469 0 \n",
       "L 469 531 \n",
       "Q 828 903 1448 1529 \n",
       "Q 2069 2156 2228 2338 \n",
       "Q 2531 2678 2651 2914 \n",
       "Q 2772 3150 2772 3378 \n",
       "Q 2772 3750 2511 3984 \n",
       "Q 2250 4219 1831 4219 \n",
       "Q 1534 4219 1204 4116 \n",
       "Q 875 4013 500 3803 \n",
       "L 500 4441 \n",
       "Q 881 4594 1212 4672 \n",
       "Q 1544 4750 1819 4750 \n",
       "Q 2544 4750 2975 4387 \n",
       "Q 3406 4025 3406 3419 \n",
       "Q 3406 3131 3298 2873 \n",
       "Q 3191 2616 2906 2266 \n",
       "Q 2828 2175 2409 1742 \n",
       "Q 1991 1309 1228 531 \n",
       "z\n",
       "\" transform=\"scale(0.015625)\"/>\n",
       "        <path id=\"DejaVuSans-38\" d=\"M 2034 2216 \n",
       "Q 1584 2216 1326 1975 \n",
       "Q 1069 1734 1069 1313 \n",
       "Q 1069 891 1326 650 \n",
       "Q 1584 409 2034 409 \n",
       "Q 2484 409 2743 651 \n",
       "Q 3003 894 3003 1313 \n",
       "Q 3003 1734 2745 1975 \n",
       "Q 2488 2216 2034 2216 \n",
       "z\n",
       "M 1403 2484 \n",
       "Q 997 2584 770 2862 \n",
       "Q 544 3141 544 3541 \n",
       "Q 544 4100 942 4425 \n",
       "Q 1341 4750 2034 4750 \n",
       "Q 2731 4750 3128 4425 \n",
       "Q 3525 4100 3525 3541 \n",
       "Q 3525 3141 3298 2862 \n",
       "Q 3072 2584 2669 2484 \n",
       "Q 3125 2378 3379 2068 \n",
       "Q 3634 1759 3634 1313 \n",
       "Q 3634 634 3220 271 \n",
       "Q 2806 -91 2034 -91 \n",
       "Q 1263 -91 848 271 \n",
       "Q 434 634 434 1313 \n",
       "Q 434 1759 690 2068 \n",
       "Q 947 2378 1403 2484 \n",
       "z\n",
       "M 1172 3481 \n",
       "Q 1172 3119 1398 2916 \n",
       "Q 1625 2713 2034 2713 \n",
       "Q 2441 2713 2670 2916 \n",
       "Q 2900 3119 2900 3481 \n",
       "Q 2900 3844 2670 4047 \n",
       "Q 2441 4250 2034 4250 \n",
       "Q 1625 4250 1398 4047 \n",
       "Q 1172 3844 1172 3481 \n",
       "z\n",
       "\" transform=\"scale(0.015625)\"/>\n",
       "       </defs>\n",
       "       <use xlink:href=\"#DejaVuSans-31\"/>\n",
       "       <use xlink:href=\"#DejaVuSans-32\" x=\"63.623047\"/>\n",
       "       <use xlink:href=\"#DejaVuSans-38\" x=\"127.246094\"/>\n",
       "      </g>\n",
       "     </g>\n",
       "    </g>\n",
       "    <g id=\"xtick_3\">\n",
       "     <g id=\"line2d_3\">\n",
       "      <path d=\"M 285.361211 245.597813 \n",
       "L 285.361211 23.837812 \n",
       "\" clip-path=\"url(#p529703b90b)\" style=\"fill: none; stroke: #ffffff; stroke-linecap: round\"/>\n",
       "     </g>\n",
       "     <g id=\"text_3\">\n",
       "      <!-- 256 -->\n",
       "      <g style=\"fill: #262626\" transform=\"translate(274.863086 263.456094) scale(0.11 -0.11)\">\n",
       "       <defs>\n",
       "        <path id=\"DejaVuSans-35\" d=\"M 691 4666 \n",
       "L 3169 4666 \n",
       "L 3169 4134 \n",
       "L 1269 4134 \n",
       "L 1269 2991 \n",
       "Q 1406 3038 1543 3061 \n",
       "Q 1681 3084 1819 3084 \n",
       "Q 2600 3084 3056 2656 \n",
       "Q 3513 2228 3513 1497 \n",
       "Q 3513 744 3044 326 \n",
       "Q 2575 -91 1722 -91 \n",
       "Q 1428 -91 1123 -41 \n",
       "Q 819 9 494 109 \n",
       "L 494 744 \n",
       "Q 775 591 1075 516 \n",
       "Q 1375 441 1709 441 \n",
       "Q 2250 441 2565 725 \n",
       "Q 2881 1009 2881 1497 \n",
       "Q 2881 1984 2565 2268 \n",
       "Q 2250 2553 1709 2553 \n",
       "Q 1456 2553 1204 2497 \n",
       "Q 953 2441 691 2322 \n",
       "L 691 4666 \n",
       "z\n",
       "\" transform=\"scale(0.015625)\"/>\n",
       "       </defs>\n",
       "       <use xlink:href=\"#DejaVuSans-32\"/>\n",
       "       <use xlink:href=\"#DejaVuSans-35\" x=\"63.623047\"/>\n",
       "       <use xlink:href=\"#DejaVuSans-36\" x=\"127.246094\"/>\n",
       "      </g>\n",
       "     </g>\n",
       "    </g>\n",
       "    <g id=\"xtick_4\">\n",
       "     <g id=\"line2d_4\">\n",
       "      <path d=\"M 348.780807 245.597813 \n",
       "L 348.780807 23.837812 \n",
       "\" clip-path=\"url(#p529703b90b)\" style=\"fill: none; stroke: #ffffff; stroke-linecap: round\"/>\n",
       "     </g>\n",
       "     <g id=\"text_4\">\n",
       "      <!-- 384 -->\n",
       "      <g style=\"fill: #262626\" transform=\"translate(338.282682 263.456094) scale(0.11 -0.11)\">\n",
       "       <defs>\n",
       "        <path id=\"DejaVuSans-33\" d=\"M 2597 2516 \n",
       "Q 3050 2419 3304 2112 \n",
       "Q 3559 1806 3559 1356 \n",
       "Q 3559 666 3084 287 \n",
       "Q 2609 -91 1734 -91 \n",
       "Q 1441 -91 1130 -33 \n",
       "Q 819 25 488 141 \n",
       "L 488 750 \n",
       "Q 750 597 1062 519 \n",
       "Q 1375 441 1716 441 \n",
       "Q 2309 441 2620 675 \n",
       "Q 2931 909 2931 1356 \n",
       "Q 2931 1769 2642 2001 \n",
       "Q 2353 2234 1838 2234 \n",
       "L 1294 2234 \n",
       "L 1294 2753 \n",
       "L 1863 2753 \n",
       "Q 2328 2753 2575 2939 \n",
       "Q 2822 3125 2822 3475 \n",
       "Q 2822 3834 2567 4026 \n",
       "Q 2313 4219 1838 4219 \n",
       "Q 1578 4219 1281 4162 \n",
       "Q 984 4106 628 3988 \n",
       "L 628 4550 \n",
       "Q 988 4650 1302 4700 \n",
       "Q 1616 4750 1894 4750 \n",
       "Q 2613 4750 3031 4423 \n",
       "Q 3450 4097 3450 3541 \n",
       "Q 3450 3153 3228 2886 \n",
       "Q 3006 2619 2597 2516 \n",
       "z\n",
       "\" transform=\"scale(0.015625)\"/>\n",
       "       </defs>\n",
       "       <use xlink:href=\"#DejaVuSans-33\"/>\n",
       "       <use xlink:href=\"#DejaVuSans-38\" x=\"63.623047\"/>\n",
       "       <use xlink:href=\"#DejaVuSans-34\" x=\"127.246094\"/>\n",
       "      </g>\n",
       "     </g>\n",
       "    </g>\n",
       "    <g id=\"xtick_5\">\n",
       "     <g id=\"line2d_5\">\n",
       "      <path d=\"M 372.891818 245.597813 \n",
       "L 372.891818 23.837812 \n",
       "\" clip-path=\"url(#p529703b90b)\" style=\"fill: none; stroke: #ffffff; stroke-linecap: round\"/>\n",
       "     </g>\n",
       "     <g id=\"text_5\">\n",
       "      <!-- 448 -->\n",
       "      <g style=\"fill: #262626\" transform=\"translate(362.393693 263.456094) scale(0.11 -0.11)\">\n",
       "       <use xlink:href=\"#DejaVuSans-34\"/>\n",
       "       <use xlink:href=\"#DejaVuSans-34\" x=\"63.623047\"/>\n",
       "       <use xlink:href=\"#DejaVuSans-38\" x=\"127.246094\"/>\n",
       "      </g>\n",
       "     </g>\n",
       "    </g>\n",
       "    <g id=\"text_6\">\n",
       "     <!-- Latent dimensionality -->\n",
       "     <g style=\"fill: #262626\" transform=\"translate(155.589375 278.861875) scale(0.12 -0.12)\">\n",
       "      <defs>\n",
       "       <path id=\"DejaVuSans-4c\" d=\"M 628 4666 \n",
       "L 1259 4666 \n",
       "L 1259 531 \n",
       "L 3531 531 \n",
       "L 3531 0 \n",
       "L 628 0 \n",
       "L 628 4666 \n",
       "z\n",
       "\" transform=\"scale(0.015625)\"/>\n",
       "       <path id=\"DejaVuSans-61\" d=\"M 2194 1759 \n",
       "Q 1497 1759 1228 1600 \n",
       "Q 959 1441 959 1056 \n",
       "Q 959 750 1161 570 \n",
       "Q 1363 391 1709 391 \n",
       "Q 2188 391 2477 730 \n",
       "Q 2766 1069 2766 1631 \n",
       "L 2766 1759 \n",
       "L 2194 1759 \n",
       "z\n",
       "M 3341 1997 \n",
       "L 3341 0 \n",
       "L 2766 0 \n",
       "L 2766 531 \n",
       "Q 2569 213 2275 61 \n",
       "Q 1981 -91 1556 -91 \n",
       "Q 1019 -91 701 211 \n",
       "Q 384 513 384 1019 \n",
       "Q 384 1609 779 1909 \n",
       "Q 1175 2209 1959 2209 \n",
       "L 2766 2209 \n",
       "L 2766 2266 \n",
       "Q 2766 2663 2505 2880 \n",
       "Q 2244 3097 1772 3097 \n",
       "Q 1472 3097 1187 3025 \n",
       "Q 903 2953 641 2809 \n",
       "L 641 3341 \n",
       "Q 956 3463 1253 3523 \n",
       "Q 1550 3584 1831 3584 \n",
       "Q 2591 3584 2966 3190 \n",
       "Q 3341 2797 3341 1997 \n",
       "z\n",
       "\" transform=\"scale(0.015625)\"/>\n",
       "       <path id=\"DejaVuSans-74\" d=\"M 1172 4494 \n",
       "L 1172 3500 \n",
       "L 2356 3500 \n",
       "L 2356 3053 \n",
       "L 1172 3053 \n",
       "L 1172 1153 \n",
       "Q 1172 725 1289 603 \n",
       "Q 1406 481 1766 481 \n",
       "L 2356 481 \n",
       "L 2356 0 \n",
       "L 1766 0 \n",
       "Q 1100 0 847 248 \n",
       "Q 594 497 594 1153 \n",
       "L 594 3053 \n",
       "L 172 3053 \n",
       "L 172 3500 \n",
       "L 594 3500 \n",
       "L 594 4494 \n",
       "L 1172 4494 \n",
       "z\n",
       "\" transform=\"scale(0.015625)\"/>\n",
       "       <path id=\"DejaVuSans-65\" d=\"M 3597 1894 \n",
       "L 3597 1613 \n",
       "L 953 1613 \n",
       "Q 991 1019 1311 708 \n",
       "Q 1631 397 2203 397 \n",
       "Q 2534 397 2845 478 \n",
       "Q 3156 559 3463 722 \n",
       "L 3463 178 \n",
       "Q 3153 47 2828 -22 \n",
       "Q 2503 -91 2169 -91 \n",
       "Q 1331 -91 842 396 \n",
       "Q 353 884 353 1716 \n",
       "Q 353 2575 817 3079 \n",
       "Q 1281 3584 2069 3584 \n",
       "Q 2775 3584 3186 3129 \n",
       "Q 3597 2675 3597 1894 \n",
       "z\n",
       "M 3022 2063 \n",
       "Q 3016 2534 2758 2815 \n",
       "Q 2500 3097 2075 3097 \n",
       "Q 1594 3097 1305 2825 \n",
       "Q 1016 2553 972 2059 \n",
       "L 3022 2063 \n",
       "z\n",
       "\" transform=\"scale(0.015625)\"/>\n",
       "       <path id=\"DejaVuSans-6e\" d=\"M 3513 2113 \n",
       "L 3513 0 \n",
       "L 2938 0 \n",
       "L 2938 2094 \n",
       "Q 2938 2591 2744 2837 \n",
       "Q 2550 3084 2163 3084 \n",
       "Q 1697 3084 1428 2787 \n",
       "Q 1159 2491 1159 1978 \n",
       "L 1159 0 \n",
       "L 581 0 \n",
       "L 581 3500 \n",
       "L 1159 3500 \n",
       "L 1159 2956 \n",
       "Q 1366 3272 1645 3428 \n",
       "Q 1925 3584 2291 3584 \n",
       "Q 2894 3584 3203 3211 \n",
       "Q 3513 2838 3513 2113 \n",
       "z\n",
       "\" transform=\"scale(0.015625)\"/>\n",
       "       <path id=\"DejaVuSans-20\" transform=\"scale(0.015625)\"/>\n",
       "       <path id=\"DejaVuSans-64\" d=\"M 2906 2969 \n",
       "L 2906 4863 \n",
       "L 3481 4863 \n",
       "L 3481 0 \n",
       "L 2906 0 \n",
       "L 2906 525 \n",
       "Q 2725 213 2448 61 \n",
       "Q 2172 -91 1784 -91 \n",
       "Q 1150 -91 751 415 \n",
       "Q 353 922 353 1747 \n",
       "Q 353 2572 751 3078 \n",
       "Q 1150 3584 1784 3584 \n",
       "Q 2172 3584 2448 3432 \n",
       "Q 2725 3281 2906 2969 \n",
       "z\n",
       "M 947 1747 \n",
       "Q 947 1113 1208 752 \n",
       "Q 1469 391 1925 391 \n",
       "Q 2381 391 2643 752 \n",
       "Q 2906 1113 2906 1747 \n",
       "Q 2906 2381 2643 2742 \n",
       "Q 2381 3103 1925 3103 \n",
       "Q 1469 3103 1208 2742 \n",
       "Q 947 2381 947 1747 \n",
       "z\n",
       "\" transform=\"scale(0.015625)\"/>\n",
       "       <path id=\"DejaVuSans-69\" d=\"M 603 3500 \n",
       "L 1178 3500 \n",
       "L 1178 0 \n",
       "L 603 0 \n",
       "L 603 3500 \n",
       "z\n",
       "M 603 4863 \n",
       "L 1178 4863 \n",
       "L 1178 4134 \n",
       "L 603 4134 \n",
       "L 603 4863 \n",
       "z\n",
       "\" transform=\"scale(0.015625)\"/>\n",
       "       <path id=\"DejaVuSans-6d\" d=\"M 3328 2828 \n",
       "Q 3544 3216 3844 3400 \n",
       "Q 4144 3584 4550 3584 \n",
       "Q 5097 3584 5394 3201 \n",
       "Q 5691 2819 5691 2113 \n",
       "L 5691 0 \n",
       "L 5113 0 \n",
       "L 5113 2094 \n",
       "Q 5113 2597 4934 2840 \n",
       "Q 4756 3084 4391 3084 \n",
       "Q 3944 3084 3684 2787 \n",
       "Q 3425 2491 3425 1978 \n",
       "L 3425 0 \n",
       "L 2847 0 \n",
       "L 2847 2094 \n",
       "Q 2847 2600 2669 2842 \n",
       "Q 2491 3084 2119 3084 \n",
       "Q 1678 3084 1418 2786 \n",
       "Q 1159 2488 1159 1978 \n",
       "L 1159 0 \n",
       "L 581 0 \n",
       "L 581 3500 \n",
       "L 1159 3500 \n",
       "L 1159 2956 \n",
       "Q 1356 3278 1631 3431 \n",
       "Q 1906 3584 2284 3584 \n",
       "Q 2666 3584 2933 3390 \n",
       "Q 3200 3197 3328 2828 \n",
       "z\n",
       "\" transform=\"scale(0.015625)\"/>\n",
       "       <path id=\"DejaVuSans-73\" d=\"M 2834 3397 \n",
       "L 2834 2853 \n",
       "Q 2591 2978 2328 3040 \n",
       "Q 2066 3103 1784 3103 \n",
       "Q 1356 3103 1142 2972 \n",
       "Q 928 2841 928 2578 \n",
       "Q 928 2378 1081 2264 \n",
       "Q 1234 2150 1697 2047 \n",
       "L 1894 2003 \n",
       "Q 2506 1872 2764 1633 \n",
       "Q 3022 1394 3022 966 \n",
       "Q 3022 478 2636 193 \n",
       "Q 2250 -91 1575 -91 \n",
       "Q 1294 -91 989 -36 \n",
       "Q 684 19 347 128 \n",
       "L 347 722 \n",
       "Q 666 556 975 473 \n",
       "Q 1284 391 1588 391 \n",
       "Q 1994 391 2212 530 \n",
       "Q 2431 669 2431 922 \n",
       "Q 2431 1156 2273 1281 \n",
       "Q 2116 1406 1581 1522 \n",
       "L 1381 1569 \n",
       "Q 847 1681 609 1914 \n",
       "Q 372 2147 372 2553 \n",
       "Q 372 3047 722 3315 \n",
       "Q 1072 3584 1716 3584 \n",
       "Q 2034 3584 2315 3537 \n",
       "Q 2597 3491 2834 3397 \n",
       "z\n",
       "\" transform=\"scale(0.015625)\"/>\n",
       "       <path id=\"DejaVuSans-6f\" d=\"M 1959 3097 \n",
       "Q 1497 3097 1228 2736 \n",
       "Q 959 2375 959 1747 \n",
       "Q 959 1119 1226 758 \n",
       "Q 1494 397 1959 397 \n",
       "Q 2419 397 2687 759 \n",
       "Q 2956 1122 2956 1747 \n",
       "Q 2956 2369 2687 2733 \n",
       "Q 2419 3097 1959 3097 \n",
       "z\n",
       "M 1959 3584 \n",
       "Q 2709 3584 3137 3096 \n",
       "Q 3566 2609 3566 1747 \n",
       "Q 3566 888 3137 398 \n",
       "Q 2709 -91 1959 -91 \n",
       "Q 1206 -91 779 398 \n",
       "Q 353 888 353 1747 \n",
       "Q 353 2609 779 3096 \n",
       "Q 1206 3584 1959 3584 \n",
       "z\n",
       "\" transform=\"scale(0.015625)\"/>\n",
       "       <path id=\"DejaVuSans-6c\" d=\"M 603 4863 \n",
       "L 1178 4863 \n",
       "L 1178 0 \n",
       "L 603 0 \n",
       "L 603 4863 \n",
       "z\n",
       "\" transform=\"scale(0.015625)\"/>\n",
       "       <path id=\"DejaVuSans-79\" d=\"M 2059 -325 \n",
       "Q 1816 -950 1584 -1140 \n",
       "Q 1353 -1331 966 -1331 \n",
       "L 506 -1331 \n",
       "L 506 -850 \n",
       "L 844 -850 \n",
       "Q 1081 -850 1212 -737 \n",
       "Q 1344 -625 1503 -206 \n",
       "L 1606 56 \n",
       "L 191 3500 \n",
       "L 800 3500 \n",
       "L 1894 763 \n",
       "L 2988 3500 \n",
       "L 3597 3500 \n",
       "L 2059 -325 \n",
       "z\n",
       "\" transform=\"scale(0.015625)\"/>\n",
       "      </defs>\n",
       "      <use xlink:href=\"#DejaVuSans-4c\"/>\n",
       "      <use xlink:href=\"#DejaVuSans-61\" x=\"55.712891\"/>\n",
       "      <use xlink:href=\"#DejaVuSans-74\" x=\"116.992188\"/>\n",
       "      <use xlink:href=\"#DejaVuSans-65\" x=\"156.201172\"/>\n",
       "      <use xlink:href=\"#DejaVuSans-6e\" x=\"217.724609\"/>\n",
       "      <use xlink:href=\"#DejaVuSans-74\" x=\"281.103516\"/>\n",
       "      <use xlink:href=\"#DejaVuSans-20\" x=\"320.3125\"/>\n",
       "      <use xlink:href=\"#DejaVuSans-64\" x=\"352.099609\"/>\n",
       "      <use xlink:href=\"#DejaVuSans-69\" x=\"415.576172\"/>\n",
       "      <use xlink:href=\"#DejaVuSans-6d\" x=\"443.359375\"/>\n",
       "      <use xlink:href=\"#DejaVuSans-65\" x=\"540.771484\"/>\n",
       "      <use xlink:href=\"#DejaVuSans-6e\" x=\"602.294922\"/>\n",
       "      <use xlink:href=\"#DejaVuSans-73\" x=\"665.673828\"/>\n",
       "      <use xlink:href=\"#DejaVuSans-69\" x=\"717.773438\"/>\n",
       "      <use xlink:href=\"#DejaVuSans-6f\" x=\"745.556641\"/>\n",
       "      <use xlink:href=\"#DejaVuSans-6e\" x=\"806.738281\"/>\n",
       "      <use xlink:href=\"#DejaVuSans-61\" x=\"870.117188\"/>\n",
       "      <use xlink:href=\"#DejaVuSans-6c\" x=\"931.396484\"/>\n",
       "      <use xlink:href=\"#DejaVuSans-69\" x=\"959.179688\"/>\n",
       "      <use xlink:href=\"#DejaVuSans-74\" x=\"986.962891\"/>\n",
       "      <use xlink:href=\"#DejaVuSans-79\" x=\"1026.171875\"/>\n",
       "     </g>\n",
       "    </g>\n",
       "   </g>\n",
       "   <g id=\"matplotlib.axis_2\">\n",
       "    <g id=\"ytick_1\">\n",
       "     <g id=\"line2d_6\">\n",
       "      <path d=\"M 53.31 245.597813 \n",
       "L 388.11 245.597813 \n",
       "\" clip-path=\"url(#p529703b90b)\" style=\"fill: none; stroke: #ffffff; stroke-linecap: round\"/>\n",
       "     </g>\n",
       "     <g id=\"text_7\">\n",
       "      <!-- 0 -->\n",
       "      <g style=\"fill: #262626\" transform=\"translate(36.81125 249.776953) scale(0.11 -0.11)\">\n",
       "       <defs>\n",
       "        <path id=\"DejaVuSans-30\" d=\"M 2034 4250 \n",
       "Q 1547 4250 1301 3770 \n",
       "Q 1056 3291 1056 2328 \n",
       "Q 1056 1369 1301 889 \n",
       "Q 1547 409 2034 409 \n",
       "Q 2525 409 2770 889 \n",
       "Q 3016 1369 3016 2328 \n",
       "Q 3016 3291 2770 3770 \n",
       "Q 2525 4250 2034 4250 \n",
       "z\n",
       "M 2034 4750 \n",
       "Q 2819 4750 3233 4129 \n",
       "Q 3647 3509 3647 2328 \n",
       "Q 3647 1150 3233 529 \n",
       "Q 2819 -91 2034 -91 \n",
       "Q 1250 -91 836 529 \n",
       "Q 422 1150 422 2328 \n",
       "Q 422 3509 836 4129 \n",
       "Q 1250 4750 2034 4750 \n",
       "z\n",
       "\" transform=\"scale(0.015625)\"/>\n",
       "       </defs>\n",
       "       <use xlink:href=\"#DejaVuSans-30\"/>\n",
       "      </g>\n",
       "     </g>\n",
       "    </g>\n",
       "    <g id=\"ytick_2\">\n",
       "     <g id=\"line2d_7\">\n",
       "      <path d=\"M 53.31 201.245812 \n",
       "L 388.11 201.245812 \n",
       "\" clip-path=\"url(#p529703b90b)\" style=\"fill: none; stroke: #ffffff; stroke-linecap: round\"/>\n",
       "     </g>\n",
       "     <g id=\"text_8\">\n",
       "      <!-- 20 -->\n",
       "      <g style=\"fill: #262626\" transform=\"translate(29.8125 205.424953) scale(0.11 -0.11)\">\n",
       "       <use xlink:href=\"#DejaVuSans-32\"/>\n",
       "       <use xlink:href=\"#DejaVuSans-30\" x=\"63.623047\"/>\n",
       "      </g>\n",
       "     </g>\n",
       "    </g>\n",
       "    <g id=\"ytick_3\">\n",
       "     <g id=\"line2d_8\">\n",
       "      <path d=\"M 53.31 156.893812 \n",
       "L 388.11 156.893812 \n",
       "\" clip-path=\"url(#p529703b90b)\" style=\"fill: none; stroke: #ffffff; stroke-linecap: round\"/>\n",
       "     </g>\n",
       "     <g id=\"text_9\">\n",
       "      <!-- 40 -->\n",
       "      <g style=\"fill: #262626\" transform=\"translate(29.8125 161.072953) scale(0.11 -0.11)\">\n",
       "       <use xlink:href=\"#DejaVuSans-34\"/>\n",
       "       <use xlink:href=\"#DejaVuSans-30\" x=\"63.623047\"/>\n",
       "      </g>\n",
       "     </g>\n",
       "    </g>\n",
       "    <g id=\"ytick_4\">\n",
       "     <g id=\"line2d_9\">\n",
       "      <path d=\"M 53.31 112.541812 \n",
       "L 388.11 112.541812 \n",
       "\" clip-path=\"url(#p529703b90b)\" style=\"fill: none; stroke: #ffffff; stroke-linecap: round\"/>\n",
       "     </g>\n",
       "     <g id=\"text_10\">\n",
       "      <!-- 60 -->\n",
       "      <g style=\"fill: #262626\" transform=\"translate(29.8125 116.720953) scale(0.11 -0.11)\">\n",
       "       <use xlink:href=\"#DejaVuSans-36\"/>\n",
       "       <use xlink:href=\"#DejaVuSans-30\" x=\"63.623047\"/>\n",
       "      </g>\n",
       "     </g>\n",
       "    </g>\n",
       "    <g id=\"ytick_5\">\n",
       "     <g id=\"line2d_10\">\n",
       "      <path d=\"M 53.31 68.189812 \n",
       "L 388.11 68.189812 \n",
       "\" clip-path=\"url(#p529703b90b)\" style=\"fill: none; stroke: #ffffff; stroke-linecap: round\"/>\n",
       "     </g>\n",
       "     <g id=\"text_11\">\n",
       "      <!-- 80 -->\n",
       "      <g style=\"fill: #262626\" transform=\"translate(29.8125 72.368953) scale(0.11 -0.11)\">\n",
       "       <use xlink:href=\"#DejaVuSans-38\"/>\n",
       "       <use xlink:href=\"#DejaVuSans-30\" x=\"63.623047\"/>\n",
       "      </g>\n",
       "     </g>\n",
       "    </g>\n",
       "    <g id=\"ytick_6\">\n",
       "     <g id=\"line2d_11\">\n",
       "      <path d=\"M 53.31 23.837812 \n",
       "L 388.11 23.837812 \n",
       "\" clip-path=\"url(#p529703b90b)\" style=\"fill: none; stroke: #ffffff; stroke-linecap: round\"/>\n",
       "     </g>\n",
       "     <g id=\"text_12\">\n",
       "      <!-- 100 -->\n",
       "      <g style=\"fill: #262626\" transform=\"translate(22.81375 28.016953) scale(0.11 -0.11)\">\n",
       "       <use xlink:href=\"#DejaVuSans-31\"/>\n",
       "       <use xlink:href=\"#DejaVuSans-30\" x=\"63.623047\"/>\n",
       "       <use xlink:href=\"#DejaVuSans-30\" x=\"127.246094\"/>\n",
       "      </g>\n",
       "     </g>\n",
       "    </g>\n",
       "    <g id=\"text_13\">\n",
       "     <!-- Reconstruction error -->\n",
       "     <g style=\"fill: #262626\" transform=\"translate(16.318125 196.05) rotate(-90) scale(0.12 -0.12)\">\n",
       "      <defs>\n",
       "       <path id=\"DejaVuSans-52\" d=\"M 2841 2188 \n",
       "Q 3044 2119 3236 1894 \n",
       "Q 3428 1669 3622 1275 \n",
       "L 4263 0 \n",
       "L 3584 0 \n",
       "L 2988 1197 \n",
       "Q 2756 1666 2539 1819 \n",
       "Q 2322 1972 1947 1972 \n",
       "L 1259 1972 \n",
       "L 1259 0 \n",
       "L 628 0 \n",
       "L 628 4666 \n",
       "L 2053 4666 \n",
       "Q 2853 4666 3247 4331 \n",
       "Q 3641 3997 3641 3322 \n",
       "Q 3641 2881 3436 2590 \n",
       "Q 3231 2300 2841 2188 \n",
       "z\n",
       "M 1259 4147 \n",
       "L 1259 2491 \n",
       "L 2053 2491 \n",
       "Q 2509 2491 2742 2702 \n",
       "Q 2975 2913 2975 3322 \n",
       "Q 2975 3731 2742 3939 \n",
       "Q 2509 4147 2053 4147 \n",
       "L 1259 4147 \n",
       "z\n",
       "\" transform=\"scale(0.015625)\"/>\n",
       "       <path id=\"DejaVuSans-63\" d=\"M 3122 3366 \n",
       "L 3122 2828 \n",
       "Q 2878 2963 2633 3030 \n",
       "Q 2388 3097 2138 3097 \n",
       "Q 1578 3097 1268 2742 \n",
       "Q 959 2388 959 1747 \n",
       "Q 959 1106 1268 751 \n",
       "Q 1578 397 2138 397 \n",
       "Q 2388 397 2633 464 \n",
       "Q 2878 531 3122 666 \n",
       "L 3122 134 \n",
       "Q 2881 22 2623 -34 \n",
       "Q 2366 -91 2075 -91 \n",
       "Q 1284 -91 818 406 \n",
       "Q 353 903 353 1747 \n",
       "Q 353 2603 823 3093 \n",
       "Q 1294 3584 2113 3584 \n",
       "Q 2378 3584 2631 3529 \n",
       "Q 2884 3475 3122 3366 \n",
       "z\n",
       "\" transform=\"scale(0.015625)\"/>\n",
       "       <path id=\"DejaVuSans-72\" d=\"M 2631 2963 \n",
       "Q 2534 3019 2420 3045 \n",
       "Q 2306 3072 2169 3072 \n",
       "Q 1681 3072 1420 2755 \n",
       "Q 1159 2438 1159 1844 \n",
       "L 1159 0 \n",
       "L 581 0 \n",
       "L 581 3500 \n",
       "L 1159 3500 \n",
       "L 1159 2956 \n",
       "Q 1341 3275 1631 3429 \n",
       "Q 1922 3584 2338 3584 \n",
       "Q 2397 3584 2469 3576 \n",
       "Q 2541 3569 2628 3553 \n",
       "L 2631 2963 \n",
       "z\n",
       "\" transform=\"scale(0.015625)\"/>\n",
       "       <path id=\"DejaVuSans-75\" d=\"M 544 1381 \n",
       "L 544 3500 \n",
       "L 1119 3500 \n",
       "L 1119 1403 \n",
       "Q 1119 906 1312 657 \n",
       "Q 1506 409 1894 409 \n",
       "Q 2359 409 2629 706 \n",
       "Q 2900 1003 2900 1516 \n",
       "L 2900 3500 \n",
       "L 3475 3500 \n",
       "L 3475 0 \n",
       "L 2900 0 \n",
       "L 2900 538 \n",
       "Q 2691 219 2414 64 \n",
       "Q 2138 -91 1772 -91 \n",
       "Q 1169 -91 856 284 \n",
       "Q 544 659 544 1381 \n",
       "z\n",
       "M 1991 3584 \n",
       "L 1991 3584 \n",
       "z\n",
       "\" transform=\"scale(0.015625)\"/>\n",
       "      </defs>\n",
       "      <use xlink:href=\"#DejaVuSans-52\"/>\n",
       "      <use xlink:href=\"#DejaVuSans-65\" x=\"64.982422\"/>\n",
       "      <use xlink:href=\"#DejaVuSans-63\" x=\"126.505859\"/>\n",
       "      <use xlink:href=\"#DejaVuSans-6f\" x=\"181.486328\"/>\n",
       "      <use xlink:href=\"#DejaVuSans-6e\" x=\"242.667969\"/>\n",
       "      <use xlink:href=\"#DejaVuSans-73\" x=\"306.046875\"/>\n",
       "      <use xlink:href=\"#DejaVuSans-74\" x=\"358.146484\"/>\n",
       "      <use xlink:href=\"#DejaVuSans-72\" x=\"397.355469\"/>\n",
       "      <use xlink:href=\"#DejaVuSans-75\" x=\"438.46875\"/>\n",
       "      <use xlink:href=\"#DejaVuSans-63\" x=\"501.847656\"/>\n",
       "      <use xlink:href=\"#DejaVuSans-74\" x=\"556.828125\"/>\n",
       "      <use xlink:href=\"#DejaVuSans-69\" x=\"596.037109\"/>\n",
       "      <use xlink:href=\"#DejaVuSans-6f\" x=\"623.820312\"/>\n",
       "      <use xlink:href=\"#DejaVuSans-6e\" x=\"685.001953\"/>\n",
       "      <use xlink:href=\"#DejaVuSans-20\" x=\"748.380859\"/>\n",
       "      <use xlink:href=\"#DejaVuSans-65\" x=\"780.167969\"/>\n",
       "      <use xlink:href=\"#DejaVuSans-72\" x=\"841.691406\"/>\n",
       "      <use xlink:href=\"#DejaVuSans-72\" x=\"881.054688\"/>\n",
       "      <use xlink:href=\"#DejaVuSans-6f\" x=\"919.917969\"/>\n",
       "      <use xlink:href=\"#DejaVuSans-72\" x=\"981.099609\"/>\n",
       "     </g>\n",
       "    </g>\n",
       "   </g>\n",
       "   <g id=\"line2d_12\">\n",
       "    <path d=\"M 68.528182 52.442724 \n",
       "L 176.944697 134.215311 \n",
       "L 285.361211 189.220803 \n",
       "L 348.780807 210.656195 \n",
       "L 372.891818 217.612578 \n",
       "\" clip-path=\"url(#p529703b90b)\" style=\"fill: none; stroke-dasharray: 5.55,2.4; stroke-dashoffset: 0; stroke: #000000; stroke-width: 1.5\"/>\n",
       "    <defs>\n",
       "     <path id=\"m30d52e1dd8\" d=\"M 0 -8 \n",
       "L -1.796112 -2.472136 \n",
       "L -7.608452 -2.472136 \n",
       "L -2.90617 0.944272 \n",
       "L -4.702282 6.472136 \n",
       "L -0 3.055728 \n",
       "L 4.702282 6.472136 \n",
       "L 2.90617 0.944272 \n",
       "L 7.608452 -2.472136 \n",
       "L 1.796112 -2.472136 \n",
       "z\n",
       "\" style=\"stroke: #000000; stroke-linejoin: bevel\"/>\n",
       "    </defs>\n",
       "    <g clip-path=\"url(#p529703b90b)\">\n",
       "     <use xlink:href=\"#m30d52e1dd8\" x=\"68.528182\" y=\"52.442724\" style=\"fill: #ccb974; stroke: #000000; stroke-linejoin: bevel\"/>\n",
       "     <use xlink:href=\"#m30d52e1dd8\" x=\"176.944697\" y=\"134.215311\" style=\"fill: #ccb974; stroke: #000000; stroke-linejoin: bevel\"/>\n",
       "     <use xlink:href=\"#m30d52e1dd8\" x=\"285.361211\" y=\"189.220803\" style=\"fill: #ccb974; stroke: #000000; stroke-linejoin: bevel\"/>\n",
       "     <use xlink:href=\"#m30d52e1dd8\" x=\"348.780807\" y=\"210.656195\" style=\"fill: #ccb974; stroke: #000000; stroke-linejoin: bevel\"/>\n",
       "     <use xlink:href=\"#m30d52e1dd8\" x=\"372.891818\" y=\"217.612578\" style=\"fill: #ccb974; stroke: #000000; stroke-linejoin: bevel\"/>\n",
       "    </g>\n",
       "   </g>\n",
       "   <g id=\"patch_3\">\n",
       "    <path d=\"M 53.31 245.597813 \n",
       "L 53.31 23.837812 \n",
       "\" style=\"fill: none; stroke: #ffffff; stroke-width: 1.25; stroke-linejoin: miter; stroke-linecap: square\"/>\n",
       "   </g>\n",
       "   <g id=\"patch_4\">\n",
       "    <path d=\"M 388.11 245.597813 \n",
       "L 388.11 23.837812 \n",
       "\" style=\"fill: none; stroke: #ffffff; stroke-width: 1.25; stroke-linejoin: miter; stroke-linecap: square\"/>\n",
       "   </g>\n",
       "   <g id=\"patch_5\">\n",
       "    <path d=\"M 53.31 245.597813 \n",
       "L 388.11 245.597813 \n",
       "\" style=\"fill: none; stroke: #ffffff; stroke-width: 1.25; stroke-linejoin: miter; stroke-linecap: square\"/>\n",
       "   </g>\n",
       "   <g id=\"patch_6\">\n",
       "    <path d=\"M 53.31 23.837812 \n",
       "L 388.11 23.837812 \n",
       "\" style=\"fill: none; stroke: #ffffff; stroke-width: 1.25; stroke-linejoin: miter; stroke-linecap: square\"/>\n",
       "   </g>\n",
       "   <g id=\"text_14\">\n",
       "    <!-- Reconstruction error over latent dimensionality -->\n",
       "    <g style=\"fill: #262626\" transform=\"translate(55.076875 17.837812) scale(0.14 -0.14)\">\n",
       "     <defs>\n",
       "      <path id=\"DejaVuSans-76\" d=\"M 191 3500 \n",
       "L 800 3500 \n",
       "L 1894 563 \n",
       "L 2988 3500 \n",
       "L 3597 3500 \n",
       "L 2284 0 \n",
       "L 1503 0 \n",
       "L 191 3500 \n",
       "z\n",
       "\" transform=\"scale(0.015625)\"/>\n",
       "     </defs>\n",
       "     <use xlink:href=\"#DejaVuSans-52\"/>\n",
       "     <use xlink:href=\"#DejaVuSans-65\" x=\"64.982422\"/>\n",
       "     <use xlink:href=\"#DejaVuSans-63\" x=\"126.505859\"/>\n",
       "     <use xlink:href=\"#DejaVuSans-6f\" x=\"181.486328\"/>\n",
       "     <use xlink:href=\"#DejaVuSans-6e\" x=\"242.667969\"/>\n",
       "     <use xlink:href=\"#DejaVuSans-73\" x=\"306.046875\"/>\n",
       "     <use xlink:href=\"#DejaVuSans-74\" x=\"358.146484\"/>\n",
       "     <use xlink:href=\"#DejaVuSans-72\" x=\"397.355469\"/>\n",
       "     <use xlink:href=\"#DejaVuSans-75\" x=\"438.46875\"/>\n",
       "     <use xlink:href=\"#DejaVuSans-63\" x=\"501.847656\"/>\n",
       "     <use xlink:href=\"#DejaVuSans-74\" x=\"556.828125\"/>\n",
       "     <use xlink:href=\"#DejaVuSans-69\" x=\"596.037109\"/>\n",
       "     <use xlink:href=\"#DejaVuSans-6f\" x=\"623.820312\"/>\n",
       "     <use xlink:href=\"#DejaVuSans-6e\" x=\"685.001953\"/>\n",
       "     <use xlink:href=\"#DejaVuSans-20\" x=\"748.380859\"/>\n",
       "     <use xlink:href=\"#DejaVuSans-65\" x=\"780.167969\"/>\n",
       "     <use xlink:href=\"#DejaVuSans-72\" x=\"841.691406\"/>\n",
       "     <use xlink:href=\"#DejaVuSans-72\" x=\"881.054688\"/>\n",
       "     <use xlink:href=\"#DejaVuSans-6f\" x=\"919.917969\"/>\n",
       "     <use xlink:href=\"#DejaVuSans-72\" x=\"981.099609\"/>\n",
       "     <use xlink:href=\"#DejaVuSans-20\" x=\"1022.212891\"/>\n",
       "     <use xlink:href=\"#DejaVuSans-6f\" x=\"1054\"/>\n",
       "     <use xlink:href=\"#DejaVuSans-76\" x=\"1115.181641\"/>\n",
       "     <use xlink:href=\"#DejaVuSans-65\" x=\"1174.361328\"/>\n",
       "     <use xlink:href=\"#DejaVuSans-72\" x=\"1235.884766\"/>\n",
       "     <use xlink:href=\"#DejaVuSans-20\" x=\"1276.998047\"/>\n",
       "     <use xlink:href=\"#DejaVuSans-6c\" x=\"1308.785156\"/>\n",
       "     <use xlink:href=\"#DejaVuSans-61\" x=\"1336.568359\"/>\n",
       "     <use xlink:href=\"#DejaVuSans-74\" x=\"1397.847656\"/>\n",
       "     <use xlink:href=\"#DejaVuSans-65\" x=\"1437.056641\"/>\n",
       "     <use xlink:href=\"#DejaVuSans-6e\" x=\"1498.580078\"/>\n",
       "     <use xlink:href=\"#DejaVuSans-74\" x=\"1561.958984\"/>\n",
       "     <use xlink:href=\"#DejaVuSans-20\" x=\"1601.167969\"/>\n",
       "     <use xlink:href=\"#DejaVuSans-64\" x=\"1632.955078\"/>\n",
       "     <use xlink:href=\"#DejaVuSans-69\" x=\"1696.431641\"/>\n",
       "     <use xlink:href=\"#DejaVuSans-6d\" x=\"1724.214844\"/>\n",
       "     <use xlink:href=\"#DejaVuSans-65\" x=\"1821.626953\"/>\n",
       "     <use xlink:href=\"#DejaVuSans-6e\" x=\"1883.150391\"/>\n",
       "     <use xlink:href=\"#DejaVuSans-73\" x=\"1946.529297\"/>\n",
       "     <use xlink:href=\"#DejaVuSans-69\" x=\"1998.628906\"/>\n",
       "     <use xlink:href=\"#DejaVuSans-6f\" x=\"2026.412109\"/>\n",
       "     <use xlink:href=\"#DejaVuSans-6e\" x=\"2087.59375\"/>\n",
       "     <use xlink:href=\"#DejaVuSans-61\" x=\"2150.972656\"/>\n",
       "     <use xlink:href=\"#DejaVuSans-6c\" x=\"2212.251953\"/>\n",
       "     <use xlink:href=\"#DejaVuSans-69\" x=\"2240.035156\"/>\n",
       "     <use xlink:href=\"#DejaVuSans-74\" x=\"2267.818359\"/>\n",
       "     <use xlink:href=\"#DejaVuSans-79\" x=\"2307.027344\"/>\n",
       "    </g>\n",
       "   </g>\n",
       "  </g>\n",
       " </g>\n",
       " <defs>\n",
       "  <clipPath id=\"p529703b90b\">\n",
       "   <rect x=\"53.31\" y=\"23.837812\" width=\"334.8\" height=\"221.76\"/>\n",
       "  </clipPath>\n",
       " </defs>\n",
       "</svg>\n"
      ],
      "text/plain": [
       "<Figure size 600x400 with 1 Axes>"
      ]
     },
     "metadata": {},
     "output_type": "display_data"
    }
   ],
   "source": [
    "latent_dims = sorted(k for k in model_dict)\n",
    "val_scores = [model_dict[k][\"result\"][\"val\"][0][\"test_loss\"] for k in latent_dims]\n",
    "\n",
    "fig = plt.figure(figsize=(6, 4))\n",
    "plt.plot(\n",
    "    latent_dims, val_scores, \"--\", color=\"#000\", marker=\"*\", markeredgecolor=\"#000\", markerfacecolor=\"y\", markersize=16\n",
    ")\n",
    "plt.xscale(\"log\")\n",
    "plt.xticks(latent_dims, labels=latent_dims)\n",
    "plt.title(\"Reconstruction error over latent dimensionality\", fontsize=14)\n",
    "plt.xlabel(\"Latent dimensionality\")\n",
    "plt.ylabel(\"Reconstruction error\")\n",
    "plt.minorticks_off()\n",
    "plt.ylim(0, 100)\n",
    "plt.show()"
   ]
  },
  {
   "cell_type": "code",
   "execution_count": 18,
   "id": "bbff1c91-681f-44dd-b8cb-fee885760e6d",
   "metadata": {},
   "outputs": [],
   "source": [
    "def visualize_reconstructions(model, input_imgs):\n",
    "    # Reconstruct images\n",
    "    model.eval()\n",
    "    with torch.no_grad():\n",
    "        reconst_imgs = model(input_imgs.to(model.device))\n",
    "    reconst_imgs = reconst_imgs.cpu()\n",
    "\n",
    "    # Plotting\n",
    "    imgs = torch.stack([input_imgs, reconst_imgs], dim=1).flatten(0, 1)\n",
    "    grid = torchvision.utils.make_grid(imgs, nrow=4, normalize=True, value_range=(-1, 1))\n",
    "    grid = grid.permute(1, 2, 0)\n",
    "    plt.figure(figsize=(7, 4.5))\n",
    "    plt.title(\"Reconstructed from %i latents\" % (model.hparams.latent_dim))\n",
    "    plt.imshow(grid)\n",
    "    plt.axis(\"off\")\n",
    "    plt.show()"
   ]
  },
  {
   "cell_type": "code",
   "execution_count": 19,
   "id": "ce6b4385-74ad-46df-9062-bf5a8f9af8f1",
   "metadata": {},
   "outputs": [
    {
     "data": {
      "application/pdf": "[encoded data removed]",
      "image/svg+xml": [
       "<?xml version=\"1.0\" encoding=\"utf-8\" standalone=\"no\"?>\n",
       "<!DOCTYPE svg PUBLIC \"-//W3C//DTD SVG 1.1//EN\"\n",
       "  \"http://www.w3.org/Graphics/SVG/1.1/DTD/svg11.dtd\">\n",
       "<svg xmlns:xlink=\"http://www.w3.org/1999/xlink\" width=\"405pt\" height=\"227.64856pt\" viewBox=\"0 0 405 227.64856\" xmlns=\"http://www.w3.org/2000/svg\" version=\"1.1\">\n",
       " <metadata>\n",
       "  <rdf:RDF xmlns:dc=\"http://purl.org/dc/elements/1.1/\" xmlns:cc=\"http://creativecommons.org/ns#\" xmlns:rdf=\"http://www.w3.org/1999/02/22-rdf-syntax-ns#\">\n",
       "   <cc:Work>\n",
       "    <dc:type rdf:resource=\"http://purl.org/dc/dcmitype/StillImage\"/>\n",
       "    <dc:date>2025-02-21T20:52:44.742877</dc:date>\n",
       "    <dc:format>image/svg+xml</dc:format>\n",
       "    <dc:creator>\n",
       "     <cc:Agent>\n",
       "      <dc:title>Matplotlib v3.9.2, https://matplotlib.org/</dc:title>\n",
       "     </cc:Agent>\n",
       "    </dc:creator>\n",
       "   </cc:Work>\n",
       "  </rdf:RDF>\n",
       " </metadata>\n",
       " <defs>\n",
       "  <style type=\"text/css\">*{stroke-linejoin: round; stroke-linecap: butt}</style>\n",
       " </defs>\n",
       " <g id=\"figure_1\">\n",
       "  <g id=\"patch_1\">\n",
       "   <path d=\"M 0 227.64856 \n",
       "L 405 227.64856 \n",
       "L 405 0 \n",
       "L 0 0 \n",
       "z\n",
       "\" style=\"fill: #ffffff\"/>\n",
       "  </g>\n",
       "  <g id=\"axes_1\">\n",
       "   <g clip-path=\"url(#pefaf0964b2)\">\n",
       "    <image xlink:href=\"data:image/png;base64,\n",
       "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\" id=\"image20c737f340\" transform=\"scale(1 -1) translate(0 -198.72)\" x=\"7.2\" y=\"-21.72856\" width=\"390.96\" height=\"198.72\"/>\n",
       "   </g>\n",
       "   <g id=\"text_1\">\n",
       "    <!-- Reconstructed from 64 latents -->\n",
       "    <g style=\"fill: #262626\" transform=\"translate(111.254063 16.318125) scale(0.12 -0.12)\">\n",
       "     <defs>\n",
       "      <path id=\"DejaVuSans-52\" d=\"M 2841 2188 \n",
       "Q 3044 2119 3236 1894 \n",
       "Q 3428 1669 3622 1275 \n",
       "L 4263 0 \n",
       "L 3584 0 \n",
       "L 2988 1197 \n",
       "Q 2756 1666 2539 1819 \n",
       "Q 2322 1972 1947 1972 \n",
       "L 1259 1972 \n",
       "L 1259 0 \n",
       "L 628 0 \n",
       "L 628 4666 \n",
       "L 2053 4666 \n",
       "Q 2853 4666 3247 4331 \n",
       "Q 3641 3997 3641 3322 \n",
       "Q 3641 2881 3436 2590 \n",
       "Q 3231 2300 2841 2188 \n",
       "z\n",
       "M 1259 4147 \n",
       "L 1259 2491 \n",
       "L 2053 2491 \n",
       "Q 2509 2491 2742 2702 \n",
       "Q 2975 2913 2975 3322 \n",
       "Q 2975 3731 2742 3939 \n",
       "Q 2509 4147 2053 4147 \n",
       "L 1259 4147 \n",
       "z\n",
       "\" transform=\"scale(0.015625)\"/>\n",
       "      <path id=\"DejaVuSans-65\" d=\"M 3597 1894 \n",
       "L 3597 1613 \n",
       "L 953 1613 \n",
       "Q 991 1019 1311 708 \n",
       "Q 1631 397 2203 397 \n",
       "Q 2534 397 2845 478 \n",
       "Q 3156 559 3463 722 \n",
       "L 3463 178 \n",
       "Q 3153 47 2828 -22 \n",
       "Q 2503 -91 2169 -91 \n",
       "Q 1331 -91 842 396 \n",
       "Q 353 884 353 1716 \n",
       "Q 353 2575 817 3079 \n",
       "Q 1281 3584 2069 3584 \n",
       "Q 2775 3584 3186 3129 \n",
       "Q 3597 2675 3597 1894 \n",
       "z\n",
       "M 3022 2063 \n",
       "Q 3016 2534 2758 2815 \n",
       "Q 2500 3097 2075 3097 \n",
       "Q 1594 3097 1305 2825 \n",
       "Q 1016 2553 972 2059 \n",
       "L 3022 2063 \n",
       "z\n",
       "\" transform=\"scale(0.015625)\"/>\n",
       "      <path id=\"DejaVuSans-63\" d=\"M 3122 3366 \n",
       "L 3122 2828 \n",
       "Q 2878 2963 2633 3030 \n",
       "Q 2388 3097 2138 3097 \n",
       "Q 1578 3097 1268 2742 \n",
       "Q 959 2388 959 1747 \n",
       "Q 959 1106 1268 751 \n",
       "Q 1578 397 2138 397 \n",
       "Q 2388 397 2633 464 \n",
       "Q 2878 531 3122 666 \n",
       "L 3122 134 \n",
       "Q 2881 22 2623 -34 \n",
       "Q 2366 -91 2075 -91 \n",
       "Q 1284 -91 818 406 \n",
       "Q 353 903 353 1747 \n",
       "Q 353 2603 823 3093 \n",
       "Q 1294 3584 2113 3584 \n",
       "Q 2378 3584 2631 3529 \n",
       "Q 2884 3475 3122 3366 \n",
       "z\n",
       "\" transform=\"scale(0.015625)\"/>\n",
       "      <path id=\"DejaVuSans-6f\" d=\"M 1959 3097 \n",
       "Q 1497 3097 1228 2736 \n",
       "Q 959 2375 959 1747 \n",
       "Q 959 1119 1226 758 \n",
       "Q 1494 397 1959 397 \n",
       "Q 2419 397 2687 759 \n",
       "Q 2956 1122 2956 1747 \n",
       "Q 2956 2369 2687 2733 \n",
       "Q 2419 3097 1959 3097 \n",
       "z\n",
       "M 1959 3584 \n",
       "Q 2709 3584 3137 3096 \n",
       "Q 3566 2609 3566 1747 \n",
       "Q 3566 888 3137 398 \n",
       "Q 2709 -91 1959 -91 \n",
       "Q 1206 -91 779 398 \n",
       "Q 353 888 353 1747 \n",
       "Q 353 2609 779 3096 \n",
       "Q 1206 3584 1959 3584 \n",
       "z\n",
       "\" transform=\"scale(0.015625)\"/>\n",
       "      <path id=\"DejaVuSans-6e\" d=\"M 3513 2113 \n",
       "L 3513 0 \n",
       "L 2938 0 \n",
       "L 2938 2094 \n",
       "Q 2938 2591 2744 2837 \n",
       "Q 2550 3084 2163 3084 \n",
       "Q 1697 3084 1428 2787 \n",
       "Q 1159 2491 1159 1978 \n",
       "L 1159 0 \n",
       "L 581 0 \n",
       "L 581 3500 \n",
       "L 1159 3500 \n",
       "L 1159 2956 \n",
       "Q 1366 3272 1645 3428 \n",
       "Q 1925 3584 2291 3584 \n",
       "Q 2894 3584 3203 3211 \n",
       "Q 3513 2838 3513 2113 \n",
       "z\n",
       "\" transform=\"scale(0.015625)\"/>\n",
       "      <path id=\"DejaVuSans-73\" d=\"M 2834 3397 \n",
       "L 2834 2853 \n",
       "Q 2591 2978 2328 3040 \n",
       "Q 2066 3103 1784 3103 \n",
       "Q 1356 3103 1142 2972 \n",
       "Q 928 2841 928 2578 \n",
       "Q 928 2378 1081 2264 \n",
       "Q 1234 2150 1697 2047 \n",
       "L 1894 2003 \n",
       "Q 2506 1872 2764 1633 \n",
       "Q 3022 1394 3022 966 \n",
       "Q 3022 478 2636 193 \n",
       "Q 2250 -91 1575 -91 \n",
       "Q 1294 -91 989 -36 \n",
       "Q 684 19 347 128 \n",
       "L 347 722 \n",
       "Q 666 556 975 473 \n",
       "Q 1284 391 1588 391 \n",
       "Q 1994 391 2212 530 \n",
       "Q 2431 669 2431 922 \n",
       "Q 2431 1156 2273 1281 \n",
       "Q 2116 1406 1581 1522 \n",
       "L 1381 1569 \n",
       "Q 847 1681 609 1914 \n",
       "Q 372 2147 372 2553 \n",
       "Q 372 3047 722 3315 \n",
       "Q 1072 3584 1716 3584 \n",
       "Q 2034 3584 2315 3537 \n",
       "Q 2597 3491 2834 3397 \n",
       "z\n",
       "\" transform=\"scale(0.015625)\"/>\n",
       "      <path id=\"DejaVuSans-74\" d=\"M 1172 4494 \n",
       "L 1172 3500 \n",
       "L 2356 3500 \n",
       "L 2356 3053 \n",
       "L 1172 3053 \n",
       "L 1172 1153 \n",
       "Q 1172 725 1289 603 \n",
       "Q 1406 481 1766 481 \n",
       "L 2356 481 \n",
       "L 2356 0 \n",
       "L 1766 0 \n",
       "Q 1100 0 847 248 \n",
       "Q 594 497 594 1153 \n",
       "L 594 3053 \n",
       "L 172 3053 \n",
       "L 172 3500 \n",
       "L 594 3500 \n",
       "L 594 4494 \n",
       "L 1172 4494 \n",
       "z\n",
       "\" transform=\"scale(0.015625)\"/>\n",
       "      <path id=\"DejaVuSans-72\" d=\"M 2631 2963 \n",
       "Q 2534 3019 2420 3045 \n",
       "Q 2306 3072 2169 3072 \n",
       "Q 1681 3072 1420 2755 \n",
       "Q 1159 2438 1159 1844 \n",
       "L 1159 0 \n",
       "L 581 0 \n",
       "L 581 3500 \n",
       "L 1159 3500 \n",
       "L 1159 2956 \n",
       "Q 1341 3275 1631 3429 \n",
       "Q 1922 3584 2338 3584 \n",
       "Q 2397 3584 2469 3576 \n",
       "Q 2541 3569 2628 3553 \n",
       "L 2631 2963 \n",
       "z\n",
       "\" transform=\"scale(0.015625)\"/>\n",
       "      <path id=\"DejaVuSans-75\" d=\"M 544 1381 \n",
       "L 544 3500 \n",
       "L 1119 3500 \n",
       "L 1119 1403 \n",
       "Q 1119 906 1312 657 \n",
       "Q 1506 409 1894 409 \n",
       "Q 2359 409 2629 706 \n",
       "Q 2900 1003 2900 1516 \n",
       "L 2900 3500 \n",
       "L 3475 3500 \n",
       "L 3475 0 \n",
       "L 2900 0 \n",
       "L 2900 538 \n",
       "Q 2691 219 2414 64 \n",
       "Q 2138 -91 1772 -91 \n",
       "Q 1169 -91 856 284 \n",
       "Q 544 659 544 1381 \n",
       "z\n",
       "M 1991 3584 \n",
       "L 1991 3584 \n",
       "z\n",
       "\" transform=\"scale(0.015625)\"/>\n",
       "      <path id=\"DejaVuSans-64\" d=\"M 2906 2969 \n",
       "L 2906 4863 \n",
       "L 3481 4863 \n",
       "L 3481 0 \n",
       "L 2906 0 \n",
       "L 2906 525 \n",
       "Q 2725 213 2448 61 \n",
       "Q 2172 -91 1784 -91 \n",
       "Q 1150 -91 751 415 \n",
       "Q 353 922 353 1747 \n",
       "Q 353 2572 751 3078 \n",
       "Q 1150 3584 1784 3584 \n",
       "Q 2172 3584 2448 3432 \n",
       "Q 2725 3281 2906 2969 \n",
       "z\n",
       "M 947 1747 \n",
       "Q 947 1113 1208 752 \n",
       "Q 1469 391 1925 391 \n",
       "Q 2381 391 2643 752 \n",
       "Q 2906 1113 2906 1747 \n",
       "Q 2906 2381 2643 2742 \n",
       "Q 2381 3103 1925 3103 \n",
       "Q 1469 3103 1208 2742 \n",
       "Q 947 2381 947 1747 \n",
       "z\n",
       "\" transform=\"scale(0.015625)\"/>\n",
       "      <path id=\"DejaVuSans-20\" transform=\"scale(0.015625)\"/>\n",
       "      <path id=\"DejaVuSans-66\" d=\"M 2375 4863 \n",
       "L 2375 4384 \n",
       "L 1825 4384 \n",
       "Q 1516 4384 1395 4259 \n",
       "Q 1275 4134 1275 3809 \n",
       "L 1275 3500 \n",
       "L 2222 3500 \n",
       "L 2222 3053 \n",
       "L 1275 3053 \n",
       "L 1275 0 \n",
       "L 697 0 \n",
       "L 697 3053 \n",
       "L 147 3053 \n",
       "L 147 3500 \n",
       "L 697 3500 \n",
       "L 697 3744 \n",
       "Q 697 4328 969 4595 \n",
       "Q 1241 4863 1831 4863 \n",
       "L 2375 4863 \n",
       "z\n",
       "\" transform=\"scale(0.015625)\"/>\n",
       "      <path id=\"DejaVuSans-6d\" d=\"M 3328 2828 \n",
       "Q 3544 3216 3844 3400 \n",
       "Q 4144 3584 4550 3584 \n",
       "Q 5097 3584 5394 3201 \n",
       "Q 5691 2819 5691 2113 \n",
       "L 5691 0 \n",
       "L 5113 0 \n",
       "L 5113 2094 \n",
       "Q 5113 2597 4934 2840 \n",
       "Q 4756 3084 4391 3084 \n",
       "Q 3944 3084 3684 2787 \n",
       "Q 3425 2491 3425 1978 \n",
       "L 3425 0 \n",
       "L 2847 0 \n",
       "L 2847 2094 \n",
       "Q 2847 2600 2669 2842 \n",
       "Q 2491 3084 2119 3084 \n",
       "Q 1678 3084 1418 2786 \n",
       "Q 1159 2488 1159 1978 \n",
       "L 1159 0 \n",
       "L 581 0 \n",
       "L 581 3500 \n",
       "L 1159 3500 \n",
       "L 1159 2956 \n",
       "Q 1356 3278 1631 3431 \n",
       "Q 1906 3584 2284 3584 \n",
       "Q 2666 3584 2933 3390 \n",
       "Q 3200 3197 3328 2828 \n",
       "z\n",
       "\" transform=\"scale(0.015625)\"/>\n",
       "      <path id=\"DejaVuSans-36\" d=\"M 2113 2584 \n",
       "Q 1688 2584 1439 2293 \n",
       "Q 1191 2003 1191 1497 \n",
       "Q 1191 994 1439 701 \n",
       "Q 1688 409 2113 409 \n",
       "Q 2538 409 2786 701 \n",
       "Q 3034 994 3034 1497 \n",
       "Q 3034 2003 2786 2293 \n",
       "Q 2538 2584 2113 2584 \n",
       "z\n",
       "M 3366 4563 \n",
       "L 3366 3988 \n",
       "Q 3128 4100 2886 4159 \n",
       "Q 2644 4219 2406 4219 \n",
       "Q 1781 4219 1451 3797 \n",
       "Q 1122 3375 1075 2522 \n",
       "Q 1259 2794 1537 2939 \n",
       "Q 1816 3084 2150 3084 \n",
       "Q 2853 3084 3261 2657 \n",
       "Q 3669 2231 3669 1497 \n",
       "Q 3669 778 3244 343 \n",
       "Q 2819 -91 2113 -91 \n",
       "Q 1303 -91 875 529 \n",
       "Q 447 1150 447 2328 \n",
       "Q 447 3434 972 4092 \n",
       "Q 1497 4750 2381 4750 \n",
       "Q 2619 4750 2861 4703 \n",
       "Q 3103 4656 3366 4563 \n",
       "z\n",
       "\" transform=\"scale(0.015625)\"/>\n",
       "      <path id=\"DejaVuSans-34\" d=\"M 2419 4116 \n",
       "L 825 1625 \n",
       "L 2419 1625 \n",
       "L 2419 4116 \n",
       "z\n",
       "M 2253 4666 \n",
       "L 3047 4666 \n",
       "L 3047 1625 \n",
       "L 3713 1625 \n",
       "L 3713 1100 \n",
       "L 3047 1100 \n",
       "L 3047 0 \n",
       "L 2419 0 \n",
       "L 2419 1100 \n",
       "L 313 1100 \n",
       "L 313 1709 \n",
       "L 2253 4666 \n",
       "z\n",
       "\" transform=\"scale(0.015625)\"/>\n",
       "      <path id=\"DejaVuSans-6c\" d=\"M 603 4863 \n",
       "L 1178 4863 \n",
       "L 1178 0 \n",
       "L 603 0 \n",
       "L 603 4863 \n",
       "z\n",
       "\" transform=\"scale(0.015625)\"/>\n",
       "      <path id=\"DejaVuSans-61\" d=\"M 2194 1759 \n",
       "Q 1497 1759 1228 1600 \n",
       "Q 959 1441 959 1056 \n",
       "Q 959 750 1161 570 \n",
       "Q 1363 391 1709 391 \n",
       "Q 2188 391 2477 730 \n",
       "Q 2766 1069 2766 1631 \n",
       "L 2766 1759 \n",
       "L 2194 1759 \n",
       "z\n",
       "M 3341 1997 \n",
       "L 3341 0 \n",
       "L 2766 0 \n",
       "L 2766 531 \n",
       "Q 2569 213 2275 61 \n",
       "Q 1981 -91 1556 -91 \n",
       "Q 1019 -91 701 211 \n",
       "Q 384 513 384 1019 \n",
       "Q 384 1609 779 1909 \n",
       "Q 1175 2209 1959 2209 \n",
       "L 2766 2209 \n",
       "L 2766 2266 \n",
       "Q 2766 2663 2505 2880 \n",
       "Q 2244 3097 1772 3097 \n",
       "Q 1472 3097 1187 3025 \n",
       "Q 903 2953 641 2809 \n",
       "L 641 3341 \n",
       "Q 956 3463 1253 3523 \n",
       "Q 1550 3584 1831 3584 \n",
       "Q 2591 3584 2966 3190 \n",
       "Q 3341 2797 3341 1997 \n",
       "z\n",
       "\" transform=\"scale(0.015625)\"/>\n",
       "     </defs>\n",
       "     <use xlink:href=\"#DejaVuSans-52\"/>\n",
       "     <use xlink:href=\"#DejaVuSans-65\" x=\"64.982422\"/>\n",
       "     <use xlink:href=\"#DejaVuSans-63\" x=\"126.505859\"/>\n",
       "     <use xlink:href=\"#DejaVuSans-6f\" x=\"181.486328\"/>\n",
       "     <use xlink:href=\"#DejaVuSans-6e\" x=\"242.667969\"/>\n",
       "     <use xlink:href=\"#DejaVuSans-73\" x=\"306.046875\"/>\n",
       "     <use xlink:href=\"#DejaVuSans-74\" x=\"358.146484\"/>\n",
       "     <use xlink:href=\"#DejaVuSans-72\" x=\"397.355469\"/>\n",
       "     <use xlink:href=\"#DejaVuSans-75\" x=\"438.46875\"/>\n",
       "     <use xlink:href=\"#DejaVuSans-63\" x=\"501.847656\"/>\n",
       "     <use xlink:href=\"#DejaVuSans-74\" x=\"556.828125\"/>\n",
       "     <use xlink:href=\"#DejaVuSans-65\" x=\"596.037109\"/>\n",
       "     <use xlink:href=\"#DejaVuSans-64\" x=\"657.560547\"/>\n",
       "     <use xlink:href=\"#DejaVuSans-20\" x=\"721.037109\"/>\n",
       "     <use xlink:href=\"#DejaVuSans-66\" x=\"752.824219\"/>\n",
       "     <use xlink:href=\"#DejaVuSans-72\" x=\"788.029297\"/>\n",
       "     <use xlink:href=\"#DejaVuSans-6f\" x=\"826.892578\"/>\n",
       "     <use xlink:href=\"#DejaVuSans-6d\" x=\"888.074219\"/>\n",
       "     <use xlink:href=\"#DejaVuSans-20\" x=\"985.486328\"/>\n",
       "     <use xlink:href=\"#DejaVuSans-36\" x=\"1017.273438\"/>\n",
       "     <use xlink:href=\"#DejaVuSans-34\" x=\"1080.896484\"/>\n",
       "     <use xlink:href=\"#DejaVuSans-20\" x=\"1144.519531\"/>\n",
       "     <use xlink:href=\"#DejaVuSans-6c\" x=\"1176.306641\"/>\n",
       "     <use xlink:href=\"#DejaVuSans-61\" x=\"1204.089844\"/>\n",
       "     <use xlink:href=\"#DejaVuSans-74\" x=\"1265.369141\"/>\n",
       "     <use xlink:href=\"#DejaVuSans-65\" x=\"1304.578125\"/>\n",
       "     <use xlink:href=\"#DejaVuSans-6e\" x=\"1366.101562\"/>\n",
       "     <use xlink:href=\"#DejaVuSans-74\" x=\"1429.480469\"/>\n",
       "     <use xlink:href=\"#DejaVuSans-73\" x=\"1468.689453\"/>\n",
       "    </g>\n",
       "   </g>\n",
       "  </g>\n",
       " </g>\n",
       " <defs>\n",
       "  <clipPath id=\"pefaf0964b2\">\n",
       "   <rect x=\"7.2\" y=\"22.318125\" width=\"390.6\" height=\"198.130435\"/>\n",
       "  </clipPath>\n",
       " </defs>\n",
       "</svg>\n"
      ],
      "text/plain": [
       "<Figure size 700x450 with 1 Axes>"
      ]
     },
     "metadata": {},
     "output_type": "display_data"
    },
    {
     "data": {
      "application/pdf": "[encoded data removed]",
      "image/svg+xml": [
       "<?xml version=\"1.0\" encoding=\"utf-8\" standalone=\"no\"?>\n",
       "<!DOCTYPE svg PUBLIC \"-//W3C//DTD SVG 1.1//EN\"\n",
       "  \"http://www.w3.org/Graphics/SVG/1.1/DTD/svg11.dtd\">\n",
       "<svg xmlns:xlink=\"http://www.w3.org/1999/xlink\" width=\"405pt\" height=\"227.64856pt\" viewBox=\"0 0 405 227.64856\" xmlns=\"http://www.w3.org/2000/svg\" version=\"1.1\">\n",
       " <metadata>\n",
       "  <rdf:RDF xmlns:dc=\"http://purl.org/dc/elements/1.1/\" xmlns:cc=\"http://creativecommons.org/ns#\" xmlns:rdf=\"http://www.w3.org/1999/02/22-rdf-syntax-ns#\">\n",
       "   <cc:Work>\n",
       "    <dc:type rdf:resource=\"http://purl.org/dc/dcmitype/StillImage\"/>\n",
       "    <dc:date>2025-02-21T20:52:44.922390</dc:date>\n",
       "    <dc:format>image/svg+xml</dc:format>\n",
       "    <dc:creator>\n",
       "     <cc:Agent>\n",
       "      <dc:title>Matplotlib v3.9.2, https://matplotlib.org/</dc:title>\n",
       "     </cc:Agent>\n",
       "    </dc:creator>\n",
       "   </cc:Work>\n",
       "  </rdf:RDF>\n",
       " </metadata>\n",
       " <defs>\n",
       "  <style type=\"text/css\">*{stroke-linejoin: round; stroke-linecap: butt}</style>\n",
       " </defs>\n",
       " <g id=\"figure_1\">\n",
       "  <g id=\"patch_1\">\n",
       "   <path d=\"M 0 227.64856 \n",
       "L 405 227.64856 \n",
       "L 405 0 \n",
       "L 0 0 \n",
       "z\n",
       "\" style=\"fill: #ffffff\"/>\n",
       "  </g>\n",
       "  <g id=\"axes_1\">\n",
       "   <g clip-path=\"url(#pcc9199a09f)\">\n",
       "    <image xlink:href=\"data:image/png;base64,\n",
       "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\" id=\"image00ded20bd9\" transform=\"scale(1 -1) translate(0 -198.72)\" x=\"7.2\" y=\"-21.72856\" width=\"390.96\" height=\"198.72\"/>\n",
       "   </g>\n",
       "   <g id=\"text_1\">\n",
       "    <!-- Reconstructed from 128 latents -->\n",
       "    <g style=\"fill: #262626\" transform=\"translate(107.436563 16.318125) scale(0.12 -0.12)\">\n",
       "     <defs>\n",
       "      <path id=\"DejaVuSans-52\" d=\"M 2841 2188 \n",
       "Q 3044 2119 3236 1894 \n",
       "Q 3428 1669 3622 1275 \n",
       "L 4263 0 \n",
       "L 3584 0 \n",
       "L 2988 1197 \n",
       "Q 2756 1666 2539 1819 \n",
       "Q 2322 1972 1947 1972 \n",
       "L 1259 1972 \n",
       "L 1259 0 \n",
       "L 628 0 \n",
       "L 628 4666 \n",
       "L 2053 4666 \n",
       "Q 2853 4666 3247 4331 \n",
       "Q 3641 3997 3641 3322 \n",
       "Q 3641 2881 3436 2590 \n",
       "Q 3231 2300 2841 2188 \n",
       "z\n",
       "M 1259 4147 \n",
       "L 1259 2491 \n",
       "L 2053 2491 \n",
       "Q 2509 2491 2742 2702 \n",
       "Q 2975 2913 2975 3322 \n",
       "Q 2975 3731 2742 3939 \n",
       "Q 2509 4147 2053 4147 \n",
       "L 1259 4147 \n",
       "z\n",
       "\" transform=\"scale(0.015625)\"/>\n",
       "      <path id=\"DejaVuSans-65\" d=\"M 3597 1894 \n",
       "L 3597 1613 \n",
       "L 953 1613 \n",
       "Q 991 1019 1311 708 \n",
       "Q 1631 397 2203 397 \n",
       "Q 2534 397 2845 478 \n",
       "Q 3156 559 3463 722 \n",
       "L 3463 178 \n",
       "Q 3153 47 2828 -22 \n",
       "Q 2503 -91 2169 -91 \n",
       "Q 1331 -91 842 396 \n",
       "Q 353 884 353 1716 \n",
       "Q 353 2575 817 3079 \n",
       "Q 1281 3584 2069 3584 \n",
       "Q 2775 3584 3186 3129 \n",
       "Q 3597 2675 3597 1894 \n",
       "z\n",
       "M 3022 2063 \n",
       "Q 3016 2534 2758 2815 \n",
       "Q 2500 3097 2075 3097 \n",
       "Q 1594 3097 1305 2825 \n",
       "Q 1016 2553 972 2059 \n",
       "L 3022 2063 \n",
       "z\n",
       "\" transform=\"scale(0.015625)\"/>\n",
       "      <path id=\"DejaVuSans-63\" d=\"M 3122 3366 \n",
       "L 3122 2828 \n",
       "Q 2878 2963 2633 3030 \n",
       "Q 2388 3097 2138 3097 \n",
       "Q 1578 3097 1268 2742 \n",
       "Q 959 2388 959 1747 \n",
       "Q 959 1106 1268 751 \n",
       "Q 1578 397 2138 397 \n",
       "Q 2388 397 2633 464 \n",
       "Q 2878 531 3122 666 \n",
       "L 3122 134 \n",
       "Q 2881 22 2623 -34 \n",
       "Q 2366 -91 2075 -91 \n",
       "Q 1284 -91 818 406 \n",
       "Q 353 903 353 1747 \n",
       "Q 353 2603 823 3093 \n",
       "Q 1294 3584 2113 3584 \n",
       "Q 2378 3584 2631 3529 \n",
       "Q 2884 3475 3122 3366 \n",
       "z\n",
       "\" transform=\"scale(0.015625)\"/>\n",
       "      <path id=\"DejaVuSans-6f\" d=\"M 1959 3097 \n",
       "Q 1497 3097 1228 2736 \n",
       "Q 959 2375 959 1747 \n",
       "Q 959 1119 1226 758 \n",
       "Q 1494 397 1959 397 \n",
       "Q 2419 397 2687 759 \n",
       "Q 2956 1122 2956 1747 \n",
       "Q 2956 2369 2687 2733 \n",
       "Q 2419 3097 1959 3097 \n",
       "z\n",
       "M 1959 3584 \n",
       "Q 2709 3584 3137 3096 \n",
       "Q 3566 2609 3566 1747 \n",
       "Q 3566 888 3137 398 \n",
       "Q 2709 -91 1959 -91 \n",
       "Q 1206 -91 779 398 \n",
       "Q 353 888 353 1747 \n",
       "Q 353 2609 779 3096 \n",
       "Q 1206 3584 1959 3584 \n",
       "z\n",
       "\" transform=\"scale(0.015625)\"/>\n",
       "      <path id=\"DejaVuSans-6e\" d=\"M 3513 2113 \n",
       "L 3513 0 \n",
       "L 2938 0 \n",
       "L 2938 2094 \n",
       "Q 2938 2591 2744 2837 \n",
       "Q 2550 3084 2163 3084 \n",
       "Q 1697 3084 1428 2787 \n",
       "Q 1159 2491 1159 1978 \n",
       "L 1159 0 \n",
       "L 581 0 \n",
       "L 581 3500 \n",
       "L 1159 3500 \n",
       "L 1159 2956 \n",
       "Q 1366 3272 1645 3428 \n",
       "Q 1925 3584 2291 3584 \n",
       "Q 2894 3584 3203 3211 \n",
       "Q 3513 2838 3513 2113 \n",
       "z\n",
       "\" transform=\"scale(0.015625)\"/>\n",
       "      <path id=\"DejaVuSans-73\" d=\"M 2834 3397 \n",
       "L 2834 2853 \n",
       "Q 2591 2978 2328 3040 \n",
       "Q 2066 3103 1784 3103 \n",
       "Q 1356 3103 1142 2972 \n",
       "Q 928 2841 928 2578 \n",
       "Q 928 2378 1081 2264 \n",
       "Q 1234 2150 1697 2047 \n",
       "L 1894 2003 \n",
       "Q 2506 1872 2764 1633 \n",
       "Q 3022 1394 3022 966 \n",
       "Q 3022 478 2636 193 \n",
       "Q 2250 -91 1575 -91 \n",
       "Q 1294 -91 989 -36 \n",
       "Q 684 19 347 128 \n",
       "L 347 722 \n",
       "Q 666 556 975 473 \n",
       "Q 1284 391 1588 391 \n",
       "Q 1994 391 2212 530 \n",
       "Q 2431 669 2431 922 \n",
       "Q 2431 1156 2273 1281 \n",
       "Q 2116 1406 1581 1522 \n",
       "L 1381 1569 \n",
       "Q 847 1681 609 1914 \n",
       "Q 372 2147 372 2553 \n",
       "Q 372 3047 722 3315 \n",
       "Q 1072 3584 1716 3584 \n",
       "Q 2034 3584 2315 3537 \n",
       "Q 2597 3491 2834 3397 \n",
       "z\n",
       "\" transform=\"scale(0.015625)\"/>\n",
       "      <path id=\"DejaVuSans-74\" d=\"M 1172 4494 \n",
       "L 1172 3500 \n",
       "L 2356 3500 \n",
       "L 2356 3053 \n",
       "L 1172 3053 \n",
       "L 1172 1153 \n",
       "Q 1172 725 1289 603 \n",
       "Q 1406 481 1766 481 \n",
       "L 2356 481 \n",
       "L 2356 0 \n",
       "L 1766 0 \n",
       "Q 1100 0 847 248 \n",
       "Q 594 497 594 1153 \n",
       "L 594 3053 \n",
       "L 172 3053 \n",
       "L 172 3500 \n",
       "L 594 3500 \n",
       "L 594 4494 \n",
       "L 1172 4494 \n",
       "z\n",
       "\" transform=\"scale(0.015625)\"/>\n",
       "      <path id=\"DejaVuSans-72\" d=\"M 2631 2963 \n",
       "Q 2534 3019 2420 3045 \n",
       "Q 2306 3072 2169 3072 \n",
       "Q 1681 3072 1420 2755 \n",
       "Q 1159 2438 1159 1844 \n",
       "L 1159 0 \n",
       "L 581 0 \n",
       "L 581 3500 \n",
       "L 1159 3500 \n",
       "L 1159 2956 \n",
       "Q 1341 3275 1631 3429 \n",
       "Q 1922 3584 2338 3584 \n",
       "Q 2397 3584 2469 3576 \n",
       "Q 2541 3569 2628 3553 \n",
       "L 2631 2963 \n",
       "z\n",
       "\" transform=\"scale(0.015625)\"/>\n",
       "      <path id=\"DejaVuSans-75\" d=\"M 544 1381 \n",
       "L 544 3500 \n",
       "L 1119 3500 \n",
       "L 1119 1403 \n",
       "Q 1119 906 1312 657 \n",
       "Q 1506 409 1894 409 \n",
       "Q 2359 409 2629 706 \n",
       "Q 2900 1003 2900 1516 \n",
       "L 2900 3500 \n",
       "L 3475 3500 \n",
       "L 3475 0 \n",
       "L 2900 0 \n",
       "L 2900 538 \n",
       "Q 2691 219 2414 64 \n",
       "Q 2138 -91 1772 -91 \n",
       "Q 1169 -91 856 284 \n",
       "Q 544 659 544 1381 \n",
       "z\n",
       "M 1991 3584 \n",
       "L 1991 3584 \n",
       "z\n",
       "\" transform=\"scale(0.015625)\"/>\n",
       "      <path id=\"DejaVuSans-64\" d=\"M 2906 2969 \n",
       "L 2906 4863 \n",
       "L 3481 4863 \n",
       "L 3481 0 \n",
       "L 2906 0 \n",
       "L 2906 525 \n",
       "Q 2725 213 2448 61 \n",
       "Q 2172 -91 1784 -91 \n",
       "Q 1150 -91 751 415 \n",
       "Q 353 922 353 1747 \n",
       "Q 353 2572 751 3078 \n",
       "Q 1150 3584 1784 3584 \n",
       "Q 2172 3584 2448 3432 \n",
       "Q 2725 3281 2906 2969 \n",
       "z\n",
       "M 947 1747 \n",
       "Q 947 1113 1208 752 \n",
       "Q 1469 391 1925 391 \n",
       "Q 2381 391 2643 752 \n",
       "Q 2906 1113 2906 1747 \n",
       "Q 2906 2381 2643 2742 \n",
       "Q 2381 3103 1925 3103 \n",
       "Q 1469 3103 1208 2742 \n",
       "Q 947 2381 947 1747 \n",
       "z\n",
       "\" transform=\"scale(0.015625)\"/>\n",
       "      <path id=\"DejaVuSans-20\" transform=\"scale(0.015625)\"/>\n",
       "      <path id=\"DejaVuSans-66\" d=\"M 2375 4863 \n",
       "L 2375 4384 \n",
       "L 1825 4384 \n",
       "Q 1516 4384 1395 4259 \n",
       "Q 1275 4134 1275 3809 \n",
       "L 1275 3500 \n",
       "L 2222 3500 \n",
       "L 2222 3053 \n",
       "L 1275 3053 \n",
       "L 1275 0 \n",
       "L 697 0 \n",
       "L 697 3053 \n",
       "L 147 3053 \n",
       "L 147 3500 \n",
       "L 697 3500 \n",
       "L 697 3744 \n",
       "Q 697 4328 969 4595 \n",
       "Q 1241 4863 1831 4863 \n",
       "L 2375 4863 \n",
       "z\n",
       "\" transform=\"scale(0.015625)\"/>\n",
       "      <path id=\"DejaVuSans-6d\" d=\"M 3328 2828 \n",
       "Q 3544 3216 3844 3400 \n",
       "Q 4144 3584 4550 3584 \n",
       "Q 5097 3584 5394 3201 \n",
       "Q 5691 2819 5691 2113 \n",
       "L 5691 0 \n",
       "L 5113 0 \n",
       "L 5113 2094 \n",
       "Q 5113 2597 4934 2840 \n",
       "Q 4756 3084 4391 3084 \n",
       "Q 3944 3084 3684 2787 \n",
       "Q 3425 2491 3425 1978 \n",
       "L 3425 0 \n",
       "L 2847 0 \n",
       "L 2847 2094 \n",
       "Q 2847 2600 2669 2842 \n",
       "Q 2491 3084 2119 3084 \n",
       "Q 1678 3084 1418 2786 \n",
       "Q 1159 2488 1159 1978 \n",
       "L 1159 0 \n",
       "L 581 0 \n",
       "L 581 3500 \n",
       "L 1159 3500 \n",
       "L 1159 2956 \n",
       "Q 1356 3278 1631 3431 \n",
       "Q 1906 3584 2284 3584 \n",
       "Q 2666 3584 2933 3390 \n",
       "Q 3200 3197 3328 2828 \n",
       "z\n",
       "\" transform=\"scale(0.015625)\"/>\n",
       "      <path id=\"DejaVuSans-31\" d=\"M 794 531 \n",
       "L 1825 531 \n",
       "L 1825 4091 \n",
       "L 703 3866 \n",
       "L 703 4441 \n",
       "L 1819 4666 \n",
       "L 2450 4666 \n",
       "L 2450 531 \n",
       "L 3481 531 \n",
       "L 3481 0 \n",
       "L 794 0 \n",
       "L 794 531 \n",
       "z\n",
       "\" transform=\"scale(0.015625)\"/>\n",
       "      <path id=\"DejaVuSans-32\" d=\"M 1228 531 \n",
       "L 3431 531 \n",
       "L 3431 0 \n",
       "L 469 0 \n",
       "L 469 531 \n",
       "Q 828 903 1448 1529 \n",
       "Q 2069 2156 2228 2338 \n",
       "Q 2531 2678 2651 2914 \n",
       "Q 2772 3150 2772 3378 \n",
       "Q 2772 3750 2511 3984 \n",
       "Q 2250 4219 1831 4219 \n",
       "Q 1534 4219 1204 4116 \n",
       "Q 875 4013 500 3803 \n",
       "L 500 4441 \n",
       "Q 881 4594 1212 4672 \n",
       "Q 1544 4750 1819 4750 \n",
       "Q 2544 4750 2975 4387 \n",
       "Q 3406 4025 3406 3419 \n",
       "Q 3406 3131 3298 2873 \n",
       "Q 3191 2616 2906 2266 \n",
       "Q 2828 2175 2409 1742 \n",
       "Q 1991 1309 1228 531 \n",
       "z\n",
       "\" transform=\"scale(0.015625)\"/>\n",
       "      <path id=\"DejaVuSans-38\" d=\"M 2034 2216 \n",
       "Q 1584 2216 1326 1975 \n",
       "Q 1069 1734 1069 1313 \n",
       "Q 1069 891 1326 650 \n",
       "Q 1584 409 2034 409 \n",
       "Q 2484 409 2743 651 \n",
       "Q 3003 894 3003 1313 \n",
       "Q 3003 1734 2745 1975 \n",
       "Q 2488 2216 2034 2216 \n",
       "z\n",
       "M 1403 2484 \n",
       "Q 997 2584 770 2862 \n",
       "Q 544 3141 544 3541 \n",
       "Q 544 4100 942 4425 \n",
       "Q 1341 4750 2034 4750 \n",
       "Q 2731 4750 3128 4425 \n",
       "Q 3525 4100 3525 3541 \n",
       "Q 3525 3141 3298 2862 \n",
       "Q 3072 2584 2669 2484 \n",
       "Q 3125 2378 3379 2068 \n",
       "Q 3634 1759 3634 1313 \n",
       "Q 3634 634 3220 271 \n",
       "Q 2806 -91 2034 -91 \n",
       "Q 1263 -91 848 271 \n",
       "Q 434 634 434 1313 \n",
       "Q 434 1759 690 2068 \n",
       "Q 947 2378 1403 2484 \n",
       "z\n",
       "M 1172 3481 \n",
       "Q 1172 3119 1398 2916 \n",
       "Q 1625 2713 2034 2713 \n",
       "Q 2441 2713 2670 2916 \n",
       "Q 2900 3119 2900 3481 \n",
       "Q 2900 3844 2670 4047 \n",
       "Q 2441 4250 2034 4250 \n",
       "Q 1625 4250 1398 4047 \n",
       "Q 1172 3844 1172 3481 \n",
       "z\n",
       "\" transform=\"scale(0.015625)\"/>\n",
       "      <path id=\"DejaVuSans-6c\" d=\"M 603 4863 \n",
       "L 1178 4863 \n",
       "L 1178 0 \n",
       "L 603 0 \n",
       "L 603 4863 \n",
       "z\n",
       "\" transform=\"scale(0.015625)\"/>\n",
       "      <path id=\"DejaVuSans-61\" d=\"M 2194 1759 \n",
       "Q 1497 1759 1228 1600 \n",
       "Q 959 1441 959 1056 \n",
       "Q 959 750 1161 570 \n",
       "Q 1363 391 1709 391 \n",
       "Q 2188 391 2477 730 \n",
       "Q 2766 1069 2766 1631 \n",
       "L 2766 1759 \n",
       "L 2194 1759 \n",
       "z\n",
       "M 3341 1997 \n",
       "L 3341 0 \n",
       "L 2766 0 \n",
       "L 2766 531 \n",
       "Q 2569 213 2275 61 \n",
       "Q 1981 -91 1556 -91 \n",
       "Q 1019 -91 701 211 \n",
       "Q 384 513 384 1019 \n",
       "Q 384 1609 779 1909 \n",
       "Q 1175 2209 1959 2209 \n",
       "L 2766 2209 \n",
       "L 2766 2266 \n",
       "Q 2766 2663 2505 2880 \n",
       "Q 2244 3097 1772 3097 \n",
       "Q 1472 3097 1187 3025 \n",
       "Q 903 2953 641 2809 \n",
       "L 641 3341 \n",
       "Q 956 3463 1253 3523 \n",
       "Q 1550 3584 1831 3584 \n",
       "Q 2591 3584 2966 3190 \n",
       "Q 3341 2797 3341 1997 \n",
       "z\n",
       "\" transform=\"scale(0.015625)\"/>\n",
       "     </defs>\n",
       "     <use xlink:href=\"#DejaVuSans-52\"/>\n",
       "     <use xlink:href=\"#DejaVuSans-65\" x=\"64.982422\"/>\n",
       "     <use xlink:href=\"#DejaVuSans-63\" x=\"126.505859\"/>\n",
       "     <use xlink:href=\"#DejaVuSans-6f\" x=\"181.486328\"/>\n",
       "     <use xlink:href=\"#DejaVuSans-6e\" x=\"242.667969\"/>\n",
       "     <use xlink:href=\"#DejaVuSans-73\" x=\"306.046875\"/>\n",
       "     <use xlink:href=\"#DejaVuSans-74\" x=\"358.146484\"/>\n",
       "     <use xlink:href=\"#DejaVuSans-72\" x=\"397.355469\"/>\n",
       "     <use xlink:href=\"#DejaVuSans-75\" x=\"438.46875\"/>\n",
       "     <use xlink:href=\"#DejaVuSans-63\" x=\"501.847656\"/>\n",
       "     <use xlink:href=\"#DejaVuSans-74\" x=\"556.828125\"/>\n",
       "     <use xlink:href=\"#DejaVuSans-65\" x=\"596.037109\"/>\n",
       "     <use xlink:href=\"#DejaVuSans-64\" x=\"657.560547\"/>\n",
       "     <use xlink:href=\"#DejaVuSans-20\" x=\"721.037109\"/>\n",
       "     <use xlink:href=\"#DejaVuSans-66\" x=\"752.824219\"/>\n",
       "     <use xlink:href=\"#DejaVuSans-72\" x=\"788.029297\"/>\n",
       "     <use xlink:href=\"#DejaVuSans-6f\" x=\"826.892578\"/>\n",
       "     <use xlink:href=\"#DejaVuSans-6d\" x=\"888.074219\"/>\n",
       "     <use xlink:href=\"#DejaVuSans-20\" x=\"985.486328\"/>\n",
       "     <use xlink:href=\"#DejaVuSans-31\" x=\"1017.273438\"/>\n",
       "     <use xlink:href=\"#DejaVuSans-32\" x=\"1080.896484\"/>\n",
       "     <use xlink:href=\"#DejaVuSans-38\" x=\"1144.519531\"/>\n",
       "     <use xlink:href=\"#DejaVuSans-20\" x=\"1208.142578\"/>\n",
       "     <use xlink:href=\"#DejaVuSans-6c\" x=\"1239.929688\"/>\n",
       "     <use xlink:href=\"#DejaVuSans-61\" x=\"1267.712891\"/>\n",
       "     <use xlink:href=\"#DejaVuSans-74\" x=\"1328.992188\"/>\n",
       "     <use xlink:href=\"#DejaVuSans-65\" x=\"1368.201172\"/>\n",
       "     <use xlink:href=\"#DejaVuSans-6e\" x=\"1429.724609\"/>\n",
       "     <use xlink:href=\"#DejaVuSans-74\" x=\"1493.103516\"/>\n",
       "     <use xlink:href=\"#DejaVuSans-73\" x=\"1532.3125\"/>\n",
       "    </g>\n",
       "   </g>\n",
       "  </g>\n",
       " </g>\n",
       " <defs>\n",
       "  <clipPath id=\"pcc9199a09f\">\n",
       "   <rect x=\"7.2\" y=\"22.318125\" width=\"390.6\" height=\"198.130435\"/>\n",
       "  </clipPath>\n",
       " </defs>\n",
       "</svg>\n"
      ],
      "text/plain": [
       "<Figure size 700x450 with 1 Axes>"
      ]
     },
     "metadata": {},
     "output_type": "display_data"
    },
    {
     "data": {
      "application/pdf": "[encoded data removed]",
      "image/svg+xml": [
       "<?xml version=\"1.0\" encoding=\"utf-8\" standalone=\"no\"?>\n",
       "<!DOCTYPE svg PUBLIC \"-//W3C//DTD SVG 1.1//EN\"\n",
       "  \"http://www.w3.org/Graphics/SVG/1.1/DTD/svg11.dtd\">\n",
       "<svg xmlns:xlink=\"http://www.w3.org/1999/xlink\" width=\"405pt\" height=\"227.64856pt\" viewBox=\"0 0 405 227.64856\" xmlns=\"http://www.w3.org/2000/svg\" version=\"1.1\">\n",
       " <metadata>\n",
       "  <rdf:RDF xmlns:dc=\"http://purl.org/dc/elements/1.1/\" xmlns:cc=\"http://creativecommons.org/ns#\" xmlns:rdf=\"http://www.w3.org/1999/02/22-rdf-syntax-ns#\">\n",
       "   <cc:Work>\n",
       "    <dc:type rdf:resource=\"http://purl.org/dc/dcmitype/StillImage\"/>\n",
       "    <dc:date>2025-02-21T20:52:45.082853</dc:date>\n",
       "    <dc:format>image/svg+xml</dc:format>\n",
       "    <dc:creator>\n",
       "     <cc:Agent>\n",
       "      <dc:title>Matplotlib v3.9.2, https://matplotlib.org/</dc:title>\n",
       "     </cc:Agent>\n",
       "    </dc:creator>\n",
       "   </cc:Work>\n",
       "  </rdf:RDF>\n",
       " </metadata>\n",
       " <defs>\n",
       "  <style type=\"text/css\">*{stroke-linejoin: round; stroke-linecap: butt}</style>\n",
       " </defs>\n",
       " <g id=\"figure_1\">\n",
       "  <g id=\"patch_1\">\n",
       "   <path d=\"M 0 227.64856 \n",
       "L 405 227.64856 \n",
       "L 405 0 \n",
       "L 0 0 \n",
       "z\n",
       "\" style=\"fill: #ffffff\"/>\n",
       "  </g>\n",
       "  <g id=\"axes_1\">\n",
       "   <g clip-path=\"url(#p78b65f8066)\">\n",
       "    <image xlink:href=\"data:image/png;base64,\n",
       "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\" id=\"image31cfec6222\" transform=\"scale(1 -1) translate(0 -198.72)\" x=\"7.2\" y=\"-21.72856\" width=\"390.96\" height=\"198.72\"/>\n",
       "   </g>\n",
       "   <g id=\"text_1\">\n",
       "    <!-- Reconstructed from 256 latents -->\n",
       "    <g style=\"fill: #262626\" transform=\"translate(107.436563 16.318125) scale(0.12 -0.12)\">\n",
       "     <defs>\n",
       "      <path id=\"DejaVuSans-52\" d=\"M 2841 2188 \n",
       "Q 3044 2119 3236 1894 \n",
       "Q 3428 1669 3622 1275 \n",
       "L 4263 0 \n",
       "L 3584 0 \n",
       "L 2988 1197 \n",
       "Q 2756 1666 2539 1819 \n",
       "Q 2322 1972 1947 1972 \n",
       "L 1259 1972 \n",
       "L 1259 0 \n",
       "L 628 0 \n",
       "L 628 4666 \n",
       "L 2053 4666 \n",
       "Q 2853 4666 3247 4331 \n",
       "Q 3641 3997 3641 3322 \n",
       "Q 3641 2881 3436 2590 \n",
       "Q 3231 2300 2841 2188 \n",
       "z\n",
       "M 1259 4147 \n",
       "L 1259 2491 \n",
       "L 2053 2491 \n",
       "Q 2509 2491 2742 2702 \n",
       "Q 2975 2913 2975 3322 \n",
       "Q 2975 3731 2742 3939 \n",
       "Q 2509 4147 2053 4147 \n",
       "L 1259 4147 \n",
       "z\n",
       "\" transform=\"scale(0.015625)\"/>\n",
       "      <path id=\"DejaVuSans-65\" d=\"M 3597 1894 \n",
       "L 3597 1613 \n",
       "L 953 1613 \n",
       "Q 991 1019 1311 708 \n",
       "Q 1631 397 2203 397 \n",
       "Q 2534 397 2845 478 \n",
       "Q 3156 559 3463 722 \n",
       "L 3463 178 \n",
       "Q 3153 47 2828 -22 \n",
       "Q 2503 -91 2169 -91 \n",
       "Q 1331 -91 842 396 \n",
       "Q 353 884 353 1716 \n",
       "Q 353 2575 817 3079 \n",
       "Q 1281 3584 2069 3584 \n",
       "Q 2775 3584 3186 3129 \n",
       "Q 3597 2675 3597 1894 \n",
       "z\n",
       "M 3022 2063 \n",
       "Q 3016 2534 2758 2815 \n",
       "Q 2500 3097 2075 3097 \n",
       "Q 1594 3097 1305 2825 \n",
       "Q 1016 2553 972 2059 \n",
       "L 3022 2063 \n",
       "z\n",
       "\" transform=\"scale(0.015625)\"/>\n",
       "      <path id=\"DejaVuSans-63\" d=\"M 3122 3366 \n",
       "L 3122 2828 \n",
       "Q 2878 2963 2633 3030 \n",
       "Q 2388 3097 2138 3097 \n",
       "Q 1578 3097 1268 2742 \n",
       "Q 959 2388 959 1747 \n",
       "Q 959 1106 1268 751 \n",
       "Q 1578 397 2138 397 \n",
       "Q 2388 397 2633 464 \n",
       "Q 2878 531 3122 666 \n",
       "L 3122 134 \n",
       "Q 2881 22 2623 -34 \n",
       "Q 2366 -91 2075 -91 \n",
       "Q 1284 -91 818 406 \n",
       "Q 353 903 353 1747 \n",
       "Q 353 2603 823 3093 \n",
       "Q 1294 3584 2113 3584 \n",
       "Q 2378 3584 2631 3529 \n",
       "Q 2884 3475 3122 3366 \n",
       "z\n",
       "\" transform=\"scale(0.015625)\"/>\n",
       "      <path id=\"DejaVuSans-6f\" d=\"M 1959 3097 \n",
       "Q 1497 3097 1228 2736 \n",
       "Q 959 2375 959 1747 \n",
       "Q 959 1119 1226 758 \n",
       "Q 1494 397 1959 397 \n",
       "Q 2419 397 2687 759 \n",
       "Q 2956 1122 2956 1747 \n",
       "Q 2956 2369 2687 2733 \n",
       "Q 2419 3097 1959 3097 \n",
       "z\n",
       "M 1959 3584 \n",
       "Q 2709 3584 3137 3096 \n",
       "Q 3566 2609 3566 1747 \n",
       "Q 3566 888 3137 398 \n",
       "Q 2709 -91 1959 -91 \n",
       "Q 1206 -91 779 398 \n",
       "Q 353 888 353 1747 \n",
       "Q 353 2609 779 3096 \n",
       "Q 1206 3584 1959 3584 \n",
       "z\n",
       "\" transform=\"scale(0.015625)\"/>\n",
       "      <path id=\"DejaVuSans-6e\" d=\"M 3513 2113 \n",
       "L 3513 0 \n",
       "L 2938 0 \n",
       "L 2938 2094 \n",
       "Q 2938 2591 2744 2837 \n",
       "Q 2550 3084 2163 3084 \n",
       "Q 1697 3084 1428 2787 \n",
       "Q 1159 2491 1159 1978 \n",
       "L 1159 0 \n",
       "L 581 0 \n",
       "L 581 3500 \n",
       "L 1159 3500 \n",
       "L 1159 2956 \n",
       "Q 1366 3272 1645 3428 \n",
       "Q 1925 3584 2291 3584 \n",
       "Q 2894 3584 3203 3211 \n",
       "Q 3513 2838 3513 2113 \n",
       "z\n",
       "\" transform=\"scale(0.015625)\"/>\n",
       "      <path id=\"DejaVuSans-73\" d=\"M 2834 3397 \n",
       "L 2834 2853 \n",
       "Q 2591 2978 2328 3040 \n",
       "Q 2066 3103 1784 3103 \n",
       "Q 1356 3103 1142 2972 \n",
       "Q 928 2841 928 2578 \n",
       "Q 928 2378 1081 2264 \n",
       "Q 1234 2150 1697 2047 \n",
       "L 1894 2003 \n",
       "Q 2506 1872 2764 1633 \n",
       "Q 3022 1394 3022 966 \n",
       "Q 3022 478 2636 193 \n",
       "Q 2250 -91 1575 -91 \n",
       "Q 1294 -91 989 -36 \n",
       "Q 684 19 347 128 \n",
       "L 347 722 \n",
       "Q 666 556 975 473 \n",
       "Q 1284 391 1588 391 \n",
       "Q 1994 391 2212 530 \n",
       "Q 2431 669 2431 922 \n",
       "Q 2431 1156 2273 1281 \n",
       "Q 2116 1406 1581 1522 \n",
       "L 1381 1569 \n",
       "Q 847 1681 609 1914 \n",
       "Q 372 2147 372 2553 \n",
       "Q 372 3047 722 3315 \n",
       "Q 1072 3584 1716 3584 \n",
       "Q 2034 3584 2315 3537 \n",
       "Q 2597 3491 2834 3397 \n",
       "z\n",
       "\" transform=\"scale(0.015625)\"/>\n",
       "      <path id=\"DejaVuSans-74\" d=\"M 1172 4494 \n",
       "L 1172 3500 \n",
       "L 2356 3500 \n",
       "L 2356 3053 \n",
       "L 1172 3053 \n",
       "L 1172 1153 \n",
       "Q 1172 725 1289 603 \n",
       "Q 1406 481 1766 481 \n",
       "L 2356 481 \n",
       "L 2356 0 \n",
       "L 1766 0 \n",
       "Q 1100 0 847 248 \n",
       "Q 594 497 594 1153 \n",
       "L 594 3053 \n",
       "L 172 3053 \n",
       "L 172 3500 \n",
       "L 594 3500 \n",
       "L 594 4494 \n",
       "L 1172 4494 \n",
       "z\n",
       "\" transform=\"scale(0.015625)\"/>\n",
       "      <path id=\"DejaVuSans-72\" d=\"M 2631 2963 \n",
       "Q 2534 3019 2420 3045 \n",
       "Q 2306 3072 2169 3072 \n",
       "Q 1681 3072 1420 2755 \n",
       "Q 1159 2438 1159 1844 \n",
       "L 1159 0 \n",
       "L 581 0 \n",
       "L 581 3500 \n",
       "L 1159 3500 \n",
       "L 1159 2956 \n",
       "Q 1341 3275 1631 3429 \n",
       "Q 1922 3584 2338 3584 \n",
       "Q 2397 3584 2469 3576 \n",
       "Q 2541 3569 2628 3553 \n",
       "L 2631 2963 \n",
       "z\n",
       "\" transform=\"scale(0.015625)\"/>\n",
       "      <path id=\"DejaVuSans-75\" d=\"M 544 1381 \n",
       "L 544 3500 \n",
       "L 1119 3500 \n",
       "L 1119 1403 \n",
       "Q 1119 906 1312 657 \n",
       "Q 1506 409 1894 409 \n",
       "Q 2359 409 2629 706 \n",
       "Q 2900 1003 2900 1516 \n",
       "L 2900 3500 \n",
       "L 3475 3500 \n",
       "L 3475 0 \n",
       "L 2900 0 \n",
       "L 2900 538 \n",
       "Q 2691 219 2414 64 \n",
       "Q 2138 -91 1772 -91 \n",
       "Q 1169 -91 856 284 \n",
       "Q 544 659 544 1381 \n",
       "z\n",
       "M 1991 3584 \n",
       "L 1991 3584 \n",
       "z\n",
       "\" transform=\"scale(0.015625)\"/>\n",
       "      <path id=\"DejaVuSans-64\" d=\"M 2906 2969 \n",
       "L 2906 4863 \n",
       "L 3481 4863 \n",
       "L 3481 0 \n",
       "L 2906 0 \n",
       "L 2906 525 \n",
       "Q 2725 213 2448 61 \n",
       "Q 2172 -91 1784 -91 \n",
       "Q 1150 -91 751 415 \n",
       "Q 353 922 353 1747 \n",
       "Q 353 2572 751 3078 \n",
       "Q 1150 3584 1784 3584 \n",
       "Q 2172 3584 2448 3432 \n",
       "Q 2725 3281 2906 2969 \n",
       "z\n",
       "M 947 1747 \n",
       "Q 947 1113 1208 752 \n",
       "Q 1469 391 1925 391 \n",
       "Q 2381 391 2643 752 \n",
       "Q 2906 1113 2906 1747 \n",
       "Q 2906 2381 2643 2742 \n",
       "Q 2381 3103 1925 3103 \n",
       "Q 1469 3103 1208 2742 \n",
       "Q 947 2381 947 1747 \n",
       "z\n",
       "\" transform=\"scale(0.015625)\"/>\n",
       "      <path id=\"DejaVuSans-20\" transform=\"scale(0.015625)\"/>\n",
       "      <path id=\"DejaVuSans-66\" d=\"M 2375 4863 \n",
       "L 2375 4384 \n",
       "L 1825 4384 \n",
       "Q 1516 4384 1395 4259 \n",
       "Q 1275 4134 1275 3809 \n",
       "L 1275 3500 \n",
       "L 2222 3500 \n",
       "L 2222 3053 \n",
       "L 1275 3053 \n",
       "L 1275 0 \n",
       "L 697 0 \n",
       "L 697 3053 \n",
       "L 147 3053 \n",
       "L 147 3500 \n",
       "L 697 3500 \n",
       "L 697 3744 \n",
       "Q 697 4328 969 4595 \n",
       "Q 1241 4863 1831 4863 \n",
       "L 2375 4863 \n",
       "z\n",
       "\" transform=\"scale(0.015625)\"/>\n",
       "      <path id=\"DejaVuSans-6d\" d=\"M 3328 2828 \n",
       "Q 3544 3216 3844 3400 \n",
       "Q 4144 3584 4550 3584 \n",
       "Q 5097 3584 5394 3201 \n",
       "Q 5691 2819 5691 2113 \n",
       "L 5691 0 \n",
       "L 5113 0 \n",
       "L 5113 2094 \n",
       "Q 5113 2597 4934 2840 \n",
       "Q 4756 3084 4391 3084 \n",
       "Q 3944 3084 3684 2787 \n",
       "Q 3425 2491 3425 1978 \n",
       "L 3425 0 \n",
       "L 2847 0 \n",
       "L 2847 2094 \n",
       "Q 2847 2600 2669 2842 \n",
       "Q 2491 3084 2119 3084 \n",
       "Q 1678 3084 1418 2786 \n",
       "Q 1159 2488 1159 1978 \n",
       "L 1159 0 \n",
       "L 581 0 \n",
       "L 581 3500 \n",
       "L 1159 3500 \n",
       "L 1159 2956 \n",
       "Q 1356 3278 1631 3431 \n",
       "Q 1906 3584 2284 3584 \n",
       "Q 2666 3584 2933 3390 \n",
       "Q 3200 3197 3328 2828 \n",
       "z\n",
       "\" transform=\"scale(0.015625)\"/>\n",
       "      <path id=\"DejaVuSans-32\" d=\"M 1228 531 \n",
       "L 3431 531 \n",
       "L 3431 0 \n",
       "L 469 0 \n",
       "L 469 531 \n",
       "Q 828 903 1448 1529 \n",
       "Q 2069 2156 2228 2338 \n",
       "Q 2531 2678 2651 2914 \n",
       "Q 2772 3150 2772 3378 \n",
       "Q 2772 3750 2511 3984 \n",
       "Q 2250 4219 1831 4219 \n",
       "Q 1534 4219 1204 4116 \n",
       "Q 875 4013 500 3803 \n",
       "L 500 4441 \n",
       "Q 881 4594 1212 4672 \n",
       "Q 1544 4750 1819 4750 \n",
       "Q 2544 4750 2975 4387 \n",
       "Q 3406 4025 3406 3419 \n",
       "Q 3406 3131 3298 2873 \n",
       "Q 3191 2616 2906 2266 \n",
       "Q 2828 2175 2409 1742 \n",
       "Q 1991 1309 1228 531 \n",
       "z\n",
       "\" transform=\"scale(0.015625)\"/>\n",
       "      <path id=\"DejaVuSans-35\" d=\"M 691 4666 \n",
       "L 3169 4666 \n",
       "L 3169 4134 \n",
       "L 1269 4134 \n",
       "L 1269 2991 \n",
       "Q 1406 3038 1543 3061 \n",
       "Q 1681 3084 1819 3084 \n",
       "Q 2600 3084 3056 2656 \n",
       "Q 3513 2228 3513 1497 \n",
       "Q 3513 744 3044 326 \n",
       "Q 2575 -91 1722 -91 \n",
       "Q 1428 -91 1123 -41 \n",
       "Q 819 9 494 109 \n",
       "L 494 744 \n",
       "Q 775 591 1075 516 \n",
       "Q 1375 441 1709 441 \n",
       "Q 2250 441 2565 725 \n",
       "Q 2881 1009 2881 1497 \n",
       "Q 2881 1984 2565 2268 \n",
       "Q 2250 2553 1709 2553 \n",
       "Q 1456 2553 1204 2497 \n",
       "Q 953 2441 691 2322 \n",
       "L 691 4666 \n",
       "z\n",
       "\" transform=\"scale(0.015625)\"/>\n",
       "      <path id=\"DejaVuSans-36\" d=\"M 2113 2584 \n",
       "Q 1688 2584 1439 2293 \n",
       "Q 1191 2003 1191 1497 \n",
       "Q 1191 994 1439 701 \n",
       "Q 1688 409 2113 409 \n",
       "Q 2538 409 2786 701 \n",
       "Q 3034 994 3034 1497 \n",
       "Q 3034 2003 2786 2293 \n",
       "Q 2538 2584 2113 2584 \n",
       "z\n",
       "M 3366 4563 \n",
       "L 3366 3988 \n",
       "Q 3128 4100 2886 4159 \n",
       "Q 2644 4219 2406 4219 \n",
       "Q 1781 4219 1451 3797 \n",
       "Q 1122 3375 1075 2522 \n",
       "Q 1259 2794 1537 2939 \n",
       "Q 1816 3084 2150 3084 \n",
       "Q 2853 3084 3261 2657 \n",
       "Q 3669 2231 3669 1497 \n",
       "Q 3669 778 3244 343 \n",
       "Q 2819 -91 2113 -91 \n",
       "Q 1303 -91 875 529 \n",
       "Q 447 1150 447 2328 \n",
       "Q 447 3434 972 4092 \n",
       "Q 1497 4750 2381 4750 \n",
       "Q 2619 4750 2861 4703 \n",
       "Q 3103 4656 3366 4563 \n",
       "z\n",
       "\" transform=\"scale(0.015625)\"/>\n",
       "      <path id=\"DejaVuSans-6c\" d=\"M 603 4863 \n",
       "L 1178 4863 \n",
       "L 1178 0 \n",
       "L 603 0 \n",
       "L 603 4863 \n",
       "z\n",
       "\" transform=\"scale(0.015625)\"/>\n",
       "      <path id=\"DejaVuSans-61\" d=\"M 2194 1759 \n",
       "Q 1497 1759 1228 1600 \n",
       "Q 959 1441 959 1056 \n",
       "Q 959 750 1161 570 \n",
       "Q 1363 391 1709 391 \n",
       "Q 2188 391 2477 730 \n",
       "Q 2766 1069 2766 1631 \n",
       "L 2766 1759 \n",
       "L 2194 1759 \n",
       "z\n",
       "M 3341 1997 \n",
       "L 3341 0 \n",
       "L 2766 0 \n",
       "L 2766 531 \n",
       "Q 2569 213 2275 61 \n",
       "Q 1981 -91 1556 -91 \n",
       "Q 1019 -91 701 211 \n",
       "Q 384 513 384 1019 \n",
       "Q 384 1609 779 1909 \n",
       "Q 1175 2209 1959 2209 \n",
       "L 2766 2209 \n",
       "L 2766 2266 \n",
       "Q 2766 2663 2505 2880 \n",
       "Q 2244 3097 1772 3097 \n",
       "Q 1472 3097 1187 3025 \n",
       "Q 903 2953 641 2809 \n",
       "L 641 3341 \n",
       "Q 956 3463 1253 3523 \n",
       "Q 1550 3584 1831 3584 \n",
       "Q 2591 3584 2966 3190 \n",
       "Q 3341 2797 3341 1997 \n",
       "z\n",
       "\" transform=\"scale(0.015625)\"/>\n",
       "     </defs>\n",
       "     <use xlink:href=\"#DejaVuSans-52\"/>\n",
       "     <use xlink:href=\"#DejaVuSans-65\" x=\"64.982422\"/>\n",
       "     <use xlink:href=\"#DejaVuSans-63\" x=\"126.505859\"/>\n",
       "     <use xlink:href=\"#DejaVuSans-6f\" x=\"181.486328\"/>\n",
       "     <use xlink:href=\"#DejaVuSans-6e\" x=\"242.667969\"/>\n",
       "     <use xlink:href=\"#DejaVuSans-73\" x=\"306.046875\"/>\n",
       "     <use xlink:href=\"#DejaVuSans-74\" x=\"358.146484\"/>\n",
       "     <use xlink:href=\"#DejaVuSans-72\" x=\"397.355469\"/>\n",
       "     <use xlink:href=\"#DejaVuSans-75\" x=\"438.46875\"/>\n",
       "     <use xlink:href=\"#DejaVuSans-63\" x=\"501.847656\"/>\n",
       "     <use xlink:href=\"#DejaVuSans-74\" x=\"556.828125\"/>\n",
       "     <use xlink:href=\"#DejaVuSans-65\" x=\"596.037109\"/>\n",
       "     <use xlink:href=\"#DejaVuSans-64\" x=\"657.560547\"/>\n",
       "     <use xlink:href=\"#DejaVuSans-20\" x=\"721.037109\"/>\n",
       "     <use xlink:href=\"#DejaVuSans-66\" x=\"752.824219\"/>\n",
       "     <use xlink:href=\"#DejaVuSans-72\" x=\"788.029297\"/>\n",
       "     <use xlink:href=\"#DejaVuSans-6f\" x=\"826.892578\"/>\n",
       "     <use xlink:href=\"#DejaVuSans-6d\" x=\"888.074219\"/>\n",
       "     <use xlink:href=\"#DejaVuSans-20\" x=\"985.486328\"/>\n",
       "     <use xlink:href=\"#DejaVuSans-32\" x=\"1017.273438\"/>\n",
       "     <use xlink:href=\"#DejaVuSans-35\" x=\"1080.896484\"/>\n",
       "     <use xlink:href=\"#DejaVuSans-36\" x=\"1144.519531\"/>\n",
       "     <use xlink:href=\"#DejaVuSans-20\" x=\"1208.142578\"/>\n",
       "     <use xlink:href=\"#DejaVuSans-6c\" x=\"1239.929688\"/>\n",
       "     <use xlink:href=\"#DejaVuSans-61\" x=\"1267.712891\"/>\n",
       "     <use xlink:href=\"#DejaVuSans-74\" x=\"1328.992188\"/>\n",
       "     <use xlink:href=\"#DejaVuSans-65\" x=\"1368.201172\"/>\n",
       "     <use xlink:href=\"#DejaVuSans-6e\" x=\"1429.724609\"/>\n",
       "     <use xlink:href=\"#DejaVuSans-74\" x=\"1493.103516\"/>\n",
       "     <use xlink:href=\"#DejaVuSans-73\" x=\"1532.3125\"/>\n",
       "    </g>\n",
       "   </g>\n",
       "  </g>\n",
       " </g>\n",
       " <defs>\n",
       "  <clipPath id=\"p78b65f8066\">\n",
       "   <rect x=\"7.2\" y=\"22.318125\" width=\"390.6\" height=\"198.130435\"/>\n",
       "  </clipPath>\n",
       " </defs>\n",
       "</svg>\n"
      ],
      "text/plain": [
       "<Figure size 700x450 with 1 Axes>"
      ]
     },
     "metadata": {},
     "output_type": "display_data"
    },
    {
     "data": {
      "application/pdf": "[encoded data removed]",
      "image/svg+xml": [
       "<?xml version=\"1.0\" encoding=\"utf-8\" standalone=\"no\"?>\n",
       "<!DOCTYPE svg PUBLIC \"-//W3C//DTD SVG 1.1//EN\"\n",
       "  \"http://www.w3.org/Graphics/SVG/1.1/DTD/svg11.dtd\">\n",
       "<svg xmlns:xlink=\"http://www.w3.org/1999/xlink\" width=\"405pt\" height=\"227.64856pt\" viewBox=\"0 0 405 227.64856\" xmlns=\"http://www.w3.org/2000/svg\" version=\"1.1\">\n",
       " <metadata>\n",
       "  <rdf:RDF xmlns:dc=\"http://purl.org/dc/elements/1.1/\" xmlns:cc=\"http://creativecommons.org/ns#\" xmlns:rdf=\"http://www.w3.org/1999/02/22-rdf-syntax-ns#\">\n",
       "   <cc:Work>\n",
       "    <dc:type rdf:resource=\"http://purl.org/dc/dcmitype/StillImage\"/>\n",
       "    <dc:date>2025-02-21T20:52:45.242867</dc:date>\n",
       "    <dc:format>image/svg+xml</dc:format>\n",
       "    <dc:creator>\n",
       "     <cc:Agent>\n",
       "      <dc:title>Matplotlib v3.9.2, https://matplotlib.org/</dc:title>\n",
       "     </cc:Agent>\n",
       "    </dc:creator>\n",
       "   </cc:Work>\n",
       "  </rdf:RDF>\n",
       " </metadata>\n",
       " <defs>\n",
       "  <style type=\"text/css\">*{stroke-linejoin: round; stroke-linecap: butt}</style>\n",
       " </defs>\n",
       " <g id=\"figure_1\">\n",
       "  <g id=\"patch_1\">\n",
       "   <path d=\"M 0 227.64856 \n",
       "L 405 227.64856 \n",
       "L 405 0 \n",
       "L 0 0 \n",
       "z\n",
       "\" style=\"fill: #ffffff\"/>\n",
       "  </g>\n",
       "  <g id=\"axes_1\">\n",
       "   <g clip-path=\"url(#p765015c0e6)\">\n",
       "    <image xlink:href=\"data:image/png;base64,\n",
       "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\" id=\"image8333ae85d7\" transform=\"scale(1 -1) translate(0 -198.72)\" x=\"7.2\" y=\"-21.72856\" width=\"390.96\" height=\"198.72\"/>\n",
       "   </g>\n",
       "   <g id=\"text_1\">\n",
       "    <!-- Reconstructed from 384 latents -->\n",
       "    <g style=\"fill: #262626\" transform=\"translate(107.436563 16.318125) scale(0.12 -0.12)\">\n",
       "     <defs>\n",
       "      <path id=\"DejaVuSans-52\" d=\"M 2841 2188 \n",
       "Q 3044 2119 3236 1894 \n",
       "Q 3428 1669 3622 1275 \n",
       "L 4263 0 \n",
       "L 3584 0 \n",
       "L 2988 1197 \n",
       "Q 2756 1666 2539 1819 \n",
       "Q 2322 1972 1947 1972 \n",
       "L 1259 1972 \n",
       "L 1259 0 \n",
       "L 628 0 \n",
       "L 628 4666 \n",
       "L 2053 4666 \n",
       "Q 2853 4666 3247 4331 \n",
       "Q 3641 3997 3641 3322 \n",
       "Q 3641 2881 3436 2590 \n",
       "Q 3231 2300 2841 2188 \n",
       "z\n",
       "M 1259 4147 \n",
       "L 1259 2491 \n",
       "L 2053 2491 \n",
       "Q 2509 2491 2742 2702 \n",
       "Q 2975 2913 2975 3322 \n",
       "Q 2975 3731 2742 3939 \n",
       "Q 2509 4147 2053 4147 \n",
       "L 1259 4147 \n",
       "z\n",
       "\" transform=\"scale(0.015625)\"/>\n",
       "      <path id=\"DejaVuSans-65\" d=\"M 3597 1894 \n",
       "L 3597 1613 \n",
       "L 953 1613 \n",
       "Q 991 1019 1311 708 \n",
       "Q 1631 397 2203 397 \n",
       "Q 2534 397 2845 478 \n",
       "Q 3156 559 3463 722 \n",
       "L 3463 178 \n",
       "Q 3153 47 2828 -22 \n",
       "Q 2503 -91 2169 -91 \n",
       "Q 1331 -91 842 396 \n",
       "Q 353 884 353 1716 \n",
       "Q 353 2575 817 3079 \n",
       "Q 1281 3584 2069 3584 \n",
       "Q 2775 3584 3186 3129 \n",
       "Q 3597 2675 3597 1894 \n",
       "z\n",
       "M 3022 2063 \n",
       "Q 3016 2534 2758 2815 \n",
       "Q 2500 3097 2075 3097 \n",
       "Q 1594 3097 1305 2825 \n",
       "Q 1016 2553 972 2059 \n",
       "L 3022 2063 \n",
       "z\n",
       "\" transform=\"scale(0.015625)\"/>\n",
       "      <path id=\"DejaVuSans-63\" d=\"M 3122 3366 \n",
       "L 3122 2828 \n",
       "Q 2878 2963 2633 3030 \n",
       "Q 2388 3097 2138 3097 \n",
       "Q 1578 3097 1268 2742 \n",
       "Q 959 2388 959 1747 \n",
       "Q 959 1106 1268 751 \n",
       "Q 1578 397 2138 397 \n",
       "Q 2388 397 2633 464 \n",
       "Q 2878 531 3122 666 \n",
       "L 3122 134 \n",
       "Q 2881 22 2623 -34 \n",
       "Q 2366 -91 2075 -91 \n",
       "Q 1284 -91 818 406 \n",
       "Q 353 903 353 1747 \n",
       "Q 353 2603 823 3093 \n",
       "Q 1294 3584 2113 3584 \n",
       "Q 2378 3584 2631 3529 \n",
       "Q 2884 3475 3122 3366 \n",
       "z\n",
       "\" transform=\"scale(0.015625)\"/>\n",
       "      <path id=\"DejaVuSans-6f\" d=\"M 1959 3097 \n",
       "Q 1497 3097 1228 2736 \n",
       "Q 959 2375 959 1747 \n",
       "Q 959 1119 1226 758 \n",
       "Q 1494 397 1959 397 \n",
       "Q 2419 397 2687 759 \n",
       "Q 2956 1122 2956 1747 \n",
       "Q 2956 2369 2687 2733 \n",
       "Q 2419 3097 1959 3097 \n",
       "z\n",
       "M 1959 3584 \n",
       "Q 2709 3584 3137 3096 \n",
       "Q 3566 2609 3566 1747 \n",
       "Q 3566 888 3137 398 \n",
       "Q 2709 -91 1959 -91 \n",
       "Q 1206 -91 779 398 \n",
       "Q 353 888 353 1747 \n",
       "Q 353 2609 779 3096 \n",
       "Q 1206 3584 1959 3584 \n",
       "z\n",
       "\" transform=\"scale(0.015625)\"/>\n",
       "      <path id=\"DejaVuSans-6e\" d=\"M 3513 2113 \n",
       "L 3513 0 \n",
       "L 2938 0 \n",
       "L 2938 2094 \n",
       "Q 2938 2591 2744 2837 \n",
       "Q 2550 3084 2163 3084 \n",
       "Q 1697 3084 1428 2787 \n",
       "Q 1159 2491 1159 1978 \n",
       "L 1159 0 \n",
       "L 581 0 \n",
       "L 581 3500 \n",
       "L 1159 3500 \n",
       "L 1159 2956 \n",
       "Q 1366 3272 1645 3428 \n",
       "Q 1925 3584 2291 3584 \n",
       "Q 2894 3584 3203 3211 \n",
       "Q 3513 2838 3513 2113 \n",
       "z\n",
       "\" transform=\"scale(0.015625)\"/>\n",
       "      <path id=\"DejaVuSans-73\" d=\"M 2834 3397 \n",
       "L 2834 2853 \n",
       "Q 2591 2978 2328 3040 \n",
       "Q 2066 3103 1784 3103 \n",
       "Q 1356 3103 1142 2972 \n",
       "Q 928 2841 928 2578 \n",
       "Q 928 2378 1081 2264 \n",
       "Q 1234 2150 1697 2047 \n",
       "L 1894 2003 \n",
       "Q 2506 1872 2764 1633 \n",
       "Q 3022 1394 3022 966 \n",
       "Q 3022 478 2636 193 \n",
       "Q 2250 -91 1575 -91 \n",
       "Q 1294 -91 989 -36 \n",
       "Q 684 19 347 128 \n",
       "L 347 722 \n",
       "Q 666 556 975 473 \n",
       "Q 1284 391 1588 391 \n",
       "Q 1994 391 2212 530 \n",
       "Q 2431 669 2431 922 \n",
       "Q 2431 1156 2273 1281 \n",
       "Q 2116 1406 1581 1522 \n",
       "L 1381 1569 \n",
       "Q 847 1681 609 1914 \n",
       "Q 372 2147 372 2553 \n",
       "Q 372 3047 722 3315 \n",
       "Q 1072 3584 1716 3584 \n",
       "Q 2034 3584 2315 3537 \n",
       "Q 2597 3491 2834 3397 \n",
       "z\n",
       "\" transform=\"scale(0.015625)\"/>\n",
       "      <path id=\"DejaVuSans-74\" d=\"M 1172 4494 \n",
       "L 1172 3500 \n",
       "L 2356 3500 \n",
       "L 2356 3053 \n",
       "L 1172 3053 \n",
       "L 1172 1153 \n",
       "Q 1172 725 1289 603 \n",
       "Q 1406 481 1766 481 \n",
       "L 2356 481 \n",
       "L 2356 0 \n",
       "L 1766 0 \n",
       "Q 1100 0 847 248 \n",
       "Q 594 497 594 1153 \n",
       "L 594 3053 \n",
       "L 172 3053 \n",
       "L 172 3500 \n",
       "L 594 3500 \n",
       "L 594 4494 \n",
       "L 1172 4494 \n",
       "z\n",
       "\" transform=\"scale(0.015625)\"/>\n",
       "      <path id=\"DejaVuSans-72\" d=\"M 2631 2963 \n",
       "Q 2534 3019 2420 3045 \n",
       "Q 2306 3072 2169 3072 \n",
       "Q 1681 3072 1420 2755 \n",
       "Q 1159 2438 1159 1844 \n",
       "L 1159 0 \n",
       "L 581 0 \n",
       "L 581 3500 \n",
       "L 1159 3500 \n",
       "L 1159 2956 \n",
       "Q 1341 3275 1631 3429 \n",
       "Q 1922 3584 2338 3584 \n",
       "Q 2397 3584 2469 3576 \n",
       "Q 2541 3569 2628 3553 \n",
       "L 2631 2963 \n",
       "z\n",
       "\" transform=\"scale(0.015625)\"/>\n",
       "      <path id=\"DejaVuSans-75\" d=\"M 544 1381 \n",
       "L 544 3500 \n",
       "L 1119 3500 \n",
       "L 1119 1403 \n",
       "Q 1119 906 1312 657 \n",
       "Q 1506 409 1894 409 \n",
       "Q 2359 409 2629 706 \n",
       "Q 2900 1003 2900 1516 \n",
       "L 2900 3500 \n",
       "L 3475 3500 \n",
       "L 3475 0 \n",
       "L 2900 0 \n",
       "L 2900 538 \n",
       "Q 2691 219 2414 64 \n",
       "Q 2138 -91 1772 -91 \n",
       "Q 1169 -91 856 284 \n",
       "Q 544 659 544 1381 \n",
       "z\n",
       "M 1991 3584 \n",
       "L 1991 3584 \n",
       "z\n",
       "\" transform=\"scale(0.015625)\"/>\n",
       "      <path id=\"DejaVuSans-64\" d=\"M 2906 2969 \n",
       "L 2906 4863 \n",
       "L 3481 4863 \n",
       "L 3481 0 \n",
       "L 2906 0 \n",
       "L 2906 525 \n",
       "Q 2725 213 2448 61 \n",
       "Q 2172 -91 1784 -91 \n",
       "Q 1150 -91 751 415 \n",
       "Q 353 922 353 1747 \n",
       "Q 353 2572 751 3078 \n",
       "Q 1150 3584 1784 3584 \n",
       "Q 2172 3584 2448 3432 \n",
       "Q 2725 3281 2906 2969 \n",
       "z\n",
       "M 947 1747 \n",
       "Q 947 1113 1208 752 \n",
       "Q 1469 391 1925 391 \n",
       "Q 2381 391 2643 752 \n",
       "Q 2906 1113 2906 1747 \n",
       "Q 2906 2381 2643 2742 \n",
       "Q 2381 3103 1925 3103 \n",
       "Q 1469 3103 1208 2742 \n",
       "Q 947 2381 947 1747 \n",
       "z\n",
       "\" transform=\"scale(0.015625)\"/>\n",
       "      <path id=\"DejaVuSans-20\" transform=\"scale(0.015625)\"/>\n",
       "      <path id=\"DejaVuSans-66\" d=\"M 2375 4863 \n",
       "L 2375 4384 \n",
       "L 1825 4384 \n",
       "Q 1516 4384 1395 4259 \n",
       "Q 1275 4134 1275 3809 \n",
       "L 1275 3500 \n",
       "L 2222 3500 \n",
       "L 2222 3053 \n",
       "L 1275 3053 \n",
       "L 1275 0 \n",
       "L 697 0 \n",
       "L 697 3053 \n",
       "L 147 3053 \n",
       "L 147 3500 \n",
       "L 697 3500 \n",
       "L 697 3744 \n",
       "Q 697 4328 969 4595 \n",
       "Q 1241 4863 1831 4863 \n",
       "L 2375 4863 \n",
       "z\n",
       "\" transform=\"scale(0.015625)\"/>\n",
       "      <path id=\"DejaVuSans-6d\" d=\"M 3328 2828 \n",
       "Q 3544 3216 3844 3400 \n",
       "Q 4144 3584 4550 3584 \n",
       "Q 5097 3584 5394 3201 \n",
       "Q 5691 2819 5691 2113 \n",
       "L 5691 0 \n",
       "L 5113 0 \n",
       "L 5113 2094 \n",
       "Q 5113 2597 4934 2840 \n",
       "Q 4756 3084 4391 3084 \n",
       "Q 3944 3084 3684 2787 \n",
       "Q 3425 2491 3425 1978 \n",
       "L 3425 0 \n",
       "L 2847 0 \n",
       "L 2847 2094 \n",
       "Q 2847 2600 2669 2842 \n",
       "Q 2491 3084 2119 3084 \n",
       "Q 1678 3084 1418 2786 \n",
       "Q 1159 2488 1159 1978 \n",
       "L 1159 0 \n",
       "L 581 0 \n",
       "L 581 3500 \n",
       "L 1159 3500 \n",
       "L 1159 2956 \n",
       "Q 1356 3278 1631 3431 \n",
       "Q 1906 3584 2284 3584 \n",
       "Q 2666 3584 2933 3390 \n",
       "Q 3200 3197 3328 2828 \n",
       "z\n",
       "\" transform=\"scale(0.015625)\"/>\n",
       "      <path id=\"DejaVuSans-33\" d=\"M 2597 2516 \n",
       "Q 3050 2419 3304 2112 \n",
       "Q 3559 1806 3559 1356 \n",
       "Q 3559 666 3084 287 \n",
       "Q 2609 -91 1734 -91 \n",
       "Q 1441 -91 1130 -33 \n",
       "Q 819 25 488 141 \n",
       "L 488 750 \n",
       "Q 750 597 1062 519 \n",
       "Q 1375 441 1716 441 \n",
       "Q 2309 441 2620 675 \n",
       "Q 2931 909 2931 1356 \n",
       "Q 2931 1769 2642 2001 \n",
       "Q 2353 2234 1838 2234 \n",
       "L 1294 2234 \n",
       "L 1294 2753 \n",
       "L 1863 2753 \n",
       "Q 2328 2753 2575 2939 \n",
       "Q 2822 3125 2822 3475 \n",
       "Q 2822 3834 2567 4026 \n",
       "Q 2313 4219 1838 4219 \n",
       "Q 1578 4219 1281 4162 \n",
       "Q 984 4106 628 3988 \n",
       "L 628 4550 \n",
       "Q 988 4650 1302 4700 \n",
       "Q 1616 4750 1894 4750 \n",
       "Q 2613 4750 3031 4423 \n",
       "Q 3450 4097 3450 3541 \n",
       "Q 3450 3153 3228 2886 \n",
       "Q 3006 2619 2597 2516 \n",
       "z\n",
       "\" transform=\"scale(0.015625)\"/>\n",
       "      <path id=\"DejaVuSans-38\" d=\"M 2034 2216 \n",
       "Q 1584 2216 1326 1975 \n",
       "Q 1069 1734 1069 1313 \n",
       "Q 1069 891 1326 650 \n",
       "Q 1584 409 2034 409 \n",
       "Q 2484 409 2743 651 \n",
       "Q 3003 894 3003 1313 \n",
       "Q 3003 1734 2745 1975 \n",
       "Q 2488 2216 2034 2216 \n",
       "z\n",
       "M 1403 2484 \n",
       "Q 997 2584 770 2862 \n",
       "Q 544 3141 544 3541 \n",
       "Q 544 4100 942 4425 \n",
       "Q 1341 4750 2034 4750 \n",
       "Q 2731 4750 3128 4425 \n",
       "Q 3525 4100 3525 3541 \n",
       "Q 3525 3141 3298 2862 \n",
       "Q 3072 2584 2669 2484 \n",
       "Q 3125 2378 3379 2068 \n",
       "Q 3634 1759 3634 1313 \n",
       "Q 3634 634 3220 271 \n",
       "Q 2806 -91 2034 -91 \n",
       "Q 1263 -91 848 271 \n",
       "Q 434 634 434 1313 \n",
       "Q 434 1759 690 2068 \n",
       "Q 947 2378 1403 2484 \n",
       "z\n",
       "M 1172 3481 \n",
       "Q 1172 3119 1398 2916 \n",
       "Q 1625 2713 2034 2713 \n",
       "Q 2441 2713 2670 2916 \n",
       "Q 2900 3119 2900 3481 \n",
       "Q 2900 3844 2670 4047 \n",
       "Q 2441 4250 2034 4250 \n",
       "Q 1625 4250 1398 4047 \n",
       "Q 1172 3844 1172 3481 \n",
       "z\n",
       "\" transform=\"scale(0.015625)\"/>\n",
       "      <path id=\"DejaVuSans-34\" d=\"M 2419 4116 \n",
       "L 825 1625 \n",
       "L 2419 1625 \n",
       "L 2419 4116 \n",
       "z\n",
       "M 2253 4666 \n",
       "L 3047 4666 \n",
       "L 3047 1625 \n",
       "L 3713 1625 \n",
       "L 3713 1100 \n",
       "L 3047 1100 \n",
       "L 3047 0 \n",
       "L 2419 0 \n",
       "L 2419 1100 \n",
       "L 313 1100 \n",
       "L 313 1709 \n",
       "L 2253 4666 \n",
       "z\n",
       "\" transform=\"scale(0.015625)\"/>\n",
       "      <path id=\"DejaVuSans-6c\" d=\"M 603 4863 \n",
       "L 1178 4863 \n",
       "L 1178 0 \n",
       "L 603 0 \n",
       "L 603 4863 \n",
       "z\n",
       "\" transform=\"scale(0.015625)\"/>\n",
       "      <path id=\"DejaVuSans-61\" d=\"M 2194 1759 \n",
       "Q 1497 1759 1228 1600 \n",
       "Q 959 1441 959 1056 \n",
       "Q 959 750 1161 570 \n",
       "Q 1363 391 1709 391 \n",
       "Q 2188 391 2477 730 \n",
       "Q 2766 1069 2766 1631 \n",
       "L 2766 1759 \n",
       "L 2194 1759 \n",
       "z\n",
       "M 3341 1997 \n",
       "L 3341 0 \n",
       "L 2766 0 \n",
       "L 2766 531 \n",
       "Q 2569 213 2275 61 \n",
       "Q 1981 -91 1556 -91 \n",
       "Q 1019 -91 701 211 \n",
       "Q 384 513 384 1019 \n",
       "Q 384 1609 779 1909 \n",
       "Q 1175 2209 1959 2209 \n",
       "L 2766 2209 \n",
       "L 2766 2266 \n",
       "Q 2766 2663 2505 2880 \n",
       "Q 2244 3097 1772 3097 \n",
       "Q 1472 3097 1187 3025 \n",
       "Q 903 2953 641 2809 \n",
       "L 641 3341 \n",
       "Q 956 3463 1253 3523 \n",
       "Q 1550 3584 1831 3584 \n",
       "Q 2591 3584 2966 3190 \n",
       "Q 3341 2797 3341 1997 \n",
       "z\n",
       "\" transform=\"scale(0.015625)\"/>\n",
       "     </defs>\n",
       "     <use xlink:href=\"#DejaVuSans-52\"/>\n",
       "     <use xlink:href=\"#DejaVuSans-65\" x=\"64.982422\"/>\n",
       "     <use xlink:href=\"#DejaVuSans-63\" x=\"126.505859\"/>\n",
       "     <use xlink:href=\"#DejaVuSans-6f\" x=\"181.486328\"/>\n",
       "     <use xlink:href=\"#DejaVuSans-6e\" x=\"242.667969\"/>\n",
       "     <use xlink:href=\"#DejaVuSans-73\" x=\"306.046875\"/>\n",
       "     <use xlink:href=\"#DejaVuSans-74\" x=\"358.146484\"/>\n",
       "     <use xlink:href=\"#DejaVuSans-72\" x=\"397.355469\"/>\n",
       "     <use xlink:href=\"#DejaVuSans-75\" x=\"438.46875\"/>\n",
       "     <use xlink:href=\"#DejaVuSans-63\" x=\"501.847656\"/>\n",
       "     <use xlink:href=\"#DejaVuSans-74\" x=\"556.828125\"/>\n",
       "     <use xlink:href=\"#DejaVuSans-65\" x=\"596.037109\"/>\n",
       "     <use xlink:href=\"#DejaVuSans-64\" x=\"657.560547\"/>\n",
       "     <use xlink:href=\"#DejaVuSans-20\" x=\"721.037109\"/>\n",
       "     <use xlink:href=\"#DejaVuSans-66\" x=\"752.824219\"/>\n",
       "     <use xlink:href=\"#DejaVuSans-72\" x=\"788.029297\"/>\n",
       "     <use xlink:href=\"#DejaVuSans-6f\" x=\"826.892578\"/>\n",
       "     <use xlink:href=\"#DejaVuSans-6d\" x=\"888.074219\"/>\n",
       "     <use xlink:href=\"#DejaVuSans-20\" x=\"985.486328\"/>\n",
       "     <use xlink:href=\"#DejaVuSans-33\" x=\"1017.273438\"/>\n",
       "     <use xlink:href=\"#DejaVuSans-38\" x=\"1080.896484\"/>\n",
       "     <use xlink:href=\"#DejaVuSans-34\" x=\"1144.519531\"/>\n",
       "     <use xlink:href=\"#DejaVuSans-20\" x=\"1208.142578\"/>\n",
       "     <use xlink:href=\"#DejaVuSans-6c\" x=\"1239.929688\"/>\n",
       "     <use xlink:href=\"#DejaVuSans-61\" x=\"1267.712891\"/>\n",
       "     <use xlink:href=\"#DejaVuSans-74\" x=\"1328.992188\"/>\n",
       "     <use xlink:href=\"#DejaVuSans-65\" x=\"1368.201172\"/>\n",
       "     <use xlink:href=\"#DejaVuSans-6e\" x=\"1429.724609\"/>\n",
       "     <use xlink:href=\"#DejaVuSans-74\" x=\"1493.103516\"/>\n",
       "     <use xlink:href=\"#DejaVuSans-73\" x=\"1532.3125\"/>\n",
       "    </g>\n",
       "   </g>\n",
       "  </g>\n",
       " </g>\n",
       " <defs>\n",
       "  <clipPath id=\"p765015c0e6\">\n",
       "   <rect x=\"7.2\" y=\"22.318125\" width=\"390.6\" height=\"198.130435\"/>\n",
       "  </clipPath>\n",
       " </defs>\n",
       "</svg>\n"
      ],
      "text/plain": [
       "<Figure size 700x450 with 1 Axes>"
      ]
     },
     "metadata": {},
     "output_type": "display_data"
    },
    {
     "data": {
      "application/pdf": "[encoded data removed]",
      "image/svg+xml": [
       "<?xml version=\"1.0\" encoding=\"utf-8\" standalone=\"no\"?>\n",
       "<!DOCTYPE svg PUBLIC \"-//W3C//DTD SVG 1.1//EN\"\n",
       "  \"http://www.w3.org/Graphics/SVG/1.1/DTD/svg11.dtd\">\n",
       "<svg xmlns:xlink=\"http://www.w3.org/1999/xlink\" width=\"405pt\" height=\"227.64856pt\" viewBox=\"0 0 405 227.64856\" xmlns=\"http://www.w3.org/2000/svg\" version=\"1.1\">\n",
       " <metadata>\n",
       "  <rdf:RDF xmlns:dc=\"http://purl.org/dc/elements/1.1/\" xmlns:cc=\"http://creativecommons.org/ns#\" xmlns:rdf=\"http://www.w3.org/1999/02/22-rdf-syntax-ns#\">\n",
       "   <cc:Work>\n",
       "    <dc:type rdf:resource=\"http://purl.org/dc/dcmitype/StillImage\"/>\n",
       "    <dc:date>2025-02-21T20:52:45.403450</dc:date>\n",
       "    <dc:format>image/svg+xml</dc:format>\n",
       "    <dc:creator>\n",
       "     <cc:Agent>\n",
       "      <dc:title>Matplotlib v3.9.2, https://matplotlib.org/</dc:title>\n",
       "     </cc:Agent>\n",
       "    </dc:creator>\n",
       "   </cc:Work>\n",
       "  </rdf:RDF>\n",
       " </metadata>\n",
       " <defs>\n",
       "  <style type=\"text/css\">*{stroke-linejoin: round; stroke-linecap: butt}</style>\n",
       " </defs>\n",
       " <g id=\"figure_1\">\n",
       "  <g id=\"patch_1\">\n",
       "   <path d=\"M 0 227.64856 \n",
       "L 405 227.64856 \n",
       "L 405 0 \n",
       "L 0 0 \n",
       "z\n",
       "\" style=\"fill: #ffffff\"/>\n",
       "  </g>\n",
       "  <g id=\"axes_1\">\n",
       "   <g clip-path=\"url(#p7755de4056)\">\n",
       "    <image xlink:href=\"data:image/png;base64,\n",
       "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\" id=\"image1176254d79\" transform=\"scale(1 -1) translate(0 -198.72)\" x=\"7.2\" y=\"-21.72856\" width=\"390.96\" height=\"198.72\"/>\n",
       "   </g>\n",
       "   <g id=\"text_1\">\n",
       "    <!-- Reconstructed from 448 latents -->\n",
       "    <g style=\"fill: #262626\" transform=\"translate(107.436563 16.318125) scale(0.12 -0.12)\">\n",
       "     <defs>\n",
       "      <path id=\"DejaVuSans-52\" d=\"M 2841 2188 \n",
       "Q 3044 2119 3236 1894 \n",
       "Q 3428 1669 3622 1275 \n",
       "L 4263 0 \n",
       "L 3584 0 \n",
       "L 2988 1197 \n",
       "Q 2756 1666 2539 1819 \n",
       "Q 2322 1972 1947 1972 \n",
       "L 1259 1972 \n",
       "L 1259 0 \n",
       "L 628 0 \n",
       "L 628 4666 \n",
       "L 2053 4666 \n",
       "Q 2853 4666 3247 4331 \n",
       "Q 3641 3997 3641 3322 \n",
       "Q 3641 2881 3436 2590 \n",
       "Q 3231 2300 2841 2188 \n",
       "z\n",
       "M 1259 4147 \n",
       "L 1259 2491 \n",
       "L 2053 2491 \n",
       "Q 2509 2491 2742 2702 \n",
       "Q 2975 2913 2975 3322 \n",
       "Q 2975 3731 2742 3939 \n",
       "Q 2509 4147 2053 4147 \n",
       "L 1259 4147 \n",
       "z\n",
       "\" transform=\"scale(0.015625)\"/>\n",
       "      <path id=\"DejaVuSans-65\" d=\"M 3597 1894 \n",
       "L 3597 1613 \n",
       "L 953 1613 \n",
       "Q 991 1019 1311 708 \n",
       "Q 1631 397 2203 397 \n",
       "Q 2534 397 2845 478 \n",
       "Q 3156 559 3463 722 \n",
       "L 3463 178 \n",
       "Q 3153 47 2828 -22 \n",
       "Q 2503 -91 2169 -91 \n",
       "Q 1331 -91 842 396 \n",
       "Q 353 884 353 1716 \n",
       "Q 353 2575 817 3079 \n",
       "Q 1281 3584 2069 3584 \n",
       "Q 2775 3584 3186 3129 \n",
       "Q 3597 2675 3597 1894 \n",
       "z\n",
       "M 3022 2063 \n",
       "Q 3016 2534 2758 2815 \n",
       "Q 2500 3097 2075 3097 \n",
       "Q 1594 3097 1305 2825 \n",
       "Q 1016 2553 972 2059 \n",
       "L 3022 2063 \n",
       "z\n",
       "\" transform=\"scale(0.015625)\"/>\n",
       "      <path id=\"DejaVuSans-63\" d=\"M 3122 3366 \n",
       "L 3122 2828 \n",
       "Q 2878 2963 2633 3030 \n",
       "Q 2388 3097 2138 3097 \n",
       "Q 1578 3097 1268 2742 \n",
       "Q 959 2388 959 1747 \n",
       "Q 959 1106 1268 751 \n",
       "Q 1578 397 2138 397 \n",
       "Q 2388 397 2633 464 \n",
       "Q 2878 531 3122 666 \n",
       "L 3122 134 \n",
       "Q 2881 22 2623 -34 \n",
       "Q 2366 -91 2075 -91 \n",
       "Q 1284 -91 818 406 \n",
       "Q 353 903 353 1747 \n",
       "Q 353 2603 823 3093 \n",
       "Q 1294 3584 2113 3584 \n",
       "Q 2378 3584 2631 3529 \n",
       "Q 2884 3475 3122 3366 \n",
       "z\n",
       "\" transform=\"scale(0.015625)\"/>\n",
       "      <path id=\"DejaVuSans-6f\" d=\"M 1959 3097 \n",
       "Q 1497 3097 1228 2736 \n",
       "Q 959 2375 959 1747 \n",
       "Q 959 1119 1226 758 \n",
       "Q 1494 397 1959 397 \n",
       "Q 2419 397 2687 759 \n",
       "Q 2956 1122 2956 1747 \n",
       "Q 2956 2369 2687 2733 \n",
       "Q 2419 3097 1959 3097 \n",
       "z\n",
       "M 1959 3584 \n",
       "Q 2709 3584 3137 3096 \n",
       "Q 3566 2609 3566 1747 \n",
       "Q 3566 888 3137 398 \n",
       "Q 2709 -91 1959 -91 \n",
       "Q 1206 -91 779 398 \n",
       "Q 353 888 353 1747 \n",
       "Q 353 2609 779 3096 \n",
       "Q 1206 3584 1959 3584 \n",
       "z\n",
       "\" transform=\"scale(0.015625)\"/>\n",
       "      <path id=\"DejaVuSans-6e\" d=\"M 3513 2113 \n",
       "L 3513 0 \n",
       "L 2938 0 \n",
       "L 2938 2094 \n",
       "Q 2938 2591 2744 2837 \n",
       "Q 2550 3084 2163 3084 \n",
       "Q 1697 3084 1428 2787 \n",
       "Q 1159 2491 1159 1978 \n",
       "L 1159 0 \n",
       "L 581 0 \n",
       "L 581 3500 \n",
       "L 1159 3500 \n",
       "L 1159 2956 \n",
       "Q 1366 3272 1645 3428 \n",
       "Q 1925 3584 2291 3584 \n",
       "Q 2894 3584 3203 3211 \n",
       "Q 3513 2838 3513 2113 \n",
       "z\n",
       "\" transform=\"scale(0.015625)\"/>\n",
       "      <path id=\"DejaVuSans-73\" d=\"M 2834 3397 \n",
       "L 2834 2853 \n",
       "Q 2591 2978 2328 3040 \n",
       "Q 2066 3103 1784 3103 \n",
       "Q 1356 3103 1142 2972 \n",
       "Q 928 2841 928 2578 \n",
       "Q 928 2378 1081 2264 \n",
       "Q 1234 2150 1697 2047 \n",
       "L 1894 2003 \n",
       "Q 2506 1872 2764 1633 \n",
       "Q 3022 1394 3022 966 \n",
       "Q 3022 478 2636 193 \n",
       "Q 2250 -91 1575 -91 \n",
       "Q 1294 -91 989 -36 \n",
       "Q 684 19 347 128 \n",
       "L 347 722 \n",
       "Q 666 556 975 473 \n",
       "Q 1284 391 1588 391 \n",
       "Q 1994 391 2212 530 \n",
       "Q 2431 669 2431 922 \n",
       "Q 2431 1156 2273 1281 \n",
       "Q 2116 1406 1581 1522 \n",
       "L 1381 1569 \n",
       "Q 847 1681 609 1914 \n",
       "Q 372 2147 372 2553 \n",
       "Q 372 3047 722 3315 \n",
       "Q 1072 3584 1716 3584 \n",
       "Q 2034 3584 2315 3537 \n",
       "Q 2597 3491 2834 3397 \n",
       "z\n",
       "\" transform=\"scale(0.015625)\"/>\n",
       "      <path id=\"DejaVuSans-74\" d=\"M 1172 4494 \n",
       "L 1172 3500 \n",
       "L 2356 3500 \n",
       "L 2356 3053 \n",
       "L 1172 3053 \n",
       "L 1172 1153 \n",
       "Q 1172 725 1289 603 \n",
       "Q 1406 481 1766 481 \n",
       "L 2356 481 \n",
       "L 2356 0 \n",
       "L 1766 0 \n",
       "Q 1100 0 847 248 \n",
       "Q 594 497 594 1153 \n",
       "L 594 3053 \n",
       "L 172 3053 \n",
       "L 172 3500 \n",
       "L 594 3500 \n",
       "L 594 4494 \n",
       "L 1172 4494 \n",
       "z\n",
       "\" transform=\"scale(0.015625)\"/>\n",
       "      <path id=\"DejaVuSans-72\" d=\"M 2631 2963 \n",
       "Q 2534 3019 2420 3045 \n",
       "Q 2306 3072 2169 3072 \n",
       "Q 1681 3072 1420 2755 \n",
       "Q 1159 2438 1159 1844 \n",
       "L 1159 0 \n",
       "L 581 0 \n",
       "L 581 3500 \n",
       "L 1159 3500 \n",
       "L 1159 2956 \n",
       "Q 1341 3275 1631 3429 \n",
       "Q 1922 3584 2338 3584 \n",
       "Q 2397 3584 2469 3576 \n",
       "Q 2541 3569 2628 3553 \n",
       "L 2631 2963 \n",
       "z\n",
       "\" transform=\"scale(0.015625)\"/>\n",
       "      <path id=\"DejaVuSans-75\" d=\"M 544 1381 \n",
       "L 544 3500 \n",
       "L 1119 3500 \n",
       "L 1119 1403 \n",
       "Q 1119 906 1312 657 \n",
       "Q 1506 409 1894 409 \n",
       "Q 2359 409 2629 706 \n",
       "Q 2900 1003 2900 1516 \n",
       "L 2900 3500 \n",
       "L 3475 3500 \n",
       "L 3475 0 \n",
       "L 2900 0 \n",
       "L 2900 538 \n",
       "Q 2691 219 2414 64 \n",
       "Q 2138 -91 1772 -91 \n",
       "Q 1169 -91 856 284 \n",
       "Q 544 659 544 1381 \n",
       "z\n",
       "M 1991 3584 \n",
       "L 1991 3584 \n",
       "z\n",
       "\" transform=\"scale(0.015625)\"/>\n",
       "      <path id=\"DejaVuSans-64\" d=\"M 2906 2969 \n",
       "L 2906 4863 \n",
       "L 3481 4863 \n",
       "L 3481 0 \n",
       "L 2906 0 \n",
       "L 2906 525 \n",
       "Q 2725 213 2448 61 \n",
       "Q 2172 -91 1784 -91 \n",
       "Q 1150 -91 751 415 \n",
       "Q 353 922 353 1747 \n",
       "Q 353 2572 751 3078 \n",
       "Q 1150 3584 1784 3584 \n",
       "Q 2172 3584 2448 3432 \n",
       "Q 2725 3281 2906 2969 \n",
       "z\n",
       "M 947 1747 \n",
       "Q 947 1113 1208 752 \n",
       "Q 1469 391 1925 391 \n",
       "Q 2381 391 2643 752 \n",
       "Q 2906 1113 2906 1747 \n",
       "Q 2906 2381 2643 2742 \n",
       "Q 2381 3103 1925 3103 \n",
       "Q 1469 3103 1208 2742 \n",
       "Q 947 2381 947 1747 \n",
       "z\n",
       "\" transform=\"scale(0.015625)\"/>\n",
       "      <path id=\"DejaVuSans-20\" transform=\"scale(0.015625)\"/>\n",
       "      <path id=\"DejaVuSans-66\" d=\"M 2375 4863 \n",
       "L 2375 4384 \n",
       "L 1825 4384 \n",
       "Q 1516 4384 1395 4259 \n",
       "Q 1275 4134 1275 3809 \n",
       "L 1275 3500 \n",
       "L 2222 3500 \n",
       "L 2222 3053 \n",
       "L 1275 3053 \n",
       "L 1275 0 \n",
       "L 697 0 \n",
       "L 697 3053 \n",
       "L 147 3053 \n",
       "L 147 3500 \n",
       "L 697 3500 \n",
       "L 697 3744 \n",
       "Q 697 4328 969 4595 \n",
       "Q 1241 4863 1831 4863 \n",
       "L 2375 4863 \n",
       "z\n",
       "\" transform=\"scale(0.015625)\"/>\n",
       "      <path id=\"DejaVuSans-6d\" d=\"M 3328 2828 \n",
       "Q 3544 3216 3844 3400 \n",
       "Q 4144 3584 4550 3584 \n",
       "Q 5097 3584 5394 3201 \n",
       "Q 5691 2819 5691 2113 \n",
       "L 5691 0 \n",
       "L 5113 0 \n",
       "L 5113 2094 \n",
       "Q 5113 2597 4934 2840 \n",
       "Q 4756 3084 4391 3084 \n",
       "Q 3944 3084 3684 2787 \n",
       "Q 3425 2491 3425 1978 \n",
       "L 3425 0 \n",
       "L 2847 0 \n",
       "L 2847 2094 \n",
       "Q 2847 2600 2669 2842 \n",
       "Q 2491 3084 2119 3084 \n",
       "Q 1678 3084 1418 2786 \n",
       "Q 1159 2488 1159 1978 \n",
       "L 1159 0 \n",
       "L 581 0 \n",
       "L 581 3500 \n",
       "L 1159 3500 \n",
       "L 1159 2956 \n",
       "Q 1356 3278 1631 3431 \n",
       "Q 1906 3584 2284 3584 \n",
       "Q 2666 3584 2933 3390 \n",
       "Q 3200 3197 3328 2828 \n",
       "z\n",
       "\" transform=\"scale(0.015625)\"/>\n",
       "      <path id=\"DejaVuSans-34\" d=\"M 2419 4116 \n",
       "L 825 1625 \n",
       "L 2419 1625 \n",
       "L 2419 4116 \n",
       "z\n",
       "M 2253 4666 \n",
       "L 3047 4666 \n",
       "L 3047 1625 \n",
       "L 3713 1625 \n",
       "L 3713 1100 \n",
       "L 3047 1100 \n",
       "L 3047 0 \n",
       "L 2419 0 \n",
       "L 2419 1100 \n",
       "L 313 1100 \n",
       "L 313 1709 \n",
       "L 2253 4666 \n",
       "z\n",
       "\" transform=\"scale(0.015625)\"/>\n",
       "      <path id=\"DejaVuSans-38\" d=\"M 2034 2216 \n",
       "Q 1584 2216 1326 1975 \n",
       "Q 1069 1734 1069 1313 \n",
       "Q 1069 891 1326 650 \n",
       "Q 1584 409 2034 409 \n",
       "Q 2484 409 2743 651 \n",
       "Q 3003 894 3003 1313 \n",
       "Q 3003 1734 2745 1975 \n",
       "Q 2488 2216 2034 2216 \n",
       "z\n",
       "M 1403 2484 \n",
       "Q 997 2584 770 2862 \n",
       "Q 544 3141 544 3541 \n",
       "Q 544 4100 942 4425 \n",
       "Q 1341 4750 2034 4750 \n",
       "Q 2731 4750 3128 4425 \n",
       "Q 3525 4100 3525 3541 \n",
       "Q 3525 3141 3298 2862 \n",
       "Q 3072 2584 2669 2484 \n",
       "Q 3125 2378 3379 2068 \n",
       "Q 3634 1759 3634 1313 \n",
       "Q 3634 634 3220 271 \n",
       "Q 2806 -91 2034 -91 \n",
       "Q 1263 -91 848 271 \n",
       "Q 434 634 434 1313 \n",
       "Q 434 1759 690 2068 \n",
       "Q 947 2378 1403 2484 \n",
       "z\n",
       "M 1172 3481 \n",
       "Q 1172 3119 1398 2916 \n",
       "Q 1625 2713 2034 2713 \n",
       "Q 2441 2713 2670 2916 \n",
       "Q 2900 3119 2900 3481 \n",
       "Q 2900 3844 2670 4047 \n",
       "Q 2441 4250 2034 4250 \n",
       "Q 1625 4250 1398 4047 \n",
       "Q 1172 3844 1172 3481 \n",
       "z\n",
       "\" transform=\"scale(0.015625)\"/>\n",
       "      <path id=\"DejaVuSans-6c\" d=\"M 603 4863 \n",
       "L 1178 4863 \n",
       "L 1178 0 \n",
       "L 603 0 \n",
       "L 603 4863 \n",
       "z\n",
       "\" transform=\"scale(0.015625)\"/>\n",
       "      <path id=\"DejaVuSans-61\" d=\"M 2194 1759 \n",
       "Q 1497 1759 1228 1600 \n",
       "Q 959 1441 959 1056 \n",
       "Q 959 750 1161 570 \n",
       "Q 1363 391 1709 391 \n",
       "Q 2188 391 2477 730 \n",
       "Q 2766 1069 2766 1631 \n",
       "L 2766 1759 \n",
       "L 2194 1759 \n",
       "z\n",
       "M 3341 1997 \n",
       "L 3341 0 \n",
       "L 2766 0 \n",
       "L 2766 531 \n",
       "Q 2569 213 2275 61 \n",
       "Q 1981 -91 1556 -91 \n",
       "Q 1019 -91 701 211 \n",
       "Q 384 513 384 1019 \n",
       "Q 384 1609 779 1909 \n",
       "Q 1175 2209 1959 2209 \n",
       "L 2766 2209 \n",
       "L 2766 2266 \n",
       "Q 2766 2663 2505 2880 \n",
       "Q 2244 3097 1772 3097 \n",
       "Q 1472 3097 1187 3025 \n",
       "Q 903 2953 641 2809 \n",
       "L 641 3341 \n",
       "Q 956 3463 1253 3523 \n",
       "Q 1550 3584 1831 3584 \n",
       "Q 2591 3584 2966 3190 \n",
       "Q 3341 2797 3341 1997 \n",
       "z\n",
       "\" transform=\"scale(0.015625)\"/>\n",
       "     </defs>\n",
       "     <use xlink:href=\"#DejaVuSans-52\"/>\n",
       "     <use xlink:href=\"#DejaVuSans-65\" x=\"64.982422\"/>\n",
       "     <use xlink:href=\"#DejaVuSans-63\" x=\"126.505859\"/>\n",
       "     <use xlink:href=\"#DejaVuSans-6f\" x=\"181.486328\"/>\n",
       "     <use xlink:href=\"#DejaVuSans-6e\" x=\"242.667969\"/>\n",
       "     <use xlink:href=\"#DejaVuSans-73\" x=\"306.046875\"/>\n",
       "     <use xlink:href=\"#DejaVuSans-74\" x=\"358.146484\"/>\n",
       "     <use xlink:href=\"#DejaVuSans-72\" x=\"397.355469\"/>\n",
       "     <use xlink:href=\"#DejaVuSans-75\" x=\"438.46875\"/>\n",
       "     <use xlink:href=\"#DejaVuSans-63\" x=\"501.847656\"/>\n",
       "     <use xlink:href=\"#DejaVuSans-74\" x=\"556.828125\"/>\n",
       "     <use xlink:href=\"#DejaVuSans-65\" x=\"596.037109\"/>\n",
       "     <use xlink:href=\"#DejaVuSans-64\" x=\"657.560547\"/>\n",
       "     <use xlink:href=\"#DejaVuSans-20\" x=\"721.037109\"/>\n",
       "     <use xlink:href=\"#DejaVuSans-66\" x=\"752.824219\"/>\n",
       "     <use xlink:href=\"#DejaVuSans-72\" x=\"788.029297\"/>\n",
       "     <use xlink:href=\"#DejaVuSans-6f\" x=\"826.892578\"/>\n",
       "     <use xlink:href=\"#DejaVuSans-6d\" x=\"888.074219\"/>\n",
       "     <use xlink:href=\"#DejaVuSans-20\" x=\"985.486328\"/>\n",
       "     <use xlink:href=\"#DejaVuSans-34\" x=\"1017.273438\"/>\n",
       "     <use xlink:href=\"#DejaVuSans-34\" x=\"1080.896484\"/>\n",
       "     <use xlink:href=\"#DejaVuSans-38\" x=\"1144.519531\"/>\n",
       "     <use xlink:href=\"#DejaVuSans-20\" x=\"1208.142578\"/>\n",
       "     <use xlink:href=\"#DejaVuSans-6c\" x=\"1239.929688\"/>\n",
       "     <use xlink:href=\"#DejaVuSans-61\" x=\"1267.712891\"/>\n",
       "     <use xlink:href=\"#DejaVuSans-74\" x=\"1328.992188\"/>\n",
       "     <use xlink:href=\"#DejaVuSans-65\" x=\"1368.201172\"/>\n",
       "     <use xlink:href=\"#DejaVuSans-6e\" x=\"1429.724609\"/>\n",
       "     <use xlink:href=\"#DejaVuSans-74\" x=\"1493.103516\"/>\n",
       "     <use xlink:href=\"#DejaVuSans-73\" x=\"1532.3125\"/>\n",
       "    </g>\n",
       "   </g>\n",
       "  </g>\n",
       " </g>\n",
       " <defs>\n",
       "  <clipPath id=\"p7755de4056\">\n",
       "   <rect x=\"7.2\" y=\"22.318125\" width=\"390.6\" height=\"198.130435\"/>\n",
       "  </clipPath>\n",
       " </defs>\n",
       "</svg>\n"
      ],
      "text/plain": [
       "<Figure size 700x450 with 1 Axes>"
      ]
     },
     "metadata": {},
     "output_type": "display_data"
    }
   ],
   "source": [
    "input_imgs = get_train_images(4)\n",
    "for latent_dim in model_dict:\n",
    "    visualize_reconstructions(model_dict[latent_dim][\"model\"], input_imgs)"
   ]
  },
  {
   "cell_type": "markdown",
   "id": "d3251873-810f-4b36-80e3-89423ad8776f",
   "metadata": {},
   "source": [
    "Variational autoencoders are a generative version of the autoencoders because we regularize the latent space to follow a Gaussian distribution. However, in vanilla autoencoders, we do not have any restrictions on the latent vector. So what happens if we would actually input a randomly sampled latent vector into the decoder? Let’s find it out below:"
   ]
  },
  {
   "cell_type": "code",
   "execution_count": 20,
   "id": "5e9325c8-1952-4675-a048-32202e344ef7",
   "metadata": {},
   "outputs": [
    {
     "data": {
      "application/pdf": "[encoded data removed]",
      "image/svg+xml": [
       "<?xml version=\"1.0\" encoding=\"utf-8\" standalone=\"no\"?>\n",
       "<!DOCTYPE svg PUBLIC \"-//W3C//DTD SVG 1.1//EN\"\n",
       "  \"http://www.w3.org/Graphics/SVG/1.1/DTD/svg11.dtd\">\n",
       "<svg xmlns:xlink=\"http://www.w3.org/1999/xlink\" width=\"460.8pt\" height=\"240.834783pt\" viewBox=\"0 0 460.8 240.834783\" xmlns=\"http://www.w3.org/2000/svg\" version=\"1.1\">\n",
       " <metadata>\n",
       "  <rdf:RDF xmlns:dc=\"http://purl.org/dc/elements/1.1/\" xmlns:cc=\"http://creativecommons.org/ns#\" xmlns:rdf=\"http://www.w3.org/1999/02/22-rdf-syntax-ns#\">\n",
       "   <cc:Work>\n",
       "    <dc:type rdf:resource=\"http://purl.org/dc/dcmitype/StillImage\"/>\n",
       "    <dc:date>2025-02-21T22:21:11.293923</dc:date>\n",
       "    <dc:format>image/svg+xml</dc:format>\n",
       "    <dc:creator>\n",
       "     <cc:Agent>\n",
       "      <dc:title>Matplotlib v3.9.2, https://matplotlib.org/</dc:title>\n",
       "     </cc:Agent>\n",
       "    </dc:creator>\n",
       "   </cc:Work>\n",
       "  </rdf:RDF>\n",
       " </metadata>\n",
       " <defs>\n",
       "  <style type=\"text/css\">*{stroke-linejoin: round; stroke-linecap: butt}</style>\n",
       " </defs>\n",
       " <g id=\"figure_1\">\n",
       "  <g id=\"patch_1\">\n",
       "   <path d=\"M 0 240.834783 \n",
       "L 460.8 240.834783 \n",
       "L 460.8 0 \n",
       "L 0 0 \n",
       "z\n",
       "\" style=\"fill: #ffffff\"/>\n",
       "  </g>\n",
       "  <g id=\"axes_1\">\n",
       "   <g clip-path=\"url(#pb13a443b6b)\">\n",
       "    <image xlink:href=\"data:image/png;base64,\n",
       "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\" id=\"imageb8405c8fde\" transform=\"scale(1 -1) translate(0 -226.8)\" x=\"7.2\" y=\"-6.834783\" width=\"446.4\" height=\"226.8\"/>\n",
       "   </g>\n",
       "  </g>\n",
       " </g>\n",
       " <defs>\n",
       "  <clipPath id=\"pb13a443b6b\">\n",
       "   <rect x=\"7.2\" y=\"7.2\" width=\"446.4\" height=\"226.434783\"/>\n",
       "  </clipPath>\n",
       " </defs>\n",
       "</svg>\n"
      ],
      "text/plain": [
       "<Figure size 800x500 with 1 Axes>"
      ]
     },
     "metadata": {},
     "output_type": "display_data"
    }
   ],
   "source": [
    "model = model_dict[256][\"model\"]\n",
    "latent_vectors = torch.randn(8, model.hparams.latent_dim, device=model.device)\n",
    "with torch.no_grad():\n",
    "    imgs = model.decoder(latent_vectors)\n",
    "    imgs = imgs.cpu()\n",
    "\n",
    "grid = torchvision.utils.make_grid(imgs, nrow=4, normalize=True, value_range=(-1, 1), pad_value=0.5)\n",
    "grid = grid.permute(1, 2, 0)\n",
    "plt.figure(figsize=(8, 5))\n",
    "plt.imshow(grid)\n",
    "plt.axis(\"off\")\n",
    "plt.show()"
   ]
  },
  {
   "cell_type": "markdown",
   "id": "c5216ac8-cb02-4a70-a456-eab028e7cdb5",
   "metadata": {},
   "source": [
    "As we can see, the generated images more look like art than realistic images. As the autoencoder was allowed to structure the latent space in whichever way it suits the reconstruction best, there is no incentive to map every possible latent vector to realistic images. Furthermore, the distribution in latent space is unknown to us and doesn’t necessarily follow a multivariate normal distribution. Thus, we can conclude that vanilla autoencoders are indeed not generative."
   ]
  },
  {
   "cell_type": "code",
   "execution_count": null,
   "id": "4407348e-b5f6-4e33-93e8-418deb9beb1c",
   "metadata": {},
   "outputs": [],
   "source": []
  }
 ],
 "metadata": {
  "kernelspec": {
   "display_name": "Python 3 (ipykernel)",
   "language": "python",
   "name": "python3"
  },
  "language_info": {
   "codemirror_mode": {
    "name": "ipython",
    "version": 3
   },
   "file_extension": ".py",
   "mimetype": "text/x-python",
   "name": "python",
   "nbconvert_exporter": "python",
   "pygments_lexer": "ipython3",
   "version": "3.9.19"
  }
 },
 "nbformat": 4,
 "nbformat_minor": 5
}
