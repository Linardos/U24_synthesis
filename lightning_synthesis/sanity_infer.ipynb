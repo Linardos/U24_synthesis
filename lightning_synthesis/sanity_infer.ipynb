{
 "cells": [
  {
   "cell_type": "code",
   "execution_count": 1,
   "id": "2831f06f-7cce-42d8-9847-308e1908997e",
   "metadata": {},
   "outputs": [
    {
     "name": "stdout",
     "output_type": "stream",
     "text": [
      "Error importing huggingface_hub.file_download: 'Version'\n"
     ]
    },
    {
     "name": "stderr",
     "output_type": "stream",
     "text": [
      "/home/locolinux2/miniconda3/envs/U24/lib/python3.9/site-packages/generative/networks/layers/vector_quantizer.py:86: FutureWarning: `torch.cuda.amp.autocast(args...)` is deprecated. Please use `torch.amp.autocast('cuda', args...)` instead.\n",
      "  @torch.cuda.amp.autocast(enabled=False)\n",
      "/home/locolinux2/miniconda3/envs/U24/lib/python3.9/site-packages/generative/networks/layers/vector_quantizer.py:124: FutureWarning: `torch.cuda.amp.autocast(args...)` is deprecated. Please use `torch.amp.autocast('cuda', args...)` instead.\n",
      "  @torch.cuda.amp.autocast(enabled=False)\n",
      "/home/locolinux2/miniconda3/envs/U24/lib/python3.9/site-packages/torchmetrics/utilities/prints.py:62: FutureWarning: Importing `StructuralSimilarityIndexMeasure` from `torchmetrics` was deprecated and will be removed in 2.0. Import `StructuralSimilarityIndexMeasure` from `torchmetrics.image` instead.\n",
      "  _future_warning(\n"
     ]
    },
    {
     "name": "stdout",
     "output_type": "stream",
     "text": [
      "Initialized conditional model.\n"
     ]
    }
   ],
   "source": [
    "import torch\n",
    "\n",
    "\n",
    "from model_architectures import MonaiDDPM\n",
    "device = \"cuda:0\" if torch.cuda.is_available() else \"cpu\"\n",
    "\n",
    "\n",
    "CONDITIONAL = True\n",
    "RESOLUTION = 256\n",
    "T = 1_000     \n",
    "\n",
    "ckpt_path = \"/home/locolinux2/U24_synthesis/lightning_synthesis/experiments/025_MNIST_basic_DDPM/checkpoints/ddpm-epoch=08-train_loss=0.0017.ckpt\" # MNIST EXAMPLE> WORKED WELL.\n",
    "ckpt_path = \"/home/locolinux2/U24_synthesis/lightning_synthesis/experiments/026_DDPM_revamped/checkpoints/ddpm-epoch=01-train_loss=0.3648.ckpt\" # \n",
    "ckpt_path = \"/home/locolinux2/U24_synthesis/lightning_synthesis/experiments/031_DDPM_classifier-free-test/checkpoints/epoch=09-step=9810.ckpt\"\n",
    "# ckpt_path = \"/home/locolinux2/U24_synthesis/lightning_synthesis/experiments/032_cDDPM_512x512-test-prog/checkpoints/best_64px.ckpt\"\n",
    "ckpt_path = \"/home/locolinux2/U24_synthesis/lightning_synthesis/experiments/037_cDDPM_256x256/checkpoints/epoch=22-step=7843.ckpt\"\n",
    "# ckpt_path = \"/home/locolinux2/U24_synthesis/lightning_synthesis/experiments/041_cDDPM_128x128/checkpoints/epoch=16-step=5797.ckpt\"\n",
    "# ckpt_path = \"/home/locolinux2/U24_synthesis/lightning_synthesis/experiments/045_DDPM_deeper_unconditional_64x64/checkpoints/epoch=16-step=5797.ckpt\"\n",
    "ckpt_path = \"/home/locolinux2/U24_synthesis/lightning_synthesis/experiments/049_cDDPM_depth5_fixedScaling_256x256/checkpoints/epoch=22-step=7843.ckpt\"\n",
    "ckpt_path = \"/home/locolinux2/U24_synthesis/lightning_synthesis/experiments/053_DDPM__DataArtifactsRemoved___256x256/checkpoints/epoch=04-step=1435.ckpt\"\n",
    "ckpt_path = \"/home/locolinux2/U24_synthesis/lightning_synthesis/experiments/054_DDPM_default512_256x256/checkpoints/epoch=04-step=1435.ckpt\"\n",
    "# ckpt_path = \"/home/locolinux2/U24_synthesis/lightning_synthesis/experiments/061_DDPM_contrast-enhanced-40percent_256x256/checkpoints/epoch=04-step=1435.ckpt\"\n",
    "# ckpt_path = \"/home/locolinux2/U24_synthesis/lightning_synthesis/experiments/063_DDPM_contrast-aug-20percent_256x256/checkpoints/epoch=04-step=1435.ckpt\"\n",
    "# ckpt_path = \"/home/locolinux2/U24_synthesis/lightning_synthesis/experiments/069_DDPM_contrast-aug-20percent-lrscheduler_256x256/checkpoints/epoch=04-step=1435.ckpt\"\n",
    "ckpt_path = \"/home/locolinux2/U24_synthesis/lightning_synthesis/experiments/057_DDPM_seed2025_cropped_256x256/checkpoints/epoch=04-step=1435.ckpt\"\n",
    "ckpt_path = \"/home/locolinux2/U24_synthesis/lightning_synthesis/experiments/080_DDPM_nocrop_256x256/checkpoints/epoch=07-step=1152.ckpt\"\n",
    "ckpt_path = \"/home/locolinux2/U24_synthesis/lightning_synthesis/experiments/083_DDPM_nocrop_SSIMloss_256x256/checkpoints/epoch=18-step=2736.ckpt\"\n",
    "\n",
    "\n",
    "\n",
    "model = MonaiDDPM.load_from_checkpoint(\n",
    "    ckpt_path\n",
    ").to(device).eval()"
   ]
  },
  {
   "cell_type": "code",
   "execution_count": null,
   "id": "9ac995e6-a36c-4421-aa6f-4fe7a01d9b0e",
   "metadata": {
    "scrolled": true
   },
   "outputs": [
    {
     "name": "stderr",
     "output_type": "stream",
     "text": [
      " 28%|████████████████████████████████████                                                                                           | 284/1000 [01:33<04:20,  2.74it/s]"
     ]
    }
   ],
   "source": [
    "dd = {}\n",
    "GUIDE_SCALES = [0,1,2,3,4,5] \n",
    "for gscale in GUIDE_SCALES:\n",
    "    nb_images = 16\n",
    "    with torch.no_grad(), torch.autocast(device_type=\"cuda\", dtype=torch.float16):\n",
    "        samples = model.sample(\n",
    "            N=nb_images,\n",
    "            label=1,\n",
    "            size=RESOLUTION,\n",
    "            guidance_scale=gscale\n",
    "        )\n",
    "    dd[gscale]=samples\n",
    "    \n"
   ]
  },
  {
   "cell_type": "code",
   "execution_count": null,
   "id": "03e358ae-7141-4a4c-a484-cc094acccd86",
   "metadata": {},
   "outputs": [],
   "source": [
    "for img in samples:\n",
    "    print(samples.max(), samples.min())"
   ]
  },
  {
   "cell_type": "code",
   "execution_count": null,
   "id": "31137a88-e770-404c-9fe2-032c3c3e077e",
   "metadata": {},
   "outputs": [],
   "source": [
    "import matplotlib.pyplot as plt\n",
    "\n",
    "# if CONDITIONAL:\n",
    "for v in range(5):\n",
    "    vis_samples = dd[v]\n",
    "    plt.figure(figsize=(8, 8))           \n",
    "    for i in range(8):                   # ⟵ only 8 images\n",
    "        plt.subplot(2, 4, i + 1)         # 2 × 2 grid\n",
    "        plt.axis(\"off\")\n",
    "        plt.imshow(vis_samples[i, 0].cpu(), cmap=\"gray\", vmin=0, vmax=1)\n",
    "    plt.tight_layout()\n",
    "    plt.savefig(\"./inference_snapshots/samples_grid.png\", dpi=300)\n",
    "    plt.show()\n",
    "\n",
    "# else:\n",
    "#     plt.style.use(\"default\")\n",
    "#     plt.imshow(chain[0, 0].cpu(), cmap=\"gray\", vmin=0, vmax=1)\n",
    "#     plt.axis(\"off\")\n",
    "#     plt.tight_layout()\n",
    "\n",
    "#     plt.show()\n"
   ]
  },
  {
   "cell_type": "code",
   "execution_count": null,
   "id": "5f969941-b105-4941-aae7-4a7e89ea0811",
   "metadata": {},
   "outputs": [],
   "source": [
    "import matplotlib.pyplot as plt\n",
    "\n",
    "vis_samples = dd[3]\n",
    "# if CONDITIONAL:\n",
    "plt.figure(figsize=(8, 8))           \n",
    "for i in range(8):                   # ⟵ only 8 images\n",
    "    plt.subplot(2, 4, i + 1)         # 2 × 2 grid\n",
    "    plt.axis(\"off\")\n",
    "    plt.imshow(vis_samples[i, 0].cpu(), cmap=\"gray\", vmin=0, vmax=1)\n",
    "plt.tight_layout()\n",
    "plt.savefig(\"./inference_snapshots/samples_grid.png\", dpi=300)\n",
    "plt.show()\n",
    "\n",
    "# else:\n",
    "#     plt.style.use(\"default\")\n",
    "#     plt.imshow(chain[0, 0].cpu(), cmap=\"gray\", vmin=0, vmax=1)\n",
    "#     plt.axis(\"off\")\n",
    "#     plt.tight_layout()\n",
    "\n",
    "#     plt.show()\n"
   ]
  },
  {
   "cell_type": "code",
   "execution_count": null,
   "id": "1e8b8aa6-9774-4d09-a178-55bc1d0615c2",
   "metadata": {},
   "outputs": [],
   "source": []
  }
 ],
 "metadata": {
  "kernelspec": {
   "display_name": "Python 3 (ipykernel)",
   "language": "python",
   "name": "python3"
  },
  "language_info": {
   "codemirror_mode": {
    "name": "ipython",
    "version": 3
   },
   "file_extension": ".py",
   "mimetype": "text/x-python",
   "name": "python",
   "nbconvert_exporter": "python",
   "pygments_lexer": "ipython3",
   "version": "3.9.19"
  }
 },
 "nbformat": 4,
 "nbformat_minor": 5
}
